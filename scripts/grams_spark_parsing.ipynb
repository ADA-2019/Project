{
 "cells": [
  {
   "cell_type": "code",
   "execution_count": 1,
   "metadata": {},
   "outputs": [],
   "source": [
    "import pyspark\n",
    "import pyspark.sql\n",
    "from pyspark.sql import *\n",
    "from pyspark.sql.functions import *\n",
    "\n",
    "import os\n",
    "import sys\n",
    "import pandas as pd\n",
    "from pyspark import SparkContext, SparkConf\n",
    "os.environ['PYSPARK_PYTHON'] = '/home/arthy/anaconda3/bin/python3.7'\n",
    "\n",
    "conf = pyspark.SparkConf().setMaster(\"local[*]\").setAll([\n",
    "                                   ('spark.executor.memory', '12g'),  # find\n",
    "                                   ('spark.driver.memory','4g'), # your\n",
    "                                   ('spark.driver.maxResultSize', '2G') # setup\n",
    "                                  ])\n",
    "# create the session\n",
    "spark = SparkSession.builder.config(conf=conf).getOrCreate()\n",
    "\n",
    "# create the context\n",
    "sc = spark.sparkContext\n",
    "# FIX for Spark 2.x\n",
    "locale = sc._jvm.java.util.Locale\n",
    "locale.setDefault(locale.forLanguageTag(\"en-US\"))"
   ]
  },
  {
   "cell_type": "code",
   "execution_count": 8,
   "metadata": {},
   "outputs": [],
   "source": [
    "llist = lines.collect() "
   ]
  },
  {
   "cell_type": "code",
   "execution_count": 60,
   "metadata": {},
   "outputs": [],
   "source": [
    "all_data = spark.read.format(\"csv\").option(\"header\", \"true\").load(\"data/grams/*.csv\")"
   ]
  },
  {
   "cell_type": "code",
   "execution_count": 61,
   "metadata": {},
   "outputs": [],
   "source": [
    "all_data = all_data.withColumn('filename', input_file_name())"
   ]
  },
  {
   "cell_type": "code",
   "execution_count": 63,
   "metadata": {},
   "outputs": [],
   "source": [
    "def truncateFilename1(s):\n",
    "    return s[58:67]\n",
    "\n",
    "def truncateFilename2(s):\n",
    "    return s[0:10]"
   ]
  },
  {
   "cell_type": "code",
   "execution_count": 64,
   "metadata": {
    "scrolled": true
   },
   "outputs": [
    {
     "data": {
      "text/plain": [
       "Row(hash='1-M5DKMWK6aB', market_name='Agora', item_link='http://agorahooawayyfoe.onion/p/M5DKMWK6aB', vendor_name='\"', price=None, name=None, description=None, image_link=None, add_time=None, ship_from=None, _c10=None, filename='2015-06-17')"
      ]
     },
     "execution_count": 64,
     "metadata": {},
     "output_type": "execute_result"
    }
   ],
   "source": [
    "all_data = all_data.withColumn('filename', truncateFilename1(all_data['filename']))\n",
    "all_data = all_data.withColumn('filename', truncateFilename2(all_data['filename']))\n",
    "\n",
    "all_data.head()"
   ]
  },
  {
   "cell_type": "code",
   "execution_count": 5,
   "metadata": {},
   "outputs": [],
   "source": [
    "df = pd.read_csv('saved_gen_df/agora_grams_df.csv')\n",
    "df = df.drop(columns=['Unnamed: 0'])\n",
    "df = df.dropna()"
   ]
  },
  {
   "cell_type": "code",
   "execution_count": 105,
   "metadata": {},
   "outputs": [],
   "source": [
    "# Example of filtering for a single product name\n",
    "res  = all_data_df.filter(all_data_df.name == \"80mg MDMA CAPSULES X 15\").collect()"
   ]
  },
  {
   "cell_type": "code",
   "execution_count": 116,
   "metadata": {},
   "outputs": [],
   "source": [
    "prod1_df = pd.DataFrame(res)"
   ]
  },
  {
   "cell_type": "code",
   "execution_count": null,
   "metadata": {},
   "outputs": [],
   "source": [
    "temp = df[['name', 'price', 'ship_from']]"
   ]
  },
  {
   "cell_type": "code",
   "execution_count": 75,
   "metadata": {},
   "outputs": [],
   "source": [
    "country_df = df[df['filename'] == '2015-06-17']"
   ]
  },
  {
   "cell_type": "code",
   "execution_count": 22,
   "metadata": {
    "scrolled": true
   },
   "outputs": [
    {
     "data": {
      "text/html": [
       "<div>\n",
       "<style scoped>\n",
       "    .dataframe tbody tr th:only-of-type {\n",
       "        vertical-align: middle;\n",
       "    }\n",
       "\n",
       "    .dataframe tbody tr th {\n",
       "        vertical-align: top;\n",
       "    }\n",
       "\n",
       "    .dataframe thead tr th {\n",
       "        text-align: left;\n",
       "    }\n",
       "\n",
       "    .dataframe thead tr:last-of-type th {\n",
       "        text-align: right;\n",
       "    }\n",
       "</style>\n",
       "<table border=\"1\" class=\"dataframe\">\n",
       "  <thead>\n",
       "    <tr>\n",
       "      <th></th>\n",
       "      <th></th>\n",
       "      <th colspan=\"8\" halign=\"left\">price</th>\n",
       "    </tr>\n",
       "    <tr>\n",
       "      <th></th>\n",
       "      <th></th>\n",
       "      <th>count</th>\n",
       "      <th>mean</th>\n",
       "      <th>std</th>\n",
       "      <th>min</th>\n",
       "      <th>25%</th>\n",
       "      <th>50%</th>\n",
       "      <th>75%</th>\n",
       "      <th>max</th>\n",
       "    </tr>\n",
       "    <tr>\n",
       "      <th>filename</th>\n",
       "      <th>ship_from</th>\n",
       "      <th></th>\n",
       "      <th></th>\n",
       "      <th></th>\n",
       "      <th></th>\n",
       "      <th></th>\n",
       "      <th></th>\n",
       "      <th></th>\n",
       "      <th></th>\n",
       "    </tr>\n",
       "  </thead>\n",
       "  <tbody>\n",
       "    <tr>\n",
       "      <th rowspan=\"5\" valign=\"top\">2014-06-09</th>\n",
       "      <th>Argentina</th>\n",
       "      <td>18.0</td>\n",
       "      <td>0.000000</td>\n",
       "      <td>0.000000</td>\n",
       "      <td>0.000000</td>\n",
       "      <td>0.000000</td>\n",
       "      <td>0.000000</td>\n",
       "      <td>0.000000</td>\n",
       "      <td>0.000000</td>\n",
       "    </tr>\n",
       "    <tr>\n",
       "      <th>Australia</th>\n",
       "      <td>592.0</td>\n",
       "      <td>0.000000</td>\n",
       "      <td>0.000000</td>\n",
       "      <td>0.000000</td>\n",
       "      <td>0.000000</td>\n",
       "      <td>0.000000</td>\n",
       "      <td>0.000000</td>\n",
       "      <td>0.000000</td>\n",
       "    </tr>\n",
       "    <tr>\n",
       "      <th>Austria</th>\n",
       "      <td>11.0</td>\n",
       "      <td>0.000000</td>\n",
       "      <td>0.000000</td>\n",
       "      <td>0.000000</td>\n",
       "      <td>0.000000</td>\n",
       "      <td>0.000000</td>\n",
       "      <td>0.000000</td>\n",
       "      <td>0.000000</td>\n",
       "    </tr>\n",
       "    <tr>\n",
       "      <th>Belgium</th>\n",
       "      <td>66.0</td>\n",
       "      <td>0.000000</td>\n",
       "      <td>0.000000</td>\n",
       "      <td>0.000000</td>\n",
       "      <td>0.000000</td>\n",
       "      <td>0.000000</td>\n",
       "      <td>0.000000</td>\n",
       "      <td>0.000000</td>\n",
       "    </tr>\n",
       "    <tr>\n",
       "      <th>Brazil</th>\n",
       "      <td>2.0</td>\n",
       "      <td>0.000000</td>\n",
       "      <td>0.000000</td>\n",
       "      <td>0.000000</td>\n",
       "      <td>0.000000</td>\n",
       "      <td>0.000000</td>\n",
       "      <td>0.000000</td>\n",
       "      <td>0.000000</td>\n",
       "    </tr>\n",
       "    <tr>\n",
       "      <th>...</th>\n",
       "      <th>...</th>\n",
       "      <td>...</td>\n",
       "      <td>...</td>\n",
       "      <td>...</td>\n",
       "      <td>...</td>\n",
       "      <td>...</td>\n",
       "      <td>...</td>\n",
       "      <td>...</td>\n",
       "      <td>...</td>\n",
       "    </tr>\n",
       "    <tr>\n",
       "      <th rowspan=\"5\" valign=\"top\">2015-07-12</th>\n",
       "      <th>bluerave</th>\n",
       "      <td>137.0</td>\n",
       "      <td>0.012810</td>\n",
       "      <td>0.018290</td>\n",
       "      <td>0.003000</td>\n",
       "      <td>0.003000</td>\n",
       "      <td>0.003000</td>\n",
       "      <td>0.015000</td>\n",
       "      <td>0.150000</td>\n",
       "    </tr>\n",
       "    <tr>\n",
       "      <th>uk</th>\n",
       "      <td>4.0</td>\n",
       "      <td>0.297367</td>\n",
       "      <td>0.227642</td>\n",
       "      <td>0.076165</td>\n",
       "      <td>0.188808</td>\n",
       "      <td>0.249186</td>\n",
       "      <td>0.357745</td>\n",
       "      <td>0.614932</td>\n",
       "    </tr>\n",
       "    <tr>\n",
       "      <th>usa</th>\n",
       "      <td>2.0</td>\n",
       "      <td>0.282305</td>\n",
       "      <td>0.000000</td>\n",
       "      <td>0.282305</td>\n",
       "      <td>0.282305</td>\n",
       "      <td>0.282305</td>\n",
       "      <td>0.282305</td>\n",
       "      <td>0.282305</td>\n",
       "    </tr>\n",
       "    <tr>\n",
       "      <th>world</th>\n",
       "      <td>1.0</td>\n",
       "      <td>0.090443</td>\n",
       "      <td>NaN</td>\n",
       "      <td>0.090443</td>\n",
       "      <td>0.090443</td>\n",
       "      <td>0.090443</td>\n",
       "      <td>0.090443</td>\n",
       "      <td>0.090443</td>\n",
       "    </tr>\n",
       "    <tr>\n",
       "      <th>worldwide</th>\n",
       "      <td>3.0</td>\n",
       "      <td>0.034995</td>\n",
       "      <td>0.002155</td>\n",
       "      <td>0.033736</td>\n",
       "      <td>0.033751</td>\n",
       "      <td>0.033766</td>\n",
       "      <td>0.035625</td>\n",
       "      <td>0.037484</td>\n",
       "    </tr>\n",
       "  </tbody>\n",
       "</table>\n",
       "<p>14519 rows × 8 columns</p>\n",
       "</div>"
      ],
      "text/plain": [
       "                      price                                                    \\\n",
       "                      count      mean       std       min       25%       50%   \n",
       "filename   ship_from                                                            \n",
       "2014-06-09 Argentina   18.0  0.000000  0.000000  0.000000  0.000000  0.000000   \n",
       "           Australia  592.0  0.000000  0.000000  0.000000  0.000000  0.000000   \n",
       "           Austria     11.0  0.000000  0.000000  0.000000  0.000000  0.000000   \n",
       "           Belgium     66.0  0.000000  0.000000  0.000000  0.000000  0.000000   \n",
       "           Brazil       2.0  0.000000  0.000000  0.000000  0.000000  0.000000   \n",
       "...                     ...       ...       ...       ...       ...       ...   \n",
       "2015-07-12 bluerave   137.0  0.012810  0.018290  0.003000  0.003000  0.003000   \n",
       "           uk           4.0  0.297367  0.227642  0.076165  0.188808  0.249186   \n",
       "           usa          2.0  0.282305  0.000000  0.282305  0.282305  0.282305   \n",
       "           world        1.0  0.090443       NaN  0.090443  0.090443  0.090443   \n",
       "           worldwide    3.0  0.034995  0.002155  0.033736  0.033751  0.033766   \n",
       "\n",
       "                                          \n",
       "                           75%       max  \n",
       "filename   ship_from                      \n",
       "2014-06-09 Argentina  0.000000  0.000000  \n",
       "           Australia  0.000000  0.000000  \n",
       "           Austria    0.000000  0.000000  \n",
       "           Belgium    0.000000  0.000000  \n",
       "           Brazil     0.000000  0.000000  \n",
       "...                        ...       ...  \n",
       "2015-07-12 bluerave   0.015000  0.150000  \n",
       "           uk         0.357745  0.614932  \n",
       "           usa        0.282305  0.282305  \n",
       "           world      0.090443  0.090443  \n",
       "           worldwide  0.035625  0.037484  \n",
       "\n",
       "[14519 rows x 8 columns]"
      ]
     },
     "execution_count": 22,
     "metadata": {},
     "output_type": "execute_result"
    }
   ],
   "source": [
    "ok = df[['filename','ship_from', 'price']].groupby(by=['filename','ship_from']).describe()\n",
    "ok"
   ]
  },
  {
   "cell_type": "code",
   "execution_count": 25,
   "metadata": {},
   "outputs": [],
   "source": [
    "ok.to_csv('ok')"
   ]
  },
  {
   "cell_type": "code",
   "execution_count": 82,
   "metadata": {},
   "outputs": [
    {
     "data": {
      "text/plain": [
       "array(['Australia', 'Canada', 'China', 'France', 'Sweden', 'UK', 'USA',\n",
       "       'Germany', 'usa', 'South Africa', 'Belgium', 'Netherlands', 'EU',\n",
       "       'Internet', 'World', 'Torland', 'Mexico', 'Poland',\n",
       "       'Czech Republic', 'Spain', 'Hong Kong', 'bluerave', 'Greece',\n",
       "       'Turkey', 'Croatia', 'Denmark', 'Lithuania', 'Estonia', 'Romania',\n",
       "       'Switzerland', 'Norway', 'Bulgaria', 'Belize', 'Cayman Islands',\n",
       "       'Saint Vincent and the Grenadines', 'Ireland', 'India',\n",
       "       'UK, Philippines', 'Austria', 'New Zealand', 'Belarus', 'Panama',\n",
       "       'Agora', 'Seychelles', 'Russian Federation', 'China or EU',\n",
       "       'Italy', 'worldwide', 'USA, UK', 'Singapore',\n",
       "       'UK, USA, Philippines', 'Pakistan', 'USA,UK and Philippines',\n",
       "       'Fiji', 'Maldives', 'Malaysia', 'Japan', 'Undeclared;)',\n",
       "       'The Home of the Body Bags, shotty, and Mac make-up',\n",
       "       'The United Snakes of Captivity', 'world', 'Ukraine', 'Swaziland',\n",
       "       'Philippines', 'Wallis and Futuna', 'Worldwide', 'Argentina',\n",
       "       'Slovakia', 'uk', 'United Kingdom', 'Untied Kingdom', 'Latvia',\n",
       "       'u', 'Thailand', 'Asia', 'UK , Asia', 'UK, Asia',\n",
       "       'UK, USA, EU, AUS', 'Finland', 'Jamaica', 'Brazil', 'Cambodia',\n",
       "       'Europe', 'WORLDWIDE', 'The United Snakes of  Captivity',\n",
       "       'Dominican Republic', 'Latin america/ no colombia', 'Bahamas',\n",
       "       'Hungary', 'torland', 'Albania', 'UK and Ireland',\n",
       "       'UK and IRELAND', 'undeclared',\n",
       "       'The Home of the Body Bags, shotty, and mag', 'Undeclared',\n",
       "       'world wide', 'World Wide', 'Bangkok', 'Sri Lanka', 'my pm',\n",
       "       'Christmas Island', 'UK, USA & Worldwide', 'American Samoa',\n",
       "       'Peru', 'Barbados', 'Uk, USA & Worldwide', 'Scandinavia',\n",
       "       'Moldova, Republic of', 'USA , UK and Worldwide',\n",
       "       'UK , USA and Worldwide',\n",
       "       'The home of the Body Bags, shotty, and mag', 'Colombia', 'Me',\n",
       "       'Guatemala', 'Aruba', 'Netherlands Antilles', 'Andorra', 'Chile',\n",
       "       'USA , UK & EU', 'USA, Uk & EU', 'Usa & UK', 'Morocco',\n",
       "       'UK, USA & Asia', 'USA and UK', 'Candyland', 'GERMANY',\n",
       "       'US & CANADA', 'Venezuela'], dtype=object)"
      ]
     },
     "execution_count": 82,
     "metadata": {},
     "output_type": "execute_result"
    }
   ],
   "source": [
    "df['ship_from'].unique()"
   ]
  },
  {
   "cell_type": "code",
   "execution_count": 93,
   "metadata": {},
   "outputs": [],
   "source": [
    "all_data_df = spark.read.format(\"csv\").option(\"header\", \"true\").load(\"agora_grams_df.csv\")"
   ]
  },
  {
   "cell_type": "code",
   "execution_count": 50,
   "metadata": {
    "scrolled": false
   },
   "outputs": [],
   "source": [
    "fig = df[df['vendor_name'] == '~sweetpuff~'].groupby(by=['vendor_name', 'name']).describe()"
   ]
  },
  {
   "cell_type": "code",
   "execution_count": 35,
   "metadata": {},
   "outputs": [],
   "source": [
    "fig = fig.drop(columns=[('add_time',  'mean'),\n",
    "            ('add_time',   'std')])"
   ]
  },
  {
   "cell_type": "code",
   "execution_count": 52,
   "metadata": {},
   "outputs": [],
   "source": [
    "df.to_csv('forumDF_2.csv', index=None)"
   ]
  },
  {
   "cell_type": "code",
   "execution_count": 48,
   "metadata": {},
   "outputs": [],
   "source": [
    "# Convert int to datetime based on s\n",
    "def toDT(d):\n",
    "    return pd.to_datetime(d, unit='s')"
   ]
  },
  {
   "cell_type": "code",
   "execution_count": 49,
   "metadata": {
    "scrolled": false
   },
   "outputs": [
    {
     "name": "stderr",
     "output_type": "stream",
     "text": [
      "/home/arthy/anaconda3/lib/python3.7/site-packages/ipykernel_launcher.py:1: SettingWithCopyWarning: \n",
      "A value is trying to be set on a copy of a slice from a DataFrame.\n",
      "Try using .loc[row_indexer,col_indexer] = value instead\n",
      "\n",
      "See the caveats in the documentation: http://pandas.pydata.org/pandas-docs/stable/user_guide/indexing.html#returning-a-view-versus-a-copy\n",
      "  \"\"\"Entry point for launching an IPython kernel.\n"
     ]
    }
   ],
   "source": [
    "df['add_time'] = df['add_time'].apply(toDT)"
   ]
  }
 ],
 "metadata": {
  "kernelspec": {
   "display_name": "Python 3",
   "language": "python",
   "name": "python3"
  },
  "language_info": {
   "codemirror_mode": {
    "name": "ipython",
    "version": 3
   },
   "file_extension": ".py",
   "mimetype": "text/x-python",
   "name": "python",
   "nbconvert_exporter": "python",
   "pygments_lexer": "ipython3",
   "version": "3.7.3"
  }
 },
 "nbformat": 4,
 "nbformat_minor": 2
}
