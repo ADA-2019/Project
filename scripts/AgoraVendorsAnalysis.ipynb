{
 "cells": [
  {
   "cell_type": "code",
   "execution_count": 1,
   "metadata": {},
   "outputs": [],
   "source": [
    "from bs4 import BeautifulSoup as bs\n",
    "import os\n",
    "import pandas as pd\n",
    "import numpy as np\n",
    "from collections import Counter\n",
    "import matplotlib.pyplot as plt\n",
    "import glob\n",
    "import seaborn as sns\n",
    "import datetime as dt"
   ]
  },
  {
   "cell_type": "code",
   "execution_count": 113,
   "metadata": {},
   "outputs": [],
   "source": [
    "vendorsDF = pd.read_csv('./../data/vendorsCSVs/allVendors.csv')"
   ]
  },
  {
   "cell_type": "markdown",
   "metadata": {},
   "source": [
    "CSV imported"
   ]
  },
  {
   "cell_type": "code",
   "execution_count": 3,
   "metadata": {},
   "outputs": [],
   "source": [
    "def cleanLastSeenRegistered(s):\n",
    "    s = str(s)\n",
    "    if ('Registered' in s):\n",
    "        return s.split('  ')[-1]\n",
    "    else:\n",
    "        return s"
   ]
  },
  {
   "cell_type": "code",
   "execution_count": 114,
   "metadata": {},
   "outputs": [],
   "source": [
    "vendorsDF['lastSeen'] = vendorsDF['lastSeen'].apply(cleanLastSeenRegistered)"
   ]
  },
  {
   "cell_type": "markdown",
   "metadata": {},
   "source": [
    "REgistration date removed"
   ]
  },
  {
   "cell_type": "code",
   "execution_count": 115,
   "metadata": {},
   "outputs": [],
   "source": [
    "vendorsDF['parsingDate']  = vendorsDF['parsingDate'].apply((lambda x: dt.datetime.strptime(x, '%Y-%m-%d').date()))"
   ]
  },
  {
   "cell_type": "markdown",
   "metadata": {},
   "source": [
    "Date parsed"
   ]
  },
  {
   "cell_type": "code",
   "execution_count": 116,
   "metadata": {},
   "outputs": [],
   "source": [
    "vendorsDF = vendorsDF.drop('Unnamed: 0.1', axis=1)\n",
    "vendorsDF = vendorsDF.drop('Unnamed: 0', axis=1)"
   ]
  },
  {
   "cell_type": "markdown",
   "metadata": {},
   "source": [
    "Drop old indexes"
   ]
  },
  {
   "cell_type": "code",
   "execution_count": 8,
   "metadata": {},
   "outputs": [
    {
     "data": {
      "text/html": [
       "<div>\n",
       "<style scoped>\n",
       "    .dataframe tbody tr th:only-of-type {\n",
       "        vertical-align: middle;\n",
       "    }\n",
       "\n",
       "    .dataframe tbody tr th {\n",
       "        vertical-align: top;\n",
       "    }\n",
       "\n",
       "    .dataframe thead th {\n",
       "        text-align: right;\n",
       "    }\n",
       "</style>\n",
       "<table border=\"1\" class=\"dataframe\">\n",
       "  <thead>\n",
       "    <tr style=\"text-align: right;\">\n",
       "      <th></th>\n",
       "      <th>name</th>\n",
       "      <th>rating</th>\n",
       "      <th>lastSeen</th>\n",
       "      <th>publicKey</th>\n",
       "      <th>#products</th>\n",
       "      <th>#Deals</th>\n",
       "      <th>parsingDate</th>\n",
       "    </tr>\n",
       "  </thead>\n",
       "  <tbody>\n",
       "    <tr>\n",
       "      <td>0</td>\n",
       "      <td>littlegoblin</td>\n",
       "      <td>4.92</td>\n",
       "      <td>4 hours</td>\n",
       "      <td>NaN</td>\n",
       "      <td>14.0</td>\n",
       "      <td>150~200</td>\n",
       "      <td>2014-09-20</td>\n",
       "    </tr>\n",
       "    <tr>\n",
       "      <td>1</td>\n",
       "      <td>Rebel_Alliance</td>\n",
       "      <td>4.99</td>\n",
       "      <td>1 hours</td>\n",
       "      <td>NaN</td>\n",
       "      <td>7.0</td>\n",
       "      <td>300~500</td>\n",
       "      <td>2014-09-20</td>\n",
       "    </tr>\n",
       "    <tr>\n",
       "      <td>2</td>\n",
       "      <td>ThePartyDepot</td>\n",
       "      <td>5.00</td>\n",
       "      <td>16 hours</td>\n",
       "      <td>NaN</td>\n",
       "      <td>3.0</td>\n",
       "      <td>70~100</td>\n",
       "      <td>2014-09-20</td>\n",
       "    </tr>\n",
       "    <tr>\n",
       "      <td>3</td>\n",
       "      <td>cossacks</td>\n",
       "      <td>4.99</td>\n",
       "      <td>5 hours</td>\n",
       "      <td>NaN</td>\n",
       "      <td>7.0</td>\n",
       "      <td>300~500</td>\n",
       "      <td>2014-09-20</td>\n",
       "    </tr>\n",
       "    <tr>\n",
       "      <td>4</td>\n",
       "      <td>checkpoint</td>\n",
       "      <td>4.84</td>\n",
       "      <td>1 days 0 hours</td>\n",
       "      <td>NaN</td>\n",
       "      <td>31.0</td>\n",
       "      <td>55~70</td>\n",
       "      <td>2014-09-20</td>\n",
       "    </tr>\n",
       "    <tr>\n",
       "      <td>...</td>\n",
       "      <td>...</td>\n",
       "      <td>...</td>\n",
       "      <td>...</td>\n",
       "      <td>...</td>\n",
       "      <td>...</td>\n",
       "      <td>...</td>\n",
       "      <td>...</td>\n",
       "    </tr>\n",
       "    <tr>\n",
       "      <td>121153</td>\n",
       "      <td>BabyBando</td>\n",
       "      <td>5.00</td>\n",
       "      <td>3 hours</td>\n",
       "      <td>NaN</td>\n",
       "      <td>6.0</td>\n",
       "      <td>10~15</td>\n",
       "      <td>2014-10-14</td>\n",
       "    </tr>\n",
       "    <tr>\n",
       "      <td>121154</td>\n",
       "      <td>daydreamer33</td>\n",
       "      <td>4.94</td>\n",
       "      <td>1 days 0 hours</td>\n",
       "      <td>NaN</td>\n",
       "      <td>6.0</td>\n",
       "      <td>200~300</td>\n",
       "      <td>2014-10-14</td>\n",
       "    </tr>\n",
       "    <tr>\n",
       "      <td>121155</td>\n",
       "      <td>Leckermann</td>\n",
       "      <td>5.00</td>\n",
       "      <td>5 months 24 days</td>\n",
       "      <td>NaN</td>\n",
       "      <td>8.0</td>\n",
       "      <td>3~5</td>\n",
       "      <td>2014-10-14</td>\n",
       "    </tr>\n",
       "    <tr>\n",
       "      <td>121156</td>\n",
       "      <td>EasyRiders</td>\n",
       "      <td>NaN</td>\n",
       "      <td>20 days</td>\n",
       "      <td>NaN</td>\n",
       "      <td>5.0</td>\n",
       "      <td>0</td>\n",
       "      <td>2014-10-14</td>\n",
       "    </tr>\n",
       "    <tr>\n",
       "      <td>121157</td>\n",
       "      <td>INSTAGRAMS-UK</td>\n",
       "      <td>4.55</td>\n",
       "      <td>4 days</td>\n",
       "      <td>NaN</td>\n",
       "      <td>7.0</td>\n",
       "      <td>10~15</td>\n",
       "      <td>2014-10-14</td>\n",
       "    </tr>\n",
       "  </tbody>\n",
       "</table>\n",
       "<p>121158 rows × 7 columns</p>\n",
       "</div>"
      ],
      "text/plain": [
       "                  name  rating          lastSeen publicKey  #products  \\\n",
       "0         littlegoblin    4.92           4 hours       NaN       14.0   \n",
       "1       Rebel_Alliance    4.99           1 hours       NaN        7.0   \n",
       "2        ThePartyDepot    5.00          16 hours       NaN        3.0   \n",
       "3             cossacks    4.99           5 hours       NaN        7.0   \n",
       "4           checkpoint    4.84    1 days 0 hours       NaN       31.0   \n",
       "...                ...     ...               ...       ...        ...   \n",
       "121153       BabyBando    5.00           3 hours       NaN        6.0   \n",
       "121154    daydreamer33    4.94    1 days 0 hours       NaN        6.0   \n",
       "121155      Leckermann    5.00  5 months 24 days       NaN        8.0   \n",
       "121156      EasyRiders     NaN           20 days       NaN        5.0   \n",
       "121157   INSTAGRAMS-UK    4.55            4 days       NaN        7.0   \n",
       "\n",
       "         #Deals parsingDate  \n",
       "0       150~200  2014-09-20  \n",
       "1       300~500  2014-09-20  \n",
       "2        70~100  2014-09-20  \n",
       "3       300~500  2014-09-20  \n",
       "4         55~70  2014-09-20  \n",
       "...         ...         ...  \n",
       "121153    10~15  2014-10-14  \n",
       "121154  200~300  2014-10-14  \n",
       "121155      3~5  2014-10-14  \n",
       "121156        0  2014-10-14  \n",
       "121157    10~15  2014-10-14  \n",
       "\n",
       "[121158 rows x 7 columns]"
      ]
     },
     "execution_count": 8,
     "metadata": {},
     "output_type": "execute_result"
    }
   ],
   "source": [
    "vendorsDF"
   ]
  },
  {
   "cell_type": "code",
   "execution_count": 9,
   "metadata": {},
   "outputs": [],
   "source": [
    "#vendorsDF['lastSeen'].unique()"
   ]
  },
  {
   "cell_type": "code",
   "execution_count": 10,
   "metadata": {},
   "outputs": [],
   "source": [
    "def addZeroPadding(s):\n",
    "    if ('Vacation' in s or 'investigation' in s):\n",
    "        return s\n",
    "    s ='a '+str(s)\n",
    "    i =1\n",
    "    while(i<10):\n",
    "        looked =str(i)\n",
    "        s= s.replace('a '+looked+' days','0'+looked+'D')\n",
    "        s= s.replace('a '+looked+' hours','0'+looked+'H')\n",
    "        s= s.replace('a '+looked+' months','0'+looked+'M')\n",
    "        s= s.replace(' '+looked+' days',' 0'+looked+'D')\n",
    "        s= s.replace(' '+looked+' hours',' 0'+looked+'H')\n",
    "        s= s.replace(' '+looked+' months',' 0'+looked+'M')\n",
    "        i+=1\n",
    "    s = s.replace(\"a \",'')\n",
    "    s = s.replace(\"hours\",'H')\n",
    "    s = s.replace(\"days\",'D')\n",
    "    s = s.replace(\"months\",'M')\n",
    "    \n",
    "    s =s.strip()\n",
    "    s = s.replace(' ','')\n",
    "    return s\n",
    "\n",
    "\n",
    "def cleanLastSeen(s):\n",
    "    if ('Vacation' in s or 'investigation' in s):\n",
    "        return s\n",
    "    \n",
    "\n",
    "    if ( 'D0H' in s):\n",
    "        t = dt.datetime.strptime(s,\"%dD0H\")\n",
    "        return t.day*24\n",
    "    elif ( '02M29D' in s ):\n",
    "        return (30*2+29)*24\n",
    "    elif ( '02M30D' in s):\n",
    "        return (30*2+30)*24\n",
    "    elif ( '02M31D' in s):\n",
    "        return (30*2+31)*24\n",
    "    elif ( 'M0D' in s):\n",
    "        t = dt.datetime.strptime(s,\"%mM0D\")\n",
    "        return 30*t.month*24\n",
    "    elif ( 'D' in s and 'H' in s):\n",
    "        t = dt.datetime.strptime(s,\"%dD%HH\")\n",
    "        return t.day*24 +t.hour\n",
    "    elif ( 'M' in s and 'D' in s):\n",
    "        t = dt.datetime.strptime(s,\"%mM%dD\")\n",
    "        return (t.day+30*t.month)*24\n",
    "    elif ( 'H' in s):\n",
    "        t = dt.datetime.strptime(s,\"%HH\")\n",
    "        return t.hour\n",
    "    elif ( 'M' in s):\n",
    "        t = dt.datetime.strptime(s,\"%mM\")\n",
    "        return 30*t.month*24\n",
    "    elif ( '0D' in s):\n",
    "        return None\n",
    "    elif ( 'D' in s):\n",
    "        t = dt.datetime.strptime(s,\"%dD\")\n",
    "        return t.day*24\n",
    "    else:\n",
    "        return s;\n"
   ]
  },
  {
   "cell_type": "code",
   "execution_count": 11,
   "metadata": {},
   "outputs": [],
   "source": [
    "vendorsDF.lastSeen = vendorsDF.lastSeen.apply((lambda x:addZeroPadding(x)))\n"
   ]
  },
  {
   "cell_type": "code",
   "execution_count": 12,
   "metadata": {},
   "outputs": [],
   "source": [
    "vendorsDF.lastSeen = vendorsDF.lastSeen.apply((lambda x:cleanLastSeen(x)))"
   ]
  },
  {
   "cell_type": "code",
   "execution_count": 106,
   "metadata": {},
   "outputs": [
    {
     "data": {
      "text/html": [
       "<div>\n",
       "<style scoped>\n",
       "    .dataframe tbody tr th:only-of-type {\n",
       "        vertical-align: middle;\n",
       "    }\n",
       "\n",
       "    .dataframe tbody tr th {\n",
       "        vertical-align: top;\n",
       "    }\n",
       "\n",
       "    .dataframe thead th {\n",
       "        text-align: right;\n",
       "    }\n",
       "</style>\n",
       "<table border=\"1\" class=\"dataframe\">\n",
       "  <thead>\n",
       "    <tr style=\"text-align: right;\">\n",
       "      <th></th>\n",
       "      <th>name</th>\n",
       "      <th>rating</th>\n",
       "      <th>lastSeen</th>\n",
       "      <th>publicKey</th>\n",
       "      <th>#products</th>\n",
       "      <th>#Deals</th>\n",
       "      <th>parsingDate</th>\n",
       "    </tr>\n",
       "  </thead>\n",
       "  <tbody>\n",
       "    <tr>\n",
       "      <td>0</td>\n",
       "      <td>littlegoblin</td>\n",
       "      <td>4.92</td>\n",
       "      <td>4</td>\n",
       "      <td>NaN</td>\n",
       "      <td>14.0</td>\n",
       "      <td>150~200</td>\n",
       "      <td>2014-09-20</td>\n",
       "    </tr>\n",
       "    <tr>\n",
       "      <td>1</td>\n",
       "      <td>Rebel_Alliance</td>\n",
       "      <td>4.99</td>\n",
       "      <td>1</td>\n",
       "      <td>NaN</td>\n",
       "      <td>7.0</td>\n",
       "      <td>300~500</td>\n",
       "      <td>2014-09-20</td>\n",
       "    </tr>\n",
       "    <tr>\n",
       "      <td>2</td>\n",
       "      <td>ThePartyDepot</td>\n",
       "      <td>5.00</td>\n",
       "      <td>16</td>\n",
       "      <td>NaN</td>\n",
       "      <td>3.0</td>\n",
       "      <td>70~100</td>\n",
       "      <td>2014-09-20</td>\n",
       "    </tr>\n",
       "    <tr>\n",
       "      <td>3</td>\n",
       "      <td>cossacks</td>\n",
       "      <td>4.99</td>\n",
       "      <td>5</td>\n",
       "      <td>NaN</td>\n",
       "      <td>7.0</td>\n",
       "      <td>300~500</td>\n",
       "      <td>2014-09-20</td>\n",
       "    </tr>\n",
       "    <tr>\n",
       "      <td>4</td>\n",
       "      <td>checkpoint</td>\n",
       "      <td>4.84</td>\n",
       "      <td>24</td>\n",
       "      <td>NaN</td>\n",
       "      <td>31.0</td>\n",
       "      <td>55~70</td>\n",
       "      <td>2014-09-20</td>\n",
       "    </tr>\n",
       "    <tr>\n",
       "      <td>...</td>\n",
       "      <td>...</td>\n",
       "      <td>...</td>\n",
       "      <td>...</td>\n",
       "      <td>...</td>\n",
       "      <td>...</td>\n",
       "      <td>...</td>\n",
       "      <td>...</td>\n",
       "    </tr>\n",
       "    <tr>\n",
       "      <td>121153</td>\n",
       "      <td>BabyBando</td>\n",
       "      <td>5.00</td>\n",
       "      <td>3</td>\n",
       "      <td>NaN</td>\n",
       "      <td>6.0</td>\n",
       "      <td>10~15</td>\n",
       "      <td>2014-10-14</td>\n",
       "    </tr>\n",
       "    <tr>\n",
       "      <td>121154</td>\n",
       "      <td>daydreamer33</td>\n",
       "      <td>4.94</td>\n",
       "      <td>24</td>\n",
       "      <td>NaN</td>\n",
       "      <td>6.0</td>\n",
       "      <td>200~300</td>\n",
       "      <td>2014-10-14</td>\n",
       "    </tr>\n",
       "    <tr>\n",
       "      <td>121155</td>\n",
       "      <td>Leckermann</td>\n",
       "      <td>5.00</td>\n",
       "      <td>4176</td>\n",
       "      <td>NaN</td>\n",
       "      <td>8.0</td>\n",
       "      <td>3~5</td>\n",
       "      <td>2014-10-14</td>\n",
       "    </tr>\n",
       "    <tr>\n",
       "      <td>121156</td>\n",
       "      <td>EasyRiders</td>\n",
       "      <td>NaN</td>\n",
       "      <td>None</td>\n",
       "      <td>NaN</td>\n",
       "      <td>5.0</td>\n",
       "      <td>0</td>\n",
       "      <td>2014-10-14</td>\n",
       "    </tr>\n",
       "    <tr>\n",
       "      <td>121157</td>\n",
       "      <td>INSTAGRAMS-UK</td>\n",
       "      <td>4.55</td>\n",
       "      <td>96</td>\n",
       "      <td>NaN</td>\n",
       "      <td>7.0</td>\n",
       "      <td>10~15</td>\n",
       "      <td>2014-10-14</td>\n",
       "    </tr>\n",
       "  </tbody>\n",
       "</table>\n",
       "<p>121158 rows × 7 columns</p>\n",
       "</div>"
      ],
      "text/plain": [
       "                  name  rating lastSeen publicKey  #products   #Deals  \\\n",
       "0         littlegoblin    4.92        4       NaN       14.0  150~200   \n",
       "1       Rebel_Alliance    4.99        1       NaN        7.0  300~500   \n",
       "2        ThePartyDepot    5.00       16       NaN        3.0   70~100   \n",
       "3             cossacks    4.99        5       NaN        7.0  300~500   \n",
       "4           checkpoint    4.84       24       NaN       31.0    55~70   \n",
       "...                ...     ...      ...       ...        ...      ...   \n",
       "121153       BabyBando    5.00        3       NaN        6.0    10~15   \n",
       "121154    daydreamer33    4.94       24       NaN        6.0  200~300   \n",
       "121155      Leckermann    5.00     4176       NaN        8.0      3~5   \n",
       "121156      EasyRiders     NaN     None       NaN        5.0        0   \n",
       "121157   INSTAGRAMS-UK    4.55       96       NaN        7.0    10~15   \n",
       "\n",
       "       parsingDate  \n",
       "0       2014-09-20  \n",
       "1       2014-09-20  \n",
       "2       2014-09-20  \n",
       "3       2014-09-20  \n",
       "4       2014-09-20  \n",
       "...            ...  \n",
       "121153  2014-10-14  \n",
       "121154  2014-10-14  \n",
       "121155  2014-10-14  \n",
       "121156  2014-10-14  \n",
       "121157  2014-10-14  \n",
       "\n",
       "[121158 rows x 7 columns]"
      ]
     },
     "execution_count": 106,
     "metadata": {},
     "output_type": "execute_result"
    }
   ],
   "source": [
    "vendorsDF"
   ]
  },
  {
   "cell_type": "markdown",
   "metadata": {},
   "source": [
    " last Seen is now in hours except strings for the Vacation mode and the suspended users"
   ]
  },
  {
   "cell_type": "markdown",
   "metadata": {},
   "source": [
    "## Cleaning done"
   ]
  },
  {
   "cell_type": "code",
   "execution_count": 98,
   "metadata": {},
   "outputs": [],
   "source": [
    "nbVendorbyDate = vendorsDF[['parsingDate', 'name']].groupby(['parsingDate']).agg([ 'count'])"
   ]
  },
  {
   "cell_type": "code",
   "execution_count": 99,
   "metadata": {},
   "outputs": [],
   "source": [
    "nbVendorbyDate = nbVendorbyDate.sort_values(by='parsingDate')"
   ]
  },
  {
   "cell_type": "code",
   "execution_count": 100,
   "metadata": {},
   "outputs": [
    {
     "data": {
      "text/html": [
       "<div>\n",
       "<style scoped>\n",
       "    .dataframe tbody tr th:only-of-type {\n",
       "        vertical-align: middle;\n",
       "    }\n",
       "\n",
       "    .dataframe tbody tr th {\n",
       "        vertical-align: top;\n",
       "    }\n",
       "\n",
       "    .dataframe thead tr th {\n",
       "        text-align: left;\n",
       "    }\n",
       "\n",
       "    .dataframe thead tr:last-of-type th {\n",
       "        text-align: right;\n",
       "    }\n",
       "</style>\n",
       "<table border=\"1\" class=\"dataframe\">\n",
       "  <thead>\n",
       "    <tr>\n",
       "      <th></th>\n",
       "      <th>name</th>\n",
       "    </tr>\n",
       "    <tr>\n",
       "      <th></th>\n",
       "      <th>count</th>\n",
       "    </tr>\n",
       "    <tr>\n",
       "      <th>parsingDate</th>\n",
       "      <th></th>\n",
       "    </tr>\n",
       "  </thead>\n",
       "  <tbody>\n",
       "    <tr>\n",
       "      <td>2014-01-01</td>\n",
       "      <td>143</td>\n",
       "    </tr>\n",
       "    <tr>\n",
       "      <td>2014-01-09</td>\n",
       "      <td>166</td>\n",
       "    </tr>\n",
       "    <tr>\n",
       "      <td>2014-01-16</td>\n",
       "      <td>195</td>\n",
       "    </tr>\n",
       "    <tr>\n",
       "      <td>2014-01-26</td>\n",
       "      <td>235</td>\n",
       "    </tr>\n",
       "    <tr>\n",
       "      <td>2014-02-02</td>\n",
       "      <td>273</td>\n",
       "    </tr>\n",
       "    <tr>\n",
       "      <td>...</td>\n",
       "      <td>...</td>\n",
       "    </tr>\n",
       "    <tr>\n",
       "      <td>2015-06-28</td>\n",
       "      <td>823</td>\n",
       "    </tr>\n",
       "    <tr>\n",
       "      <td>2015-06-30</td>\n",
       "      <td>849</td>\n",
       "    </tr>\n",
       "    <tr>\n",
       "      <td>2015-07-01</td>\n",
       "      <td>98</td>\n",
       "    </tr>\n",
       "    <tr>\n",
       "      <td>2015-07-04</td>\n",
       "      <td>648</td>\n",
       "    </tr>\n",
       "    <tr>\n",
       "      <td>2015-07-07</td>\n",
       "      <td>933</td>\n",
       "    </tr>\n",
       "  </tbody>\n",
       "</table>\n",
       "<p>199 rows × 1 columns</p>\n",
       "</div>"
      ],
      "text/plain": [
       "             name\n",
       "            count\n",
       "parsingDate      \n",
       "2014-01-01    143\n",
       "2014-01-09    166\n",
       "2014-01-16    195\n",
       "2014-01-26    235\n",
       "2014-02-02    273\n",
       "...           ...\n",
       "2015-06-28    823\n",
       "2015-06-30    849\n",
       "2015-07-01     98\n",
       "2015-07-04    648\n",
       "2015-07-07    933\n",
       "\n",
       "[199 rows x 1 columns]"
      ]
     },
     "execution_count": 100,
     "metadata": {},
     "output_type": "execute_result"
    }
   ],
   "source": [
    "nbVendorbyDate"
   ]
  },
  {
   "cell_type": "markdown",
   "metadata": {},
   "source": [
    "## #vendors"
   ]
  },
  {
   "cell_type": "markdown",
   "metadata": {},
   "source": [
    "We remove the date were the number of vendors is inferior to 150 since they are obviously consequence of a technical problem"
   ]
  },
  {
   "cell_type": "code",
   "execution_count": 101,
   "metadata": {},
   "outputs": [],
   "source": [
    "nbVendorbyDate = nbVendorbyDate[nbVendorbyDate[('name', 'count')] >150]\n",
    "# remove 'outliers'"
   ]
  },
  {
   "cell_type": "code",
   "execution_count": 107,
   "metadata": {},
   "outputs": [
    {
     "data": {
      "text/plain": [
       "<matplotlib.axes._subplots.AxesSubplot at 0x7f1c36cd7c10>"
      ]
     },
     "execution_count": 107,
     "metadata": {},
     "output_type": "execute_result"
    },
    {
     "data": {
      "image/png": "[encoded data removed]",
      "text/plain": [
       "<Figure size 1440x720 with 1 Axes>"
      ]
     },
     "metadata": {
      "needs_background": "light"
     },
     "output_type": "display_data"
    }
   ],
   "source": [
    "nbVendorbyDate.plot.bar(figsize=(20,10))"
   ]
  },
  {
   "cell_type": "markdown",
   "metadata": {},
   "source": [
    "We get a plot unusable in the state. There is no visible trend, the data is very noisy. However we might be able to extract some data by watching the first appearance of each pseudo."
   ]
  },
  {
   "cell_type": "markdown",
   "metadata": {},
   "source": [
    "## Rating plot (useless)"
   ]
  },
  {
   "cell_type": "code",
   "execution_count": 109,
   "metadata": {},
   "outputs": [
    {
     "data": {
      "text/plain": [
       "array([[<matplotlib.axes._subplots.AxesSubplot object at 0x7f1c3687d190>]],\n",
       "      dtype=object)"
      ]
     },
     "execution_count": 109,
     "metadata": {},
     "output_type": "execute_result"
    },
    {
     "data": {
      "image/png": "[encoded data removed]",
      "text/plain": [
       "<Figure size 720x360 with 1 Axes>"
      ]
     },
     "metadata": {
      "needs_background": "light"
     },
     "output_type": "display_data"
    }
   ],
   "source": [
    "vendorsDF.hist(column='rating',log=True,figsize=(10,5))"
   ]
  },
  {
   "cell_type": "markdown",
   "metadata": {},
   "source": [
    "The rating of vendors doesn't give much informations"
   ]
  },
  {
   "cell_type": "markdown",
   "metadata": {},
   "source": [
    "# #Deals"
   ]
  },
  {
   "cell_type": "markdown",
   "metadata": {},
   "source": [
    "The number of deals could source of intersting data, since it could reveal the ratio of 'new sellers'\n"
   ]
  },
  {
   "cell_type": "markdown",
   "metadata": {},
   "source": [
    "## #Products plot"
   ]
  },
  {
   "cell_type": "code",
   "execution_count": 110,
   "metadata": {},
   "outputs": [
    {
     "data": {
      "text/plain": [
       "array([[<matplotlib.axes._subplots.AxesSubplot object at 0x7f1c365ae4d0>]],\n",
       "      dtype=object)"
      ]
     },
     "execution_count": 110,
     "metadata": {},
     "output_type": "execute_result"
    },
    {
     "data": {
      "image/png": "[encoded data removed]",
      "text/plain": [
       "<Figure size 1440x720 with 1 Axes>"
      ]
     },
     "metadata": {
      "needs_background": "light"
     },
     "output_type": "display_data"
    }
   ],
   "source": [
    "vendorsDF.hist(column='#products',log=True,figsize=(20,10))"
   ]
  },
  {
   "cell_type": "markdown",
   "metadata": {},
   "source": [
    "This plot shows the huge variation inn the number of products sold by vendors. That means it could be interesting to track the biggest selleres through time since they seam well established."
   ]
  },
  {
   "cell_type": "markdown",
   "metadata": {},
   "source": [
    "# BEFORE AFTER ?"
   ]
  },
  {
   "cell_type": "code",
   "execution_count": 46,
   "metadata": {},
   "outputs": [],
   "source": [
    "vendorsDFbefore = vendorsDF[vendorsDF.parsingDate == dt.datetime.strptime('2014-11-01', '%Y-%m-%d').date() ]\n",
    "vendorsDFafter = vendorsDF[vendorsDF.parsingDate == dt.datetime.strptime('2015-01-01', '%Y-%m-%d').date() ]"
   ]
  },
  {
   "cell_type": "code",
   "execution_count": 111,
   "metadata": {},
   "outputs": [
    {
     "data": {
      "text/plain": [
       "array([<matplotlib.axes._subplots.AxesSubplot object at 0x7f1c363ee190>],\n",
       "      dtype=object)"
      ]
     },
     "execution_count": 111,
     "metadata": {},
     "output_type": "execute_result"
    },
    {
     "data": {
      "image/png": "[encoded data removed]",
      "text/plain": [
       "<Figure size 1440x720 with 2 Axes>"
      ]
     },
     "metadata": {
      "needs_background": "light"
     },
     "output_type": "display_data"
    }
   ],
   "source": [
    "fig, axes = plt.subplots(nrows=1, ncols=2, figsize=(20,10),sharey=True)\n",
    "\n",
    "vendorsDFbefore.hist(column='#products',log=True ,sharey=True,ax=axes[0])\n",
    "vendorsDFafter.hist(column='#products',log=True,sharey=True,ax=axes[1])"
   ]
  },
  {
   "cell_type": "markdown",
   "metadata": {},
   "source": [
    "Again this plot is no interest in the state. To compare before/after we need to be very carefull given the noise in the data"
   ]
  },
  {
   "cell_type": "code",
   "execution_count": 72,
   "metadata": {},
   "outputs": [
    {
     "data": {
      "text/plain": [
       "count    977\n",
       "Name: name, dtype: int64"
      ]
     },
     "execution_count": 72,
     "metadata": {},
     "output_type": "execute_result"
    }
   ],
   "source": [
    "vendorsDFbefore.name.agg([ 'count'])"
   ]
  },
  {
   "cell_type": "code",
   "execution_count": 73,
   "metadata": {},
   "outputs": [
    {
     "data": {
      "text/plain": [
       "count    749\n",
       "Name: name, dtype: int64"
      ]
     },
     "execution_count": 73,
     "metadata": {},
     "output_type": "execute_result"
    }
   ],
   "source": [
    "vendorsDFafter.name.agg([ 'count'])"
   ]
  },
  {
   "cell_type": "markdown",
   "metadata": {},
   "source": [
    "Here it might look like a good result, but it is only a coincidence due to the noise"
   ]
  },
  {
   "cell_type": "code",
   "execution_count": null,
   "metadata": {},
   "outputs": [],
   "source": []
  }
 ],
 "metadata": {
  "kernelspec": {
   "display_name": "Python 3",
   "language": "python",
   "name": "python3"
  },
  "language_info": {
   "codemirror_mode": {
    "name": "ipython",
    "version": 3
   },
   "file_extension": ".py",
   "mimetype": "text/x-python",
   "name": "python",
   "nbconvert_exporter": "python",
   "pygments_lexer": "ipython3",
   "version": "3.7.4"
  }
 },
 "nbformat": 4,
 "nbformat_minor": 2
}
