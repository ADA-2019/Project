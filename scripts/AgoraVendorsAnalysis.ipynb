{
 "cells": [
  {
   "cell_type": "code",
   "execution_count": 1,
   "metadata": {},
   "outputs": [],
   "source": [
    "from bs4 import BeautifulSoup as bs\n",
    "import os\n",
    "import pandas as pd\n",
    "import numpy as np\n",
    "from collections import Counter\n",
    "import matplotlib.pyplot as plt\n",
    "import glob\n",
    "import seaborn as sns\n",
    "import datetime as dt"
   ]
  },
  {
   "cell_type": "code",
   "execution_count": 2,
   "metadata": {},
   "outputs": [],
   "source": [
    "vendorsDF = pd.read_csv('./../data/vendorsCSVs/allVendors.csv')"
   ]
  },
  {
   "cell_type": "code",
   "execution_count": null,
   "metadata": {
    "scrolled": true
   },
   "outputs": [],
   "source": []
  },
  {
   "cell_type": "code",
   "execution_count": 3,
   "metadata": {},
   "outputs": [],
   "source": [
    "def cleanLastSeenRegistered(s):\n",
    "    s = str(s)\n",
    "    if ('Registered' in s):\n",
    "        return s.split('  ')[-1]\n",
    "    else:\n",
    "        return s"
   ]
  },
  {
   "cell_type": "code",
   "execution_count": 4,
   "metadata": {},
   "outputs": [],
   "source": [
    "vendorsDF['lastSeen'] = vendorsDF['lastSeen'].apply(cleanLastSeenRegistered)"
   ]
  },
  {
   "cell_type": "code",
   "execution_count": 6,
   "metadata": {},
   "outputs": [],
   "source": [
    "vendorsDF['parsingDate']  = vendorsDF['parsingDate'].apply((lambda x: dt.datetime.strptime(x, '%Y-%m-%d').date()))"
   ]
  },
  {
   "cell_type": "code",
   "execution_count": 7,
   "metadata": {},
   "outputs": [],
   "source": [
    "vendorsDF = vendorsDF.drop('Unnamed: 0.1', axis=1)\n",
    "vendorsDF = vendorsDF.drop('Unnamed: 0', axis=1)"
   ]
  },
  {
   "cell_type": "code",
   "execution_count": 8,
   "metadata": {},
   "outputs": [
    {
     "data": {
      "text/html": [
       "<div>\n",
       "<style scoped>\n",
       "    .dataframe tbody tr th:only-of-type {\n",
       "        vertical-align: middle;\n",
       "    }\n",
       "\n",
       "    .dataframe tbody tr th {\n",
       "        vertical-align: top;\n",
       "    }\n",
       "\n",
       "    .dataframe thead th {\n",
       "        text-align: right;\n",
       "    }\n",
       "</style>\n",
       "<table border=\"1\" class=\"dataframe\">\n",
       "  <thead>\n",
       "    <tr style=\"text-align: right;\">\n",
       "      <th></th>\n",
       "      <th>name</th>\n",
       "      <th>rating</th>\n",
       "      <th>lastSeen</th>\n",
       "      <th>publicKey</th>\n",
       "      <th>#products</th>\n",
       "      <th>#Deals</th>\n",
       "      <th>parsingDate</th>\n",
       "    </tr>\n",
       "  </thead>\n",
       "  <tbody>\n",
       "    <tr>\n",
       "      <td>0</td>\n",
       "      <td>littlegoblin</td>\n",
       "      <td>4.92</td>\n",
       "      <td>4 hours</td>\n",
       "      <td>NaN</td>\n",
       "      <td>14.0</td>\n",
       "      <td>150~200</td>\n",
       "      <td>2014-09-20</td>\n",
       "    </tr>\n",
       "    <tr>\n",
       "      <td>1</td>\n",
       "      <td>Rebel_Alliance</td>\n",
       "      <td>4.99</td>\n",
       "      <td>1 hours</td>\n",
       "      <td>NaN</td>\n",
       "      <td>7.0</td>\n",
       "      <td>300~500</td>\n",
       "      <td>2014-09-20</td>\n",
       "    </tr>\n",
       "    <tr>\n",
       "      <td>2</td>\n",
       "      <td>ThePartyDepot</td>\n",
       "      <td>5.00</td>\n",
       "      <td>16 hours</td>\n",
       "      <td>NaN</td>\n",
       "      <td>3.0</td>\n",
       "      <td>70~100</td>\n",
       "      <td>2014-09-20</td>\n",
       "    </tr>\n",
       "    <tr>\n",
       "      <td>3</td>\n",
       "      <td>cossacks</td>\n",
       "      <td>4.99</td>\n",
       "      <td>5 hours</td>\n",
       "      <td>NaN</td>\n",
       "      <td>7.0</td>\n",
       "      <td>300~500</td>\n",
       "      <td>2014-09-20</td>\n",
       "    </tr>\n",
       "    <tr>\n",
       "      <td>4</td>\n",
       "      <td>checkpoint</td>\n",
       "      <td>4.84</td>\n",
       "      <td>1 days 0 hours</td>\n",
       "      <td>NaN</td>\n",
       "      <td>31.0</td>\n",
       "      <td>55~70</td>\n",
       "      <td>2014-09-20</td>\n",
       "    </tr>\n",
       "    <tr>\n",
       "      <td>...</td>\n",
       "      <td>...</td>\n",
       "      <td>...</td>\n",
       "      <td>...</td>\n",
       "      <td>...</td>\n",
       "      <td>...</td>\n",
       "      <td>...</td>\n",
       "      <td>...</td>\n",
       "    </tr>\n",
       "    <tr>\n",
       "      <td>121153</td>\n",
       "      <td>BabyBando</td>\n",
       "      <td>5.00</td>\n",
       "      <td>3 hours</td>\n",
       "      <td>NaN</td>\n",
       "      <td>6.0</td>\n",
       "      <td>10~15</td>\n",
       "      <td>2014-10-14</td>\n",
       "    </tr>\n",
       "    <tr>\n",
       "      <td>121154</td>\n",
       "      <td>daydreamer33</td>\n",
       "      <td>4.94</td>\n",
       "      <td>1 days 0 hours</td>\n",
       "      <td>NaN</td>\n",
       "      <td>6.0</td>\n",
       "      <td>200~300</td>\n",
       "      <td>2014-10-14</td>\n",
       "    </tr>\n",
       "    <tr>\n",
       "      <td>121155</td>\n",
       "      <td>Leckermann</td>\n",
       "      <td>5.00</td>\n",
       "      <td>5 months 24 days</td>\n",
       "      <td>NaN</td>\n",
       "      <td>8.0</td>\n",
       "      <td>3~5</td>\n",
       "      <td>2014-10-14</td>\n",
       "    </tr>\n",
       "    <tr>\n",
       "      <td>121156</td>\n",
       "      <td>EasyRiders</td>\n",
       "      <td>NaN</td>\n",
       "      <td>20 days</td>\n",
       "      <td>NaN</td>\n",
       "      <td>5.0</td>\n",
       "      <td>0</td>\n",
       "      <td>2014-10-14</td>\n",
       "    </tr>\n",
       "    <tr>\n",
       "      <td>121157</td>\n",
       "      <td>INSTAGRAMS-UK</td>\n",
       "      <td>4.55</td>\n",
       "      <td>4 days</td>\n",
       "      <td>NaN</td>\n",
       "      <td>7.0</td>\n",
       "      <td>10~15</td>\n",
       "      <td>2014-10-14</td>\n",
       "    </tr>\n",
       "  </tbody>\n",
       "</table>\n",
       "<p>121158 rows × 7 columns</p>\n",
       "</div>"
      ],
      "text/plain": [
       "                  name  rating          lastSeen publicKey  #products  \\\n",
       "0         littlegoblin    4.92           4 hours       NaN       14.0   \n",
       "1       Rebel_Alliance    4.99           1 hours       NaN        7.0   \n",
       "2        ThePartyDepot    5.00          16 hours       NaN        3.0   \n",
       "3             cossacks    4.99           5 hours       NaN        7.0   \n",
       "4           checkpoint    4.84    1 days 0 hours       NaN       31.0   \n",
       "...                ...     ...               ...       ...        ...   \n",
       "121153       BabyBando    5.00           3 hours       NaN        6.0   \n",
       "121154    daydreamer33    4.94    1 days 0 hours       NaN        6.0   \n",
       "121155      Leckermann    5.00  5 months 24 days       NaN        8.0   \n",
       "121156      EasyRiders     NaN           20 days       NaN        5.0   \n",
       "121157   INSTAGRAMS-UK    4.55            4 days       NaN        7.0   \n",
       "\n",
       "         #Deals parsingDate  \n",
       "0       150~200  2014-09-20  \n",
       "1       300~500  2014-09-20  \n",
       "2        70~100  2014-09-20  \n",
       "3       300~500  2014-09-20  \n",
       "4         55~70  2014-09-20  \n",
       "...         ...         ...  \n",
       "121153    10~15  2014-10-14  \n",
       "121154  200~300  2014-10-14  \n",
       "121155      3~5  2014-10-14  \n",
       "121156        0  2014-10-14  \n",
       "121157    10~15  2014-10-14  \n",
       "\n",
       "[121158 rows x 7 columns]"
      ]
     },
     "execution_count": 8,
     "metadata": {},
     "output_type": "execute_result"
    }
   ],
   "source": [
    "vendorsDF"
   ]
  },
  {
   "cell_type": "code",
   "execution_count": 9,
   "metadata": {},
   "outputs": [],
   "source": [
    "#vendorsDF['lastSeen'].unique()"
   ]
  },
  {
   "cell_type": "code",
   "execution_count": 10,
   "metadata": {},
   "outputs": [],
   "source": [
    "def addZeroPadding(s):\n",
    "    if ('Vacation' in s or 'investigation' in s):\n",
    "        return s\n",
    "    s ='a '+str(s)\n",
    "    i =1\n",
    "    while(i<10):\n",
    "        looked =str(i)\n",
    "        s= s.replace('a '+looked+' days','0'+looked+'D')\n",
    "        s= s.replace('a '+looked+' hours','0'+looked+'H')\n",
    "        s= s.replace('a '+looked+' months','0'+looked+'M')\n",
    "        s= s.replace(' '+looked+' days',' 0'+looked+'D')\n",
    "        s= s.replace(' '+looked+' hours',' 0'+looked+'H')\n",
    "        s= s.replace(' '+looked+' months',' 0'+looked+'M')\n",
    "        i+=1\n",
    "    s = s.replace(\"a \",'')\n",
    "    s = s.replace(\"hours\",'H')\n",
    "    s = s.replace(\"days\",'D')\n",
    "    s = s.replace(\"months\",'M')\n",
    "    \n",
    "    s =s.strip()\n",
    "    s = s.replace(' ','')\n",
    "    return s\n",
    "\n",
    "\n",
    "def cleanLastSeen(s):\n",
    "    if ('Vacation' in s or 'investigation' in s):\n",
    "        return s\n",
    "    \n",
    "\n",
    "    if ( 'D0H' in s):\n",
    "        t = dt.datetime.strptime(s,\"%dD0H\")\n",
    "        return t.day*24\n",
    "    elif ( '02M29D' in s ):\n",
    "        return (30*2+29)*24\n",
    "    elif ( '02M30D' in s):\n",
    "        return (30*2+30)*24\n",
    "    elif ( '02M31D' in s):\n",
    "        return (30*2+31)*24\n",
    "    elif ( 'M0D' in s):\n",
    "        t = dt.datetime.strptime(s,\"%mM0D\")\n",
    "        return 30*t.month*24\n",
    "    elif ( 'D' in s and 'H' in s):\n",
    "        t = dt.datetime.strptime(s,\"%dD%HH\")\n",
    "        return t.day*24 +t.hour\n",
    "    elif ( 'M' in s and 'D' in s):\n",
    "        t = dt.datetime.strptime(s,\"%mM%dD\")\n",
    "        return (t.day+30*t.month)*24\n",
    "    elif ( 'H' in s):\n",
    "        t = dt.datetime.strptime(s,\"%HH\")\n",
    "        return t.hour\n",
    "    elif ( 'M' in s):\n",
    "        t = dt.datetime.strptime(s,\"%mM\")\n",
    "        return 30*t.month*24\n",
    "    elif ( '0D' in s):\n",
    "        return None\n",
    "    elif ( 'D' in s):\n",
    "        t = dt.datetime.strptime(s,\"%dD\")\n",
    "        return t.day*24\n",
    "    else:\n",
    "        return s;\n"
   ]
  },
  {
   "cell_type": "code",
   "execution_count": 11,
   "metadata": {},
   "outputs": [],
   "source": [
    "vendorsDF.lastSeen = vendorsDF.lastSeen.apply((lambda x:addZeroPadding(x)))\n"
   ]
  },
  {
   "cell_type": "code",
   "execution_count": 12,
   "metadata": {},
   "outputs": [],
   "source": [
    "vendorsDF.lastSeen = vendorsDF.lastSeen.apply((lambda x:cleanLastSeen(x)))"
   ]
  },
  {
   "cell_type": "code",
   "execution_count": 13,
   "metadata": {},
   "outputs": [
    {
     "data": {
      "text/html": [
       "<div>\n",
       "<style scoped>\n",
       "    .dataframe tbody tr th:only-of-type {\n",
       "        vertical-align: middle;\n",
       "    }\n",
       "\n",
       "    .dataframe tbody tr th {\n",
       "        vertical-align: top;\n",
       "    }\n",
       "\n",
       "    .dataframe thead th {\n",
       "        text-align: right;\n",
       "    }\n",
       "</style>\n",
       "<table border=\"1\" class=\"dataframe\">\n",
       "  <thead>\n",
       "    <tr style=\"text-align: right;\">\n",
       "      <th></th>\n",
       "      <th>name</th>\n",
       "      <th>rating</th>\n",
       "      <th>lastSeen</th>\n",
       "      <th>publicKey</th>\n",
       "      <th>#products</th>\n",
       "      <th>#Deals</th>\n",
       "      <th>parsingDate</th>\n",
       "    </tr>\n",
       "  </thead>\n",
       "  <tbody>\n",
       "    <tr>\n",
       "      <td>0</td>\n",
       "      <td>littlegoblin</td>\n",
       "      <td>4.92</td>\n",
       "      <td>4</td>\n",
       "      <td>NaN</td>\n",
       "      <td>14.0</td>\n",
       "      <td>150~200</td>\n",
       "      <td>2014-09-20</td>\n",
       "    </tr>\n",
       "    <tr>\n",
       "      <td>1</td>\n",
       "      <td>Rebel_Alliance</td>\n",
       "      <td>4.99</td>\n",
       "      <td>1</td>\n",
       "      <td>NaN</td>\n",
       "      <td>7.0</td>\n",
       "      <td>300~500</td>\n",
       "      <td>2014-09-20</td>\n",
       "    </tr>\n",
       "    <tr>\n",
       "      <td>2</td>\n",
       "      <td>ThePartyDepot</td>\n",
       "      <td>5.00</td>\n",
       "      <td>16</td>\n",
       "      <td>NaN</td>\n",
       "      <td>3.0</td>\n",
       "      <td>70~100</td>\n",
       "      <td>2014-09-20</td>\n",
       "    </tr>\n",
       "    <tr>\n",
       "      <td>3</td>\n",
       "      <td>cossacks</td>\n",
       "      <td>4.99</td>\n",
       "      <td>5</td>\n",
       "      <td>NaN</td>\n",
       "      <td>7.0</td>\n",
       "      <td>300~500</td>\n",
       "      <td>2014-09-20</td>\n",
       "    </tr>\n",
       "    <tr>\n",
       "      <td>4</td>\n",
       "      <td>checkpoint</td>\n",
       "      <td>4.84</td>\n",
       "      <td>24</td>\n",
       "      <td>NaN</td>\n",
       "      <td>31.0</td>\n",
       "      <td>55~70</td>\n",
       "      <td>2014-09-20</td>\n",
       "    </tr>\n",
       "    <tr>\n",
       "      <td>...</td>\n",
       "      <td>...</td>\n",
       "      <td>...</td>\n",
       "      <td>...</td>\n",
       "      <td>...</td>\n",
       "      <td>...</td>\n",
       "      <td>...</td>\n",
       "      <td>...</td>\n",
       "    </tr>\n",
       "    <tr>\n",
       "      <td>121153</td>\n",
       "      <td>BabyBando</td>\n",
       "      <td>5.00</td>\n",
       "      <td>3</td>\n",
       "      <td>NaN</td>\n",
       "      <td>6.0</td>\n",
       "      <td>10~15</td>\n",
       "      <td>2014-10-14</td>\n",
       "    </tr>\n",
       "    <tr>\n",
       "      <td>121154</td>\n",
       "      <td>daydreamer33</td>\n",
       "      <td>4.94</td>\n",
       "      <td>24</td>\n",
       "      <td>NaN</td>\n",
       "      <td>6.0</td>\n",
       "      <td>200~300</td>\n",
       "      <td>2014-10-14</td>\n",
       "    </tr>\n",
       "    <tr>\n",
       "      <td>121155</td>\n",
       "      <td>Leckermann</td>\n",
       "      <td>5.00</td>\n",
       "      <td>4176</td>\n",
       "      <td>NaN</td>\n",
       "      <td>8.0</td>\n",
       "      <td>3~5</td>\n",
       "      <td>2014-10-14</td>\n",
       "    </tr>\n",
       "    <tr>\n",
       "      <td>121156</td>\n",
       "      <td>EasyRiders</td>\n",
       "      <td>NaN</td>\n",
       "      <td>None</td>\n",
       "      <td>NaN</td>\n",
       "      <td>5.0</td>\n",
       "      <td>0</td>\n",
       "      <td>2014-10-14</td>\n",
       "    </tr>\n",
       "    <tr>\n",
       "      <td>121157</td>\n",
       "      <td>INSTAGRAMS-UK</td>\n",
       "      <td>4.55</td>\n",
       "      <td>96</td>\n",
       "      <td>NaN</td>\n",
       "      <td>7.0</td>\n",
       "      <td>10~15</td>\n",
       "      <td>2014-10-14</td>\n",
       "    </tr>\n",
       "  </tbody>\n",
       "</table>\n",
       "<p>121158 rows × 7 columns</p>\n",
       "</div>"
      ],
      "text/plain": [
       "                  name  rating lastSeen publicKey  #products   #Deals  \\\n",
       "0         littlegoblin    4.92        4       NaN       14.0  150~200   \n",
       "1       Rebel_Alliance    4.99        1       NaN        7.0  300~500   \n",
       "2        ThePartyDepot    5.00       16       NaN        3.0   70~100   \n",
       "3             cossacks    4.99        5       NaN        7.0  300~500   \n",
       "4           checkpoint    4.84       24       NaN       31.0    55~70   \n",
       "...                ...     ...      ...       ...        ...      ...   \n",
       "121153       BabyBando    5.00        3       NaN        6.0    10~15   \n",
       "121154    daydreamer33    4.94       24       NaN        6.0  200~300   \n",
       "121155      Leckermann    5.00     4176       NaN        8.0      3~5   \n",
       "121156      EasyRiders     NaN     None       NaN        5.0        0   \n",
       "121157   INSTAGRAMS-UK    4.55       96       NaN        7.0    10~15   \n",
       "\n",
       "       parsingDate  \n",
       "0       2014-09-20  \n",
       "1       2014-09-20  \n",
       "2       2014-09-20  \n",
       "3       2014-09-20  \n",
       "4       2014-09-20  \n",
       "...            ...  \n",
       "121153  2014-10-14  \n",
       "121154  2014-10-14  \n",
       "121155  2014-10-14  \n",
       "121156  2014-10-14  \n",
       "121157  2014-10-14  \n",
       "\n",
       "[121158 rows x 7 columns]"
      ]
     },
     "execution_count": 13,
     "metadata": {},
     "output_type": "execute_result"
    }
   ],
   "source": [
    "vendorsDF"
   ]
  },
  {
   "cell_type": "code",
   "execution_count": 14,
   "metadata": {},
   "outputs": [
    {
     "data": {
      "text/plain": [
       "array([4, 1, 16, 5, 24, 6, 36, 13, 0, 14, 23, 8, 21, 2472, 2, 4488, 3, 28,\n",
       "       71, 11, 12, 19, 30, 20, 17, 4656, 168, 120, 9, 15, 69, 1560, 26,\n",
       "       888, 192, 3432, 3264, 696, 10, 216, 55, 34, 432, 672, 4056, 3072,\n",
       "       22, 4104, 96, 7, 50, 2112, 5112, 312, 61, 62, 408, 29, 47, 'nan',\n",
       "       792, 360, 27, 2856, 'On Vacation Mode since 11 hours', 41, None,\n",
       "       1392, 3936, 264, 59, 720, 4536, 3168, 552, 4224, 2616, 2760, 576,\n",
       "       1536, 37, 4032, 5328, 48, 1128, 2712, 1272, 2568, 39, 58, 3696,\n",
       "       4296, 46, 144, 18, 25, 1488, 288, 38, 54, 52, 912, 1440, 2640, 51,\n",
       "       32, 2304, 53, 3744, 624, 3864, 4512, 4584, 3336, 456, 864, 1200,\n",
       "       1656, 65, 45, 2400, 1104, 44, 'On Vacation Mode since 16 hours',\n",
       "       2208, 33, 2160, 1344, 57, 1512, 3048, 5208, 3120, 35,\n",
       "       'On Vacation Mode since 22 hours', 3912, 336, 31, 64,\n",
       "       'On Vacation Mode since 17 hours', 2736, 43, 504, 4704, 5376, 56,\n",
       "       3216, 960, 648, 'On Vacation Mode since 10 hours', 2136, 2448,\n",
       "       3096, 3552, 2328, 'On Vacation Mode since 2 hours', 49,\n",
       "       'On Vacation Mode since 18 hours', 384, 2880,\n",
       "       'On Vacation Mode since 5 hours', 1464, 2232, 40, 63, 1416, 1080,\n",
       "       ' On Vacation Mode since 1 days 16 hours', 72,\n",
       "       ' On Vacation Mode since 0 hours',\n",
       "       ' On Vacation Mode since 23 hours',\n",
       "       ' On Vacation Mode since 1 days 7 hours',\n",
       "       ' On Vacation Mode since 8 hours',\n",
       "       ' On Vacation Mode since 1 days 4 hours',\n",
       "       ' On Vacation Mode since 1 days 2 hours',\n",
       "       ' On Vacation Mode since 1 days 13 hours',\n",
       "       'Restricted/scamming investigation.',\n",
       "       ' On Vacation Mode since 9 hours',\n",
       "       ' On Vacation Mode since 5 hours',\n",
       "       ' On Vacation Mode since 16 hours',\n",
       "       ' On Vacation Mode since 10 hours',\n",
       "       ' On Vacation Mode since 1 days 12 hours',\n",
       "       ' On Vacation Mode since 21 hours',\n",
       "       ' On Vacation Mode since 2 hours',\n",
       "       ' On Vacation Mode since 1 hours',\n",
       "       ' On Vacation Mode since 6 hours',\n",
       "       ' On Vacation Mode since 1 days 3 hours',\n",
       "       ' On Vacation Mode since 7 hours', 6072, 4752, 4896, 3480, 1824,\n",
       "       2664, 2352, 5568, 3288, 1872, 4344, 5352, 1848, 1032, 42, 3792,\n",
       "       3384, 1968, 768, 3000, 68, 1776, 1320, 4272, 3840, 2808, 3960,\n",
       "       4560, 3024, 1632, 1728, 528, 1896, 2904, 3984, 5016, 4776, 4824,\n",
       "       3576, 5088, 5232, 67, 2256, 600, 5448, 4968, 60, 4680, 4128, 3600,\n",
       "       4944, 1608, 5592, 4992, 2376, 2688, 66, 2592, 1008, 1056, 1752, 70,\n",
       "       ' On Vacation Mode since 12 hours',\n",
       "       ' On Vacation Mode since 4 hours',\n",
       "       ' On Vacation Mode since 3 hours',\n",
       "       ' On Vacation Mode since 15 hours',\n",
       "       'On Vacation Mode since 0 hours', 2064, 4200, 816, 1944, 2784, 744,\n",
       "       3768, 'On Vacation Mode since 1 hours', 3144, 2832, 1296, 2280,\n",
       "       1248, 'On Vacation Mode since 8 hours', 2016, 984, 1368, 3456,\n",
       "       2520, 1176, 1224, 1992, 3528, 3648, 3408, 2544,\n",
       "       'On Vacation Mode since 4 hours', 1920,\n",
       "       'On Vacation Mode since 7 hours', 6600, 3240, 840, 5424, 4008,\n",
       "       3192, 4080, 3816, 5880, 1152, 2184, 5280, 4320, 2496, 4800, 4368,\n",
       "       6096, 2040, 1680, 2424, 5544, 6840, 5304, 5040, 5616, 5760, 2088,\n",
       "       2952, 5976, 5496, 5472, 6240, 6144, 936,\n",
       "       ' On Vacation Mode since 11 hours', 5520, 5640,\n",
       "       ' On Vacation Mode since 20 hours',\n",
       "       ' On Vacation Mode since 13 hours',\n",
       "       ' On Vacation Mode since 17 hours',\n",
       "       ' On Vacation Mode since 1 days 1 hours',\n",
       "       'On Vacation Mode since 1 days 2 hours',\n",
       "       ' On Vacation Mode since 1 days 10 hours',\n",
       "       'On Vacation Mode since 6 hours', 'On Vacation Mode since 4 days',\n",
       "       ' On Vacation Mode since 14 hours', 3360, 5256, 1584,\n",
       "       ' On Vacation Mode since 18 hours',\n",
       "       ' On Vacation Mode since 1 days 0 hours', 4632,\n",
       "       'On Vacation Mode since 1 days 18 hours',\n",
       "       'On Vacation Mode since 1 days 0 hours', 1704,\n",
       "       'On Vacation Mode since 1 days 17 hours',\n",
       "       'On Vacation Mode since 1 days 4 hours', 3504,\n",
       "       'On Vacation Mode since 3 hours', 6480, 4152, 4920, 4440, 4608,\n",
       "       6192, ' On Vacation Mode since 1 days 15 hours',\n",
       "       ' On Vacation Mode since 1 days 9 hours',\n",
       "       ' On Vacation Mode since 1 days 14 hours',\n",
       "       'On Vacation Mode since 15 hours',\n",
       "       'On Vacation Mode since 12 hours',\n",
       "       'On Vacation Mode since 1 days 19 hours',\n",
       "       'On Vacation Mode since 1 days 7 hours',\n",
       "       'On Vacation Mode since 13 hours',\n",
       "       'On Vacation Mode since 14 hours', 1800,\n",
       "       'On Vacation Mode since 23 hours',\n",
       "       'On Vacation Mode since 9 hours', 6744, 5400, 3312, 6000, 6960,\n",
       "       5904, 2928, 6360, 6024, 5664, 5784,\n",
       "       ' On Vacation Mode since 22 hours',\n",
       "       'On Vacation Mode since 2 days 4 hours', 3888, 5184,\n",
       "       'On Vacation Mode since 2 days 3 hours',\n",
       "       'On Vacation Mode since 1 days 6 hours',\n",
       "       'On Vacation Mode since 1 days 5 hours', 3720, 4464,\n",
       "       'On Vacation Mode since 2 days 6 hours', 2976,\n",
       "       'On Vacation Mode since 1 days 14 hours',\n",
       "       ' On Vacation Mode since 19 hours', 6288, 5064, 6048, 5160, 6264,\n",
       "       5736, 7008, 5808, 5688, 4848, 6312, 4416,\n",
       "       'On Vacation Mode since 1 days 13 hours', 4872, 4176,\n",
       "       'On Vacation Mode since 1 days 1 hours',\n",
       "       ' On Vacation Mode since 1 days 19 hours',\n",
       "       ' On Vacation Mode since 2 days 1 hours', 4728, 3624, 4248, 3672,\n",
       "       'On Vacation Mode since 19 hours', 6120,\n",
       "       ' On Vacation Mode since 1 days 8 hours',\n",
       "       ' On Vacation Mode since 1 days 21 hours',\n",
       "       ' On Vacation Mode since 1 days 5 hours',\n",
       "       ' On Vacation Mode since 2 days 0 hours',\n",
       "       ' On Vacation Mode since 1 days 22 hours',\n",
       "       ' On Vacation Mode since 2 days 8 hours',\n",
       "       ' On Vacation Mode since 1 days 23 hours',\n",
       "       ' On Vacation Mode since 1 days 20 hours',\n",
       "       ' On Vacation Mode since 1 days 17 hours',\n",
       "       ' On Vacation Mode since 2 days 2 hours', 4392, 6408,\n",
       "       'On Vacation Mode since 30 days', 6552, 5832, 5928, 5856, 6168,\n",
       "       6912, 5136, 6216, 5712, 'On Vacation Mode since 2 days 11 hours',\n",
       "       'On Vacation Mode since 1 days 8 hours',\n",
       "       'On Vacation Mode since 1 days 15 hours',\n",
       "       'On Vacation Mode since 20 hours',\n",
       "       'On Vacation Mode since 2 days 14 hours', 6648], dtype=object)"
      ]
     },
     "execution_count": 14,
     "metadata": {},
     "output_type": "execute_result"
    }
   ],
   "source": [
    "vendorsDF.lastSeen.unique()"
   ]
  },
  {
   "cell_type": "markdown",
   "metadata": {},
   "source": [
    "## Cleaning done"
   ]
  },
  {
   "cell_type": "code",
   "execution_count": 20,
   "metadata": {},
   "outputs": [],
   "source": [
    "nbVendorbyDate = vendorsDF[['parsingDate', 'name']].groupby(['parsingDate']).agg([ 'count'])"
   ]
  },
  {
   "cell_type": "code",
   "execution_count": 22,
   "metadata": {},
   "outputs": [
    {
     "data": {
      "text/html": [
       "<div>\n",
       "<style scoped>\n",
       "    .dataframe tbody tr th:only-of-type {\n",
       "        vertical-align: middle;\n",
       "    }\n",
       "\n",
       "    .dataframe tbody tr th {\n",
       "        vertical-align: top;\n",
       "    }\n",
       "\n",
       "    .dataframe thead tr th {\n",
       "        text-align: left;\n",
       "    }\n",
       "\n",
       "    .dataframe thead tr:last-of-type th {\n",
       "        text-align: right;\n",
       "    }\n",
       "</style>\n",
       "<table border=\"1\" class=\"dataframe\">\n",
       "  <thead>\n",
       "    <tr>\n",
       "      <th></th>\n",
       "      <th>name</th>\n",
       "    </tr>\n",
       "    <tr>\n",
       "      <th></th>\n",
       "      <th>count</th>\n",
       "    </tr>\n",
       "    <tr>\n",
       "      <th>parsingDate</th>\n",
       "      <th></th>\n",
       "    </tr>\n",
       "  </thead>\n",
       "  <tbody>\n",
       "    <tr>\n",
       "      <td>2014-01-01</td>\n",
       "      <td>143</td>\n",
       "    </tr>\n",
       "    <tr>\n",
       "      <td>2014-01-09</td>\n",
       "      <td>166</td>\n",
       "    </tr>\n",
       "    <tr>\n",
       "      <td>2014-01-16</td>\n",
       "      <td>195</td>\n",
       "    </tr>\n",
       "    <tr>\n",
       "      <td>2014-01-26</td>\n",
       "      <td>235</td>\n",
       "    </tr>\n",
       "    <tr>\n",
       "      <td>2014-02-02</td>\n",
       "      <td>273</td>\n",
       "    </tr>\n",
       "    <tr>\n",
       "      <td>...</td>\n",
       "      <td>...</td>\n",
       "    </tr>\n",
       "    <tr>\n",
       "      <td>2015-06-28</td>\n",
       "      <td>823</td>\n",
       "    </tr>\n",
       "    <tr>\n",
       "      <td>2015-06-30</td>\n",
       "      <td>849</td>\n",
       "    </tr>\n",
       "    <tr>\n",
       "      <td>2015-07-01</td>\n",
       "      <td>98</td>\n",
       "    </tr>\n",
       "    <tr>\n",
       "      <td>2015-07-04</td>\n",
       "      <td>648</td>\n",
       "    </tr>\n",
       "    <tr>\n",
       "      <td>2015-07-07</td>\n",
       "      <td>933</td>\n",
       "    </tr>\n",
       "  </tbody>\n",
       "</table>\n",
       "<p>199 rows × 1 columns</p>\n",
       "</div>"
      ],
      "text/plain": [
       "             name\n",
       "            count\n",
       "parsingDate      \n",
       "2014-01-01    143\n",
       "2014-01-09    166\n",
       "2014-01-16    195\n",
       "2014-01-26    235\n",
       "2014-02-02    273\n",
       "...           ...\n",
       "2015-06-28    823\n",
       "2015-06-30    849\n",
       "2015-07-01     98\n",
       "2015-07-04    648\n",
       "2015-07-07    933\n",
       "\n",
       "[199 rows x 1 columns]"
      ]
     },
     "execution_count": 22,
     "metadata": {},
     "output_type": "execute_result"
    }
   ],
   "source": []
  },
  {
   "cell_type": "code",
   "execution_count": 27,
   "metadata": {},
   "outputs": [],
   "source": [
    "nbVendorbyDate = nbVendorbyDate.sort_values(by='parsingDate')"
   ]
  },
  {
   "cell_type": "code",
   "execution_count": 78,
   "metadata": {},
   "outputs": [
    {
     "data": {
      "text/html": [
       "<div>\n",
       "<style scoped>\n",
       "    .dataframe tbody tr th:only-of-type {\n",
       "        vertical-align: middle;\n",
       "    }\n",
       "\n",
       "    .dataframe tbody tr th {\n",
       "        vertical-align: top;\n",
       "    }\n",
       "\n",
       "    .dataframe thead tr th {\n",
       "        text-align: left;\n",
       "    }\n",
       "\n",
       "    .dataframe thead tr:last-of-type th {\n",
       "        text-align: right;\n",
       "    }\n",
       "</style>\n",
       "<table border=\"1\" class=\"dataframe\">\n",
       "  <thead>\n",
       "    <tr>\n",
       "      <th></th>\n",
       "      <th>name</th>\n",
       "    </tr>\n",
       "    <tr>\n",
       "      <th></th>\n",
       "      <th>count</th>\n",
       "    </tr>\n",
       "    <tr>\n",
       "      <th>parsingDate</th>\n",
       "      <th></th>\n",
       "    </tr>\n",
       "  </thead>\n",
       "  <tbody>\n",
       "    <tr>\n",
       "      <td>2014-01-01</td>\n",
       "      <td>143</td>\n",
       "    </tr>\n",
       "    <tr>\n",
       "      <td>2014-01-09</td>\n",
       "      <td>166</td>\n",
       "    </tr>\n",
       "    <tr>\n",
       "      <td>2014-01-16</td>\n",
       "      <td>195</td>\n",
       "    </tr>\n",
       "    <tr>\n",
       "      <td>2014-01-26</td>\n",
       "      <td>235</td>\n",
       "    </tr>\n",
       "    <tr>\n",
       "      <td>2014-02-02</td>\n",
       "      <td>273</td>\n",
       "    </tr>\n",
       "    <tr>\n",
       "      <td>...</td>\n",
       "      <td>...</td>\n",
       "    </tr>\n",
       "    <tr>\n",
       "      <td>2015-06-28</td>\n",
       "      <td>823</td>\n",
       "    </tr>\n",
       "    <tr>\n",
       "      <td>2015-06-30</td>\n",
       "      <td>849</td>\n",
       "    </tr>\n",
       "    <tr>\n",
       "      <td>2015-07-01</td>\n",
       "      <td>98</td>\n",
       "    </tr>\n",
       "    <tr>\n",
       "      <td>2015-07-04</td>\n",
       "      <td>648</td>\n",
       "    </tr>\n",
       "    <tr>\n",
       "      <td>2015-07-07</td>\n",
       "      <td>933</td>\n",
       "    </tr>\n",
       "  </tbody>\n",
       "</table>\n",
       "<p>199 rows × 1 columns</p>\n",
       "</div>"
      ],
      "text/plain": [
       "             name\n",
       "            count\n",
       "parsingDate      \n",
       "2014-01-01    143\n",
       "2014-01-09    166\n",
       "2014-01-16    195\n",
       "2014-01-26    235\n",
       "2014-02-02    273\n",
       "...           ...\n",
       "2015-06-28    823\n",
       "2015-06-30    849\n",
       "2015-07-01     98\n",
       "2015-07-04    648\n",
       "2015-07-07    933\n",
       "\n",
       "[199 rows x 1 columns]"
      ]
     },
     "execution_count": 78,
     "metadata": {},
     "output_type": "execute_result"
    }
   ],
   "source": [
    "nbVendorbyDate"
   ]
  },
  {
   "cell_type": "markdown",
   "metadata": {},
   "source": [
    "## #vendors"
   ]
  },
  {
   "cell_type": "code",
   "execution_count": 76,
   "metadata": {},
   "outputs": [
    {
     "data": {
      "text/plain": [
       "<matplotlib.axes._subplots.AxesSubplot at 0x7f1c3c9d9a90>"
      ]
     },
     "execution_count": 76,
     "metadata": {},
     "output_type": "execute_result"
    },
    {
     "data": {
      "image/png": "[encoded data removed]",
      "text/plain": [
       "<Figure size 1440x720 with 1 Axes>"
      ]
     },
     "metadata": {
      "needs_background": "light"
     },
     "output_type": "display_data"
    }
   ],
   "source": [
    "nbVendorbyDate.plot.bar(figsize=(20,10))"
   ]
  },
  {
   "cell_type": "markdown",
   "metadata": {},
   "source": [
    "## Rating plot"
   ]
  },
  {
   "cell_type": "code",
   "execution_count": 77,
   "metadata": {},
   "outputs": [
    {
     "data": {
      "text/plain": [
       "array([[<matplotlib.axes._subplots.AxesSubplot object at 0x7f1c3c887650>]],\n",
       "      dtype=object)"
      ]
     },
     "execution_count": 77,
     "metadata": {},
     "output_type": "execute_result"
    },
    {
     "data": {
      "image/png": "[encoded data removed]",
      "text/plain": [
       "<Figure size 1440x720 with 1 Axes>"
      ]
     },
     "metadata": {
      "needs_background": "light"
     },
     "output_type": "display_data"
    }
   ],
   "source": [
    "vendorsDF.hist(column='rating',log=True,figsize=(20,10))"
   ]
  },
  {
   "cell_type": "markdown",
   "metadata": {},
   "source": [
    "## #Products plot"
   ]
  },
  {
   "cell_type": "code",
   "execution_count": 44,
   "metadata": {},
   "outputs": [
    {
     "data": {
      "text/plain": [
       "array([[<matplotlib.axes._subplots.AxesSubplot object at 0x7f1c4139ab90>]],\n",
       "      dtype=object)"
      ]
     },
     "execution_count": 44,
     "metadata": {},
     "output_type": "execute_result"
    },
    {
     "data": {
      "image/png": "[encoded data removed]",
      "text/plain": [
       "<Figure size 1440x720 with 1 Axes>"
      ]
     },
     "metadata": {
      "needs_background": "light"
     },
     "output_type": "display_data"
    }
   ],
   "source": [
    "vendorsDF.hist(column='#products',log=True,figsize=(20,10))"
   ]
  },
  {
   "cell_type": "markdown",
   "metadata": {},
   "source": [
    "# BEFORS AFTER"
   ]
  },
  {
   "cell_type": "code",
   "execution_count": 46,
   "metadata": {},
   "outputs": [],
   "source": [
    "vendorsDFbefore = vendorsDF[vendorsDF.parsingDate == dt.datetime.strptime('2014-11-01', '%Y-%m-%d').date() ]\n",
    "vendorsDFafter = vendorsDF[vendorsDF.parsingDate == dt.datetime.strptime('2015-01-01', '%Y-%m-%d').date() ]"
   ]
  },
  {
   "cell_type": "code",
   "execution_count": null,
   "metadata": {},
   "outputs": [],
   "source": []
  },
  {
   "cell_type": "code",
   "execution_count": 69,
   "metadata": {},
   "outputs": [
    {
     "data": {
      "text/plain": [
       "array([<matplotlib.axes._subplots.AxesSubplot object at 0x7f1c3d12f850>],\n",
       "      dtype=object)"
      ]
     },
     "execution_count": 69,
     "metadata": {},
     "output_type": "execute_result"
    },
    {
     "data": {
      "image/png": "[encoded data removed]",
      "text/plain": [
       "<Figure size 1440x720 with 2 Axes>"
      ]
     },
     "metadata": {
      "needs_background": "light"
     },
     "output_type": "display_data"
    }
   ],
   "source": [
    "fig, axes = plt.subplots(nrows=1, ncols=2, figsize=(20,10),sharey=True)\n",
    "\n",
    "vendorsDFbefore.hist(column='#products',log=True ,sharey=True,ax=axes[0])\n",
    "vendorsDFafter.hist(column='#products',log=True,sharey=True,ax=axes[1])"
   ]
  },
  {
   "cell_type": "code",
   "execution_count": 72,
   "metadata": {},
   "outputs": [
    {
     "data": {
      "text/plain": [
       "count    977\n",
       "Name: name, dtype: int64"
      ]
     },
     "execution_count": 72,
     "metadata": {},
     "output_type": "execute_result"
    }
   ],
   "source": [
    "vendorsDFbefore.name.agg([ 'count'])"
   ]
  },
  {
   "cell_type": "code",
   "execution_count": 73,
   "metadata": {},
   "outputs": [
    {
     "data": {
      "text/plain": [
       "count    749\n",
       "Name: name, dtype: int64"
      ]
     },
     "execution_count": 73,
     "metadata": {},
     "output_type": "execute_result"
    }
   ],
   "source": [
    "vendorsDFafter.name.agg([ 'count'])"
   ]
  },
  {
   "cell_type": "code",
   "execution_count": null,
   "metadata": {},
   "outputs": [],
   "source": []
  },
  {
   "cell_type": "code",
   "execution_count": null,
   "metadata": {},
   "outputs": [],
   "source": []
  }
 ],
 "metadata": {
  "kernelspec": {
   "display_name": "Python 3",
   "language": "python",
   "name": "python3"
  },
  "language_info": {
   "codemirror_mode": {
    "name": "ipython",
    "version": 3
   },
   "file_extension": ".py",
   "mimetype": "text/x-python",
   "name": "python",
   "nbconvert_exporter": "python",
   "pygments_lexer": "ipython3",
   "version": "3.7.4"
  }
 },
 "nbformat": 4,
 "nbformat_minor": 2
}
