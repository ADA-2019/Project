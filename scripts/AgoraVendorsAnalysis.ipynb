{
 "cells": [
  {
   "cell_type": "code",
   "execution_count": 1,
   "metadata": {},
   "outputs": [],
   "source": [
    "from bs4 import BeautifulSoup as bs\n",
    "import os\n",
    "import pandas as pd\n",
    "import numpy as np\n",
    "from collections import Counter\n",
    "import matplotlib.pyplot as plt\n",
    "import glob\n",
    "import seaborn as sns\n",
    "import datetime as dt"
   ]
  },
  {
   "cell_type": "code",
   "execution_count": 2,
   "metadata": {},
   "outputs": [],
   "source": [
    "vendorsDF = pd.read_csv('./../data/vendorsCSVs/allVendors.csv')"
   ]
  },
  {
   "cell_type": "code",
   "execution_count": 3,
   "metadata": {
    "scrolled": true
   },
   "outputs": [],
   "source": [
    "grams_df = pd.read_csv('../saved_gen_df/agora_grams_df2.csv')"
   ]
  },
  {
   "cell_type": "code",
   "execution_count": 7,
   "metadata": {},
   "outputs": [
    {
     "data": {
      "text/html": [
       "<div>\n",
       "<style scoped>\n",
       "    .dataframe tbody tr th:only-of-type {\n",
       "        vertical-align: middle;\n",
       "    }\n",
       "\n",
       "    .dataframe tbody tr th {\n",
       "        vertical-align: top;\n",
       "    }\n",
       "\n",
       "    .dataframe thead th {\n",
       "        text-align: right;\n",
       "    }\n",
       "</style>\n",
       "<table border=\"1\" class=\"dataframe\">\n",
       "  <thead>\n",
       "    <tr style=\"text-align: right;\">\n",
       "      <th></th>\n",
       "      <th>Unnamed: 0</th>\n",
       "      <th>Unnamed: 0.1</th>\n",
       "      <th>name</th>\n",
       "      <th>rating</th>\n",
       "      <th>lastSeen</th>\n",
       "      <th>publicKey</th>\n",
       "      <th>#products</th>\n",
       "      <th>#Deals</th>\n",
       "      <th>parsingDate</th>\n",
       "    </tr>\n",
       "  </thead>\n",
       "  <tbody>\n",
       "    <tr>\n",
       "      <th>0</th>\n",
       "      <td>0</td>\n",
       "      <td>0</td>\n",
       "      <td>littlegoblin</td>\n",
       "      <td>4.92</td>\n",
       "      <td>4 hours</td>\n",
       "      <td>NaN</td>\n",
       "      <td>14.0</td>\n",
       "      <td>150~200</td>\n",
       "      <td>2014-09-20</td>\n",
       "    </tr>\n",
       "    <tr>\n",
       "      <th>1</th>\n",
       "      <td>1</td>\n",
       "      <td>1</td>\n",
       "      <td>Rebel_Alliance</td>\n",
       "      <td>4.99</td>\n",
       "      <td>1 hours</td>\n",
       "      <td>NaN</td>\n",
       "      <td>7.0</td>\n",
       "      <td>300~500</td>\n",
       "      <td>2014-09-20</td>\n",
       "    </tr>\n",
       "    <tr>\n",
       "      <th>2</th>\n",
       "      <td>2</td>\n",
       "      <td>2</td>\n",
       "      <td>ThePartyDepot</td>\n",
       "      <td>5.00</td>\n",
       "      <td>16 hours</td>\n",
       "      <td>NaN</td>\n",
       "      <td>3.0</td>\n",
       "      <td>70~100</td>\n",
       "      <td>2014-09-20</td>\n",
       "    </tr>\n",
       "    <tr>\n",
       "      <th>3</th>\n",
       "      <td>3</td>\n",
       "      <td>3</td>\n",
       "      <td>cossacks</td>\n",
       "      <td>4.99</td>\n",
       "      <td>5 hours</td>\n",
       "      <td>NaN</td>\n",
       "      <td>7.0</td>\n",
       "      <td>300~500</td>\n",
       "      <td>2014-09-20</td>\n",
       "    </tr>\n",
       "    <tr>\n",
       "      <th>4</th>\n",
       "      <td>4</td>\n",
       "      <td>4</td>\n",
       "      <td>checkpoint</td>\n",
       "      <td>4.84</td>\n",
       "      <td>1 days 0 hours</td>\n",
       "      <td>NaN</td>\n",
       "      <td>31.0</td>\n",
       "      <td>55~70</td>\n",
       "      <td>2014-09-20</td>\n",
       "    </tr>\n",
       "    <tr>\n",
       "      <th>...</th>\n",
       "      <td>...</td>\n",
       "      <td>...</td>\n",
       "      <td>...</td>\n",
       "      <td>...</td>\n",
       "      <td>...</td>\n",
       "      <td>...</td>\n",
       "      <td>...</td>\n",
       "      <td>...</td>\n",
       "      <td>...</td>\n",
       "    </tr>\n",
       "    <tr>\n",
       "      <th>121153</th>\n",
       "      <td>121153</td>\n",
       "      <td>404</td>\n",
       "      <td>BabyBando</td>\n",
       "      <td>5.00</td>\n",
       "      <td>Registered 7 months 8 days              3 hours</td>\n",
       "      <td>NaN</td>\n",
       "      <td>6.0</td>\n",
       "      <td>10~15</td>\n",
       "      <td>2014-10-14</td>\n",
       "    </tr>\n",
       "    <tr>\n",
       "      <th>121154</th>\n",
       "      <td>121154</td>\n",
       "      <td>405</td>\n",
       "      <td>daydreamer33</td>\n",
       "      <td>4.94</td>\n",
       "      <td>Registered 6 months 21 days              1 day...</td>\n",
       "      <td>NaN</td>\n",
       "      <td>6.0</td>\n",
       "      <td>200~300</td>\n",
       "      <td>2014-10-14</td>\n",
       "    </tr>\n",
       "    <tr>\n",
       "      <th>121155</th>\n",
       "      <td>121155</td>\n",
       "      <td>406</td>\n",
       "      <td>Leckermann</td>\n",
       "      <td>5.00</td>\n",
       "      <td>Registered 6 months 22 days              5 mon...</td>\n",
       "      <td>NaN</td>\n",
       "      <td>8.0</td>\n",
       "      <td>3~5</td>\n",
       "      <td>2014-10-14</td>\n",
       "    </tr>\n",
       "    <tr>\n",
       "      <th>121156</th>\n",
       "      <td>121156</td>\n",
       "      <td>407</td>\n",
       "      <td>EasyRiders</td>\n",
       "      <td>NaN</td>\n",
       "      <td>Registered 1 months 24 days              20 days</td>\n",
       "      <td>NaN</td>\n",
       "      <td>5.0</td>\n",
       "      <td>0</td>\n",
       "      <td>2014-10-14</td>\n",
       "    </tr>\n",
       "    <tr>\n",
       "      <th>121157</th>\n",
       "      <td>121157</td>\n",
       "      <td>408</td>\n",
       "      <td>INSTAGRAMS-UK</td>\n",
       "      <td>4.55</td>\n",
       "      <td>Registered 8 months 2 days              4 days</td>\n",
       "      <td>NaN</td>\n",
       "      <td>7.0</td>\n",
       "      <td>10~15</td>\n",
       "      <td>2014-10-14</td>\n",
       "    </tr>\n",
       "  </tbody>\n",
       "</table>\n",
       "<p>121158 rows × 9 columns</p>\n",
       "</div>"
      ],
      "text/plain": [
       "        Unnamed: 0  Unnamed: 0.1            name  rating  \\\n",
       "0                0             0    littlegoblin    4.92   \n",
       "1                1             1  Rebel_Alliance    4.99   \n",
       "2                2             2   ThePartyDepot    5.00   \n",
       "3                3             3        cossacks    4.99   \n",
       "4                4             4      checkpoint    4.84   \n",
       "...            ...           ...             ...     ...   \n",
       "121153      121153           404       BabyBando    5.00   \n",
       "121154      121154           405    daydreamer33    4.94   \n",
       "121155      121155           406      Leckermann    5.00   \n",
       "121156      121156           407      EasyRiders     NaN   \n",
       "121157      121157           408   INSTAGRAMS-UK    4.55   \n",
       "\n",
       "                                                 lastSeen publicKey  \\\n",
       "0                                                 4 hours       NaN   \n",
       "1                                                 1 hours       NaN   \n",
       "2                                                16 hours       NaN   \n",
       "3                                                 5 hours       NaN   \n",
       "4                                          1 days 0 hours       NaN   \n",
       "...                                                   ...       ...   \n",
       "121153    Registered 7 months 8 days              3 hours       NaN   \n",
       "121154  Registered 6 months 21 days              1 day...       NaN   \n",
       "121155  Registered 6 months 22 days              5 mon...       NaN   \n",
       "121156   Registered 1 months 24 days              20 days       NaN   \n",
       "121157     Registered 8 months 2 days              4 days       NaN   \n",
       "\n",
       "        #products   #Deals parsingDate  \n",
       "0            14.0  150~200  2014-09-20  \n",
       "1             7.0  300~500  2014-09-20  \n",
       "2             3.0   70~100  2014-09-20  \n",
       "3             7.0  300~500  2014-09-20  \n",
       "4            31.0    55~70  2014-09-20  \n",
       "...           ...      ...         ...  \n",
       "121153        6.0    10~15  2014-10-14  \n",
       "121154        6.0  200~300  2014-10-14  \n",
       "121155        8.0      3~5  2014-10-14  \n",
       "121156        5.0        0  2014-10-14  \n",
       "121157        7.0    10~15  2014-10-14  \n",
       "\n",
       "[121158 rows x 9 columns]"
      ]
     },
     "execution_count": 7,
     "metadata": {},
     "output_type": "execute_result"
    }
   ],
   "source": [
    "vendorsDF"
   ]
  },
  {
   "cell_type": "code",
   "execution_count": 11,
   "metadata": {},
   "outputs": [],
   "source": [
    "temp = grams_df[['vendor_name', 'ship_from']].reset_index()\n",
    "def fillCountry(n):\n",
    "    rows= temp[temp.vendor_name == n]\n",
    "    if(len(rows) > 0):\n",
    "        return rows.iloc [0].ship_from\n",
    "    else:\n",
    "        return None"
   ]
  },
  {
   "cell_type": "code",
   "execution_count": null,
   "metadata": {
    "scrolled": true
   },
   "outputs": [],
   "source": [
    "vendorsDF['country'] = vendorsDF['name'].apply(fillCountry)"
   ]
  },
  {
   "cell_type": "code",
   "execution_count": null,
   "metadata": {},
   "outputs": [],
   "source": [
    "vendorsDF"
   ]
  },
  {
   "cell_type": "code",
   "execution_count": null,
   "metadata": {},
   "outputs": [],
   "source": [
    "def cleanLastSeenRegistered(s):\n",
    "    s = str(s)\n",
    "    if ('Registered' in s):\n",
    "        return s.split('  ')[-1]\n",
    "    else:\n",
    "        return s"
   ]
  },
  {
   "cell_type": "code",
   "execution_count": null,
   "metadata": {},
   "outputs": [],
   "source": [
    "vendorsDF['lastSeen'] = vendorsDF['lastSeen'].apply(cleanLastSeenRegistered)"
   ]
  },
  {
   "cell_type": "code",
   "execution_count": null,
   "metadata": {},
   "outputs": [],
   "source": [
    "vendorsDF['parsingDate']  = vendorsDF['parsingDate'].apply((lambda x: dt.datetime.strptime(x, '%Y-%m-%d').date()))"
   ]
  },
  {
   "cell_type": "code",
   "execution_count": null,
   "metadata": {},
   "outputs": [],
   "source": [
    "vendorsDF = vendorsDF.drop('Unnamed: 0', axis=1)"
   ]
  },
  {
   "cell_type": "code",
   "execution_count": null,
   "metadata": {},
   "outputs": [],
   "source": [
    "vendorsDF.lastSeen = vendorsDF.lastSeen.apply((lambda x:addZeroPadding(x)))\n",
    "vendorsDF.lastSeen = vendorsDF.lastSeen.apply((lambda x:cleanLastSeen(x)))"
   ]
  },
  {
   "cell_type": "code",
   "execution_count": null,
   "metadata": {},
   "outputs": [],
   "source": [
    "vendorsDF"
   ]
  },
  {
   "cell_type": "code",
   "execution_count": null,
   "metadata": {},
   "outputs": [],
   "source": []
  },
  {
   "cell_type": "code",
   "execution_count": null,
   "metadata": {},
   "outputs": [],
   "source": []
  },
  {
   "cell_type": "code",
   "execution_count": null,
   "metadata": {},
   "outputs": [],
   "source": [
    "def addZeroPadding(s):\n",
    "    s ='a '+str(s)\n",
    "    i =1\n",
    "    while(i<10):\n",
    "        looked =str(i)\n",
    "        s= s.replace('a '+looked+' days','0'+looked+' days')\n",
    "        s= s.replace('a '+looked+' hours','0'+looked+' hours')\n",
    "        s= s.replace('a '+looked+' months','0'+looked+' months')\n",
    "        s= s.replace(' '+looked+' days',' 0'+looked+' days')\n",
    "        s= s.replace(' '+looked+' hours',' 0'+looked+' hours')\n",
    "        s= s.replace(' '+looked+' months',' 0'+looked+' months')\n",
    "        i+=1\n",
    "    s = s.replace(\"a \",'')\n",
    "    return s"
   ]
  },
  {
   "cell_type": "code",
   "execution_count": null,
   "metadata": {},
   "outputs": [],
   "source": [
    "def cleanLastSeen(s):\n",
    "\n",
    "    if ( 'days 0 hours' in s):\n",
    "        t = dt.datetime.strptime(s,\"%d days 0 hours\")\n",
    "        return dt.timedelta(days=t.day)\n",
    "    elif ( 'months 0 days' in s):\n",
    "        t = dt.datetime.strptime(s,\"%m months 0 days\")\n",
    "        return dt.timedelta(days=30*t.month,hours=0)\n",
    "    elif ( 'days' in s and 'hours' in s):\n",
    "        t = dt.datetime.strptime(s,\"$d days %H hours\")\n",
    "        return dt.timedelta(days=t.day,hours=t.hour)\n",
    "    elif ( 'months' in s and 'days' in s):\n",
    "        t = dt.datetime.strptime(s,\"%m months %d days\")\n",
    "        return dt.timedelta(days=t.day+30*t.month,hours=0)\n",
    "    elif ( 'hours' in s):\n",
    "        t = dt.datetime.strptime(s,\"%H hours\")\n",
    "        return dt.timedelta(hours=t.hour)\n",
    "    else:\n",
    "        return s;"
   ]
  },
  {
   "cell_type": "code",
   "execution_count": null,
   "metadata": {},
   "outputs": [],
   "source": []
  }
 ],
 "metadata": {
  "kernelspec": {
   "display_name": "Python 3",
   "language": "python",
   "name": "python3"
  },
  "language_info": {
   "codemirror_mode": {
    "name": "ipython",
    "version": 3
   },
   "file_extension": ".py",
   "mimetype": "text/x-python",
   "name": "python",
   "nbconvert_exporter": "python",
   "pygments_lexer": "ipython3",
   "version": "3.7.3"
  }
 },
 "nbformat": 4,
 "nbformat_minor": 2
}
