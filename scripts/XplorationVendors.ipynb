{
 "cells": [
  {
   "cell_type": "code",
   "execution_count": 1,
   "metadata": {},
   "outputs": [],
   "source": [
    "import matplotlib.pyplot as plt\n",
    "from VendorsParsingTools import *"
   ]
  },
  {
   "cell_type": "code",
   "execution_count": 2,
   "metadata": {},
   "outputs": [],
   "source": [
    "directory = \"data/agora/2014-04-06/vendor\"\n",
    "vendors = createVendorsDF(directory)"
   ]
  },
  {
   "cell_type": "markdown",
   "metadata": {},
   "source": [
    "## DataFrame created"
   ]
  },
  {
   "cell_type": "code",
   "execution_count": 3,
   "metadata": {},
   "outputs": [
    {
     "data": {
      "text/html": [
       "<div>\n",
       "<style scoped>\n",
       "    .dataframe tbody tr th:only-of-type {\n",
       "        vertical-align: middle;\n",
       "    }\n",
       "\n",
       "    .dataframe tbody tr th {\n",
       "        vertical-align: top;\n",
       "    }\n",
       "\n",
       "    .dataframe thead th {\n",
       "        text-align: right;\n",
       "    }\n",
       "</style>\n",
       "<table border=\"1\" class=\"dataframe\">\n",
       "  <thead>\n",
       "    <tr style=\"text-align: right;\">\n",
       "      <th></th>\n",
       "      <th>name</th>\n",
       "      <th>rating</th>\n",
       "      <th>lastSeen</th>\n",
       "      <th>publicKey</th>\n",
       "      <th>#products</th>\n",
       "      <th>#Deals</th>\n",
       "    </tr>\n",
       "  </thead>\n",
       "  <tbody>\n",
       "    <tr>\n",
       "      <td>0</td>\n",
       "      <td>aneaglemum</td>\n",
       "      <td>5</td>\n",
       "      <td>1 days 2 hours</td>\n",
       "      <td>-----BEGIN PGP PUBLIC KEY BLOCK-----Version: G...</td>\n",
       "      <td>2</td>\n",
       "      <td>1~2</td>\n",
       "    </tr>\n",
       "    <tr>\n",
       "      <td>1</td>\n",
       "      <td>pinocchio</td>\n",
       "      <td>4.78</td>\n",
       "      <td>0 hours</td>\n",
       "      <td>-----BEGIN PGP PUBLIC KEY BLOCK-----Version: G...</td>\n",
       "      <td>34</td>\n",
       "      <td>150~200</td>\n",
       "    </tr>\n",
       "    <tr>\n",
       "      <td>2</td>\n",
       "      <td>GrandWizardsLair</td>\n",
       "      <td>4.97</td>\n",
       "      <td>6 hours</td>\n",
       "      <td>-----BEGIN PGP PUBLIC KEY BLOCK-----Comment: G...</td>\n",
       "      <td>3</td>\n",
       "      <td>25~40</td>\n",
       "    </tr>\n",
       "    <tr>\n",
       "      <td>3</td>\n",
       "      <td>Rebel_Alliance</td>\n",
       "      <td>4.98</td>\n",
       "      <td>2 hours</td>\n",
       "      <td>-----BEGIN PGP PUBLIC KEY BLOCK-----mQINBFLdik...</td>\n",
       "      <td>4</td>\n",
       "      <td>40~55</td>\n",
       "    </tr>\n",
       "    <tr>\n",
       "      <td>4</td>\n",
       "      <td>Sir-ACAB</td>\n",
       "      <td>5</td>\n",
       "      <td>4 days</td>\n",
       "      <td>-----BEGIN PGP PUBLIC KEY BLOCK-----Version: G...</td>\n",
       "      <td>1</td>\n",
       "      <td>6~10</td>\n",
       "    </tr>\n",
       "    <tr>\n",
       "      <td>5</td>\n",
       "      <td>_drugs.inc_</td>\n",
       "      <td>5</td>\n",
       "      <td>2 months 16 days</td>\n",
       "      <td>-----BEGIN PGP PUBLIC KEY BLOCK-----mQINBFLQEl...</td>\n",
       "      <td>18</td>\n",
       "      <td>1~2</td>\n",
       "    </tr>\n",
       "    <tr>\n",
       "      <td>6</td>\n",
       "      <td>cossacks</td>\n",
       "      <td>5.00</td>\n",
       "      <td>9 hours</td>\n",
       "      <td>-----BEGIN PGP PUBLIC KEY BLOCK-----Version: G...</td>\n",
       "      <td>3</td>\n",
       "      <td>6~10</td>\n",
       "    </tr>\n",
       "    <tr>\n",
       "      <td>7</td>\n",
       "      <td>SeattlesBest</td>\n",
       "      <td>4.98</td>\n",
       "      <td>0 hours</td>\n",
       "      <td>-----BEGIN PGP PUBLIC KEY BLOCK-----Version: G...</td>\n",
       "      <td>25</td>\n",
       "      <td>70~100</td>\n",
       "    </tr>\n",
       "    <tr>\n",
       "      <td>8</td>\n",
       "      <td>checkpoint</td>\n",
       "      <td>None</td>\n",
       "      <td>1 hours</td>\n",
       "      <td>-----BEGIN PGP PUBLIC KEY BLOCK-----Version: G...</td>\n",
       "      <td>4</td>\n",
       "      <td>0</td>\n",
       "    </tr>\n",
       "    <tr>\n",
       "      <td>9</td>\n",
       "      <td>Top_Gear_UK</td>\n",
       "      <td>4.99</td>\n",
       "      <td>5 hours</td>\n",
       "      <td>-----BEGIN PGP PUBLIC KEY BLOCK-----Version: G...</td>\n",
       "      <td>16</td>\n",
       "      <td>70~100</td>\n",
       "    </tr>\n",
       "  </tbody>\n",
       "</table>\n",
       "</div>"
      ],
      "text/plain": [
       "               name rating          lastSeen  \\\n",
       "0        aneaglemum      5    1 days 2 hours   \n",
       "1         pinocchio   4.78           0 hours   \n",
       "2  GrandWizardsLair   4.97           6 hours   \n",
       "3    Rebel_Alliance   4.98           2 hours   \n",
       "4          Sir-ACAB      5            4 days   \n",
       "5       _drugs.inc_      5  2 months 16 days   \n",
       "6          cossacks   5.00           9 hours   \n",
       "7      SeattlesBest   4.98           0 hours   \n",
       "8        checkpoint   None           1 hours   \n",
       "9       Top_Gear_UK   4.99           5 hours   \n",
       "\n",
       "                                           publicKey #products   #Deals  \n",
       "0  -----BEGIN PGP PUBLIC KEY BLOCK-----Version: G...         2      1~2  \n",
       "1  -----BEGIN PGP PUBLIC KEY BLOCK-----Version: G...        34  150~200  \n",
       "2  -----BEGIN PGP PUBLIC KEY BLOCK-----Comment: G...         3    25~40  \n",
       "3  -----BEGIN PGP PUBLIC KEY BLOCK-----mQINBFLdik...         4    40~55  \n",
       "4  -----BEGIN PGP PUBLIC KEY BLOCK-----Version: G...         1     6~10  \n",
       "5  -----BEGIN PGP PUBLIC KEY BLOCK-----mQINBFLQEl...        18      1~2  \n",
       "6  -----BEGIN PGP PUBLIC KEY BLOCK-----Version: G...         3     6~10  \n",
       "7  -----BEGIN PGP PUBLIC KEY BLOCK-----Version: G...        25   70~100  \n",
       "8  -----BEGIN PGP PUBLIC KEY BLOCK-----Version: G...         4        0  \n",
       "9  -----BEGIN PGP PUBLIC KEY BLOCK-----Version: G...        16   70~100  "
      ]
     },
     "execution_count": 3,
     "metadata": {},
     "output_type": "execute_result"
    }
   ],
   "source": [
    "vendors.head(10)"
   ]
  },
  {
   "cell_type": "code",
   "execution_count": 4,
   "metadata": {},
   "outputs": [
    {
     "name": "stdout",
     "output_type": "stream",
     "text": [
      "Number of vendors:  797\n"
     ]
    }
   ],
   "source": [
    "print(\"Number of vendors: \" ,len(vendors))"
   ]
  },
  {
   "cell_type": "code",
   "execution_count": 5,
   "metadata": {},
   "outputs": [
    {
     "data": {
      "text/plain": [
       "<matplotlib.axes._subplots.AxesSubplot at 0x7f38e6da8450>"
      ]
     },
     "execution_count": 5,
     "metadata": {},
     "output_type": "execute_result"
    },
    {
     "data": {
      "image/png": "[encoded data removed]",
      "text/plain": [
       "<Figure size 432x288 with 1 Axes>"
      ]
     },
     "metadata": {
      "needs_background": "light"
     },
     "output_type": "display_data"
    }
   ],
   "source": [
    "vendors['#products'].plot.hist(logy=True)"
   ]
  },
  {
   "cell_type": "code",
   "execution_count": 6,
   "metadata": {},
   "outputs": [],
   "source": [
    "\n",
    "sortedStats = createStatsAboutNumbOfDeals(Counter(vendors['#Deals']))"
   ]
  },
  {
   "cell_type": "code",
   "execution_count": 7,
   "metadata": {},
   "outputs": [
    {
     "data": {
      "text/plain": [
       "<BarContainer object of 15 artists>"
      ]
     },
     "execution_count": 7,
     "metadata": {},
     "output_type": "execute_result"
    },
    {
     "data": {
      "image/png": "[encoded data removed]",
      "text/plain": [
       "<Figure size 432x288 with 1 Axes>"
      ]
     },
     "metadata": {
      "needs_background": "light"
     },
     "output_type": "display_data"
    }
   ],
   "source": [
    "plt.bar(sortedStats.keys(),sortedStats.values())"
   ]
  },
  {
   "cell_type": "code",
   "execution_count": null,
   "metadata": {},
   "outputs": [],
   "source": []
  }
 ],
 "metadata": {
  "kernelspec": {
   "display_name": "Python [conda env:ada] *",
   "language": "python",
   "name": "conda-env-ada-py"
  },
  "language_info": {
   "codemirror_mode": {
    "name": "ipython",
    "version": 3
   },
   "file_extension": ".py",
   "mimetype": "text/x-python",
   "name": "python",
   "nbconvert_exporter": "python",
   "pygments_lexer": "ipython3",
   "version": "3.7.4"
  }
 },
 "nbformat": 4,
 "nbformat_minor": 2
}
