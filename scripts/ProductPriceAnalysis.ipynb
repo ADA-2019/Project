{
 "cells": [
  {
   "cell_type": "markdown",
   "metadata": {},
   "source": [
    "# Product prices analysis"
   ]
  },
  {
   "cell_type": "code",
   "execution_count": 1,
   "metadata": {},
   "outputs": [],
   "source": [
    "from bs4 import BeautifulSoup as bs\n",
    "import os\n",
    "import pandas as pd\n",
    "import numpy as np\n",
    "from collections import Counter\n",
    "import matplotlib.pyplot as plt\n",
    "import glob\n",
    "import seaborn as sns\n",
    "import plotly.express as px\n",
    "import descartes\n",
    "import re\n",
    "from datetime import datetime\n",
    "import calmap\n",
    "\n",
    "\n",
    "from pyspark import *\n",
    "from pyspark.sql import *\n",
    "from pyspark.sql.functions import *\n",
    "import re\n",
    "from pyspark.sql.types import ArrayType\n",
    "from pyspark.sql.types import StringType\n",
    "from pyspark.sql import functions as F\n"
   ]
  },
  {
   "cell_type": "code",
   "execution_count": 2,
   "metadata": {},
   "outputs": [],
   "source": [
    "\n",
    "def init_spark(app_name, master_config):\n",
    "    \"\"\"\n",
    "b    :params app_name: Name of the app\n",
    "    :params master_config: eg. local[4]\n",
    "    :returns SparkContext, SQLContext, SparkSession:\n",
    "    \"\"\"\n",
    "    conf = (SparkConf().setAppName(app_name).setMaster(master_config))\n",
    "\n",
    "    sc = SparkContext(conf=conf)\n",
    "    sc.setLogLevel(\"ERROR\")\n",
    "    sql_ctx = SQLContext(sc)\n",
    "    spark = SparkSession(sc)\n",
    "\n",
    "    return (sc, sql_ctx, spark)"
   ]
  },
  {
   "cell_type": "code",
   "execution_count": null,
   "metadata": {},
   "outputs": [],
   "source": []
  },
  {
   "cell_type": "code",
   "execution_count": 3,
   "metadata": {},
   "outputs": [],
   "source": [
    "sc, sql_ctx, spark = init_spark(\"App_name\", \"local[4]\")"
   ]
  },
  {
   "cell_type": "code",
   "execution_count": 186,
   "metadata": {},
   "outputs": [],
   "source": [
    "spark = SparkSession.builder.getOrCreate()\n",
    "sc = spark.sparkContext\n",
    "df = spark.read.option(\"header\", \"true\").csv(\"../data/cat_csv/*.csv\")\n",
    "#df.count()"
   ]
  },
  {
   "cell_type": "code",
   "execution_count": 197,
   "metadata": {},
   "outputs": [
    {
     "ename": "AnalysisException",
     "evalue": "\"cannot resolve 'lower(`from`)' due to data type mismatch: argument 1 requires string type, however, '`from`' is of array<string> type.;;\\n'Project [_c0#3514, name#3515, price#3572, lower(from#3543) AS from#3616, vendor#3519, cat_hash#3554, cat#3521, date#3522]\\n+- Filter isnotnull(name#3515)\\n   +- Filter isnotnull(cast(price#3572 as decimal(10,0)))\\n      +- Filter date#3522 RLIKE \\\\d\\\\d\\\\d\\\\d-\\\\d\\\\d-\\\\d\\\\d\\n         +- Project [_c0#3514, name#3515, cast(price#3516 as double) AS price#3572, from#3543, vendor#3519, cat_hash#3554, cat#3521, date#3522]\\n            +- Project [_c0#3514, name#3515, price#3516, from#3543, vendor#3519, cat_hash#3554, cat#3521, date#3522]\\n               +- Project [_c0#3514, name#3515, price#3516, from#3543, to#3518, vendor#3519, processCatHashs(cat_hash#3520) AS cat_hash#3554, cat#3521, date#3522]\\n                  +- Project [_c0#3514, name#3515, price#3516, processCountries(from#3532) AS from#3543, to#3518, vendor#3519, cat_hash#3520, cat#3521, date#3522]\\n                     +- Project [_c0#3514, name#3515, price#3516, lower(from#3517) AS from#3532, to#3518, vendor#3519, cat_hash#3520, cat#3521, date#3522]\\n                        +- Filter isnotnull(name#3515)\\n                           +- Filter isnotnull(cast(price#3516 as decimal(10,0)))\\n                              +- Filter date#3522 RLIKE \\\\d\\\\d\\\\d\\\\d-\\\\d\\\\d-\\\\d\\\\d\\n                                 +- Relation[_c0#3514,name#3515,price#3516,from#3517,to#3518,vendor#3519,cat_hash#3520,cat#3521,date#3522] csv\\n\"",
     "output_type": "error",
     "traceback": [
      "\u001b[0;31m---------------------------------------------------------------------------\u001b[0m",
      "\u001b[0;31mPy4JJavaError\u001b[0m                             Traceback (most recent call last)",
      "\u001b[0;32m~/anaconda3/lib/python3.7/site-packages/pyspark/sql/utils.py\u001b[0m in \u001b[0;36mdeco\u001b[0;34m(*a, **kw)\u001b[0m\n\u001b[1;32m     62\u001b[0m         \u001b[0;32mtry\u001b[0m\u001b[0;34m:\u001b[0m\u001b[0;34m\u001b[0m\u001b[0;34m\u001b[0m\u001b[0m\n\u001b[0;32m---> 63\u001b[0;31m             \u001b[0;32mreturn\u001b[0m \u001b[0mf\u001b[0m\u001b[0;34m(\u001b[0m\u001b[0;34m*\u001b[0m\u001b[0ma\u001b[0m\u001b[0;34m,\u001b[0m \u001b[0;34m**\u001b[0m\u001b[0mkw\u001b[0m\u001b[0;34m)\u001b[0m\u001b[0;34m\u001b[0m\u001b[0;34m\u001b[0m\u001b[0m\n\u001b[0m\u001b[1;32m     64\u001b[0m         \u001b[0;32mexcept\u001b[0m \u001b[0mpy4j\u001b[0m\u001b[0;34m.\u001b[0m\u001b[0mprotocol\u001b[0m\u001b[0;34m.\u001b[0m\u001b[0mPy4JJavaError\u001b[0m \u001b[0;32mas\u001b[0m \u001b[0me\u001b[0m\u001b[0;34m:\u001b[0m\u001b[0;34m\u001b[0m\u001b[0;34m\u001b[0m\u001b[0m\n",
      "\u001b[0;32m~/anaconda3/lib/python3.7/site-packages/py4j/protocol.py\u001b[0m in \u001b[0;36mget_return_value\u001b[0;34m(answer, gateway_client, target_id, name)\u001b[0m\n\u001b[1;32m    327\u001b[0m                     \u001b[0;34m\"An error occurred while calling {0}{1}{2}.\\n\"\u001b[0m\u001b[0;34m.\u001b[0m\u001b[0;34m\u001b[0m\u001b[0;34m\u001b[0m\u001b[0m\n\u001b[0;32m--> 328\u001b[0;31m                     format(target_id, \".\", name), value)\n\u001b[0m\u001b[1;32m    329\u001b[0m             \u001b[0;32melse\u001b[0m\u001b[0;34m:\u001b[0m\u001b[0;34m\u001b[0m\u001b[0;34m\u001b[0m\u001b[0m\n",
      "\u001b[0;31mPy4JJavaError\u001b[0m: An error occurred while calling o479.withColumn.\n: org.apache.spark.sql.AnalysisException: cannot resolve 'lower(`from`)' due to data type mismatch: argument 1 requires string type, however, '`from`' is of array<string> type.;;\n'Project [_c0#3514, name#3515, price#3572, lower(from#3543) AS from#3616, vendor#3519, cat_hash#3554, cat#3521, date#3522]\n+- Filter isnotnull(name#3515)\n   +- Filter isnotnull(cast(price#3572 as decimal(10,0)))\n      +- Filter date#3522 RLIKE \\d\\d\\d\\d-\\d\\d-\\d\\d\n         +- Project [_c0#3514, name#3515, cast(price#3516 as double) AS price#3572, from#3543, vendor#3519, cat_hash#3554, cat#3521, date#3522]\n            +- Project [_c0#3514, name#3515, price#3516, from#3543, vendor#3519, cat_hash#3554, cat#3521, date#3522]\n               +- Project [_c0#3514, name#3515, price#3516, from#3543, to#3518, vendor#3519, processCatHashs(cat_hash#3520) AS cat_hash#3554, cat#3521, date#3522]\n                  +- Project [_c0#3514, name#3515, price#3516, processCountries(from#3532) AS from#3543, to#3518, vendor#3519, cat_hash#3520, cat#3521, date#3522]\n                     +- Project [_c0#3514, name#3515, price#3516, lower(from#3517) AS from#3532, to#3518, vendor#3519, cat_hash#3520, cat#3521, date#3522]\n                        +- Filter isnotnull(name#3515)\n                           +- Filter isnotnull(cast(price#3516 as decimal(10,0)))\n                              +- Filter date#3522 RLIKE \\d\\d\\d\\d-\\d\\d-\\d\\d\n                                 +- Relation[_c0#3514,name#3515,price#3516,from#3517,to#3518,vendor#3519,cat_hash#3520,cat#3521,date#3522] csv\n\n\tat org.apache.spark.sql.catalyst.analysis.package$AnalysisErrorAt.failAnalysis(package.scala:42)\n\tat org.apache.spark.sql.catalyst.analysis.CheckAnalysis$$anonfun$checkAnalysis$1$$anonfun$apply$3.applyOrElse(CheckAnalysis.scala:116)\n\tat org.apache.spark.sql.catalyst.analysis.CheckAnalysis$$anonfun$checkAnalysis$1$$anonfun$apply$3.applyOrElse(CheckAnalysis.scala:108)\n\tat org.apache.spark.sql.catalyst.trees.TreeNode$$anonfun$transformUp$1.apply(TreeNode.scala:281)\n\tat org.apache.spark.sql.catalyst.trees.TreeNode$$anonfun$transformUp$1.apply(TreeNode.scala:281)\n\tat org.apache.spark.sql.catalyst.trees.CurrentOrigin$.withOrigin(TreeNode.scala:70)\n\tat org.apache.spark.sql.catalyst.trees.TreeNode.transformUp(TreeNode.scala:280)\n\tat org.apache.spark.sql.catalyst.trees.TreeNode$$anonfun$3.apply(TreeNode.scala:278)\n\tat org.apache.spark.sql.catalyst.trees.TreeNode$$anonfun$3.apply(TreeNode.scala:278)\n\tat org.apache.spark.sql.catalyst.trees.TreeNode$$anonfun$4.apply(TreeNode.scala:329)\n\tat org.apache.spark.sql.catalyst.trees.TreeNode.mapProductIterator(TreeNode.scala:187)\n\tat org.apache.spark.sql.catalyst.trees.TreeNode.mapChildren(TreeNode.scala:327)\n\tat org.apache.spark.sql.catalyst.trees.TreeNode.transformUp(TreeNode.scala:278)\n\tat org.apache.spark.sql.catalyst.plans.QueryPlan$$anonfun$transformExpressionsUp$1.apply(QueryPlan.scala:93)\n\tat org.apache.spark.sql.catalyst.plans.QueryPlan$$anonfun$transformExpressionsUp$1.apply(QueryPlan.scala:93)\n\tat org.apache.spark.sql.catalyst.plans.QueryPlan$$anonfun$1.apply(QueryPlan.scala:105)\n\tat org.apache.spark.sql.catalyst.plans.QueryPlan$$anonfun$1.apply(QueryPlan.scala:105)\n\tat org.apache.spark.sql.catalyst.trees.CurrentOrigin$.withOrigin(TreeNode.scala:70)\n\tat org.apache.spark.sql.catalyst.plans.QueryPlan.transformExpression$1(QueryPlan.scala:104)\n\tat org.apache.spark.sql.catalyst.plans.QueryPlan.org$apache$spark$sql$catalyst$plans$QueryPlan$$recursiveTransform$1(QueryPlan.scala:116)\n\tat org.apache.spark.sql.catalyst.plans.QueryPlan$$anonfun$org$apache$spark$sql$catalyst$plans$QueryPlan$$recursiveTransform$1$2.apply(QueryPlan.scala:121)\n\tat scala.collection.TraversableLike$$anonfun$map$1.apply(TraversableLike.scala:234)\n\tat scala.collection.TraversableLike$$anonfun$map$1.apply(TraversableLike.scala:234)\n\tat scala.collection.immutable.List.foreach(List.scala:392)\n\tat scala.collection.TraversableLike$class.map(TraversableLike.scala:234)\n\tat scala.collection.immutable.List.map(List.scala:296)\n\tat org.apache.spark.sql.catalyst.plans.QueryPlan.org$apache$spark$sql$catalyst$plans$QueryPlan$$recursiveTransform$1(QueryPlan.scala:121)\n\tat org.apache.spark.sql.catalyst.plans.QueryPlan$$anonfun$2.apply(QueryPlan.scala:126)\n\tat org.apache.spark.sql.catalyst.trees.TreeNode.mapProductIterator(TreeNode.scala:187)\n\tat org.apache.spark.sql.catalyst.plans.QueryPlan.mapExpressions(QueryPlan.scala:126)\n\tat org.apache.spark.sql.catalyst.plans.QueryPlan.transformExpressionsUp(QueryPlan.scala:93)\n\tat org.apache.spark.sql.catalyst.analysis.CheckAnalysis$$anonfun$checkAnalysis$1.apply(CheckAnalysis.scala:108)\n\tat org.apache.spark.sql.catalyst.analysis.CheckAnalysis$$anonfun$checkAnalysis$1.apply(CheckAnalysis.scala:86)\n\tat org.apache.spark.sql.catalyst.trees.TreeNode.foreachUp(TreeNode.scala:127)\n\tat org.apache.spark.sql.catalyst.analysis.CheckAnalysis$class.checkAnalysis(CheckAnalysis.scala:86)\n\tat org.apache.spark.sql.catalyst.analysis.Analyzer.checkAnalysis(Analyzer.scala:95)\n\tat org.apache.spark.sql.catalyst.analysis.Analyzer$$anonfun$executeAndCheck$1.apply(Analyzer.scala:108)\n\tat org.apache.spark.sql.catalyst.analysis.Analyzer$$anonfun$executeAndCheck$1.apply(Analyzer.scala:105)\n\tat org.apache.spark.sql.catalyst.plans.logical.AnalysisHelper$.markInAnalyzer(AnalysisHelper.scala:201)\n\tat org.apache.spark.sql.catalyst.analysis.Analyzer.executeAndCheck(Analyzer.scala:105)\n\tat org.apache.spark.sql.execution.QueryExecution.analyzed$lzycompute(QueryExecution.scala:57)\n\tat org.apache.spark.sql.execution.QueryExecution.analyzed(QueryExecution.scala:55)\n\tat org.apache.spark.sql.execution.QueryExecution.assertAnalyzed(QueryExecution.scala:47)\n\tat org.apache.spark.sql.Dataset$.ofRows(Dataset.scala:78)\n\tat org.apache.spark.sql.Dataset.org$apache$spark$sql$Dataset$$withPlan(Dataset.scala:3412)\n\tat org.apache.spark.sql.Dataset.select(Dataset.scala:1340)\n\tat org.apache.spark.sql.Dataset.withColumns(Dataset.scala:2258)\n\tat org.apache.spark.sql.Dataset.withColumn(Dataset.scala:2225)\n\tat java.base/jdk.internal.reflect.NativeMethodAccessorImpl.invoke0(Native Method)\n\tat java.base/jdk.internal.reflect.NativeMethodAccessorImpl.invoke(NativeMethodAccessorImpl.java:62)\n\tat java.base/jdk.internal.reflect.DelegatingMethodAccessorImpl.invoke(DelegatingMethodAccessorImpl.java:43)\n\tat java.base/java.lang.reflect.Method.invoke(Method.java:564)\n\tat py4j.reflection.MethodInvoker.invoke(MethodInvoker.java:244)\n\tat py4j.reflection.ReflectionEngine.invoke(ReflectionEngine.java:357)\n\tat py4j.Gateway.invoke(Gateway.java:282)\n\tat py4j.commands.AbstractCommand.invokeMethod(AbstractCommand.java:132)\n\tat py4j.commands.CallCommand.execute(CallCommand.java:79)\n\tat py4j.GatewayConnection.run(GatewayConnection.java:238)\n\tat java.base/java.lang.Thread.run(Thread.java:844)\n",
      "\nDuring handling of the above exception, another exception occurred:\n",
      "\u001b[0;31mAnalysisException\u001b[0m                         Traceback (most recent call last)",
      "\u001b[0;32m<ipython-input-197-ded7379e7e2f>\u001b[0m in \u001b[0;36m<module>\u001b[0;34m\u001b[0m\n\u001b[1;32m     51\u001b[0m \u001b[0;34m\u001b[0m\u001b[0m\n\u001b[1;32m     52\u001b[0m \u001b[0;31m# Lowercase and process the countries\u001b[0m\u001b[0;34m\u001b[0m\u001b[0;34m\u001b[0m\u001b[0;34m\u001b[0m\u001b[0m\n\u001b[0;32m---> 53\u001b[0;31m \u001b[0mdf\u001b[0m\u001b[0;34m=\u001b[0m\u001b[0mdf\u001b[0m\u001b[0;34m.\u001b[0m\u001b[0mwithColumn\u001b[0m\u001b[0;34m(\u001b[0m\u001b[0;34m\"from\"\u001b[0m\u001b[0;34m,\u001b[0m \u001b[0mlower\u001b[0m\u001b[0;34m(\u001b[0m\u001b[0mcol\u001b[0m\u001b[0;34m(\u001b[0m\u001b[0;34m\"from\"\u001b[0m\u001b[0;34m)\u001b[0m\u001b[0;34m)\u001b[0m\u001b[0;34m)\u001b[0m\u001b[0;34m\u001b[0m\u001b[0;34m\u001b[0m\u001b[0m\n\u001b[0m\u001b[1;32m     54\u001b[0m \u001b[0mdf\u001b[0m\u001b[0;34m=\u001b[0m\u001b[0mdf\u001b[0m\u001b[0;34m.\u001b[0m\u001b[0mwithColumn\u001b[0m\u001b[0;34m(\u001b[0m\u001b[0;34m\"from\"\u001b[0m\u001b[0;34m,\u001b[0m \u001b[0mudf_func_C\u001b[0m\u001b[0;34m(\u001b[0m\u001b[0mcol\u001b[0m\u001b[0;34m(\u001b[0m\u001b[0;34m\"from\"\u001b[0m\u001b[0;34m)\u001b[0m\u001b[0;34m)\u001b[0m\u001b[0;34m)\u001b[0m\u001b[0;34m\u001b[0m\u001b[0;34m\u001b[0m\u001b[0m\n\u001b[1;32m     55\u001b[0m \u001b[0;34m\u001b[0m\u001b[0m\n",
      "\u001b[0;32m~/anaconda3/lib/python3.7/site-packages/pyspark/sql/dataframe.py\u001b[0m in \u001b[0;36mwithColumn\u001b[0;34m(self, colName, col)\u001b[0m\n\u001b[1;32m   1988\u001b[0m         \"\"\"\n\u001b[1;32m   1989\u001b[0m         \u001b[0;32massert\u001b[0m \u001b[0misinstance\u001b[0m\u001b[0;34m(\u001b[0m\u001b[0mcol\u001b[0m\u001b[0;34m,\u001b[0m \u001b[0mColumn\u001b[0m\u001b[0;34m)\u001b[0m\u001b[0;34m,\u001b[0m \u001b[0;34m\"col should be Column\"\u001b[0m\u001b[0;34m\u001b[0m\u001b[0;34m\u001b[0m\u001b[0m\n\u001b[0;32m-> 1990\u001b[0;31m         \u001b[0;32mreturn\u001b[0m \u001b[0mDataFrame\u001b[0m\u001b[0;34m(\u001b[0m\u001b[0mself\u001b[0m\u001b[0;34m.\u001b[0m\u001b[0m_jdf\u001b[0m\u001b[0;34m.\u001b[0m\u001b[0mwithColumn\u001b[0m\u001b[0;34m(\u001b[0m\u001b[0mcolName\u001b[0m\u001b[0;34m,\u001b[0m \u001b[0mcol\u001b[0m\u001b[0;34m.\u001b[0m\u001b[0m_jc\u001b[0m\u001b[0;34m)\u001b[0m\u001b[0;34m,\u001b[0m \u001b[0mself\u001b[0m\u001b[0;34m.\u001b[0m\u001b[0msql_ctx\u001b[0m\u001b[0;34m)\u001b[0m\u001b[0;34m\u001b[0m\u001b[0;34m\u001b[0m\u001b[0m\n\u001b[0m\u001b[1;32m   1991\u001b[0m \u001b[0;34m\u001b[0m\u001b[0m\n\u001b[1;32m   1992\u001b[0m     \u001b[0;34m@\u001b[0m\u001b[0mignore_unicode_prefix\u001b[0m\u001b[0;34m\u001b[0m\u001b[0;34m\u001b[0m\u001b[0m\n",
      "\u001b[0;32m~/anaconda3/lib/python3.7/site-packages/py4j/java_gateway.py\u001b[0m in \u001b[0;36m__call__\u001b[0;34m(self, *args)\u001b[0m\n\u001b[1;32m   1255\u001b[0m         \u001b[0manswer\u001b[0m \u001b[0;34m=\u001b[0m \u001b[0mself\u001b[0m\u001b[0;34m.\u001b[0m\u001b[0mgateway_client\u001b[0m\u001b[0;34m.\u001b[0m\u001b[0msend_command\u001b[0m\u001b[0;34m(\u001b[0m\u001b[0mcommand\u001b[0m\u001b[0;34m)\u001b[0m\u001b[0;34m\u001b[0m\u001b[0;34m\u001b[0m\u001b[0m\n\u001b[1;32m   1256\u001b[0m         return_value = get_return_value(\n\u001b[0;32m-> 1257\u001b[0;31m             answer, self.gateway_client, self.target_id, self.name)\n\u001b[0m\u001b[1;32m   1258\u001b[0m \u001b[0;34m\u001b[0m\u001b[0m\n\u001b[1;32m   1259\u001b[0m         \u001b[0;32mfor\u001b[0m \u001b[0mtemp_arg\u001b[0m \u001b[0;32min\u001b[0m \u001b[0mtemp_args\u001b[0m\u001b[0;34m:\u001b[0m\u001b[0;34m\u001b[0m\u001b[0;34m\u001b[0m\u001b[0m\n",
      "\u001b[0;32m~/anaconda3/lib/python3.7/site-packages/pyspark/sql/utils.py\u001b[0m in \u001b[0;36mdeco\u001b[0;34m(*a, **kw)\u001b[0m\n\u001b[1;32m     67\u001b[0m                                              e.java_exception.getStackTrace()))\n\u001b[1;32m     68\u001b[0m             \u001b[0;32mif\u001b[0m \u001b[0ms\u001b[0m\u001b[0;34m.\u001b[0m\u001b[0mstartswith\u001b[0m\u001b[0;34m(\u001b[0m\u001b[0;34m'org.apache.spark.sql.AnalysisException: '\u001b[0m\u001b[0;34m)\u001b[0m\u001b[0;34m:\u001b[0m\u001b[0;34m\u001b[0m\u001b[0;34m\u001b[0m\u001b[0m\n\u001b[0;32m---> 69\u001b[0;31m                 \u001b[0;32mraise\u001b[0m \u001b[0mAnalysisException\u001b[0m\u001b[0;34m(\u001b[0m\u001b[0ms\u001b[0m\u001b[0;34m.\u001b[0m\u001b[0msplit\u001b[0m\u001b[0;34m(\u001b[0m\u001b[0;34m': '\u001b[0m\u001b[0;34m,\u001b[0m \u001b[0;36m1\u001b[0m\u001b[0;34m)\u001b[0m\u001b[0;34m[\u001b[0m\u001b[0;36m1\u001b[0m\u001b[0;34m]\u001b[0m\u001b[0;34m,\u001b[0m \u001b[0mstackTrace\u001b[0m\u001b[0;34m)\u001b[0m\u001b[0;34m\u001b[0m\u001b[0;34m\u001b[0m\u001b[0m\n\u001b[0m\u001b[1;32m     70\u001b[0m             \u001b[0;32mif\u001b[0m \u001b[0ms\u001b[0m\u001b[0;34m.\u001b[0m\u001b[0mstartswith\u001b[0m\u001b[0;34m(\u001b[0m\u001b[0;34m'org.apache.spark.sql.catalyst.analysis'\u001b[0m\u001b[0;34m)\u001b[0m\u001b[0;34m:\u001b[0m\u001b[0;34m\u001b[0m\u001b[0;34m\u001b[0m\u001b[0m\n\u001b[1;32m     71\u001b[0m                 \u001b[0;32mraise\u001b[0m \u001b[0mAnalysisException\u001b[0m\u001b[0;34m(\u001b[0m\u001b[0ms\u001b[0m\u001b[0;34m.\u001b[0m\u001b[0msplit\u001b[0m\u001b[0;34m(\u001b[0m\u001b[0;34m': '\u001b[0m\u001b[0;34m,\u001b[0m \u001b[0;36m1\u001b[0m\u001b[0;34m)\u001b[0m\u001b[0;34m[\u001b[0m\u001b[0;36m1\u001b[0m\u001b[0;34m]\u001b[0m\u001b[0;34m,\u001b[0m \u001b[0mstackTrace\u001b[0m\u001b[0;34m)\u001b[0m\u001b[0;34m\u001b[0m\u001b[0;34m\u001b[0m\u001b[0m\n",
      "\u001b[0;31mAnalysisException\u001b[0m: \"cannot resolve 'lower(`from`)' due to data type mismatch: argument 1 requires string type, however, '`from`' is of array<string> type.;;\\n'Project [_c0#3514, name#3515, price#3572, lower(from#3543) AS from#3616, vendor#3519, cat_hash#3554, cat#3521, date#3522]\\n+- Filter isnotnull(name#3515)\\n   +- Filter isnotnull(cast(price#3572 as decimal(10,0)))\\n      +- Filter date#3522 RLIKE \\\\d\\\\d\\\\d\\\\d-\\\\d\\\\d-\\\\d\\\\d\\n         +- Project [_c0#3514, name#3515, cast(price#3516 as double) AS price#3572, from#3543, vendor#3519, cat_hash#3554, cat#3521, date#3522]\\n            +- Project [_c0#3514, name#3515, price#3516, from#3543, vendor#3519, cat_hash#3554, cat#3521, date#3522]\\n               +- Project [_c0#3514, name#3515, price#3516, from#3543, to#3518, vendor#3519, processCatHashs(cat_hash#3520) AS cat_hash#3554, cat#3521, date#3522]\\n                  +- Project [_c0#3514, name#3515, price#3516, processCountries(from#3532) AS from#3543, to#3518, vendor#3519, cat_hash#3520, cat#3521, date#3522]\\n                     +- Project [_c0#3514, name#3515, price#3516, lower(from#3517) AS from#3532, to#3518, vendor#3519, cat_hash#3520, cat#3521, date#3522]\\n                        +- Filter isnotnull(name#3515)\\n                           +- Filter isnotnull(cast(price#3516 as decimal(10,0)))\\n                              +- Filter date#3522 RLIKE \\\\d\\\\d\\\\d\\\\d-\\\\d\\\\d-\\\\d\\\\d\\n                                 +- Relation[_c0#3514,name#3515,price#3516,from#3517,to#3518,vendor#3519,cat_hash#3520,cat#3521,date#3522] csv\\n\""
     ]
    }
   ],
   "source": [
    "def processCountries(country):\n",
    "    # Remove html tags\n",
    "    cleanr = re.compile('<.*?>')\n",
    "    cleanText = str(re.sub(cleanr, '', str(country)))\n",
    "    \n",
    "    # Remove spaces\n",
    "    cleanText = cleanText.strip(' ')\n",
    "    \n",
    "    # Remove \"\"\n",
    "    cleanText = cleanText.strip('\"')\n",
    "    \n",
    "    # Split for each country\n",
    "    cleanText = re.split(\"&|,|/\", cleanText)\n",
    "    \n",
    "    # Top Names reformat\n",
    "    cleanText = [re.sub(r'^(eu|europeanunion|euonly|europeuniononly|onlytoeurope|europeancountries|westerneurope|ukandeuonly|franceandeu)$', r'europe', w) for w in cleanText]\n",
    "    cleanText = [re.sub(r'^(everywhere|world|international|anywhere|worlwide|worldwideonrequest|ww|wordwide|global|worldwideinternational|wideworld|all|worldwidepriortracking|wordlwide|worldwideprior|worldwideprior|internationalworldwide|universe|everywhereworldwideanydestination|wolrdwide|wwshipping|freeworldwide|universal|woldwide|worldwideincludingaustralia|worldwidepriorthefastest|internationally)$', r'worldwide', w) for w in cleanText]\n",
    "    cleanText = [re.sub(r'^(usaonly|unitedstates|us|unitedstatesofamerica|usonly|unitedstatesonly)$', r'usa', w) for w in cleanText]\n",
    "    cleanText = [re.sub(r'^(unitedkingdom|ukonly)$', r'uk', w) for w in cleanText]\n",
    "    return cleanText\n",
    "\n",
    "udf_func_C = udf(processCountries, ArrayType(StringType()))\n",
    "\n",
    "def processCatHashs(cat_hash):\n",
    "    # Remove html end of files\n",
    "    cleanr = re.compile('.\\d*.html')\n",
    "    cleanText = str(re.sub(cleanr, '', str(cat_hash)))\n",
    "    return cleanText\n",
    "\n",
    "def processCat(cat):\n",
    "    s = cat.split('/')\n",
    "    return s[0]\n",
    "\n",
    "udf_func_CC = udf(processCat, StringType())\n",
    "\n",
    "\n",
    "udf_func_H = udf(processCatHashs, StringType())\n",
    "\n",
    "# Remove rows without a valid date, error during parsing, file not complete\n",
    "df = df.filter(df[\"date\"].rlike(\"\\d\\d\\d\\d-\\d\\d-\\d\\d\"))\n",
    "\n",
    "# Remove rows without a price or not decimal, 642 in total, mainly due to error during parsing.\n",
    "df = df.filter(\"CAST(price AS DECIMAL) is not null\")\n",
    "\n",
    "# Remove the rows where name is null, all the columns are usually null in this case, (6 rows)\n",
    "df = df.filter(\"name is not null\")\n",
    "\n",
    "# Lowercase and process the countries\n",
    "#df=df.withColumn(\"to\", lower(col(\"to\")))\n",
    "#df=df.withColumn(\"to\", udf_func_C(col(\"to\")))\n",
    "\n",
    "# Lowercase and process the countries\n",
    "df=df.withColumn(\"from\", lower(col(\"from\")))\n",
    "df=df.withColumn(\"from\", udf_func_C(col(\"from\")))\n",
    "\n",
    "# Process the hashs\n",
    "df=df.withColumn(\"cat_hash\", udf_func_H(col(\"cat_hash\")))\n",
    "df=df.withColumn(\"cat\", udf_func_CC(col(\"cat\")))"
   ]
  },
  {
   "cell_type": "code",
   "execution_count": 199,
   "metadata": {},
   "outputs": [],
   "source": [
    "df=df.withColumn(\"cat\", udf_func_CC(col(\"cat\")))"
   ]
  },
  {
   "cell_type": "markdown",
   "metadata": {},
   "source": [
    "## DF Imported and cleaned at this point"
   ]
  },
  {
   "cell_type": "code",
   "execution_count": 6,
   "metadata": {},
   "outputs": [
    {
     "data": {
      "text/plain": [
       "pyspark.sql.dataframe.DataFrame"
      ]
     },
     "execution_count": 6,
     "metadata": {},
     "output_type": "execute_result"
    }
   ],
   "source": [
    "type(df)"
   ]
  },
  {
   "cell_type": "code",
   "execution_count": 198,
   "metadata": {},
   "outputs": [
    {
     "data": {
      "text/plain": [
       "DataFrame[_c0: string, name: string, price: double, from: array<string>, vendor: string, cat_hash: string, cat: string, date: string]"
      ]
     },
     "execution_count": 198,
     "metadata": {},
     "output_type": "execute_result"
    }
   ],
   "source": [
    "df"
   ]
  },
  {
   "cell_type": "code",
   "execution_count": 189,
   "metadata": {},
   "outputs": [],
   "source": [
    "df = df.drop('to')"
   ]
  },
  {
   "cell_type": "code",
   "execution_count": 247,
   "metadata": {},
   "outputs": [],
   "source": [
    "df = df.withColumn(\"price\", df[\"price\"].cast(\"double\"))"
   ]
  },
  {
   "cell_type": "code",
   "execution_count": 200,
   "metadata": {},
   "outputs": [
    {
     "name": "stdout",
     "output_type": "stream",
     "text": [
      "+---+--------------------+----------+-----------+-------------+----------+-----+----------+\n",
      "|_c0|                name|     price|       from|       vendor|  cat_hash|  cat|      date|\n",
      "+---+--------------------+----------+-----------+-------------+----------+-----+----------+\n",
      "|  0|Jack Herer from S...|0.73044494|      [usa]|   MrSunshine|rdffTvGkMC|Drugs|2015-06-20|\n",
      "|  1|WHITE WIDOW FEMIN...|3.31830703|   [europe]|  klosterbier|rdffTvGkMC|Drugs|2015-06-20|\n",
      "|  2|WHITE WIDOW FEMIN...| 0.8514901|   [europe]|  klosterbier|rdffTvGkMC|Drugs|2015-06-20|\n",
      "|  3|SMART START - See...|0.07091576|   [europe]|  klosterbier|rdffTvGkMC|Drugs|2015-06-20|\n",
      "|  4|Marijuana Grow Ba...|0.00542616|     [None]|      Optumis|rdffTvGkMC|Drugs|2015-06-20|\n",
      "|  5|SMART START - See...|0.07091576|   [europe]|  klosterbier|rdffTvGkMC|Drugs|2015-06-20|\n",
      "|  6| Custom for southpsy|   0.18762|   [europe]|  klosterbier|rdffTvGkMC|Drugs|2015-06-20|\n",
      "|  7|Jack Herer from S...|0.31304783|      [usa]|   MrSunshine|rdffTvGkMC|Drugs|2015-06-20|\n",
      "|  8|Jack Herer from S...|0.08347942|      [usa]|   MrSunshine|rdffTvGkMC|Drugs|2015-06-20|\n",
      "|  9|5  Mendocino Madn...|0.07513148|       [uk]|HappyHippy2.0|rdffTvGkMC|Drugs|2015-06-20|\n",
      "| 10|5 Cold Creek Kush...|0.14608898|       [uk]|HappyHippy2.0|rdffTvGkMC|Drugs|2015-06-20|\n",
      "| 11|5 Zero Gravity Ca...|0.08347942|       [uk]|HappyHippy2.0|rdffTvGkMC|Drugs|2015-06-20|\n",
      "| 12|SPECIAL KUSH 1 (R...|0.06048084|   [europe]|  klosterbier|rdffTvGkMC|Drugs|2015-06-20|\n",
      "| 13|AMNESIA SKUNK AUT...|0.06674179|   [europe]|  klosterbier|rdffTvGkMC|Drugs|2015-06-20|\n",
      "| 14|PURPLE CHEESE (AU...|0.16904583|   [europe]|  klosterbier|rdffTvGkMC|Drugs|2015-06-20|\n",
      "| 15|AFGHAN OG (ZAMNES...|0.06674179|   [europe]|  klosterbier|rdffTvGkMC|Drugs|2015-06-20|\n",
      "| 16|BLACK CREAM AUTO ...|0.18536605|   [europe]|  klosterbier|rdffTvGkMC|Drugs|2015-06-20|\n",
      "| 17|4 feminised seeds...|0.16695884|[australia]|   budbrother|rdffTvGkMC|Drugs|2015-06-20|\n",
      "| 18|CHEESE (ZAMNESIA ...|0.07091576|   [europe]|  klosterbier|rdffTvGkMC|Drugs|2015-06-20|\n",
      "| 19|AFGHAN SKUNK (ZAM...|0.06674179|   [europe]|  klosterbier|rdffTvGkMC|Drugs|2015-06-20|\n",
      "+---+--------------------+----------+-----------+-------------+----------+-----+----------+\n",
      "only showing top 20 rows\n",
      "\n"
     ]
    }
   ],
   "source": [
    "df.show()"
   ]
  },
  {
   "cell_type": "code",
   "execution_count": 201,
   "metadata": {},
   "outputs": [
    {
     "name": "stdout",
     "output_type": "stream",
     "text": [
      "+--------------+\n",
      "|         price|\n",
      "+--------------+\n",
      "|     3520693.0|\n",
      "|     1150000.0|\n",
      "|      825000.0|\n",
      "|      799900.0|\n",
      "|      690000.0|\n",
      "|      480000.0|\n",
      "|      470000.0|\n",
      "|      439500.0|\n",
      "|      430000.0|\n",
      "|      306000.0|\n",
      "|      275000.0|\n",
      "|      260000.0|\n",
      "|      258000.0|\n",
      "|      250000.0|\n",
      "|      240000.0|\n",
      "|      230000.0|\n",
      "|      225000.0|\n",
      "|      210000.0|\n",
      "|      205000.0|\n",
      "|      200000.0|\n",
      "|      185000.0|\n",
      "|      168000.0|\n",
      "|      164000.0|\n",
      "|      159999.0|\n",
      "|      154000.0|\n",
      "|      153090.0|\n",
      "|      150000.0|\n",
      "|      136000.0|\n",
      "|      135000.0|\n",
      "|      130000.0|\n",
      "|      126000.0|\n",
      "|      125000.0|\n",
      "|      122500.0|\n",
      "|      120000.0|\n",
      "|      113400.0|\n",
      "|      113000.0|\n",
      "|      112000.0|\n",
      "|      110000.0|\n",
      "|      105000.0|\n",
      "|      100000.0|\n",
      "|       99999.0|\n",
      "|       94500.0|\n",
      "|       94000.0|\n",
      "|       90000.0|\n",
      "|       89500.0|\n",
      "|       88800.0|\n",
      "|       85000.0|\n",
      "|       84999.0|\n",
      "|       81000.0|\n",
      "|       79999.0|\n",
      "|       77760.0|\n",
      "|       77000.0|\n",
      "|       75000.0|\n",
      "|       71000.0|\n",
      "|       70000.0|\n",
      "|       68900.0|\n",
      "|       68000.0|\n",
      "|       65000.0|\n",
      "|       63000.0|\n",
      "|       62000.0|\n",
      "|       60000.0|\n",
      "|       58000.0|\n",
      "|       57600.0|\n",
      "|       50000.0|\n",
      "|       49999.0|\n",
      "|       48500.0|\n",
      "|       48000.0|\n",
      "|       47500.0|\n",
      "|       46000.0|\n",
      "|45793.83157027|\n",
      "|       45000.0|\n",
      "|44891.35841264|\n",
      "| 44845.0558321|\n",
      "|       44500.0|\n",
      "|44473.33266623|\n",
      "|44296.78405315|\n",
      "|43946.38101516|\n",
      "|43888.51876234|\n",
      "|43290.03896103|\n",
      "|43162.97910911|\n",
      "|43103.44396551|\n",
      "|42183.41348181|\n",
      "|42144.30209035|\n",
      "|       42000.0|\n",
      "|41804.26821621|\n",
      "|41794.64453639|\n",
      "|41739.70698722|\n",
      "|  41510.996264|\n",
      "|41177.67757875|\n",
      "|41091.38313609|\n",
      "|41018.90971737|\n",
      "|40964.49145121|\n",
      "|40921.11684006|\n",
      "|40884.74181282|\n",
      "|       40500.0|\n",
      "|40477.61839708|\n",
      "|       40000.0|\n",
      "|39668.35505176|\n",
      "|       39500.0|\n",
      "|39278.83656074|\n",
      "+--------------+\n",
      "only showing top 100 rows\n",
      "\n"
     ]
    }
   ],
   "source": [
    "df.select(\"price\").distinct().sort(col(\"price\").desc()).show(100)"
   ]
  },
  {
   "cell_type": "code",
   "execution_count": 202,
   "metadata": {},
   "outputs": [],
   "source": [
    "sortedDF = df.orderBy(desc(\"price\"))"
   ]
  },
  {
   "cell_type": "code",
   "execution_count": 13,
   "metadata": {},
   "outputs": [
    {
     "name": "stdout",
     "output_type": "stream",
     "text": [
      "+-----+------------------------------------------------------------------------------------+---------+--------------------+----------+---------------------------+----------+\n",
      "|_c0  |name                                                                                |price    |vendor              |cat_hash  |cat                        |date      |\n",
      "+-----+------------------------------------------------------------------------------------+---------+--------------------+----------+---------------------------+----------+\n",
      "|6833 |2g clean pure speed paste  in snow seal 14€ watch our reviews                       |3520693.0|HAPPYholland        |PDbdpyyhd6|Drugs/Stimulants/Speed     |2014-05-16|\n",
      "|7663 |2g clean pure speed paste  in snow seal 14€ watch our reviews                       |3520693.0|HAPPYholland        |PDbdpyyhd6|Drugs/Stimulants/Speed     |2014-06-01|\n",
      "|7477 |2g clean pure speed paste  in snow seal 14€ watch our reviews                       |3520693.0|HAPPYholland        |PDbdpyyhd6|Drugs/Stimulants/Speed     |2014-05-24|\n",
      "|15324|MA-CHMACA    5000g                                                                  |1150000.0|alchemycd           |MjE6rSFd4b|Drugs/Cannabis/Concentrates|2015-01-06|\n",
      "|14966|px-1  SRF-30  5000g                                                                 |825000.0 |alchemycd           |MjE6rSFd4b|Drugs/Cannabis/Concentrates|2015-01-06|\n",
      "|14987|LB (448g) of dabs                                                                   |799900.0 |EdWestwick          |MjE6rSFd4b|Drugs/Cannabis/Concentrates|2015-01-06|\n",
      "|14955|InfaJ Custom order                                                                  |690000.0 |DakotaFred          |MjE6rSFd4b|Drugs/Cannabis/Concentrates|2015-01-06|\n",
      "|14950|224 x 1 gram (1/2LB) CO2 Oil in Syringes FREE SHIPPING                              |480000.0 |DakotaFred          |MjE6rSFd4b|Drugs/Cannabis/Concentrates|2015-01-06|\n",
      "|15065|1/2LB (8oz)(224g) BHO - NYC Deisel Crumble -- Indoor, Well Purged, HQ, ESCROW       |470000.0 |GreenStreet         |MjE6rSFd4b|Drugs/Cannabis/Concentrates|2015-01-06|\n",
      "|15271|HP (224g) of dabs                                                                   |439500.0 |EdWestwick          |MjE6rSFd4b|Drugs/Cannabis/Concentrates|2015-01-06|\n",
      "|15176|200 x 1 gram  CO2 Oil in Syringes FREE SHIPPING                                     |430000.0 |DakotaFred          |MjE6rSFd4b|Drugs/Cannabis/Concentrates|2015-01-06|\n",
      "|15018|tospaceandback Custom 4.5oz                                                         |306000.0 |purebase            |MjE6rSFd4b|Drugs/Cannabis/Concentrates|2015-01-06|\n",
      "|15232|BHO Bubba Kush Wax made in laboratory, Wholesale Prices. 112Gr (QP)**CHEAP**        |275000.0 |chipzahoy           |MjE6rSFd4b|Drugs/Cannabis/Concentrates|2015-01-06|\n",
      "|15030|RSO 20ml Vial                                                                       |260000.0 |SAGreat             |MjE6rSFd4b|Drugs/Cannabis/Concentrates|2015-01-06|\n",
      "|15118|OpiumPoppy custom                                                                   |258000.0 |purebase            |MjE6rSFd4b|Drugs/Cannabis/Concentrates|2015-01-06|\n",
      "|15311|BHO Vacuum purged Purple Kush Taffy Concentrate-112Gr (QP) **CHEAP**                |250000.0 |chipzahoy           |MjE6rSFd4b|Drugs/Cannabis/Concentrates|2015-01-06|\n",
      "|15059|Purple Kush Shatter BHO Purged 72 Hours Made from buds-112 Gr (QP)                  |250000.0 |chipzahoy           |MjE6rSFd4b|Drugs/Cannabis/Concentrates|2015-01-06|\n",
      "|15249|112 x 1 gram (QP) CO2 Oil in Syringes FREE SHIPPING                                 |250000.0 |DakotaFred          |MjE6rSFd4b|Drugs/Cannabis/Concentrates|2015-01-06|\n",
      "|14975|MA-CHMACA    1000g                                                                  |250000.0 |alchemycd           |MjE6rSFd4b|Drugs/Cannabis/Concentrates|2015-01-06|\n",
      "|15141|LordCynth custom 4oz                                                                |240000.0 |purebase            |MjE6rSFd4b|Drugs/Cannabis/Concentrates|2015-01-06|\n",
      "|15227|QP of FIRE Purp and Sour Diesel Mix Shatter! Great Price! $2400                     |240000.0 |William_Shatner     |MjE6rSFd4b|Drugs/Cannabis/Concentrates|2015-01-06|\n",
      "|14967|112g (QP) of dabs                                                                   |230000.0 |EdWestwick          |MjE6rSFd4b|Drugs/Cannabis/Concentrates|2015-01-06|\n",
      "|15153|\"SALE!!! 200 OFF!...QP...\"\"SHARK SHOCK\"\"...BLONDE CRUMBLE WAX!!\"                    |225000.0 |JustSmuggledN!      |MjE6rSFd4b|Drugs/Cannabis/Concentrates|2015-01-06|\n",
      "|14942|100 x 1 gram  CO2 Oil in Syringes FREE SHIPPING                                     |225000.0 |DakotaFred          |MjE6rSFd4b|Drugs/Cannabis/Concentrates|2015-01-06|\n",
      "|15228|100 CO2/VAPORZIER  REFILL SYRINGES                                                  |210000.0 |CB2013              |MjE6rSFd4b|Drugs/Cannabis/Concentrates|2015-01-06|\n",
      "|15133|3 oz of FIRE Purple Sour Diesel Mix Shatter!                                        |210000.0 |William_Shatner     |MjE6rSFd4b|Drugs/Cannabis/Concentrates|2015-01-06|\n",
      "|15014|56 Grams of the Finest Winterized CO2 Absolute Shatter                              |205000.0 |DakotaFred          |MjE6rSFd4b|Drugs/Cannabis/Concentrates|2015-01-06|\n",
      "|15277|AB-FUBINACA (Marijuana receptors)   1kg   (exemption from postage)                  |200000.0 |alchemycd           |MjE6rSFd4b|Drugs/Cannabis/Concentrates|2015-01-06|\n",
      "|14965|1/4 Lb of Dab for $2000!                                                            |200000.0 |GanjaFarmer         |MjE6rSFd4b|Drugs/Cannabis/Concentrates|2015-01-06|\n",
      "|15278|px-1  SRF-30  1000g                                                                 |185000.0 |alchemycd           |MjE6rSFd4b|Drugs/Cannabis/Concentrates|2015-01-06|\n",
      "|14974|PX-2( FU-PX)   1000g                                                                |185000.0 |alchemycd           |MjE6rSFd4b|Drugs/Cannabis/Concentrates|2015-01-06|\n",
      "|14933|Budder! tasty and potent, made with sugar shack buds. **CHEAP** 112Gr (QP)%20 OFF!! |168000.0 |chipzahoy           |MjE6rSFd4b|Drugs/Cannabis/Concentrates|2015-01-06|\n",
      "|15006|Budder! tasty and potent, made with sugar shack buds. **CHEAP** 112 GR (QP)%20 OFF!!|168000.0 |chipzahoy           |MjE6rSFd4b|Drugs/Cannabis/Concentrates|2015-01-06|\n",
      "|15175|1.5 OZ (42g) of the Finest Winterized CO2 Absolute Shatter                          |164000.0 |DakotaFred          |MjE6rSFd4b|Drugs/Cannabis/Concentrates|2015-01-06|\n",
      "|4927 |HBO GO Account [LIFETIME + FREEBIES]                                                |159999.0 |thesecretsociety    |pSd85riTbr|Data/Accounts              |2014-08-14|\n",
      "|15042|\"\"\"2OZ...\"\"SHARK SHOCK\"\"...BLONDE CRUMBLE WAX\"                                      |154000.0 |JustSmuggledN!      |MjE6rSFd4b|Drugs/Cannabis/Concentrates|2015-01-06|\n",
      "|15305|28g + SHATTER + HIGHEST QUALITY + 90% THC                                           |153090.0 |CaliforniaGreenCross|MjE6rSFd4b|Drugs/Cannabis/Concentrates|2015-01-06|\n",
      "|15044|Custom Wax and Weed                                                                 |150000.0 |5588                |MjE6rSFd4b|Drugs/Cannabis/Concentrates|2015-01-06|\n",
      "|15190|SluperSKunkCustom 2oz                                                               |136000.0 |purebase            |MjE6rSFd4b|Drugs/Cannabis/Concentrates|2015-01-06|\n",
      "|15099|56 x 1 gram CO2 Oil in Syringe FREE SHIPPING                                        |135000.0 |DakotaFred          |MjE6rSFd4b|Drugs/Cannabis/Concentrates|2015-01-06|\n",
      "|15221|MA-CHMACA    500g                                                                   |135000.0 |alchemycd           |MjE6rSFd4b|Drugs/Cannabis/Concentrates|2015-01-06|\n",
      "|15114|Cust order 0033                                                                     |130000.0 |chipzahoy           |MjE6rSFd4b|Drugs/Cannabis/Concentrates|2015-01-06|\n",
      "|15089|Timmytucker wax custom                                                              |130000.0 |purebase            |MjE6rSFd4b|Drugs/Cannabis/Concentrates|2015-01-06|\n",
      "|14957|bubblegumkush custom                                                                |130000.0 |purebase            |MjE6rSFd4b|Drugs/Cannabis/Concentrates|2015-01-06|\n",
      "|15325|Hardcore OG Co2 Oil (28 gram listing) *94% thc*                                     |126000.0 |WestCoastCure       |MjE6rSFd4b|Drugs/Cannabis/Concentrates|2015-01-06|\n",
      "|15222|50xCO2 E-cigarette vape pen refill cartridge 500mg                                  |125000.0 |MedicalMJ           |MjE6rSFd4b|Drugs/Cannabis/Concentrates|2015-01-06|\n",
      "|14981|56 grams of dabs                                                                    |122500.0 |EdWestwick          |MjE6rSFd4b|Drugs/Cannabis/Concentrates|2015-01-06|\n",
      "|14941|custom 56g anonflic                                                                 |120000.0 |purebase            |MjE6rSFd4b|Drugs/Cannabis/Concentrates|2015-01-06|\n",
      "|15130|28g HONEYCOMB WAX + PREMIUM MEDICAL GRADE A + SELECT A STRAIN +                     |113400.0 |CaliforniaGreenCross|MjE6rSFd4b|Drugs/Cannabis/Concentrates|2015-01-06|\n",
      "|14952|28 Grams of the Finest Winterized CO2 Absolute Shatter                              |113000.0 |DakotaFred          |MjE6rSFd4b|Drugs/Cannabis/Concentrates|2015-01-06|\n",
      "|6487 |1000gram HEROINE NR.3, STRAIGHT FROM THE BLOCK 100%!! FREE SHIPPING                 |112000.0 |heroking            |fJnDCMcMSR|Drugs/Opioids/Heroin       |2015-06-28|\n",
      "|8511 |1000gram HEROINE NR.3, STRAIGHT FROM THE BLOCK 100%!! FREE SHIPPING                 |112000.0 |heroking            |fJnDCMcMSR|Drugs/Opioids/Heroin       |2015-06-20|\n",
      "|8507 |1000gram HEROINE NR.3, STRAIGHT FROM THE BLOCK 100%!! FREE SHIPPING                 |112000.0 |heroking            |fJnDCMcMSR|Drugs/Opioids/Heroin       |2015-06-26|\n",
      "|7977 |1000gram HEROINE NR.3, STRAIGHT FROM THE BLOCK 100%!! FREE SHIPPING                 |112000.0 |heroking            |fJnDCMcMSR|Drugs/Opioids/Heroin       |2015-06-22|\n",
      "|8394 |1000gram HEROINE NR.3, STRAIGHT FROM THE BLOCK 100%!! FREE SHIPPING                 |112000.0 |heroking            |fJnDCMcMSR|Drugs/Opioids/Heroin       |2015-07-07|\n",
      "|8336 |1000gram HEROINE NR.3, STRAIGHT FROM THE BLOCK 100%!! FREE SHIPPING                 |112000.0 |heroking            |fJnDCMcMSR|Drugs/Opioids/Heroin       |2015-06-30|\n",
      "|8345 |1000gram HEROINE NR.3, STRAIGHT FROM THE BLOCK 100%!! FREE SHIPPING                 |112000.0 |heroking            |fJnDCMcMSR|Drugs/Opioids/Heroin       |2015-07-04|\n",
      "|15238|28g (1 ounce) CO2 Shatter (Bud Run - OG Kush - 90% THC) FREE SHIPPING               |110000.0 |itewqq              |MjE6rSFd4b|Drugs/Cannabis/Concentrates|2015-01-06|\n",
      "|15003|28g (1 ounce) CO2 Wax (Bud Run - Blue Fire - 90% THC) FREE SHIPPING                 |110000.0 |itewqq              |MjE6rSFd4b|Drugs/Cannabis/Concentrates|2015-01-06|\n",
      "|14972|Girl Scout Cookies Shatter BHO (28 Gram Listing)                                    |110000.0 |WestCoastCure       |MjE6rSFd4b|Drugs/Cannabis/Concentrates|2015-01-06|\n",
      "|15286|Harlequin CBD Shatter (28 grams) *NEW PRICING*                                      |110000.0 |WestCoastCure       |MjE6rSFd4b|Drugs/Cannabis/Concentrates|2015-01-06|\n",
      "|15150|Cust Order 0038                                                                     |105000.0 |chipzahoy           |MjE6rSFd4b|Drugs/Cannabis/Concentrates|2015-01-06|\n",
      "|14964|PX-2( FU-PX)   500g                                                                 |100000.0 |alchemycd           |MjE6rSFd4b|Drugs/Cannabis/Concentrates|2015-01-06|\n",
      "|15264|px-1  SRF-30  500g                                                                  |100000.0 |alchemycd           |MjE6rSFd4b|Drugs/Cannabis/Concentrates|2015-01-06|\n",
      "|14946|42 x 1 gram 1.5oz  CO2 Oil in Syringes FREE SHIPPING                                |100000.0 |DakotaFred          |MjE6rSFd4b|Drugs/Cannabis/Concentrates|2015-01-06|\n",
      "|11877|DONTORDER                                                                           |99999.0  |DutchTruthTeller    |PDbdpyyhd6|Drugs/Stimulants/Speed     |2014-11-16|\n",
      "|11621|DONTORDER                                                                           |99999.0  |DutchTruthTeller    |PDbdpyyhd6|Drugs/Stimulants/Speed     |2014-11-15|\n",
      "|10217|DONTORDER                                                                           |99999.0  |DutchTruthTeller    |PDbdpyyhd6|Drugs/Stimulants/Speed     |2014-11-07|\n",
      "|6674 |DONTORDER                                                                           |99999.0  |DutchTruthTeller    |p8ewKNoNk3|Drugs/Ecstasy/Pills        |2014-11-01|\n",
      "|6989 |DONTORDER                                                                           |99999.0  |DutchTruthTeller    |p8ewKNoNk3|Drugs/Ecstasy/Pills        |2014-11-08|\n",
      "|8040 |DONTORDER                                                                           |99999.0  |DutchTruthTeller    |p8ewKNoNk3|Drugs/Ecstasy/Pills        |2014-11-16|\n",
      "|5990 |DONTORDER                                                                           |99999.0  |DutchTruthTeller    |p8ewKNoNk3|Drugs/Ecstasy/Pills        |2014-11-07|\n",
      "|7419 |DONTORDER                                                                           |99999.0  |DutchTruthTeller    |p8ewKNoNk3|Drugs/Ecstasy/Pills        |2014-11-22|\n",
      "|6931 |DONTORDER                                                                           |99999.0  |DutchTruthTeller    |p8ewKNoNk3|Drugs/Ecstasy/Pills        |2014-11-16|\n",
      "|6363 |DONTORDER                                                                           |99999.0  |DutchTruthTeller    |p8ewKNoNk3|Drugs/Ecstasy/Pills        |2014-10-25|\n",
      "|7005 |DONTORDER                                                                           |99999.0  |DutchTruthTeller    |p8ewKNoNk3|Drugs/Ecstasy/Pills        |2014-11-08|\n",
      "|7413 |DONTORDER                                                                           |99999.0  |DutchTruthTeller    |p8ewKNoNk3|Drugs/Ecstasy/Pills        |2014-12-20|\n",
      "|11034|DONTORDER                                                                           |99999.0  |DutchTruthTeller    |PDbdpyyhd6|Drugs/Stimulants/Speed     |2014-11-24|\n",
      "|5910 |test                                                                                |99999.0  |DutchTruthTeller    |p8ewKNoNk3|Drugs/Ecstasy/Pills        |2014-09-22|\n",
      "|10385|DONTORDER                                                                           |99999.0  |DutchTruthTeller    |PDbdpyyhd6|Drugs/Stimulants/Speed     |2014-11-06|\n",
      "|6519 |50G SPEED AMPHETAMINE PASTE - UNCUT                                                 |99999.0  |DutchTruthTeller    |PDbdpyyhd6|Drugs/Stimulants/Speed     |2014-09-26|\n",
      "|6290 |DONTORDER                                                                           |99999.0  |DutchTruthTeller    |p8ewKNoNk3|Drugs/Ecstasy/Pills        |2014-11-10|\n",
      "|11275|DONTORDER                                                                           |99999.0  |DutchTruthTeller    |PDbdpyyhd6|Drugs/Stimulants/Speed     |2014-10-29|\n",
      "|10317|DONTORDER                                                                           |99999.0  |DutchTruthTeller    |PDbdpyyhd6|Drugs/Stimulants/Speed     |2014-11-03|\n",
      "|11711|DONTORDER                                                                           |99999.0  |DutchTruthTeller    |PDbdpyyhd6|Drugs/Stimulants/Speed     |2014-11-22|\n",
      "|9654 |DONTORDER                                                                           |99999.0  |DutchTruthTeller    |PDbdpyyhd6|Drugs/Stimulants/Speed     |2014-12-21|\n",
      "|6788 |DONTORDER                                                                           |99999.0  |DutchTruthTeller    |p8ewKNoNk3|Drugs/Ecstasy/Pills        |2014-11-23|\n",
      "|5970 |DONTORDER                                                                           |99999.0  |DutchTruthTeller    |p8ewKNoNk3|Drugs/Ecstasy/Pills        |2014-11-14|\n",
      "|7464 |DONTORDER                                                                           |99999.0  |DutchTruthTeller    |p8ewKNoNk3|Drugs/Ecstasy/Pills        |2014-12-01|\n",
      "|10354|DONTORDER                                                                           |99999.0  |DutchTruthTeller    |PDbdpyyhd6|Drugs/Stimulants/Speed     |2014-11-03|\n",
      "|11409|DONTORDER                                                                           |99999.0  |DutchTruthTeller    |PDbdpyyhd6|Drugs/Stimulants/Speed     |2014-12-24|\n",
      "|6687 |DONTORDER                                                                           |99999.0  |DutchTruthTeller    |p8ewKNoNk3|Drugs/Ecstasy/Pills        |2014-11-11|\n",
      "|6850 |DONTORDER                                                                           |99999.0  |DutchTruthTeller    |p8ewKNoNk3|Drugs/Ecstasy/Pills        |2014-11-11|\n",
      "|11490|DONTORDER                                                                           |99999.0  |DutchTruthTeller    |PDbdpyyhd6|Drugs/Stimulants/Speed     |2014-11-25|\n",
      "|5639 |DONTORDER                                                                           |99999.0  |DutchTruthTeller    |p8ewKNoNk3|Drugs/Ecstasy/Pills        |2014-12-21|\n",
      "|6428 |DONTORDER                                                                           |99999.0  |DutchTruthTeller    |p8ewKNoNk3|Drugs/Ecstasy/Pills        |2014-11-15|\n",
      "|10870|DONTORDER                                                                           |99999.0  |DutchTruthTeller    |PDbdpyyhd6|Drugs/Stimulants/Speed     |2014-10-22|\n",
      "|11471|DONTORDER                                                                           |99999.0  |DutchTruthTeller    |PDbdpyyhd6|Drugs/Stimulants/Speed     |2014-12-28|\n",
      "|11547|DONTORDER                                                                           |99999.0  |DutchTruthTeller    |PDbdpyyhd6|Drugs/Stimulants/Speed     |2014-11-22|\n",
      "|7553 |DONTORDER                                                                           |99999.0  |DutchTruthTeller    |p8ewKNoNk3|Drugs/Ecstasy/Pills        |2014-12-24|\n",
      "|4756 |DONTORDER                                                                           |99999.0  |DutchTruthTeller    |p8ewKNoNk3|Drugs/Ecstasy/Pills        |2014-10-19|\n",
      "|11506|DONTORDER                                                                           |99999.0  |DutchTruthTeller    |PDbdpyyhd6|Drugs/Stimulants/Speed     |2014-12-24|\n",
      "|4452 |test                                                                                |99999.0  |DutchTruthTeller    |p8ewKNoNk3|Drugs/Ecstasy/Pills        |2014-09-29|\n",
      "|11314|DONTORDER                                                                           |99999.0  |DutchTruthTeller    |PDbdpyyhd6|Drugs/Stimulants/Speed     |2014-11-10|\n",
      "|8420 |DONTORDER                                                                           |99999.0  |DutchTruthTeller    |PDbdpyyhd6|Drugs/Stimulants/Speed     |2014-12-17|\n",
      "|11967|DONTORDER                                                                           |99999.0  |DutchTruthTeller    |PDbdpyyhd6|Drugs/Stimulants/Speed     |2014-12-06|\n",
      "|7343 |DONTORDER                                                                           |99999.0  |DutchTruthTeller    |p8ewKNoNk3|Drugs/Ecstasy/Pills        |2014-12-01|\n",
      "|6906 |DONTORDER                                                                           |99999.0  |DutchTruthTeller    |p8ewKNoNk3|Drugs/Ecstasy/Pills        |2014-11-24|\n",
      "|9002 |DONTORDER                                                                           |99999.0  |DutchTruthTeller    |PDbdpyyhd6|Drugs/Stimulants/Speed     |2014-10-19|\n",
      "|9517 |DONTORDER                                                                           |99999.0  |DutchTruthTeller    |PDbdpyyhd6|Drugs/Stimulants/Speed     |2014-11-14|\n",
      "|10946|DONTORDER                                                                           |99999.0  |DutchTruthTeller    |PDbdpyyhd6|Drugs/Stimulants/Speed     |2014-11-08|\n",
      "|5512 |DONTORDER                                                                           |99999.0  |DutchTruthTeller    |p8ewKNoNk3|Drugs/Ecstasy/Pills        |2014-11-03|\n",
      "|11060|DONTORDER                                                                           |99999.0  |DutchTruthTeller    |PDbdpyyhd6|Drugs/Stimulants/Speed     |2014-11-08|\n",
      "|9196 |DONTORDER                                                                           |99999.0  |DutchTruthTeller    |PDbdpyyhd6|Drugs/Stimulants/Speed     |2014-10-17|\n",
      "|11352|DONTORDER                                                                           |99999.0  |DutchTruthTeller    |PDbdpyyhd6|Drugs/Stimulants/Speed     |2014-12-10|\n",
      "|11629|DONTORDER                                                                           |99999.0  |DutchTruthTeller    |PDbdpyyhd6|Drugs/Stimulants/Speed     |2014-12-01|\n",
      "|7061 |DONTORDER                                                                           |99999.0  |DutchTruthTeller    |p8ewKNoNk3|Drugs/Ecstasy/Pills        |2014-11-15|\n",
      "|7231 |DONTORDER                                                                           |99999.0  |DutchTruthTeller    |p8ewKNoNk3|Drugs/Ecstasy/Pills        |2014-11-10|\n",
      "|7386 |DONTORDER                                                                           |99999.0  |DutchTruthTeller    |p8ewKNoNk3|Drugs/Ecstasy/Pills        |2014-11-22|\n",
      "|9437 |DONTORDER                                                                           |99999.0  |DutchTruthTeller    |PDbdpyyhd6|Drugs/Stimulants/Speed     |2014-12-21|\n",
      "|11588|DONTORDER                                                                           |99999.0  |DutchTruthTeller    |PDbdpyyhd6|Drugs/Stimulants/Speed     |2014-11-11|\n",
      "|11119|DONTORDER                                                                           |99999.0  |DutchTruthTeller    |PDbdpyyhd6|Drugs/Stimulants/Speed     |2014-11-24|\n",
      "|11728|DONTORDER                                                                           |99999.0  |DutchTruthTeller    |PDbdpyyhd6|Drugs/Stimulants/Speed     |2014-11-11|\n",
      "|7160 |DONTORDER                                                                           |99999.0  |DutchTruthTeller    |p8ewKNoNk3|Drugs/Ecstasy/Pills        |2014-12-26|\n",
      "|5184 |test                                                                                |99999.0  |DutchTruthTeller    |p8ewKNoNk3|Drugs/Ecstasy/Pills        |2014-09-20|\n",
      "|11240|DONTORDER                                                                           |99999.0  |DutchTruthTeller    |PDbdpyyhd6|Drugs/Stimulants/Speed     |2014-12-26|\n",
      "|6375 |DONTORDER                                                                           |99999.0  |DutchTruthTeller    |p8ewKNoNk3|Drugs/Ecstasy/Pills        |2014-10-29|\n",
      "|11687|DONTORDER                                                                           |99999.0  |DutchTruthTeller    |PDbdpyyhd6|Drugs/Stimulants/Speed     |2014-12-03|\n",
      "|6654 |DONTORDER                                                                           |99999.0  |DutchTruthTeller    |p8ewKNoNk3|Drugs/Ecstasy/Pills        |2014-10-29|\n",
      "|6623 |DONTORDER                                                                           |99999.0  |DutchTruthTeller    |p8ewKNoNk3|Drugs/Ecstasy/Pills        |2014-11-06|\n",
      "|4616 |DONTORDER                                                                           |99999.0  |DutchTruthTeller    |p8ewKNoNk3|Drugs/Ecstasy/Pills        |2014-12-17|\n",
      "|9437 |50G SPEED AMPHETAMINE PASTE - UNCUT                                                 |99999.0  |DutchTruthTeller    |PDbdpyyhd6|Drugs/Stimulants/Speed     |2014-10-09|\n",
      "|4444 |DONTORDER                                                                           |99999.0  |DutchTruthTeller    |p8ewKNoNk3|Drugs/Ecstasy/Pills        |2014-10-27|\n",
      "|11520|DONTORDER                                                                           |99999.0  |DutchTruthTeller    |PDbdpyyhd6|Drugs/Stimulants/Speed     |2014-11-13|\n",
      "|4810 |DONTORDER                                                                           |99999.0  |DutchTruthTeller    |p8ewKNoNk3|Drugs/Ecstasy/Pills        |2014-10-19|\n",
      "|4573 |DONTORDER                                                                           |99999.0  |DutchTruthTeller    |p8ewKNoNk3|Drugs/Ecstasy/Pills        |2014-12-17|\n",
      "|8890 |50G SPEED AMPHETAMINE PASTE - UNCUT                                                 |99999.0  |DutchTruthTeller    |PDbdpyyhd6|Drugs/Stimulants/Speed     |2014-09-05|\n",
      "|7304 |DONTORDER                                                                           |99999.0  |DutchTruthTeller    |p8ewKNoNk3|Drugs/Ecstasy/Pills        |2014-10-31|\n",
      "|6419 |DONTORDER                                                                           |99999.0  |DutchTruthTeller    |p8ewKNoNk3|Drugs/Ecstasy/Pills        |2014-10-25|\n",
      "|11863|DONTORDER                                                                           |99999.0  |DutchTruthTeller    |PDbdpyyhd6|Drugs/Stimulants/Speed     |2014-11-01|\n",
      "|11360|DONTORDER                                                                           |99999.0  |DutchTruthTeller    |PDbdpyyhd6|Drugs/Stimulants/Speed     |2014-10-25|\n",
      "|4443 |DONTORDER                                                                           |99999.0  |DutchTruthTeller    |p8ewKNoNk3|Drugs/Ecstasy/Pills        |2014-10-27|\n",
      "|11599|DONTORDER                                                                           |99999.0  |DutchTruthTeller    |PDbdpyyhd6|Drugs/Stimulants/Speed     |2014-10-25|\n",
      "|6770 |DONTORDER                                                                           |99999.0  |DutchTruthTeller    |p8ewKNoNk3|Drugs/Ecstasy/Pills        |2014-12-28|\n",
      "|11096|DONTORDER                                                                           |99999.0  |DutchTruthTeller    |PDbdpyyhd6|Drugs/Stimulants/Speed     |2014-12-26|\n",
      "|8903 |50G SPEED AMPHETAMINE PASTE - UNCUT                                                 |99999.0  |DutchTruthTeller    |PDbdpyyhd6|Drugs/Stimulants/Speed     |2014-09-15|\n",
      "|11431|DONTORDER                                                                           |99999.0  |DutchTruthTeller    |PDbdpyyhd6|Drugs/Stimulants/Speed     |2014-11-23|\n",
      "|6152 |DONTORDER                                                                           |99999.0  |DutchTruthTeller    |p8ewKNoNk3|Drugs/Ecstasy/Pills        |2014-10-22|\n",
      "|11544|DONTORDER                                                                           |99999.0  |DutchTruthTeller    |PDbdpyyhd6|Drugs/Stimulants/Speed     |2014-11-23|\n",
      "|6620 |DONTORDER                                                                           |99999.0  |DutchTruthTeller    |p8ewKNoNk3|Drugs/Ecstasy/Pills        |2014-10-22|\n",
      "|8019 |DONTORDER                                                                           |99999.0  |DutchTruthTeller    |p8ewKNoNk3|Drugs/Ecstasy/Pills        |2014-12-10|\n",
      "|11424|DONTORDER                                                                           |99999.0  |DutchTruthTeller    |PDbdpyyhd6|Drugs/Stimulants/Speed     |2014-12-28|\n",
      "|6681 |DONTORDER                                                                           |99999.0  |DutchTruthTeller    |p8ewKNoNk3|Drugs/Ecstasy/Pills        |2014-11-24|\n",
      "|11344|DONTORDER                                                                           |99999.0  |DutchTruthTeller    |PDbdpyyhd6|Drugs/Stimulants/Speed     |2014-12-10|\n",
      "|11902|DONTORDER                                                                           |99999.0  |DutchTruthTeller    |PDbdpyyhd6|Drugs/Stimulants/Speed     |2014-12-20|\n",
      "|4755 |DONTORDER                                                                           |99999.0  |DutchTruthTeller    |p8ewKNoNk3|Drugs/Ecstasy/Pills        |2014-10-09|\n",
      "|11995|DONTORDER                                                                           |99999.0  |DutchTruthTeller    |PDbdpyyhd6|Drugs/Stimulants/Speed     |2014-11-01|\n",
      "|6564 |DONTORDER                                                                           |99999.0  |DutchTruthTeller    |p8ewKNoNk3|Drugs/Ecstasy/Pills        |2014-11-01|\n",
      "|7260 |DONTORDER                                                                           |99999.0  |DutchTruthTeller    |p8ewKNoNk3|Drugs/Ecstasy/Pills        |2014-12-24|\n",
      "|11642|DONTORDER                                                                           |99999.0  |DutchTruthTeller    |PDbdpyyhd6|Drugs/Stimulants/Speed     |2014-12-01|\n",
      "|6477 |50G SPEED AMPHETAMINE PASTE - UNCUT                                                 |99999.0  |DutchTruthTeller    |PDbdpyyhd6|Drugs/Stimulants/Speed     |2014-10-04|\n",
      "|4967 |DONTORDER                                                                           |99999.0  |DutchTruthTeller    |p8ewKNoNk3|Drugs/Ecstasy/Pills        |2014-12-12|\n",
      "|6665 |DONTORDER                                                                           |99999.0  |DutchTruthTeller    |p8ewKNoNk3|Drugs/Ecstasy/Pills        |2014-12-26|\n",
      "|7133 |DONTORDER                                                                           |99999.0  |DutchTruthTeller    |p8ewKNoNk3|Drugs/Ecstasy/Pills        |2014-11-25|\n",
      "|6729 |DONTORDER                                                                           |99999.0  |DutchTruthTeller    |p8ewKNoNk3|Drugs/Ecstasy/Pills        |2014-12-03|\n",
      "|6301 |DONTORDER                                                                           |99999.0  |DutchTruthTeller    |p8ewKNoNk3|Drugs/Ecstasy/Pills        |2014-11-06|\n",
      "|5718 |TEST                                                                                |99999.0  |DutchTruthTeller    |p8ewKNoNk3|Drugs/Ecstasy/Pills        |2014-10-09|\n",
      "|12024|DONTORDER                                                                           |99999.0  |DutchTruthTeller    |PDbdpyyhd6|Drugs/Stimulants/Speed     |2014-11-16|\n",
      "|5917 |DONTORDER                                                                           |99999.0  |DutchTruthTeller    |p8ewKNoNk3|Drugs/Ecstasy/Pills        |2014-12-21|\n",
      "|12237|DONTORDER                                                                           |99999.0  |DutchTruthTeller    |PDbdpyyhd6|Drugs/Stimulants/Speed     |2014-12-15|\n",
      "|6983 |100G SPEED AMPHETAMINE PASTE - UNCUT                                                |99999.0  |DutchTruthTeller    |PDbdpyyhd6|Drugs/Stimulants/Speed     |2014-09-29|\n",
      "|11796|DONTORDER                                                                           |99999.0  |DutchTruthTeller    |PDbdpyyhd6|Drugs/Stimulants/Speed     |2014-12-03|\n",
      "|9138 |100G SPEED AMPHETAMINE PASTE - UNCUT                                                |99999.0  |DutchTruthTeller    |PDbdpyyhd6|Drugs/Stimulants/Speed     |2014-10-09|\n",
      "|11557|DONTORDER                                                                           |99999.0  |DutchTruthTeller    |PDbdpyyhd6|Drugs/Stimulants/Speed     |2014-10-29|\n",
      "|7879 |DONTORDER                                                                           |99999.0  |DutchTruthTeller    |p8ewKNoNk3|Drugs/Ecstasy/Pills        |2014-12-06|\n",
      "|8397 |100G SPEED AMPHETAMINE PASTE - UNCUT                                                |99999.0  |DutchTruthTeller    |PDbdpyyhd6|Drugs/Stimulants/Speed     |2014-10-06|\n",
      "|8469 |50G SPEED AMPHETAMINE PASTE - UNCUT                                                 |99999.0  |DutchTruthTeller    |PDbdpyyhd6|Drugs/Stimulants/Speed     |2014-10-06|\n",
      "|6902 |DONTORDER                                                                           |99999.0  |DutchTruthTeller    |p8ewKNoNk3|Drugs/Ecstasy/Pills        |2014-10-31|\n",
      "|7196 |DONTORDER                                                                           |99999.0  |DutchTruthTeller    |p8ewKNoNk3|Drugs/Ecstasy/Pills        |2014-12-06|\n",
      "|11671|DONTORDER                                                                           |99999.0  |DutchTruthTeller    |PDbdpyyhd6|Drugs/Stimulants/Speed     |2014-11-13|\n",
      "|7878 |DONTORDER                                                                           |99999.0  |DutchTruthTeller    |p8ewKNoNk3|Drugs/Ecstasy/Pills        |2014-12-15|\n",
      "|7725 |DONTORDER                                                                           |99999.0  |DutchTruthTeller    |p8ewKNoNk3|Drugs/Ecstasy/Pills        |2014-12-15|\n",
      "|7144 |DONTORDER                                                                           |99999.0  |DutchTruthTeller    |p8ewKNoNk3|Drugs/Ecstasy/Pills        |2014-12-23|\n",
      "|6980 |50G SPEED AMPHETAMINE PASTE - UNCUT                                                 |99999.0  |DutchTruthTeller    |PDbdpyyhd6|Drugs/Stimulants/Speed     |2014-09-29|\n",
      "|11837|DONTORDER                                                                           |99999.0  |DutchTruthTeller    |PDbdpyyhd6|Drugs/Stimulants/Speed     |2014-10-31|\n",
      "|8932 |DONTORDER                                                                           |99999.0  |DutchTruthTeller    |PDbdpyyhd6|Drugs/Stimulants/Speed     |2014-10-19|\n",
      "|7123 |DONTORDER                                                                           |99999.0  |DutchTruthTeller    |p8ewKNoNk3|Drugs/Ecstasy/Pills        |2014-12-23|\n",
      "|8497 |DONTORDER                                                                           |99999.0  |DutchTruthTeller    |PDbdpyyhd6|Drugs/Stimulants/Speed     |2014-12-17|\n",
      "|9003 |100G SPEED AMPHETAMINE PASTE - UNCUT                                                |99999.0  |DutchTruthTeller    |PDbdpyyhd6|Drugs/Stimulants/Speed     |2014-09-05|\n",
      "|11891|DONTORDER                                                                           |99999.0  |DutchTruthTeller    |PDbdpyyhd6|Drugs/Stimulants/Speed     |2014-10-31|\n",
      "|7009 |DONTORDER                                                                           |99999.0  |DutchTruthTeller    |p8ewKNoNk3|Drugs/Ecstasy/Pills        |2014-11-23|\n",
      "|5686 |DONTORDER                                                                           |99999.0  |DutchTruthTeller    |p8ewKNoNk3|Drugs/Ecstasy/Pills        |2014-11-14|\n",
      "|12072|DONTORDER                                                                           |99999.0  |DutchTruthTeller    |PDbdpyyhd6|Drugs/Stimulants/Speed     |2014-12-06|\n",
      "|7364 |DONTORDER                                                                           |99999.0  |DutchTruthTeller    |p8ewKNoNk3|Drugs/Ecstasy/Pills        |2014-12-10|\n",
      "|11960|DONTORDER                                                                           |99999.0  |DutchTruthTeller    |PDbdpyyhd6|Drugs/Stimulants/Speed     |2014-12-23|\n",
      "|12225|DONTORDER                                                                           |99999.0  |DutchTruthTeller    |PDbdpyyhd6|Drugs/Stimulants/Speed     |2014-12-15|\n",
      "|9394 |DONTORDER                                                                           |99999.0  |DutchTruthTeller    |PDbdpyyhd6|Drugs/Stimulants/Speed     |2014-11-14|\n",
      "|6516 |100G SPEED AMPHETAMINE PASTE - UNCUT                                                |99999.0  |DutchTruthTeller    |PDbdpyyhd6|Drugs/Stimulants/Speed     |2014-09-26|\n",
      "|4470 |test                                                                                |99999.0  |DutchTruthTeller    |p8ewKNoNk3|Drugs/Ecstasy/Pills        |2014-09-26|\n",
      "|7498 |DONTORDER                                                                           |99999.0  |DutchTruthTeller    |p8ewKNoNk3|Drugs/Ecstasy/Pills        |2014-12-20|\n",
      "+-----+------------------------------------------------------------------------------------+---------+--------------------+----------+---------------------------+----------+\n",
      "only showing top 200 rows\n",
      "\n"
     ]
    }
   ],
   "source": [
    "sortedDF.show(200,False)"
   ]
  },
  {
   "cell_type": "code",
   "execution_count": 203,
   "metadata": {},
   "outputs": [],
   "source": [
    "sortedDF = sortedDF.filter(F.col('price')< 999.0)"
   ]
  },
  {
   "cell_type": "code",
   "execution_count": 15,
   "metadata": {},
   "outputs": [
    {
     "name": "stdout",
     "output_type": "stream",
     "text": [
      "+----------------------------------------------------------------------------------------+\n",
      "|name                                                                                    |\n",
      "+----------------------------------------------------------------------------------------+\n",
      "|Ephedrine 30mg 500,000 tabs                                                             |\n",
      "|5kg Highest Purity Cocaine - Direct From Colombia                                       |\n",
      "|Ephedrine 30mg 500,000 tabs                                                             |\n",
      "|Ephedrine 30mg 500,000 tabs                                                             |\n",
      "|50g 73% Extremely Strong Speed Paste                                                    |\n",
      "|☻☻ 100g of PURE Dutch MDMA - DOMESTIC ☻☻                                                |\n",
      "|NORCO (QTY 30) from U.S. Pharmacies ONLY! (10mg hydrocodone) - Lightening Fast Shipping!|\n",
      "|5kg Highest Purity Cocaine - Direct From Colombia                                       |\n",
      "|NORCO (QTY 30) from U.S. Pharmacies ONLY! (10mg hydrocodone) - Lightening Fast Shipping!|\n",
      "|Ephedrine 30mg 500,000 tabs                                                             |\n",
      "|Ephedrine 30mg 500,000 tabs                                                             |\n",
      "|NORCO (QTY 30) from U.S. Pharmacies ONLY! (10mg hydrocodone) - Lightening Fast Shipping!|\n",
      "|Ephedrine 30mg 500,000 tabs                                                             |\n",
      "|Ephedrine 30mg 500,000 tabs                                                             |\n",
      "|250x Green Heineken XTC Pills (200mg) +++ Very Intense +++FINALIZE EARLY                |\n",
      "|250x Green Heineken XTC Pills (200mg) +++ Very Intense +++FINALIZE EARLY                |\n",
      "|250x Green Heineken XTC Pills (200mg) +++ Very Intense +++FINALIZE EARLY                |\n",
      "|250x Plus Minus XTC Pills (200mg) +++ Very Intense +++FINALIZE EARLY                    |\n",
      "|250x Green Heineken XTC Pills (200mg) +++ Very Intense +++FINALIZE EARLY                |\n",
      "|250x Green Heineken XTC Pills (200mg) +++ Very Intense +++FINALIZE EARLY                |\n",
      "|250x Plus Minus XTC Pills (200mg) +++ Very Intense +++FINALIZE EARLY                    |\n",
      "|250x Plus Minus XTC Pills (200mg) +++ Very Intense +++FINALIZE EARLY                    |\n",
      "|250x Green Heineken XTC Pills (200mg) +++ Very Intense +++FINALIZE EARLY                |\n",
      "|250x Green Heineken XTC Pills (200mg) +++ Very Intense +++FINALIZE EARLY                |\n",
      "|250x Green Heineken XTC Pills (200mg) +++ Very Intense +++FINALIZE EARLY                |\n",
      "|250x Plus Minus XTC Pills (200mg) +++ Very Intense +++FINALIZE EARLY                    |\n",
      "|250x Plus Minus XTC Pills (200mg) +++ Very Intense +++FINALIZE EARLY                    |\n",
      "|250x Green Heineken XTC Pills (200mg) +++ Very Intense +++FINALIZE EARLY                |\n",
      "|250x Green Heineken XTC Pills (200mg) +++ Very Intense +++FINALIZE EARLY                |\n",
      "|250x Green Heineken XTC Pills (200mg) +++ Very Intense +++FINALIZE EARLY                |\n",
      "|250x Green Heineken XTC Pills (200mg) +++ Very Intense +++FINALIZE EARLY                |\n",
      "|250x Green Heineken XTC Pills (200mg) +++ Very Intense +++FINALIZE EARLY                |\n",
      "|NORCO (QTY 30) from U.S. Pharmacies ONLY! (10mg hydrocodone) - Lightening Fast Shipping!|\n",
      "|Ephedrine 30mg 500,000 tabs                                                             |\n",
      "|5kg Highest Purity Cocaine - Direct From Colombia                                       |\n",
      "|Ephedrine 30mg 500,000 tabs                                                             |\n",
      "|Ephedrine 30mg 500,000 tabs                                                             |\n",
      "|☻☻ 100g of PURE Dutch MDMA - DOMESTIC ☻☻                                                |\n",
      "|NORCO (QTY 30) from U.S. Pharmacies ONLY! (10mg hydrocodone) - Lightening Fast Shipping!|\n",
      "|NORCO (QTY 30) from U.S. Pharmacies ONLY! (10mg hydrocodone) - Lightening Fast Shipping!|\n",
      "|NORCO (QTY 30) from U.S. Pharmacies ONLY! (10mg hydrocodone) - Lightening Fast Shipping!|\n",
      "|5kg Highest Purity Cocaine - Direct From Colombia                                       |\n",
      "|Ephedrine 30mg 500,000 tabs                                                             |\n",
      "|NORCO (QTY 30) from U.S. Pharmacies ONLY! (10mg hydrocodone) - Lightening Fast Shipping!|\n",
      "|5kg Highest Purity Cocaine - Direct From Colombia                                       |\n",
      "|Ephedrine 30mg 500,000 tabs                                                             |\n",
      "|5kg Highest Purity Cocaine - Direct From Colombia                                       |\n",
      "|Ephedrine 30mg 500,000 tabs                                                             |\n",
      "|5kg Highest Purity Cocaine - Direct From Colombia                                       |\n",
      "|Ephedrine 30mg 500,000 tabs                                                             |\n",
      "|NORCO (QTY 30) from U.S. Pharmacies ONLY! (10mg hydrocodone) - Lightening Fast Shipping!|\n",
      "|Ephedrine 30mg 500,000 tabs                                                             |\n",
      "|Ephedrine 30mg 500,000 tabs                                                             |\n",
      "|5kg Highest Purity Cocaine - Direct From Colombia                                       |\n",
      "|5kg Highest Purity Cocaine - Direct From Colombia                                       |\n",
      "|5kg Highest Purity Cocaine - Direct From Colombia                                       |\n",
      "|5kg Highest Purity Cocaine - Direct From Colombia                                       |\n",
      "|5kg Highest Purity Cocaine - Direct From Colombia                                       |\n",
      "|Ephedrine 30mg 500,000 tabs                                                             |\n",
      "|5kg Highest Purity Cocaine - Direct From Colombia                                       |\n",
      "|NORCO (QTY 30) from U.S. Pharmacies ONLY! (10mg hydrocodone) - Lightening Fast Shipping!|\n",
      "|5kg Highest Purity Cocaine - Direct From Colombia                                       |\n",
      "|5kg Highest Purity Cocaine - Direct From Colombia                                       |\n",
      "|5kg Highest Purity Cocaine - Direct From Colombia                                       |\n",
      "|5kg Highest Purity Cocaine - Direct From Colombia                                       |\n",
      "|NORCO (QTY 30) YELLOW QUALITEST BRAND ONLY - Lightening Fast Shipping!                  |\n",
      "|5kg Highest Purity Cocaine - Direct From Colombia                                       |\n",
      "|5kg Highest Purity Cocaine - Direct From Colombia                                       |\n",
      "|NORCO (QTY 30) from U.S. Pharmacies ONLY! (10mg hydrocodone) - Lightening Fast Shipping!|\n",
      "|5kg Highest Purity Cocaine - Direct From Colombia                                       |\n",
      "|NORCO (QTY 30) from U.S. Pharmacies ONLY! (10mg hydrocodone) - Lightening Fast Shipping!|\n",
      "|5kg Highest Purity Cocaine - Direct From Colombia                                       |\n",
      "|500gr Durban Poison (Outdoors)                                                          |\n",
      "|5kg Highest Purity Cocaine - Direct From Colombia                                       |\n",
      "|NORCO (QTY 30) from U.S. Pharmacies ONLY! (10mg hydrocodone) - Lightening Fast Shipping!|\n",
      "|5kg Highest Purity Cocaine - Direct From Colombia                                       |\n",
      "|5kg Highest Purity Cocaine - Direct From Colombia                                       |\n",
      "|5kg Highest Purity Cocaine - Direct From Colombia                                       |\n",
      "|5kg Highest Purity Cocaine - Direct From Colombia                                       |\n",
      "|5kg Highest Purity Cocaine - Direct From Colombia                                       |\n",
      "|NORCO (QTY 30) from U.S. Pharmacies ONLY! (10mg hydrocodone) - Lightening Fast Shipping!|\n",
      "|5kg Highest Purity Cocaine - Direct From Colombia                                       |\n",
      "|5kg Highest Purity Cocaine - Direct From Colombia                                       |\n",
      "|NORCO (QTY 30) from U.S. Pharmacies ONLY! (10mg hydrocodone) - Lightening Fast Shipping!|\n",
      "|5kg Highest Purity Cocaine - Direct From Colombia                                       |\n",
      "|5kg Highest Purity Cocaine - Direct From Colombia                                       |\n",
      "|5kg Highest Purity Cocaine - Direct From Colombia                                       |\n",
      "|10kg Highest Purity Cocaine - Direct From Colombia                                      |\n",
      "|5kg Highest Purity Cocaine - Direct From Colombia                                       |\n",
      "|NORCO (QTY 30) from U.S. Pharmacies ONLY! (10mg hydrocodone) - Lightening Fast Shipping!|\n",
      "|5kg Highest Purity Cocaine - Direct From Colombia                                       |\n",
      "|NORCO (QTY 30) from U.S. Pharmacies ONLY! (10mg hydrocodone) - Lightening Fast Shipping!|\n",
      "|5kg Highest Purity Cocaine - Direct From Colombia                                       |\n",
      "|5kg Highest Purity Cocaine - Direct From Colombia                                       |\n",
      "|NORCO (QTY 30) from U.S. Pharmacies ONLY! (10mg hydrocodone) - Lightening Fast Shipping!|\n",
      "|5kg Highest Purity Cocaine - Direct From Colombia                                       |\n",
      "|5kg Highest Purity Cocaine - Direct From Colombia                                       |\n",
      "|10kg Highest Purity Cocaine - Direct From Colombia                                      |\n",
      "|10x Plus Minus XTC Pills (200mg) +++ Very Intense +++                                   |\n",
      "|10x Plus Minus XTC Pills (200mg) +++ Very Intense +++                                   |\n",
      "|10x Plus Minus XTC Pills (200mg) +++ Very Intense +++                                   |\n",
      "|10x Plus Minus XTC Pills (200mg) +++ Very Intense +++                                   |\n",
      "|10x Plus Minus XTC Pills (200mg) +++ Very Intense +++                                   |\n",
      "|5kg Highest Purity Cocaine - Direct From Colombia                                       |\n",
      "|5kg Highest Purity Cocaine - Direct From Colombia                                       |\n",
      "|5kg Highest Purity Cocaine - Direct From Colombia                                       |\n",
      "|NORCO (QTY 30) from U.S. Pharmacies ONLY! (10mg hydrocodone) - Lightening Fast Shipping!|\n",
      "|5kg Highest Purity Cocaine - Direct From Colombia                                       |\n",
      "|NORCO (QTY 30) from U.S. Pharmacies ONLY! (10mg hydrocodone) - Lightening Fast Shipping!|\n",
      "|5kg Highest Purity Cocaine - Direct From Colombia                                       |\n",
      "|Indoor Berry White A+ (1/4 pound)                                                       |\n",
      "|100 GRAM DUTCH MDMA HIGH GRADE 83% FREE SHIPPING                                        |\n",
      "|100 GRAM DUTCH MDMA HIGH GRADE 83% FREE SHIPPING                                        |\n",
      "|100 GRAM DUTCH MDMA HIGH GRADE 83% FREE SHIPPING                                        |\n",
      "|100 GRAM DUTCH MDMA HIGH GRADE 83% FREE SHIPPING                                        |\n",
      "|100 GRAM DUTCH MDMA HIGH GRADE 83% FREE SHIPPING                                        |\n",
      "|100 GRAM DUTCH MDMA HIGH GRADE 83% FREE SHIPPING                                        |\n",
      "|100 GRAM DUTCH MDMA HIGH GRADE 83% FREE SHIPPING                                        |\n",
      "|100 GRAM DUTCH MDMA HIGH GRADE 83% FREE SHIPPING                                        |\n",
      "|100 GRAM DUTCH MDMA HIGH GRADE 83% FREE SHIPPING                                        |\n",
      "|100 GRAM DUTCH MDMA HIGH GRADE 83% FREE SHIPPING                                        |\n",
      "|100 GRAM DUTCH MDMA HIGH GRADE 83% FREE SHIPPING                                        |\n",
      "|100 GRAM DUTCH MDMA HIGH GRADE 83% FREE SHIPPING                                        |\n",
      "|100 GRAM DUTCH MDMA HIGH GRADE 83% FREE SHIPPING                                        |\n",
      "|100 GRAM DUTCH MDMA HIGH GRADE 83% FREE SHIPPING                                        |\n",
      "|100 GRAM DUTCH MDMA HIGH GRADE 83% FREE SHIPPING                                        |\n",
      "|100 GRAM DUTCH MDMA HIGH GRADE 83% FREE SHIPPING                                        |\n",
      "|NORCO (QTY 30) from U.S. Pharmacies ONLY! (10mg hydrocodone) - Lightening Fast Shipping!|\n",
      "|5kg Highest Purity Cocaine - Direct From Colombia                                       |\n",
      "|5kg Highest Purity Cocaine - Direct From Colombia                                       |\n",
      "|10kg Highest Purity Cocaine - Direct From Colombia                                      |\n",
      "|5kg Highest Purity Cocaine - Direct From Colombia                                       |\n",
      "|NORCO (QTY 30) from U.S. Pharmacies ONLY! (10mg hydrocodone) - Lightening Fast Shipping!|\n",
      "|5kg Highest Purity Cocaine - Direct From Colombia                                       |\n",
      "|5kg Highest Purity Cocaine - Direct From Colombia                                       |\n",
      "|5kg Highest Purity Cocaine - Direct From Colombia                                       |\n",
      "|5kg Highest Purity Cocaine - Direct From Colombia                                       |\n",
      "|5kg Highest Purity Cocaine - Direct From Colombia                                       |\n",
      "|10kg Highest Purity Cocaine - Direct From Colombia                                      |\n",
      "|5kg Highest Purity Cocaine - Direct From Colombia                                       |\n",
      "|BTC to Mastercard                                                                       |\n",
      "|BTC to Mastercard                                                                       |\n",
      "|NORCO (QTY 30) from U.S. Pharmacies ONLY! (10mg hydrocodone) - Lightening Fast Shipping!|\n",
      "|BTC to Mastercard                                                                       |\n",
      "|5kg Highest Purity Cocaine - Direct From Colombia                                       |\n",
      "|BTC to Mastercard                                                                       |\n",
      "|5kg Highest Purity Cocaine - Direct From Colombia                                       |\n",
      "|5kg Highest Purity Cocaine - Direct From Colombia                                       |\n",
      "|BTC to Mastercard                                                                       |\n",
      "|5kg Highest Purity Cocaine - Direct From Colombia                                       |\n",
      "|5kg Highest Purity Cocaine - Direct From Colombia                                       |\n",
      "|5kg Highest Purity Cocaine - Direct From Colombia                                       |\n",
      "|BTC to Mastercard                                                                       |\n",
      "|5kg Highest Purity Cocaine - Direct From Colombia                                       |\n",
      "|BTC to Mastercard                                                                       |\n",
      "|5kg Highest Purity Cocaine - Direct From Colombia                                       |\n",
      "|5kg Highest Purity Cocaine - Direct From Colombia                                       |\n",
      "|BTC to Mastercard                                                                       |\n",
      "|BTC to Mastercard                                                                       |\n",
      "|5kg Highest Purity Cocaine - Direct From Colombia                                       |\n",
      "|5kg Highest Purity Cocaine - Direct From Colombia                                       |\n",
      "|NORCO (QTY 30) YELLOW QUALITEST BRAND ONLY - Lightening Fast Shipping!                  |\n",
      "|5kg Highest Purity Cocaine - Direct From Colombia                                       |\n",
      "|5kg Highest Purity Cocaine - Direct From Colombia                                       |\n",
      "|NORCO (QTY 30) YELLOW QUALITEST BRAND ONLY - Lightening Fast Shipping!                  |\n",
      "|BTC to Mastercard                                                                       |\n",
      "|5kg Highest Purity Cocaine - Direct From Colombia                                       |\n",
      "|BTC to Mastercard                                                                       |\n",
      "|NORCO (QTY 30) YELLOW QUALITEST BRAND ONLY - Lightening Fast Shipping!                  |\n",
      "|5kg Highest Purity Cocaine - Direct From Colombia                                       |\n",
      "|BTC to Mastercard                                                                       |\n",
      "|5kg Highest Purity Cocaine - Direct From Colombia                                       |\n",
      "|BTC to Mastercard                                                                       |\n",
      "|5kg Highest Purity Cocaine - Direct From Colombia                                       |\n",
      "|5kg Highest Purity Cocaine - Direct From Colombia                                       |\n",
      "|5kg Highest Purity Cocaine - Direct From Colombia                                       |\n",
      "|BTC to Mastercard                                                                       |\n",
      "|NORCO (QTY 30) YELLOW QUALITEST BRAND ONLY - Lightening Fast Shipping!                  |\n",
      "|Mephedrone (old school) 1g                                                              |\n",
      "|Mephedrone (old school) 1g                                                              |\n",
      "|Mephedrone (old school) 1g                                                              |\n",
      "|Mephedrone (old school) 1g                                                              |\n",
      "|Mephedrone (old school) 1g                                                              |\n",
      "|custom listing 6                                                                        |\n",
      "|Mephedrone (old school) 1g                                                              |\n",
      "|Mephedrone (old school) 1g                                                              |\n",
      "|Mephedrone (old school) 1g                                                              |\n",
      "|Mephedrone (old school) 1g                                                              |\n",
      "|Mephedrone (old school) 1g                                                              |\n",
      "|Mephedrone (old school) 1g                                                              |\n",
      "|Mephedrone (old school) 1g                                                              |\n",
      "|Mephedrone (old school) 1g                                                              |\n",
      "|Mephedrone (old school) 1g                                                              |\n",
      "|Mephedrone (old school) 1g                                                              |\n",
      "|Mephedrone (old school) 1g                                                              |\n",
      "|Wax Sample(SILVER HAZE, OG, & EXODUS)                                                   |\n",
      "|Mephedrone (old school) 1g                                                              |\n",
      "|Mephedrone (old school) 1g                                                              |\n",
      "|Mephedrone (old school) 1g                                                              |\n",
      "|Mephedrone (old school) 1g                                                              |\n",
      "+----------------------------------------------------------------------------------------+\n",
      "only showing top 200 rows\n",
      "\n"
     ]
    }
   ],
   "source": [
    "sortedDF.select('name').show(200,False)"
   ]
  },
  {
   "cell_type": "code",
   "execution_count": 206,
   "metadata": {
    "scrolled": true
   },
   "outputs": [],
   "source": [
    "magic_percentile = F.expr('percentile_approx(price, 0.5)')\n",
    "dfAvgBTCprice = sortedDF.groupBy(\"date\", 'vendor', 'cat').agg(magic_percentile.alias('med_val'), F.count('name'))"
   ]
  },
  {
   "cell_type": "code",
   "execution_count": 205,
   "metadata": {},
   "outputs": [
    {
     "name": "stdout",
     "output_type": "stream",
     "text": [
      "+-----+--------------------+------------+---------+---------------+----------+-----+----------+\n",
      "|  _c0|                name|       price|     from|         vendor|  cat_hash|  cat|      date|\n",
      "+-----+--------------------+------------+---------+---------------+----------+-----+----------+\n",
      "|19365|Ephedrine 30mg 50...|995.34240837| [europe]|Xtremenutrition|VbYkVyY0R9|Drugs|2015-05-13|\n",
      "| 1354|5kg Highest Purit...|992.79645363|    [usa]|  HonestCocaine|qNh4FhpMVd|Drugs|2015-02-11|\n",
      "|18782|Ephedrine 30mg 50...|992.34977241| [europe]|Xtremenutrition|VbYkVyY0R9|Drugs|2015-05-04|\n",
      "|10223|Ephedrine 30mg 50...| 991.3562221| [europe]|Xtremenutrition|VbYkVyY0R9|Drugs|2015-05-11|\n",
      "| 9503|50g 73% Extremely...|990.54918104|[germany]|           MjJo|PDbdpyyhd6|Drugs|2015-01-23|\n",
      "| 5132|☻☻ 100g of PURE D...|987.06438349|    [usa]|  ForeverStrung|dFMYyRa90s|Drugs|2014-11-18|\n",
      "| 6243|NORCO (QTY 30) fr...|979.76228718|    [usa]|  AgentSmith008|jKipXwYE2w|Drugs|2015-01-01|\n",
      "|  511|5kg Highest Purit...|979.05282331|    [usa]|  HonestCocaine|qNh4FhpMVd|Drugs|2015-02-13|\n",
      "| 7953|NORCO (QTY 30) fr...|978.75617739|    [usa]|  AgentSmith008|jKipXwYE2w|Drugs|2014-12-20|\n",
      "|16969|Ephedrine 30mg 50...|973.64690457| [europe]|Xtremenutrition|VbYkVyY0R9|Drugs|2015-04-02|\n",
      "|18147|Ephedrine 30mg 50...|973.56712687| [europe]|Xtremenutrition|VbYkVyY0R9|Drugs|2015-06-22|\n",
      "| 7262|NORCO (QTY 30) fr...|972.94883246|    [usa]|  AgentSmith008|jKipXwYE2w|Drugs|2014-12-30|\n",
      "|20056|Ephedrine 30mg 50...|969.99061186| [europe]|Xtremenutrition|VbYkVyY0R9|Drugs|2015-04-10|\n",
      "|17734|Ephedrine 30mg 50...|967.69963757| [europe]|Xtremenutrition|VbYkVyY0R9|Drugs|2015-03-30|\n",
      "| 6669|250x Plus Minus X...|       965.0|[germany]|  StealthBomber|p8ewKNoNk3|Drugs|2014-10-25|\n",
      "| 6727|250x Green Heinek...|       965.0|[germany]|  StealthBomber|p8ewKNoNk3|Drugs|2014-11-01|\n",
      "| 7411|250x Green Heinek...|       965.0|[germany]|  StealthBomber|p8ewKNoNk3|Drugs|2014-11-18|\n",
      "| 4824|250x Plus Minus X...|       965.0|[germany]|  StealthBomber|p8ewKNoNk3|Drugs|2014-10-27|\n",
      "| 7843|250x Green Heinek...|       965.0|[germany]|  StealthBomber|p8ewKNoNk3|Drugs|2014-11-11|\n",
      "| 6988|250x Green Heinek...|       965.0|[germany]|  StealthBomber|p8ewKNoNk3|Drugs|2014-11-15|\n",
      "+-----+--------------------+------------+---------+---------------+----------+-----+----------+\n",
      "only showing top 20 rows\n",
      "\n"
     ]
    }
   ],
   "source": [
    "sortedDF.show()"
   ]
  },
  {
   "cell_type": "code",
   "execution_count": 207,
   "metadata": {},
   "outputs": [
    {
     "name": "stdout",
     "output_type": "stream",
     "text": [
      "+----------+------------------+-----------+----------+-----------+\n",
      "|      date|            vendor|        cat|   med_val|count(name)|\n",
      "+----------+------------------+-----------+----------+-----------+\n",
      "|2014-01-01|             MaBra|      Drugs|0.04021918|          4|\n",
      "|2014-01-01|          realfake|Information|0.01329857|         10|\n",
      "|2014-01-26| Dr_Mephistopheles|   Services|0.06195556|          2|\n",
      "|2014-01-26|         blackhand|Information|0.00185873|        102|\n",
      "|2014-01-26|           nawlins|      Drugs|0.06823821|          5|\n",
      "|2014-02-02|        MadCorsair|      Drugs|0.07981924|          3|\n",
      "|2014-02-02|           Massive|Information|0.01840513|          8|\n",
      "|2014-02-02|          apoteket|      Drugs|0.10430727|          2|\n",
      "|2014-02-02|       digitalpunk|      Drugs|0.33132899|          5|\n",
      "|2014-02-02|          dmtnexus|      Drugs|0.04907975|          1|\n",
      "|2014-02-05|    jackiestovalls|      Drugs|0.46757521|        142|\n",
      "|2014-02-18|       gammagoblin|      Drugs| 0.1349292|          7|\n",
      "|2014-02-23|       MEGA_PHARMA|      Drugs| 0.1679173|        106|\n",
      "|2014-02-23|          MagicHat|   Services|0.17275376|          1|\n",
      "|2014-02-23|       ProperPacks|      Drugs| 0.4787234|         11|\n",
      "|2014-02-23|      TheBudFather|      Drugs| 0.2618031|          2|\n",
      "|2014-02-23|          caligirl|      Drugs|1.39140114|          9|\n",
      "|2014-02-24|420TwentyFourSeven|      Drugs|0.23335128|          9|\n",
      "|2014-02-24|   KillerGreenBuds|      Drugs|0.40387722|          5|\n",
      "|2014-02-24|           cularis|      Drugs|0.67889814|          3|\n",
      "+----------+------------------+-----------+----------+-----------+\n",
      "only showing top 20 rows\n",
      "\n"
     ]
    }
   ],
   "source": [
    "dfAvgBTCprice.show()"
   ]
  },
  {
   "cell_type": "code",
   "execution_count": 226,
   "metadata": {},
   "outputs": [],
   "source": [
    "pdAvgPriceDF = dfAvgBTCprice.toPandas()\n"
   ]
  },
  {
   "cell_type": "code",
   "execution_count": 227,
   "metadata": {},
   "outputs": [],
   "source": [
    "pdAvgPriceDF = pdAvgPriceDF.rename(columns={\"date\": \"date\", \"med_val\": \"medPrice(BTC)\", \"count(name)\":\"nbOfProducts\"})"
   ]
  },
  {
   "cell_type": "code",
   "execution_count": 242,
   "metadata": {},
   "outputs": [
    {
     "data": {
      "text/html": [
       "<div>\n",
       "<style scoped>\n",
       "    .dataframe tbody tr th:only-of-type {\n",
       "        vertical-align: middle;\n",
       "    }\n",
       "\n",
       "    .dataframe tbody tr th {\n",
       "        vertical-align: top;\n",
       "    }\n",
       "\n",
       "    .dataframe thead th {\n",
       "        text-align: right;\n",
       "    }\n",
       "</style>\n",
       "<table border=\"1\" class=\"dataframe\">\n",
       "  <thead>\n",
       "    <tr style=\"text-align: right;\">\n",
       "      <th></th>\n",
       "      <th>date</th>\n",
       "      <th>vendor</th>\n",
       "      <th>cat</th>\n",
       "      <th>medPrice(BTC)</th>\n",
       "      <th>nbOfProducts</th>\n",
       "    </tr>\n",
       "  </thead>\n",
       "  <tbody>\n",
       "    <tr>\n",
       "      <td>0</td>\n",
       "      <td>2015-05-01</td>\n",
       "      <td>0.342041</td>\n",
       "      <td>60</td>\n",
       "    </tr>\n",
       "    <tr>\n",
       "      <td>1</td>\n",
       "      <td>2015-02-09</td>\n",
       "      <td>0.396560</td>\n",
       "      <td>19849</td>\n",
       "    </tr>\n",
       "    <tr>\n",
       "      <td>2</td>\n",
       "      <td>2015-02-26</td>\n",
       "      <td>0.376538</td>\n",
       "      <td>20831</td>\n",
       "    </tr>\n",
       "    <tr>\n",
       "      <td>3</td>\n",
       "      <td>2015-02-28</td>\n",
       "      <td>0.358695</td>\n",
       "      <td>20887</td>\n",
       "    </tr>\n",
       "    <tr>\n",
       "      <td>4</td>\n",
       "      <td>2014-11-01</td>\n",
       "      <td>0.352175</td>\n",
       "      <td>18663</td>\n",
       "    </tr>\n",
       "    <tr>\n",
       "      <td>5</td>\n",
       "      <td>2014-10-23</td>\n",
       "      <td>0.311753</td>\n",
       "      <td>1326</td>\n",
       "    </tr>\n",
       "    <tr>\n",
       "      <td>6</td>\n",
       "      <td>2015-01-18</td>\n",
       "      <td>0.408124</td>\n",
       "      <td>15532</td>\n",
       "    </tr>\n",
       "    <tr>\n",
       "      <td>7</td>\n",
       "      <td>2015-01-21</td>\n",
       "      <td>0.460914</td>\n",
       "      <td>19329</td>\n",
       "    </tr>\n",
       "    <tr>\n",
       "      <td>8</td>\n",
       "      <td>2015-03-29</td>\n",
       "      <td>0.321298</td>\n",
       "      <td>24311</td>\n",
       "    </tr>\n",
       "    <tr>\n",
       "      <td>9</td>\n",
       "      <td>2014-09-26</td>\n",
       "      <td>0.205996</td>\n",
       "      <td>8709</td>\n",
       "    </tr>\n",
       "    <tr>\n",
       "      <td>10</td>\n",
       "      <td>2014-12-28</td>\n",
       "      <td>0.310955</td>\n",
       "      <td>18130</td>\n",
       "    </tr>\n",
       "    <tr>\n",
       "      <td>11</td>\n",
       "      <td>2015-02-24</td>\n",
       "      <td>0.358725</td>\n",
       "      <td>20107</td>\n",
       "    </tr>\n",
       "    <tr>\n",
       "      <td>12</td>\n",
       "      <td>2014-07-30</td>\n",
       "      <td>0.028693</td>\n",
       "      <td>649</td>\n",
       "    </tr>\n",
       "    <tr>\n",
       "      <td>13</td>\n",
       "      <td>2015-02-03</td>\n",
       "      <td>0.377707</td>\n",
       "      <td>20369</td>\n",
       "    </tr>\n",
       "    <tr>\n",
       "      <td>14</td>\n",
       "      <td>2015-06-22</td>\n",
       "      <td>0.395192</td>\n",
       "      <td>22728</td>\n",
       "    </tr>\n",
       "    <tr>\n",
       "      <td>15</td>\n",
       "      <td>2014-01-09</td>\n",
       "      <td>0.104336</td>\n",
       "      <td>1823</td>\n",
       "    </tr>\n",
       "    <tr>\n",
       "      <td>16</td>\n",
       "      <td>2014-02-15</td>\n",
       "      <td>0.092039</td>\n",
       "      <td>474</td>\n",
       "    </tr>\n",
       "    <tr>\n",
       "      <td>17</td>\n",
       "      <td>2014-05-24</td>\n",
       "      <td>0.177576</td>\n",
       "      <td>11891</td>\n",
       "    </tr>\n",
       "    <tr>\n",
       "      <td>18</td>\n",
       "      <td>2014-11-27</td>\n",
       "      <td>0.222953</td>\n",
       "      <td>3319</td>\n",
       "    </tr>\n",
       "    <tr>\n",
       "      <td>19</td>\n",
       "      <td>2015-01-10</td>\n",
       "      <td>0.415743</td>\n",
       "      <td>12823</td>\n",
       "    </tr>\n",
       "  </tbody>\n",
       "</table>\n",
       "<p>203310 rows × 5 columns</p>\n",
       "</div>"
      ],
      "text/plain": [
       "             date             vendor          cat  medPrice(BTC)  nbOfProducts\n",
       "0      2014-01-01              MaBra        Drugs       0.040219             4\n",
       "1      2014-01-01           realfake  Information       0.013299            10\n",
       "2      2014-01-26  Dr_Mephistopheles     Services       0.061956             2\n",
       "3      2014-01-26          blackhand  Information       0.001859           102\n",
       "4      2014-01-26            nawlins        Drugs       0.068238             5\n",
       "...           ...                ...          ...            ...           ...\n",
       "203305 2015-07-04        GnarlyGnome        Drugs       0.215003             8\n",
       "203306 2015-07-04           Meerkovo        Drugs       0.734896             5\n",
       "203307 2015-07-04      Twice_As_Nice     Services       2.055116             1\n",
       "203308 2015-07-07              Fappy         Info       0.297586             1\n",
       "203309 2015-07-07         Remedyplus        Drugs       0.344234           142\n",
       "\n",
       "[203310 rows x 5 columns]"
      ]
     },
     "execution_count": 242,
     "metadata": {},
     "output_type": "execute_result"
    }
   ],
   "source": [
    "pdAvgPriceDF"
   ]
  },
  {
   "cell_type": "code",
   "execution_count": 234,
   "metadata": {},
   "outputs": [
    {
     "data": {
      "text/plain": [
       "date             datetime64[ns]\n",
       "vendor                   object\n",
       "cat                      object\n",
       "medPrice(BTC)           float64\n",
       "nbOfProducts              int64\n",
       "dtype: object"
      ]
     },
     "execution_count": 234,
     "metadata": {},
     "output_type": "execute_result"
    }
   ],
   "source": [
    "pdAvgPriceDF.dtypes"
   ]
  },
  {
   "cell_type": "markdown",
   "metadata": {},
   "source": [
    "### Load BTC prices"
   ]
  },
  {
   "cell_type": "code",
   "execution_count": 212,
   "metadata": {},
   "outputs": [],
   "source": [
    "btcPriceDF= pd.read_csv(\"../data/bitcoin_csv.csv\",usecols=['date', 'price(USD)'])"
   ]
  },
  {
   "cell_type": "code",
   "execution_count": 213,
   "metadata": {},
   "outputs": [],
   "source": [
    "btcPriceDF = btcPriceDF.dropna()\n",
    "btcPriceDF = btcPriceDF.rename(columns ={'price(USD)':'price'})"
   ]
  },
  {
   "cell_type": "code",
   "execution_count": 214,
   "metadata": {},
   "outputs": [
    {
     "data": {
      "text/html": [
       "<div>\n",
       "<style scoped>\n",
       "    .dataframe tbody tr th:only-of-type {\n",
       "        vertical-align: middle;\n",
       "    }\n",
       "\n",
       "    .dataframe tbody tr th {\n",
       "        vertical-align: top;\n",
       "    }\n",
       "\n",
       "    .dataframe thead th {\n",
       "        text-align: right;\n",
       "    }\n",
       "</style>\n",
       "<table border=\"1\" class=\"dataframe\">\n",
       "  <thead>\n",
       "    <tr style=\"text-align: right;\">\n",
       "      <th></th>\n",
       "      <th>date</th>\n",
       "      <th>price</th>\n",
       "    </tr>\n",
       "  </thead>\n",
       "  <tbody>\n",
       "    <tr>\n",
       "      <td>1570</td>\n",
       "      <td>2013-04-28</td>\n",
       "      <td>135.30</td>\n",
       "    </tr>\n",
       "    <tr>\n",
       "      <td>1571</td>\n",
       "      <td>2013-04-29</td>\n",
       "      <td>134.44</td>\n",
       "    </tr>\n",
       "    <tr>\n",
       "      <td>1572</td>\n",
       "      <td>2013-04-30</td>\n",
       "      <td>144.00</td>\n",
       "    </tr>\n",
       "    <tr>\n",
       "      <td>1573</td>\n",
       "      <td>2013-05-01</td>\n",
       "      <td>139.00</td>\n",
       "    </tr>\n",
       "    <tr>\n",
       "      <td>1574</td>\n",
       "      <td>2013-05-02</td>\n",
       "      <td>116.38</td>\n",
       "    </tr>\n",
       "    <tr>\n",
       "      <td>...</td>\n",
       "      <td>...</td>\n",
       "      <td>...</td>\n",
       "    </tr>\n",
       "    <tr>\n",
       "      <td>3600</td>\n",
       "      <td>2018-11-18</td>\n",
       "      <td>5559.74</td>\n",
       "    </tr>\n",
       "    <tr>\n",
       "      <td>3601</td>\n",
       "      <td>2018-11-19</td>\n",
       "      <td>5620.78</td>\n",
       "    </tr>\n",
       "    <tr>\n",
       "      <td>3602</td>\n",
       "      <td>2018-11-20</td>\n",
       "      <td>4863.93</td>\n",
       "    </tr>\n",
       "    <tr>\n",
       "      <td>3603</td>\n",
       "      <td>2018-11-21</td>\n",
       "      <td>4465.54</td>\n",
       "    </tr>\n",
       "    <tr>\n",
       "      <td>3604</td>\n",
       "      <td>2018-11-22</td>\n",
       "      <td>4611.57</td>\n",
       "    </tr>\n",
       "  </tbody>\n",
       "</table>\n",
       "<p>2035 rows × 2 columns</p>\n",
       "</div>"
      ],
      "text/plain": [
       "            date    price\n",
       "1570  2013-04-28   135.30\n",
       "1571  2013-04-29   134.44\n",
       "1572  2013-04-30   144.00\n",
       "1573  2013-05-01   139.00\n",
       "1574  2013-05-02   116.38\n",
       "...          ...      ...\n",
       "3600  2018-11-18  5559.74\n",
       "3601  2018-11-19  5620.78\n",
       "3602  2018-11-20  4863.93\n",
       "3603  2018-11-21  4465.54\n",
       "3604  2018-11-22  4611.57\n",
       "\n",
       "[2035 rows x 2 columns]"
      ]
     },
     "execution_count": 214,
     "metadata": {},
     "output_type": "execute_result"
    }
   ],
   "source": [
    "btcPriceDF"
   ]
  },
  {
   "cell_type": "code",
   "execution_count": 25,
   "metadata": {},
   "outputs": [],
   "source": [
    "import datetime as dt"
   ]
  },
  {
   "cell_type": "code",
   "execution_count": 26,
   "metadata": {},
   "outputs": [],
   "source": [
    "def convertDates(s):\n",
    "    return dt.datetime.strptime(s, '%b %d, %Y')"
   ]
  },
  {
   "cell_type": "code",
   "execution_count": 27,
   "metadata": {},
   "outputs": [],
   "source": [
    "def convertDatesAVGPrice(s):\n",
    "    return dt.datetime.strptime(s, '%Y-%m-%d')"
   ]
  },
  {
   "cell_type": "code",
   "execution_count": 215,
   "metadata": {},
   "outputs": [],
   "source": [
    "btcPriceDF.date = btcPriceDF.date.apply(convertDatesAVGPrice)"
   ]
  },
  {
   "cell_type": "code",
   "execution_count": 216,
   "metadata": {},
   "outputs": [
    {
     "data": {
      "text/plain": [
       "date     datetime64[ns]\n",
       "price           float64\n",
       "dtype: object"
      ]
     },
     "execution_count": 216,
     "metadata": {},
     "output_type": "execute_result"
    }
   ],
   "source": [
    "btcPriceDF.dtypes"
   ]
  },
  {
   "cell_type": "code",
   "execution_count": 217,
   "metadata": {},
   "outputs": [],
   "source": [
    "btcPriceDF = btcPriceDF.set_index('date')"
   ]
  },
  {
   "cell_type": "code",
   "execution_count": 218,
   "metadata": {},
   "outputs": [
    {
     "data": {
      "text/html": [
       "<div>\n",
       "<style scoped>\n",
       "    .dataframe tbody tr th:only-of-type {\n",
       "        vertical-align: middle;\n",
       "    }\n",
       "\n",
       "    .dataframe tbody tr th {\n",
       "        vertical-align: top;\n",
       "    }\n",
       "\n",
       "    .dataframe thead th {\n",
       "        text-align: right;\n",
       "    }\n",
       "</style>\n",
       "<table border=\"1\" class=\"dataframe\">\n",
       "  <thead>\n",
       "    <tr style=\"text-align: right;\">\n",
       "      <th></th>\n",
       "      <th>price</th>\n",
       "    </tr>\n",
       "    <tr>\n",
       "      <th>date</th>\n",
       "      <th></th>\n",
       "    </tr>\n",
       "  </thead>\n",
       "  <tbody>\n",
       "    <tr>\n",
       "      <th>2013-04-28</th>\n",
       "      <td>135.30</td>\n",
       "    </tr>\n",
       "    <tr>\n",
       "      <th>2013-04-29</th>\n",
       "      <td>134.44</td>\n",
       "    </tr>\n",
       "    <tr>\n",
       "      <th>2013-04-30</th>\n",
       "      <td>144.00</td>\n",
       "    </tr>\n",
       "    <tr>\n",
       "      <th>2013-05-01</th>\n",
       "      <td>139.00</td>\n",
       "    </tr>\n",
       "    <tr>\n",
       "      <th>2013-05-02</th>\n",
       "      <td>116.38</td>\n",
       "    </tr>\n",
       "    <tr>\n",
       "      <th>...</th>\n",
       "      <td>...</td>\n",
       "    </tr>\n",
       "    <tr>\n",
       "      <th>2018-11-18</th>\n",
       "      <td>5559.74</td>\n",
       "    </tr>\n",
       "    <tr>\n",
       "      <th>2018-11-19</th>\n",
       "      <td>5620.78</td>\n",
       "    </tr>\n",
       "    <tr>\n",
       "      <th>2018-11-20</th>\n",
       "      <td>4863.93</td>\n",
       "    </tr>\n",
       "    <tr>\n",
       "      <th>2018-11-21</th>\n",
       "      <td>4465.54</td>\n",
       "    </tr>\n",
       "    <tr>\n",
       "      <th>2018-11-22</th>\n",
       "      <td>4611.57</td>\n",
       "    </tr>\n",
       "  </tbody>\n",
       "</table>\n",
       "<p>2035 rows × 1 columns</p>\n",
       "</div>"
      ],
      "text/plain": [
       "              price\n",
       "date               \n",
       "2013-04-28   135.30\n",
       "2013-04-29   134.44\n",
       "2013-04-30   144.00\n",
       "2013-05-01   139.00\n",
       "2013-05-02   116.38\n",
       "...             ...\n",
       "2018-11-18  5559.74\n",
       "2018-11-19  5620.78\n",
       "2018-11-20  4863.93\n",
       "2018-11-21  4465.54\n",
       "2018-11-22  4611.57\n",
       "\n",
       "[2035 rows x 1 columns]"
      ]
     },
     "execution_count": 218,
     "metadata": {},
     "output_type": "execute_result"
    }
   ],
   "source": [
    "btcPriceDF"
   ]
  },
  {
   "cell_type": "code",
   "execution_count": 230,
   "metadata": {},
   "outputs": [],
   "source": [
    "pdAvgPriceDF.date = pdAvgPriceDF.date.apply(convertDatesAVGPrice)"
   ]
  },
  {
   "cell_type": "code",
   "execution_count": 238,
   "metadata": {},
   "outputs": [],
   "source": [
    "id_to_drop = pdAvgPriceDF[pdAvgPriceDF.date.isin(good_dates)].index"
   ]
  },
  {
   "cell_type": "code",
   "execution_count": 240,
   "metadata": {
    "scrolled": true
   },
   "outputs": [
    {
     "data": {
      "text/plain": [
       "Int64Index([     2,      3,      4,      5,      6,      7,      8,      9,\n",
       "                10,     12,\n",
       "            ...\n",
       "            203296, 203297, 203298, 203303, 203304, 203305, 203306, 203307,\n",
       "            203308, 203309],\n",
       "           dtype='int64', length=100692)"
      ]
     },
     "execution_count": 240,
     "metadata": {},
     "output_type": "execute_result"
    }
   ],
   "source": [
    "id_to_drop"
   ]
  },
  {
   "cell_type": "code",
   "execution_count": 239,
   "metadata": {},
   "outputs": [],
   "source": [
    "test = pdAvgPriceDF.loc[id_to_drop]"
   ]
  },
  {
   "cell_type": "code",
   "execution_count": 241,
   "metadata": {},
   "outputs": [
    {
     "data": {
      "text/html": [
       "<div>\n",
       "<style scoped>\n",
       "    .dataframe tbody tr th:only-of-type {\n",
       "        vertical-align: middle;\n",
       "    }\n",
       "\n",
       "    .dataframe tbody tr th {\n",
       "        vertical-align: top;\n",
       "    }\n",
       "\n",
       "    .dataframe thead th {\n",
       "        text-align: right;\n",
       "    }\n",
       "</style>\n",
       "<table border=\"1\" class=\"dataframe\">\n",
       "  <thead>\n",
       "    <tr style=\"text-align: right;\">\n",
       "      <th></th>\n",
       "      <th>date</th>\n",
       "      <th>vendor</th>\n",
       "      <th>cat</th>\n",
       "      <th>medPrice(BTC)</th>\n",
       "      <th>nbOfProducts</th>\n",
       "    </tr>\n",
       "  </thead>\n",
       "  <tbody>\n",
       "    <tr>\n",
       "      <th>2</th>\n",
       "      <td>2014-01-26</td>\n",
       "      <td>Dr_Mephistopheles</td>\n",
       "      <td>Services</td>\n",
       "      <td>0.061956</td>\n",
       "      <td>2</td>\n",
       "    </tr>\n",
       "    <tr>\n",
       "      <th>3</th>\n",
       "      <td>2014-01-26</td>\n",
       "      <td>blackhand</td>\n",
       "      <td>Information</td>\n",
       "      <td>0.001859</td>\n",
       "      <td>102</td>\n",
       "    </tr>\n",
       "    <tr>\n",
       "      <th>4</th>\n",
       "      <td>2014-01-26</td>\n",
       "      <td>nawlins</td>\n",
       "      <td>Drugs</td>\n",
       "      <td>0.068238</td>\n",
       "      <td>5</td>\n",
       "    </tr>\n",
       "    <tr>\n",
       "      <th>5</th>\n",
       "      <td>2014-02-02</td>\n",
       "      <td>MadCorsair</td>\n",
       "      <td>Drugs</td>\n",
       "      <td>0.079819</td>\n",
       "      <td>3</td>\n",
       "    </tr>\n",
       "    <tr>\n",
       "      <th>6</th>\n",
       "      <td>2014-02-02</td>\n",
       "      <td>Massive</td>\n",
       "      <td>Information</td>\n",
       "      <td>0.018405</td>\n",
       "      <td>8</td>\n",
       "    </tr>\n",
       "    <tr>\n",
       "      <th>...</th>\n",
       "      <td>...</td>\n",
       "      <td>...</td>\n",
       "      <td>...</td>\n",
       "      <td>...</td>\n",
       "      <td>...</td>\n",
       "    </tr>\n",
       "    <tr>\n",
       "      <th>203305</th>\n",
       "      <td>2015-07-04</td>\n",
       "      <td>GnarlyGnome</td>\n",
       "      <td>Drugs</td>\n",
       "      <td>0.215003</td>\n",
       "      <td>8</td>\n",
       "    </tr>\n",
       "    <tr>\n",
       "      <th>203306</th>\n",
       "      <td>2015-07-04</td>\n",
       "      <td>Meerkovo</td>\n",
       "      <td>Drugs</td>\n",
       "      <td>0.734896</td>\n",
       "      <td>5</td>\n",
       "    </tr>\n",
       "    <tr>\n",
       "      <th>203307</th>\n",
       "      <td>2015-07-04</td>\n",
       "      <td>Twice_As_Nice</td>\n",
       "      <td>Services</td>\n",
       "      <td>2.055116</td>\n",
       "      <td>1</td>\n",
       "    </tr>\n",
       "    <tr>\n",
       "      <th>203308</th>\n",
       "      <td>2015-07-07</td>\n",
       "      <td>Fappy</td>\n",
       "      <td>Info</td>\n",
       "      <td>0.297586</td>\n",
       "      <td>1</td>\n",
       "    </tr>\n",
       "    <tr>\n",
       "      <th>203309</th>\n",
       "      <td>2015-07-07</td>\n",
       "      <td>Remedyplus</td>\n",
       "      <td>Drugs</td>\n",
       "      <td>0.344234</td>\n",
       "      <td>142</td>\n",
       "    </tr>\n",
       "  </tbody>\n",
       "</table>\n",
       "<p>100692 rows × 5 columns</p>\n",
       "</div>"
      ],
      "text/plain": [
       "             date             vendor          cat  medPrice(BTC)  nbOfProducts\n",
       "2      2014-01-26  Dr_Mephistopheles     Services       0.061956             2\n",
       "3      2014-01-26          blackhand  Information       0.001859           102\n",
       "4      2014-01-26            nawlins        Drugs       0.068238             5\n",
       "5      2014-02-02         MadCorsair        Drugs       0.079819             3\n",
       "6      2014-02-02            Massive  Information       0.018405             8\n",
       "...           ...                ...          ...            ...           ...\n",
       "203305 2015-07-04        GnarlyGnome        Drugs       0.215003             8\n",
       "203306 2015-07-04           Meerkovo        Drugs       0.734896             5\n",
       "203307 2015-07-04      Twice_As_Nice     Services       2.055116             1\n",
       "203308 2015-07-07              Fappy         Info       0.297586             1\n",
       "203309 2015-07-07         Remedyplus        Drugs       0.344234           142\n",
       "\n",
       "[100692 rows x 5 columns]"
      ]
     },
     "execution_count": 241,
     "metadata": {},
     "output_type": "execute_result"
    }
   ],
   "source": [
    "test"
   ]
  },
  {
   "cell_type": "code",
   "execution_count": 259,
   "metadata": {},
   "outputs": [],
   "source": [
    "pdAvgPriceDF.to_csv('../saved_gen_df/prices_and_stuff_cat_vendorname.csv')"
   ]
  },
  {
   "cell_type": "code",
   "execution_count": 32,
   "metadata": {},
   "outputs": [],
   "source": [
    "pdAvgPriceDF.date = pdAvgPriceDF.date.apply(convertDatesAVGPrice)"
   ]
  },
  {
   "cell_type": "markdown",
   "metadata": {},
   "source": [
    "## Filter on good dates (WiP ..?)"
   ]
  },
  {
   "cell_type": "code",
   "execution_count": 34,
   "metadata": {},
   "outputs": [],
   "source": [
    "good_dates = ['2014-01-09', '2014-01-16', '2014-01-26', '2014-02-02',\n",
    "       '2014-02-05', '2014-02-23', '2014-02-24', '2014-02-28',\n",
    "       '2014-03-03', '2014-03-06', '2014-04-06', '2014-04-26',\n",
    "       '2014-05-16', '2014-05-24', '2014-06-01', '2014-08-03',\n",
    "       '2014-08-14', '2014-08-27', '2014-09-05', '2014-09-22',\n",
    "       '2014-10-25', '2014-10-29', '2014-10-31', '2014-11-06',\n",
    "       '2014-11-07', '2014-11-15', '2014-12-01', '2014-12-03',\n",
    "       '2014-12-06', '2014-12-10', '2014-12-15', '2014-12-20',\n",
    "       '2014-12-23', '2014-12-24', '2014-12-28', '2014-12-30',\n",
    "       '2015-01-01', '2015-01-08', '2015-01-09', '2015-01-15',\n",
    "       '2015-01-16', '2015-01-21', '2015-01-24', '2015-01-26',\n",
    "       '2015-01-28', '2015-02-01', '2015-02-02', '2015-02-09',\n",
    "       '2015-02-11', '2015-02-13', '2015-02-16', '2015-02-17',\n",
    "       '2015-02-24', '2015-02-26', '2015-02-28', '2015-03-03',\n",
    "       '2015-03-05', '2015-03-07', '2015-03-10', '2015-03-13',\n",
    "       '2015-03-15', '2015-03-19', '2015-03-22', '2015-03-29',\n",
    "       '2015-03-30', '2015-04-02', '2015-04-03', '2015-04-07',\n",
    "       '2015-04-10', '2015-04-12', '2015-04-25', '2015-04-27',\n",
    "       '2015-05-04', '2015-05-06', '2015-05-10', '2015-05-13',\n",
    "       '2015-06-04', '2015-06-11', '2015-06-15', '2015-06-20',\n",
    "       '2015-06-26', '2015-06-30', '2015-07-04', '2015-07-07']"
   ]
  },
  {
   "cell_type": "code",
   "execution_count": 35,
   "metadata": {},
   "outputs": [],
   "source": [
    "id_to_drop = pdAvgPriceDF[pdAvgPriceDF.index.isin(good_dates)].index"
   ]
  },
  {
   "cell_type": "code",
   "execution_count": 36,
   "metadata": {},
   "outputs": [
    {
     "data": {
      "text/plain": [
       "Int64Index([], dtype='int64')"
      ]
     },
     "execution_count": 36,
     "metadata": {},
     "output_type": "execute_result"
    }
   ],
   "source": [
    "id_to_drop"
   ]
  },
  {
   "cell_type": "code",
   "execution_count": null,
   "metadata": {},
   "outputs": [],
   "source": [
    "test = pdAvgPriceDF.loc[id_to_drop]"
   ]
  },
  {
   "cell_type": "code",
   "execution_count": null,
   "metadata": {},
   "outputs": [],
   "source": [
    "test"
   ]
  },
  {
   "cell_type": "code",
   "execution_count": null,
   "metadata": {},
   "outputs": [],
   "source": [
    "pdAvgPriceDF"
   ]
  },
  {
   "cell_type": "code",
   "execution_count": null,
   "metadata": {
    "scrolled": true
   },
   "outputs": [],
   "source": [
    "pdAvgPriceDF.drop(pdAvgPriceDF.reset_index()['date'] not in good_dates)"
   ]
  },
  {
   "cell_type": "markdown",
   "metadata": {},
   "source": [
    "## === Endof WiP Filter"
   ]
  },
  {
   "cell_type": "code",
   "execution_count": 244,
   "metadata": {},
   "outputs": [],
   "source": [
    "def convertBTC(entry):\n",
    "    date = entry.date\n",
    "    btcPrice = btcPriceDF.price[date]\n",
    "    entry['medPrice(dollars)'] = entry['medPrice(BTC)'] *btcPrice\n",
    "    return entry"
   ]
  },
  {
   "cell_type": "code",
   "execution_count": null,
   "metadata": {},
   "outputs": [],
   "source": []
  },
  {
   "cell_type": "code",
   "execution_count": null,
   "metadata": {},
   "outputs": [],
   "source": []
  },
  {
   "cell_type": "code",
   "execution_count": 248,
   "metadata": {},
   "outputs": [],
   "source": [
    "pdAvgPriceDF = pdAvgPriceDF.apply(convertBTC, axis=1)"
   ]
  },
  {
   "cell_type": "code",
   "execution_count": 249,
   "metadata": {},
   "outputs": [],
   "source": [
    "from matplotlib.dates import DateFormatter\n",
    "import matplotlib.dates as mdates\n",
    "import seaborn as sns\n",
    "\n",
    "def plotNDate(x, y, interval, title, y_label):\n",
    "    # Prettier plotting with seaborn\n",
    "    sns.set(font_scale=1.5, style=\"whitegrid\")\n",
    "\n",
    "    fig, ax = plt.subplots(figsize=(12, 8))\n",
    "    ax.plot(x,\n",
    "            y,\n",
    "            '-o',\n",
    "            color='purple')\n",
    "    ax.set(xlabel=\"Date\", ylabel=y_label,\n",
    "           title=title)\n",
    "    \n",
    "    plt.axvline(linewidth=4, color='r', x=\"2014-11-05\", label=\"Operation Onymous\")\n",
    "\n",
    "    # Format the x axis\n",
    "    ax.xaxis.set_major_locator(mdates.WeekdayLocator(interval=2))\n",
    "    ax.xaxis.set_major_formatter(DateFormatter(\"%d-%m-%y\"))\n",
    "\n",
    "    # Ensure ticks fall once every other week (interval=2) \n",
    "    ax.xaxis.set_major_locator(mdates.WeekdayLocator(interval=interval))\n",
    "    plt.legend()\n",
    "    plt.show()"
   ]
  },
  {
   "cell_type": "code",
   "execution_count": 250,
   "metadata": {},
   "outputs": [],
   "source": [
    "pdAvgPriceDF = pdAvgPriceDF.set_index('date')\n"
   ]
  },
  {
   "cell_type": "code",
   "execution_count": 251,
   "metadata": {},
   "outputs": [],
   "source": [
    "# clean outliers en mode cochon\n",
    "pdAvgPriceDF = pdAvgPriceDF[pdAvgPriceDF['medPrice(dollars)'] < 25000]"
   ]
  },
  {
   "cell_type": "code",
   "execution_count": 252,
   "metadata": {},
   "outputs": [],
   "source": [
    "pdAvgPriceDF = pdAvgPriceDF.sort_index()"
   ]
  },
  {
   "cell_type": "code",
   "execution_count": 253,
   "metadata": {},
   "outputs": [
    {
     "data": {
      "text/plain": [
       "24997.156180116"
      ]
     },
     "execution_count": 253,
     "metadata": {},
     "output_type": "execute_result"
    }
   ],
   "source": [
    "pdAvgPriceDF['medPrice(dollars)'].max()"
   ]
  },
  {
   "cell_type": "code",
   "execution_count": 257,
   "metadata": {},
   "outputs": [
    {
     "name": "stderr",
     "output_type": "stream",
     "text": [
      "/home/arthy/anaconda3/lib/python3.7/site-packages/IPython/core/pylabtools.py:128: UserWarning:\n",
      "\n",
      "Creating legend with loc=\"best\" can be slow with large amounts of data.\n",
      "/home/quentin/programs/anaconda3/envs/ada/lib/python3.7/site-packages/pandas/plotting/_matplotlib/converter.py:103: FutureWarning:\n",
      "\n",
      "Using an implicitly registered datetime converter for a matplotlib plotting method. The converter was registered by pandas on import. Future versions of pandas will require you to explicitly register matplotlib converters.\n",
      "\n",
      "To register the converters:\n",
      "\t>>> from pandas.plotting import register_matplotlib_converters\n",
      "\t>>> register_matplotlib_converters()\n",
      "\n"
     ]
    },
    {
     "data": {
      "image/png": "[encoded data removed]",
      "text/plain": [
       "<Figure size 864x576 with 1 Axes>"
      ]
     },
     "metadata": {},
     "output_type": "display_data"
    }
   ],
   "source": [
    "plotNDate(pdAvgPriceDF.index,pdAvgPriceDF['medPrice(dollars)'], 15 ,'Average products price along time','avgProductsPrice($)')"
   ]
  },
  {
   "cell_type": "markdown",
   "metadata": {},
   "source": [
    "## Trying to clean data "
   ]
  },
  {
   "cell_type": "code",
   "execution_count": 46,
   "metadata": {},
   "outputs": [],
   "source": [
    "dateSerie = pdAvgPriceDF.index.to_series()\n",
    "dateSerie = dateSerie.reset_index(drop=True)"
   ]
  },
  {
   "cell_type": "code",
   "execution_count": 47,
   "metadata": {},
   "outputs": [
    {
     "data": {
      "text/plain": [
       "0     2014-01-01\n",
       "1     2014-01-09\n",
       "2     2014-01-16\n",
       "3     2014-01-26\n",
       "4     2014-02-02\n",
       "         ...    \n",
       "196   2015-06-28\n",
       "197   2015-06-30\n",
       "198   2015-07-01\n",
       "199   2015-07-04\n",
       "200   2015-07-07\n",
       "Name: date, Length: 201, dtype: datetime64[ns]"
      ]
     },
     "execution_count": 47,
     "metadata": {},
     "output_type": "execute_result"
    }
   ],
   "source": [
    "dateSerie"
   ]
  },
  {
   "cell_type": "code",
   "execution_count": 48,
   "metadata": {},
   "outputs": [],
   "source": [
    "compressionwidth = 20"
   ]
  },
  {
   "cell_type": "code",
   "execution_count": 49,
   "metadata": {},
   "outputs": [],
   "source": [
    "def correctoutliers(entry):\n",
    "    currentDate = entry.name\n",
    "\n",
    "    ithEntry = dateSerie[dateSerie == currentDate ]\n",
    "\n",
    "    i = ithEntry.index[0]\n",
    "    localSubset = pdAvgPriceDF.loc[pdAvgPriceDF.index[i-compressionwidth]:pdAvgPriceDF.index[i+compressionwidth]]\n",
    "    minQ = localSubset[\"medPrice(dollars)\"].quantile(0.3)\n",
    "    maxQ = localSubset[\"medPrice(dollars)\" ].quantile(0.7)\n",
    "    avgP = entry['medPrice(dollars)']\n",
    "    if(avgP>maxQ or avgP<minQ):\n",
    "        entry['medPrice(dollars)'] = localSubset[\"medPrice(dollars)\"].mean()\n",
    "    return entry"
   ]
  },
  {
   "cell_type": "code",
   "execution_count": null,
   "metadata": {},
   "outputs": [],
   "source": []
  },
  {
   "cell_type": "code",
   "execution_count": 62,
   "metadata": {},
   "outputs": [],
   "source": [
    "correctedDF = pdAvgPriceDF.copy()"
   ]
  },
  {
   "cell_type": "code",
   "execution_count": 63,
   "metadata": {},
   "outputs": [],
   "source": [
    "correctedDF.iloc[compressionwidth:-compressionwidth] = correctedDF.iloc[compressionwidth:-compressionwidth].apply(correctoutliers, axis=1)"
   ]
  },
  {
   "cell_type": "code",
   "execution_count": 64,
   "metadata": {},
   "outputs": [],
   "source": [
    "rolledDF = correctedDF.copy()\n",
    "rolledDF = rolledDF.rolling(2).mean()"
   ]
  },
  {
   "cell_type": "markdown",
   "metadata": {},
   "source": [
    "## Plot time "
   ]
  },
  {
   "cell_type": "code",
   "execution_count": 65,
   "metadata": {},
   "outputs": [],
   "source": [
    "plottedDataFrame = rolledDF"
   ]
  },
  {
   "cell_type": "code",
   "execution_count": 66,
   "metadata": {},
   "outputs": [],
   "source": [
    "def plotNDate2(x,y1, y2, interval, title, y_label1, y_label2):\n",
    "    # Prettier plotting with seaborn\n",
    "    sns.set(font_scale=1.5, style=\"whitegrid\")\n",
    "\n",
    "    fig, ax = plt.subplots(figsize=(12, 8))\n",
    "\n",
    "    #ax.bar(x,y2,color='grey',width=1,linewidth=0)\n",
    "    ax.plot(x,y2,color='blue',linestyle='none', marker='.', label=y_label2)\n",
    "\n",
    "    \n",
    "    \n",
    "    ax.set(xlabel=\"Date\", ylabel=y_label2,\n",
    "           title=title)\n",
    "\n",
    "    ax2 = ax.twinx()\n",
    "    \n",
    "    ax2.set(ylabel=y_label1)\n",
    "    \n",
    "    ax2.plot(x, y1,'-', color='purple')\n",
    "    #ax2.set_ylim([0,900])\n",
    "    ax.set_ylim([0,30000])\n",
    "    #ax2.plot(btcPriceDF.index.to_series().iloc[300:-1200], btcPriceDF['price'].iloc[300:-1200],'-', color='orange')\n",
    "    \n",
    "    plt.axvline(linewidth=2, color='r', x=\"2014-11-05\", label=\"Operation Onymous\")\n",
    "\n",
    "    # Format the x axis\n",
    "    ax.xaxis.set_major_locator(mdates.WeekdayLocator(interval=2))\n",
    "    ax.xaxis.set_major_formatter(DateFormatter(\"%d-%m-%y\"))\n",
    "\n",
    "    # Ensure ticks fall once every other week (interval=2) \n",
    "    ax.xaxis.set_major_locator(mdates.WeekdayLocator(interval=interval))\n",
    "    plt.legend()\n",
    "    plt.show()"
   ]
  },
  {
   "cell_type": "code",
   "execution_count": 67,
   "metadata": {},
   "outputs": [
    {
     "data": {
      "image/png": "[encoded data removed]",
      "text/plain": [
       "<Figure size 864x576 with 2 Axes>"
      ]
     },
     "metadata": {},
     "output_type": "display_data"
    }
   ],
   "source": [
    "plotNDate2(plottedDataFrame.index,plottedDataFrame['medPrice(dollars)'],plottedDataFrame['nbOfProducts'], 15 ,'Average products price along time','avgProductsPrice($)','Size of the parsed listing')"
   ]
  },
  {
   "cell_type": "code",
   "execution_count": 68,
   "metadata": {},
   "outputs": [],
   "source": [
    "test.to_csv('../saved_gen_df/median_price_per_day_clean.csv')"
   ]
  },
  {
   "cell_type": "code",
   "execution_count": null,
   "metadata": {
    "scrolled": true
   },
   "outputs": [],
   "source": [
    "pdAvgPriceDF"
   ]
  },
  {
   "cell_type": "code",
   "execution_count": null,
   "metadata": {},
   "outputs": [],
   "source": []
  },
  {
   "cell_type": "code",
   "execution_count": null,
   "metadata": {},
   "outputs": [],
   "source": []
  },
  {
   "cell_type": "code",
   "execution_count": null,
   "metadata": {},
   "outputs": [],
   "source": []
  }
 ],
 "metadata": {
  "kernelspec": {
   "display_name": "Python 3",
   "language": "python",
   "name": "python3"
  },
  "language_info": {
   "codemirror_mode": {
    "name": "ipython",
    "version": 3
   },
   "file_extension": ".py",
   "mimetype": "text/x-python",
   "name": "python",
   "nbconvert_exporter": "python",
   "pygments_lexer": "ipython3",
   "version": "3.7.4"
  }
 },
 "nbformat": 4,
 "nbformat_minor": 2
}
