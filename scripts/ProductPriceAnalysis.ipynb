{
 "cells": [
  {
   "cell_type": "markdown",
   "metadata": {},
   "source": [
    "# Product prices analysis"
   ]
  },
  {
   "cell_type": "code",
   "execution_count": 1,
   "metadata": {},
   "outputs": [],
   "source": [
    "from bs4 import BeautifulSoup as bs\n",
    "import os\n",
    "import pandas as pd\n",
    "import numpy as np\n",
    "from collections import Counter\n",
    "import matplotlib.pyplot as plt\n",
    "import glob\n",
    "import seaborn as sns\n",
    "import plotly.express as px\n",
    "import descartes\n",
    "import re\n",
    "from datetime import datetime\n",
    "import calmap\n",
    "\n",
    "\n",
    "from pyspark import *\n",
    "from pyspark.sql import *\n",
    "from pyspark.sql.functions import *\n",
    "import re\n",
    "from pyspark.sql.types import ArrayType\n",
    "from pyspark.sql.types import StringType\n"
   ]
  },
  {
   "cell_type": "code",
   "execution_count": 2,
   "metadata": {},
   "outputs": [],
   "source": [
    "\n",
    "def init_spark(app_name, master_config):\n",
    "    \"\"\"\n",
    "    :params app_name: Name of the app\n",
    "    :params master_config: eg. local[4]\n",
    "    :returns SparkContext, SQLContext, SparkSession:\n",
    "    \"\"\"\n",
    "    conf = (SparkConf().setAppName(app_name).setMaster(master_config))\n",
    "\n",
    "    sc = SparkContext(conf=conf)\n",
    "    sc.setLogLevel(\"ERROR\")\n",
    "    sql_ctx = SQLContext(sc)\n",
    "    spark = SparkSession(sc)\n",
    "\n",
    "    return (sc, sql_ctx, spark)"
   ]
  },
  {
   "cell_type": "code",
   "execution_count": 3,
   "metadata": {},
   "outputs": [],
   "source": [
    "sc, sql_ctx, spark = init_spark(\"App_name\", \"local[4]\")"
   ]
  },
  {
   "cell_type": "code",
   "execution_count": 4,
   "metadata": {},
   "outputs": [
    {
     "data": {
      "text/plain": [
       "2805212"
      ]
     },
     "execution_count": 4,
     "metadata": {},
     "output_type": "execute_result"
    }
   ],
   "source": [
    "spark = SparkSession.builder.getOrCreate()\n",
    "sc = spark.sparkContext\n",
    "df = spark.read.option(\"header\", \"true\").csv(\"../data/cat_csv/*.csv\")\n",
    "df.count()"
   ]
  },
  {
   "cell_type": "code",
   "execution_count": 5,
   "metadata": {},
   "outputs": [],
   "source": [
    "def processCountries(country):\n",
    "    # Remove html tags\n",
    "    cleanr = re.compile('<.*?>')\n",
    "    cleanText = str(re.sub(cleanr, '', str(country)))\n",
    "    \n",
    "    # Remove spaces\n",
    "    cleanText = cleanText.strip(' ')\n",
    "    \n",
    "    # Remove \"\"\n",
    "    cleanText = cleanText.strip('\"')\n",
    "    \n",
    "    # Split for each country\n",
    "    cleanText = re.split(\"&|,|/\", cleanText)\n",
    "    \n",
    "    # Top Names reformat\n",
    "    cleanText = [re.sub(r'^(eu|europeanunion|euonly|europeuniononly|onlytoeurope|europeancountries|westerneurope|ukandeuonly|franceandeu)$', r'europe', w) for w in cleanText]\n",
    "    cleanText = [re.sub(r'^(everywhere|world|international|anywhere|worlwide|worldwideonrequest|ww|wordwide|global|worldwideinternational|wideworld|all|worldwidepriortracking|wordlwide|worldwideprior|worldwideprior|internationalworldwide|universe|everywhereworldwideanydestination|wolrdwide|wwshipping|freeworldwide|universal|woldwide|worldwideincludingaustralia|worldwidepriorthefastest|internationally)$', r'worldwide', w) for w in cleanText]\n",
    "    cleanText = [re.sub(r'^(usaonly|unitedstates|us|unitedstatesofamerica|usonly|unitedstatesonly)$', r'usa', w) for w in cleanText]\n",
    "    cleanText = [re.sub(r'^(unitedkingdom|ukonly)$', r'uk', w) for w in cleanText]\n",
    "    return cleanText\n",
    "\n",
    "udf_func_C = udf(processCountries, ArrayType(StringType()))\n",
    "\n",
    "def processCatHashs(cat_hash):\n",
    "    # Remove html end of files\n",
    "    cleanr = re.compile('.\\d*.html')\n",
    "    cleanText = str(re.sub(cleanr, '', str(cat_hash)))\n",
    "    return cleanText\n",
    "\n",
    "udf_func_H = udf(processCatHashs, StringType())\n",
    "\n",
    "# Remove rows without a valid date, error during parsing, file not complete\n",
    "df = df.filter(df[\"date\"].rlike(\"\\d\\d\\d\\d-\\d\\d-\\d\\d\"))\n",
    "\n",
    "# Remove rows without a price or not decimal, 642 in total, mainly due to error during parsing.\n",
    "df = df.filter(\"CAST(price AS DECIMAL) is not null\")\n",
    "\n",
    "# Remove the rows where name is null, all the columns are usually null in this case, (6 rows)\n",
    "df = df.filter(\"name is not null\")\n",
    "\n",
    "# Lowercase and process the countries\n",
    "df=df.withColumn(\"to\", lower(col(\"to\")))\n",
    "df=df.withColumn(\"to\", udf_func_C(col(\"to\")))\n",
    "\n",
    "# Lowercase and process the countries\n",
    "df=df.withColumn(\"from\", lower(col(\"from\")))\n",
    "df=df.withColumn(\"from\", udf_func_C(col(\"from\")))\n",
    "\n",
    "# Process the hashs\n",
    "df=df.withColumn(\"cat_hash\", udf_func_H(col(\"cat_hash\")))"
   ]
  },
  {
   "cell_type": "markdown",
   "metadata": {},
   "source": [
    "## DF Imported and cleaned at this point"
   ]
  },
  {
   "cell_type": "code",
   "execution_count": 6,
   "metadata": {},
   "outputs": [
    {
     "data": {
      "text/plain": [
       "pyspark.sql.dataframe.DataFrame"
      ]
     },
     "execution_count": 6,
     "metadata": {},
     "output_type": "execute_result"
    }
   ],
   "source": [
    "type(df)"
   ]
  },
  {
   "cell_type": "code",
   "execution_count": 7,
   "metadata": {},
   "outputs": [
    {
     "data": {
      "text/plain": [
       "DataFrame[_c0: string, name: string, price: string, from: array<string>, to: array<string>, vendor: string, cat_hash: string, cat: string, date: string]"
      ]
     },
     "execution_count": 7,
     "metadata": {},
     "output_type": "execute_result"
    }
   ],
   "source": [
    "df"
   ]
  },
  {
   "cell_type": "code",
   "execution_count": 8,
   "metadata": {},
   "outputs": [],
   "source": [
    "df = df.drop('from').drop('to')"
   ]
  },
  {
   "cell_type": "code",
   "execution_count": 9,
   "metadata": {},
   "outputs": [
    {
     "name": "stdout",
     "output_type": "stream",
     "text": [
      "+-----------+\n",
      "|      price|\n",
      "+-----------+\n",
      "| 0.60469965|\n",
      "| 1.39947068|\n",
      "| 0.14000000|\n",
      "| 0.45606694|\n",
      "| 5.22875816|\n",
      "| 0.42322415|\n",
      "| 0.15079027|\n",
      "|42.48810333|\n",
      "| 0.07833000|\n",
      "| 0.13524424|\n",
      "| 0.37949132|\n",
      "| 4.13361169|\n",
      "| 2.83741127|\n",
      "| 3.99900000|\n",
      "| 0.63025210|\n",
      "| 0.88235294|\n",
      "| 2.21105527|\n",
      "| 0.42446623|\n",
      "| 1.23376092|\n",
      "| 0.21027362|\n",
      "+-----------+\n",
      "only showing top 20 rows\n",
      "\n"
     ]
    }
   ],
   "source": [
    "df.select(\"price\").distinct().show()"
   ]
  },
  {
   "cell_type": "code",
   "execution_count": 10,
   "metadata": {},
   "outputs": [],
   "source": [
    "df = df.withColumn(\"price\", df[\"price\"].cast(\"double\"))"
   ]
  },
  {
   "cell_type": "code",
   "execution_count": 11,
   "metadata": {},
   "outputs": [
    {
     "data": {
      "text/plain": [
       "DataFrame[_c0: string, name: string, price: double, vendor: string, cat_hash: string, cat: string, date: string]"
      ]
     },
     "execution_count": 11,
     "metadata": {},
     "output_type": "execute_result"
    }
   ],
   "source": [
    "df"
   ]
  },
  {
   "cell_type": "code",
   "execution_count": 12,
   "metadata": {},
   "outputs": [],
   "source": [
    "from pyspark.sql import functions as F\n",
    "dfAvgBTCprice = df.groupBy(\"date\").agg(F.mean('price'),F.count('name'))"
   ]
  },
  {
   "cell_type": "code",
   "execution_count": 13,
   "metadata": {},
   "outputs": [
    {
     "name": "stdout",
     "output_type": "stream",
     "text": [
      "+----------+------------------+-----------+\n",
      "|      date|        avg(price)|count(name)|\n",
      "+----------+------------------+-----------+\n",
      "|2015-05-01| 1.118939097333333|         60|\n",
      "|2015-02-09| 7.461132928475234|      19862|\n",
      "|2015-02-28| 5.705755596473382|      20899|\n",
      "|2015-02-26| 5.577399104618678|      20842|\n",
      "|2014-11-01|25.936342161298292|      18676|\n",
      "|2014-10-23|1.9529272582956299|       1326|\n",
      "|2015-01-21| 9.376179547982483|      19345|\n",
      "|2015-01-18| 8.319188846327151|      15544|\n",
      "|2015-03-29| 4.174474557085601|      24324|\n",
      "|2014-09-26| 40.27707280161736|       8721|\n",
      "|2015-02-24| 5.665968588287313|      20119|\n",
      "|2014-12-28|21.056388786063177|      18143|\n",
      "|2014-07-30|1.0348169139137124|        649|\n",
      "|2015-02-03|6.1649180697743695|      20379|\n",
      "|2015-06-22|11.317011846595046|      22744|\n",
      "|2014-01-09| 1.022030795518377|       1823|\n",
      "|2014-02-15|0.6631877627848093|        474|\n",
      "|2014-05-24|298.15064259475895|      11894|\n",
      "|2014-11-27| 8.408431917253823|       3321|\n",
      "|2015-01-10| 7.642211204411633|      12832|\n",
      "+----------+------------------+-----------+\n",
      "only showing top 20 rows\n",
      "\n"
     ]
    }
   ],
   "source": [
    "dfAvgBTCprice.show()"
   ]
  },
  {
   "cell_type": "code",
   "execution_count": 14,
   "metadata": {},
   "outputs": [],
   "source": [
    "pdAvgPriceDF = dfAvgBTCprice.toPandas()"
   ]
  },
  {
   "cell_type": "code",
   "execution_count": 15,
   "metadata": {},
   "outputs": [],
   "source": [
    "pdAvgPriceDF = pdAvgPriceDF.rename(columns={\"date\": \"date\", \"avg(price)\": \"avgPrice(BTC)\", \"count(name)\":\"nbOfProducts\"})"
   ]
  },
  {
   "cell_type": "code",
   "execution_count": 16,
   "metadata": {},
   "outputs": [
    {
     "data": {
      "text/html": [
       "<div>\n",
       "<style scoped>\n",
       "    .dataframe tbody tr th:only-of-type {\n",
       "        vertical-align: middle;\n",
       "    }\n",
       "\n",
       "    .dataframe tbody tr th {\n",
       "        vertical-align: top;\n",
       "    }\n",
       "\n",
       "    .dataframe thead th {\n",
       "        text-align: right;\n",
       "    }\n",
       "</style>\n",
       "<table border=\"1\" class=\"dataframe\">\n",
       "  <thead>\n",
       "    <tr style=\"text-align: right;\">\n",
       "      <th></th>\n",
       "      <th>date</th>\n",
       "      <th>avgPrice(BTC)</th>\n",
       "      <th>nbOfProducts</th>\n",
       "    </tr>\n",
       "  </thead>\n",
       "  <tbody>\n",
       "    <tr>\n",
       "      <td>0</td>\n",
       "      <td>2015-05-01</td>\n",
       "      <td>1.118939</td>\n",
       "      <td>60</td>\n",
       "    </tr>\n",
       "    <tr>\n",
       "      <td>1</td>\n",
       "      <td>2015-02-09</td>\n",
       "      <td>7.461133</td>\n",
       "      <td>19862</td>\n",
       "    </tr>\n",
       "    <tr>\n",
       "      <td>2</td>\n",
       "      <td>2015-02-28</td>\n",
       "      <td>5.705756</td>\n",
       "      <td>20899</td>\n",
       "    </tr>\n",
       "    <tr>\n",
       "      <td>3</td>\n",
       "      <td>2015-02-26</td>\n",
       "      <td>5.577399</td>\n",
       "      <td>20842</td>\n",
       "    </tr>\n",
       "    <tr>\n",
       "      <td>4</td>\n",
       "      <td>2014-11-01</td>\n",
       "      <td>25.936342</td>\n",
       "      <td>18676</td>\n",
       "    </tr>\n",
       "    <tr>\n",
       "      <td>5</td>\n",
       "      <td>2014-10-23</td>\n",
       "      <td>1.952927</td>\n",
       "      <td>1326</td>\n",
       "    </tr>\n",
       "    <tr>\n",
       "      <td>6</td>\n",
       "      <td>2015-01-21</td>\n",
       "      <td>9.376180</td>\n",
       "      <td>19345</td>\n",
       "    </tr>\n",
       "    <tr>\n",
       "      <td>7</td>\n",
       "      <td>2015-01-18</td>\n",
       "      <td>8.319189</td>\n",
       "      <td>15544</td>\n",
       "    </tr>\n",
       "    <tr>\n",
       "      <td>8</td>\n",
       "      <td>2015-03-29</td>\n",
       "      <td>4.174475</td>\n",
       "      <td>24324</td>\n",
       "    </tr>\n",
       "    <tr>\n",
       "      <td>9</td>\n",
       "      <td>2014-09-26</td>\n",
       "      <td>40.277073</td>\n",
       "      <td>8721</td>\n",
       "    </tr>\n",
       "    <tr>\n",
       "      <td>10</td>\n",
       "      <td>2015-02-24</td>\n",
       "      <td>5.665969</td>\n",
       "      <td>20119</td>\n",
       "    </tr>\n",
       "    <tr>\n",
       "      <td>11</td>\n",
       "      <td>2014-12-28</td>\n",
       "      <td>21.056389</td>\n",
       "      <td>18143</td>\n",
       "    </tr>\n",
       "    <tr>\n",
       "      <td>12</td>\n",
       "      <td>2014-07-30</td>\n",
       "      <td>1.034817</td>\n",
       "      <td>649</td>\n",
       "    </tr>\n",
       "    <tr>\n",
       "      <td>13</td>\n",
       "      <td>2015-02-03</td>\n",
       "      <td>6.164918</td>\n",
       "      <td>20379</td>\n",
       "    </tr>\n",
       "    <tr>\n",
       "      <td>14</td>\n",
       "      <td>2015-06-22</td>\n",
       "      <td>11.317012</td>\n",
       "      <td>22744</td>\n",
       "    </tr>\n",
       "    <tr>\n",
       "      <td>15</td>\n",
       "      <td>2014-01-09</td>\n",
       "      <td>1.022031</td>\n",
       "      <td>1823</td>\n",
       "    </tr>\n",
       "    <tr>\n",
       "      <td>16</td>\n",
       "      <td>2014-02-15</td>\n",
       "      <td>0.663188</td>\n",
       "      <td>474</td>\n",
       "    </tr>\n",
       "    <tr>\n",
       "      <td>17</td>\n",
       "      <td>2014-05-24</td>\n",
       "      <td>298.150643</td>\n",
       "      <td>11894</td>\n",
       "    </tr>\n",
       "    <tr>\n",
       "      <td>18</td>\n",
       "      <td>2014-11-27</td>\n",
       "      <td>8.408432</td>\n",
       "      <td>3321</td>\n",
       "    </tr>\n",
       "    <tr>\n",
       "      <td>19</td>\n",
       "      <td>2015-01-10</td>\n",
       "      <td>7.642211</td>\n",
       "      <td>12832</td>\n",
       "    </tr>\n",
       "  </tbody>\n",
       "</table>\n",
       "</div>"
      ],
      "text/plain": [
       "          date  avgPrice(BTC)  nbOfProducts\n",
       "0   2015-05-01       1.118939            60\n",
       "1   2015-02-09       7.461133         19862\n",
       "2   2015-02-28       5.705756         20899\n",
       "3   2015-02-26       5.577399         20842\n",
       "4   2014-11-01      25.936342         18676\n",
       "5   2014-10-23       1.952927          1326\n",
       "6   2015-01-21       9.376180         19345\n",
       "7   2015-01-18       8.319189         15544\n",
       "8   2015-03-29       4.174475         24324\n",
       "9   2014-09-26      40.277073          8721\n",
       "10  2015-02-24       5.665969         20119\n",
       "11  2014-12-28      21.056389         18143\n",
       "12  2014-07-30       1.034817           649\n",
       "13  2015-02-03       6.164918         20379\n",
       "14  2015-06-22      11.317012         22744\n",
       "15  2014-01-09       1.022031          1823\n",
       "16  2014-02-15       0.663188           474\n",
       "17  2014-05-24     298.150643         11894\n",
       "18  2014-11-27       8.408432          3321\n",
       "19  2015-01-10       7.642211         12832"
      ]
     },
     "execution_count": 16,
     "metadata": {},
     "output_type": "execute_result"
    }
   ],
   "source": [
    "pdAvgPriceDF.head(20)"
   ]
  },
  {
   "cell_type": "code",
   "execution_count": 17,
   "metadata": {},
   "outputs": [
    {
     "data": {
      "text/plain": [
       "date              object\n",
       "avgPrice(BTC)    float64\n",
       "nbOfProducts       int64\n",
       "dtype: object"
      ]
     },
     "execution_count": 17,
     "metadata": {},
     "output_type": "execute_result"
    }
   ],
   "source": [
    "pdAvgPriceDF.dtypes"
   ]
  },
  {
   "cell_type": "markdown",
   "metadata": {},
   "source": [
    "### Load BTC prices"
   ]
  },
  {
   "cell_type": "code",
   "execution_count": 18,
   "metadata": {},
   "outputs": [],
   "source": [
    "btcPriceDF= pd.read_csv(\"../data/bitcoin_csv.csv\",usecols=['date', 'price(USD)'])"
   ]
  },
  {
   "cell_type": "code",
   "execution_count": 19,
   "metadata": {},
   "outputs": [],
   "source": [
    "btcPriceDF = btcPriceDF.dropna()\n",
    "btcPriceDF = btcPriceDF.rename(columns ={'price(USD)':'price'})"
   ]
  },
  {
   "cell_type": "code",
   "execution_count": 20,
   "metadata": {},
   "outputs": [
    {
     "data": {
      "text/html": [
       "<div>\n",
       "<style scoped>\n",
       "    .dataframe tbody tr th:only-of-type {\n",
       "        vertical-align: middle;\n",
       "    }\n",
       "\n",
       "    .dataframe tbody tr th {\n",
       "        vertical-align: top;\n",
       "    }\n",
       "\n",
       "    .dataframe thead th {\n",
       "        text-align: right;\n",
       "    }\n",
       "</style>\n",
       "<table border=\"1\" class=\"dataframe\">\n",
       "  <thead>\n",
       "    <tr style=\"text-align: right;\">\n",
       "      <th></th>\n",
       "      <th>date</th>\n",
       "      <th>price</th>\n",
       "    </tr>\n",
       "  </thead>\n",
       "  <tbody>\n",
       "    <tr>\n",
       "      <td>1570</td>\n",
       "      <td>2013-04-28</td>\n",
       "      <td>135.30</td>\n",
       "    </tr>\n",
       "    <tr>\n",
       "      <td>1571</td>\n",
       "      <td>2013-04-29</td>\n",
       "      <td>134.44</td>\n",
       "    </tr>\n",
       "    <tr>\n",
       "      <td>1572</td>\n",
       "      <td>2013-04-30</td>\n",
       "      <td>144.00</td>\n",
       "    </tr>\n",
       "    <tr>\n",
       "      <td>1573</td>\n",
       "      <td>2013-05-01</td>\n",
       "      <td>139.00</td>\n",
       "    </tr>\n",
       "    <tr>\n",
       "      <td>1574</td>\n",
       "      <td>2013-05-02</td>\n",
       "      <td>116.38</td>\n",
       "    </tr>\n",
       "    <tr>\n",
       "      <td>...</td>\n",
       "      <td>...</td>\n",
       "      <td>...</td>\n",
       "    </tr>\n",
       "    <tr>\n",
       "      <td>3600</td>\n",
       "      <td>2018-11-18</td>\n",
       "      <td>5559.74</td>\n",
       "    </tr>\n",
       "    <tr>\n",
       "      <td>3601</td>\n",
       "      <td>2018-11-19</td>\n",
       "      <td>5620.78</td>\n",
       "    </tr>\n",
       "    <tr>\n",
       "      <td>3602</td>\n",
       "      <td>2018-11-20</td>\n",
       "      <td>4863.93</td>\n",
       "    </tr>\n",
       "    <tr>\n",
       "      <td>3603</td>\n",
       "      <td>2018-11-21</td>\n",
       "      <td>4465.54</td>\n",
       "    </tr>\n",
       "    <tr>\n",
       "      <td>3604</td>\n",
       "      <td>2018-11-22</td>\n",
       "      <td>4611.57</td>\n",
       "    </tr>\n",
       "  </tbody>\n",
       "</table>\n",
       "<p>2035 rows × 2 columns</p>\n",
       "</div>"
      ],
      "text/plain": [
       "            date    price\n",
       "1570  2013-04-28   135.30\n",
       "1571  2013-04-29   134.44\n",
       "1572  2013-04-30   144.00\n",
       "1573  2013-05-01   139.00\n",
       "1574  2013-05-02   116.38\n",
       "...          ...      ...\n",
       "3600  2018-11-18  5559.74\n",
       "3601  2018-11-19  5620.78\n",
       "3602  2018-11-20  4863.93\n",
       "3603  2018-11-21  4465.54\n",
       "3604  2018-11-22  4611.57\n",
       "\n",
       "[2035 rows x 2 columns]"
      ]
     },
     "execution_count": 20,
     "metadata": {},
     "output_type": "execute_result"
    }
   ],
   "source": [
    "btcPriceDF"
   ]
  },
  {
   "cell_type": "code",
   "execution_count": 21,
   "metadata": {},
   "outputs": [],
   "source": [
    "import datetime as dt"
   ]
  },
  {
   "cell_type": "code",
   "execution_count": 22,
   "metadata": {},
   "outputs": [],
   "source": [
    "def convertDates(s):\n",
    "    return dt.datetime.strptime(s, '%b %d, %Y')"
   ]
  },
  {
   "cell_type": "code",
   "execution_count": 23,
   "metadata": {},
   "outputs": [],
   "source": [
    "def convertDatesAVGPrice(s):\n",
    "    return dt.datetime.strptime(s, '%Y-%m-%d')"
   ]
  },
  {
   "cell_type": "code",
   "execution_count": 24,
   "metadata": {},
   "outputs": [],
   "source": [
    "btcPriceDF.date = btcPriceDF.date.apply(convertDatesAVGPrice)"
   ]
  },
  {
   "cell_type": "code",
   "execution_count": 25,
   "metadata": {},
   "outputs": [
    {
     "data": {
      "text/plain": [
       "date     datetime64[ns]\n",
       "price           float64\n",
       "dtype: object"
      ]
     },
     "execution_count": 25,
     "metadata": {},
     "output_type": "execute_result"
    }
   ],
   "source": [
    "btcPriceDF.dtypes"
   ]
  },
  {
   "cell_type": "code",
   "execution_count": 26,
   "metadata": {},
   "outputs": [],
   "source": [
    "btcPriceDF = btcPriceDF.set_index('date')"
   ]
  },
  {
   "cell_type": "code",
   "execution_count": 27,
   "metadata": {},
   "outputs": [
    {
     "data": {
      "text/html": [
       "<div>\n",
       "<style scoped>\n",
       "    .dataframe tbody tr th:only-of-type {\n",
       "        vertical-align: middle;\n",
       "    }\n",
       "\n",
       "    .dataframe tbody tr th {\n",
       "        vertical-align: top;\n",
       "    }\n",
       "\n",
       "    .dataframe thead th {\n",
       "        text-align: right;\n",
       "    }\n",
       "</style>\n",
       "<table border=\"1\" class=\"dataframe\">\n",
       "  <thead>\n",
       "    <tr style=\"text-align: right;\">\n",
       "      <th></th>\n",
       "      <th>price</th>\n",
       "    </tr>\n",
       "    <tr>\n",
       "      <th>date</th>\n",
       "      <th></th>\n",
       "    </tr>\n",
       "  </thead>\n",
       "  <tbody>\n",
       "    <tr>\n",
       "      <td>2013-04-28</td>\n",
       "      <td>135.30</td>\n",
       "    </tr>\n",
       "    <tr>\n",
       "      <td>2013-04-29</td>\n",
       "      <td>134.44</td>\n",
       "    </tr>\n",
       "    <tr>\n",
       "      <td>2013-04-30</td>\n",
       "      <td>144.00</td>\n",
       "    </tr>\n",
       "    <tr>\n",
       "      <td>2013-05-01</td>\n",
       "      <td>139.00</td>\n",
       "    </tr>\n",
       "    <tr>\n",
       "      <td>2013-05-02</td>\n",
       "      <td>116.38</td>\n",
       "    </tr>\n",
       "    <tr>\n",
       "      <td>...</td>\n",
       "      <td>...</td>\n",
       "    </tr>\n",
       "    <tr>\n",
       "      <td>2018-11-18</td>\n",
       "      <td>5559.74</td>\n",
       "    </tr>\n",
       "    <tr>\n",
       "      <td>2018-11-19</td>\n",
       "      <td>5620.78</td>\n",
       "    </tr>\n",
       "    <tr>\n",
       "      <td>2018-11-20</td>\n",
       "      <td>4863.93</td>\n",
       "    </tr>\n",
       "    <tr>\n",
       "      <td>2018-11-21</td>\n",
       "      <td>4465.54</td>\n",
       "    </tr>\n",
       "    <tr>\n",
       "      <td>2018-11-22</td>\n",
       "      <td>4611.57</td>\n",
       "    </tr>\n",
       "  </tbody>\n",
       "</table>\n",
       "<p>2035 rows × 1 columns</p>\n",
       "</div>"
      ],
      "text/plain": [
       "              price\n",
       "date               \n",
       "2013-04-28   135.30\n",
       "2013-04-29   134.44\n",
       "2013-04-30   144.00\n",
       "2013-05-01   139.00\n",
       "2013-05-02   116.38\n",
       "...             ...\n",
       "2018-11-18  5559.74\n",
       "2018-11-19  5620.78\n",
       "2018-11-20  4863.93\n",
       "2018-11-21  4465.54\n",
       "2018-11-22  4611.57\n",
       "\n",
       "[2035 rows x 1 columns]"
      ]
     },
     "execution_count": 27,
     "metadata": {},
     "output_type": "execute_result"
    }
   ],
   "source": [
    "btcPriceDF"
   ]
  },
  {
   "cell_type": "code",
   "execution_count": 28,
   "metadata": {},
   "outputs": [],
   "source": [
    "pdAvgPriceDF.date = pdAvgPriceDF.date.apply(convertDatesAVGPrice)"
   ]
  },
  {
   "cell_type": "code",
   "execution_count": 29,
   "metadata": {},
   "outputs": [
    {
     "data": {
      "text/html": [
       "<div>\n",
       "<style scoped>\n",
       "    .dataframe tbody tr th:only-of-type {\n",
       "        vertical-align: middle;\n",
       "    }\n",
       "\n",
       "    .dataframe tbody tr th {\n",
       "        vertical-align: top;\n",
       "    }\n",
       "\n",
       "    .dataframe thead th {\n",
       "        text-align: right;\n",
       "    }\n",
       "</style>\n",
       "<table border=\"1\" class=\"dataframe\">\n",
       "  <thead>\n",
       "    <tr style=\"text-align: right;\">\n",
       "      <th></th>\n",
       "      <th>date</th>\n",
       "      <th>avgPrice(BTC)</th>\n",
       "      <th>nbOfProducts</th>\n",
       "    </tr>\n",
       "  </thead>\n",
       "  <tbody>\n",
       "    <tr>\n",
       "      <td>0</td>\n",
       "      <td>2015-05-01</td>\n",
       "      <td>1.118939</td>\n",
       "      <td>60</td>\n",
       "    </tr>\n",
       "    <tr>\n",
       "      <td>1</td>\n",
       "      <td>2015-02-09</td>\n",
       "      <td>7.461133</td>\n",
       "      <td>19862</td>\n",
       "    </tr>\n",
       "    <tr>\n",
       "      <td>2</td>\n",
       "      <td>2015-02-28</td>\n",
       "      <td>5.705756</td>\n",
       "      <td>20899</td>\n",
       "    </tr>\n",
       "    <tr>\n",
       "      <td>3</td>\n",
       "      <td>2015-02-26</td>\n",
       "      <td>5.577399</td>\n",
       "      <td>20842</td>\n",
       "    </tr>\n",
       "    <tr>\n",
       "      <td>4</td>\n",
       "      <td>2014-11-01</td>\n",
       "      <td>25.936342</td>\n",
       "      <td>18676</td>\n",
       "    </tr>\n",
       "    <tr>\n",
       "      <td>...</td>\n",
       "      <td>...</td>\n",
       "      <td>...</td>\n",
       "      <td>...</td>\n",
       "    </tr>\n",
       "    <tr>\n",
       "      <td>196</td>\n",
       "      <td>2015-02-01</td>\n",
       "      <td>6.776815</td>\n",
       "      <td>19248</td>\n",
       "    </tr>\n",
       "    <tr>\n",
       "      <td>197</td>\n",
       "      <td>2014-11-23</td>\n",
       "      <td>28.002736</td>\n",
       "      <td>18203</td>\n",
       "    </tr>\n",
       "    <tr>\n",
       "      <td>198</td>\n",
       "      <td>2014-06-03</td>\n",
       "      <td>6.883992</td>\n",
       "      <td>3732</td>\n",
       "    </tr>\n",
       "    <tr>\n",
       "      <td>199</td>\n",
       "      <td>2014-11-10</td>\n",
       "      <td>27.574715</td>\n",
       "      <td>17636</td>\n",
       "    </tr>\n",
       "    <tr>\n",
       "      <td>200</td>\n",
       "      <td>2014-11-07</td>\n",
       "      <td>30.676248</td>\n",
       "      <td>16489</td>\n",
       "    </tr>\n",
       "  </tbody>\n",
       "</table>\n",
       "<p>201 rows × 3 columns</p>\n",
       "</div>"
      ],
      "text/plain": [
       "          date  avgPrice(BTC)  nbOfProducts\n",
       "0   2015-05-01       1.118939            60\n",
       "1   2015-02-09       7.461133         19862\n",
       "2   2015-02-28       5.705756         20899\n",
       "3   2015-02-26       5.577399         20842\n",
       "4   2014-11-01      25.936342         18676\n",
       "..         ...            ...           ...\n",
       "196 2015-02-01       6.776815         19248\n",
       "197 2014-11-23      28.002736         18203\n",
       "198 2014-06-03       6.883992          3732\n",
       "199 2014-11-10      27.574715         17636\n",
       "200 2014-11-07      30.676248         16489\n",
       "\n",
       "[201 rows x 3 columns]"
      ]
     },
     "execution_count": 29,
     "metadata": {},
     "output_type": "execute_result"
    }
   ],
   "source": [
    "pdAvgPriceDF"
   ]
  },
  {
   "cell_type": "code",
   "execution_count": 30,
   "metadata": {},
   "outputs": [],
   "source": [
    "def convertBTC(entry):\n",
    "    date = entry.date\n",
    "    btcPrice = btcPriceDF.price[date]\n",
    "    entry['avgPrice(dollars)'] = entry['avgPrice(BTC)'] *btcPrice\n",
    "    return entry"
   ]
  },
  {
   "cell_type": "code",
   "execution_count": null,
   "metadata": {},
   "outputs": [],
   "source": []
  },
  {
   "cell_type": "code",
   "execution_count": null,
   "metadata": {},
   "outputs": [],
   "source": []
  },
  {
   "cell_type": "code",
   "execution_count": 31,
   "metadata": {},
   "outputs": [],
   "source": [
    "pdAvgPriceDF = pdAvgPriceDF.apply(convertBTC, axis=1)"
   ]
  },
  {
   "cell_type": "code",
   "execution_count": 32,
   "metadata": {},
   "outputs": [],
   "source": [
    "from matplotlib.dates import DateFormatter\n",
    "import matplotlib.dates as mdates\n",
    "import seaborn as sns\n",
    "\n",
    "def plotNDate(x, y, interval, title, y_label):\n",
    "    # Prettier plotting with seaborn\n",
    "    sns.set(font_scale=1.5, style=\"whitegrid\")\n",
    "\n",
    "    fig, ax = plt.subplots(figsize=(12, 8))\n",
    "    ax.plot(x,\n",
    "            y,\n",
    "            '-o',\n",
    "            color='purple')\n",
    "    ax.set(xlabel=\"Date\", ylabel=y_label,\n",
    "           title=title)\n",
    "    \n",
    "    plt.axvline(linewidth=4, color='r', x=\"2014-11-05\", label=\"Operation Onymous\")\n",
    "\n",
    "    # Format the x axis\n",
    "    ax.xaxis.set_major_locator(mdates.WeekdayLocator(interval=2))\n",
    "    ax.xaxis.set_major_formatter(DateFormatter(\"%d-%m-%y\"))\n",
    "\n",
    "    # Ensure ticks fall once every other week (interval=2) \n",
    "    ax.xaxis.set_major_locator(mdates.WeekdayLocator(interval=interval))\n",
    "    plt.legend()\n",
    "    plt.show()"
   ]
  },
  {
   "cell_type": "code",
   "execution_count": 33,
   "metadata": {},
   "outputs": [],
   "source": [
    "pdAvgPriceDF = pdAvgPriceDF.set_index('date')\n"
   ]
  },
  {
   "cell_type": "code",
   "execution_count": 34,
   "metadata": {},
   "outputs": [],
   "source": [
    "# clean outliers en mode cochon\n",
    "pdAvgPriceDF = pdAvgPriceDF[pdAvgPriceDF['avgPrice(dollars)'] < 25000]"
   ]
  },
  {
   "cell_type": "code",
   "execution_count": 35,
   "metadata": {},
   "outputs": [],
   "source": [
    "pdAvgPriceDF = pdAvgPriceDF.sort_index()"
   ]
  },
  {
   "cell_type": "code",
   "execution_count": 36,
   "metadata": {},
   "outputs": [
    {
     "data": {
      "text/plain": [
       "DatetimeIndex(['2014-01-01', '2014-01-09', '2014-01-16', '2014-01-26',\n",
       "               '2014-02-02', '2014-02-05', '2014-02-10', '2014-02-15',\n",
       "               '2014-02-18', '2014-02-23',\n",
       "               ...\n",
       "               '2015-06-13', '2015-06-15', '2015-06-20', '2015-06-22',\n",
       "               '2015-06-26', '2015-06-28', '2015-06-30', '2015-07-01',\n",
       "               '2015-07-04', '2015-07-07'],\n",
       "              dtype='datetime64[ns]', name='date', length=196, freq=None)"
      ]
     },
     "execution_count": 36,
     "metadata": {},
     "output_type": "execute_result"
    }
   ],
   "source": [
    "pdAvgPriceDF.index"
   ]
  },
  {
   "cell_type": "code",
   "execution_count": 74,
   "metadata": {},
   "outputs": [
    {
     "data": {
      "image/png": "[encoded data removed]",
      "text/plain": [
       "<Figure size 864x576 with 1 Axes>"
      ]
     },
     "metadata": {},
     "output_type": "display_data"
    }
   ],
   "source": [
    "plotNDate(pdAvgPriceDF.index,pdAvgPriceDF['avgPrice(dollars)'], 15 ,'Average products price along time','avgProductsPrice($)')"
   ]
  },
  {
   "cell_type": "markdown",
   "metadata": {},
   "source": [
    "## Trying to clean data "
   ]
  },
  {
   "cell_type": "code",
   "execution_count": 38,
   "metadata": {},
   "outputs": [],
   "source": [
    "dateSerie = pdAvgPriceDF.index.to_series()\n",
    "dateSerie = dateSerie.reset_index(drop=True)"
   ]
  },
  {
   "cell_type": "code",
   "execution_count": 39,
   "metadata": {},
   "outputs": [
    {
     "data": {
      "text/plain": [
       "0     2014-01-01\n",
       "1     2014-01-09\n",
       "2     2014-01-16\n",
       "3     2014-01-26\n",
       "4     2014-02-02\n",
       "         ...    \n",
       "191   2015-06-28\n",
       "192   2015-06-30\n",
       "193   2015-07-01\n",
       "194   2015-07-04\n",
       "195   2015-07-07\n",
       "Name: date, Length: 196, dtype: datetime64[ns]"
      ]
     },
     "execution_count": 39,
     "metadata": {},
     "output_type": "execute_result"
    }
   ],
   "source": [
    "dateSerie"
   ]
  },
  {
   "cell_type": "code",
   "execution_count": 71,
   "metadata": {},
   "outputs": [],
   "source": [
    "compressionwidth = 20"
   ]
  },
  {
   "cell_type": "code",
   "execution_count": 80,
   "metadata": {},
   "outputs": [],
   "source": [
    "def correctoutliers(entry):\n",
    "    currentDate = entry.name\n",
    "\n",
    "    ithEntry = dateSerie[dateSerie == currentDate ]\n",
    "\n",
    "    i = ithEntry.index[0]\n",
    "    localSubset = pdAvgPriceDF.loc[pdAvgPriceDF.index[i-compressionwidth]:pdAvgPriceDF.index[i+compressionwidth]]\n",
    "    minQ = localSubset[\"avgPrice(dollars)\"].quantile(0.3)\n",
    "    maxQ = localSubset[\"avgPrice(dollars)\" ].quantile(0.7)\n",
    "    avgP = entry['avgPrice(dollars)']\n",
    "    if(avgP>maxQ or avgP<minQ):\n",
    "        entry['avgPrice(dollars)'] = localSubset[\"avgPrice(dollars)\"].mean()\n",
    "    return entry"
   ]
  },
  {
   "cell_type": "code",
   "execution_count": null,
   "metadata": {},
   "outputs": [],
   "source": []
  },
  {
   "cell_type": "code",
   "execution_count": 81,
   "metadata": {},
   "outputs": [],
   "source": [
    "correctedDF= pdAvgPriceDF.copy()"
   ]
  },
  {
   "cell_type": "code",
   "execution_count": 82,
   "metadata": {},
   "outputs": [],
   "source": [
    "correctedDF.iloc[compressionwidth:-compressionwidth] = correctedDF.iloc[compressionwidth:-compressionwidth].apply(correctoutliers, axis=1)"
   ]
  },
  {
   "cell_type": "code",
   "execution_count": 127,
   "metadata": {},
   "outputs": [],
   "source": [
    "def plotNDate2(x,y1, y2, interval, title, y_label1, y_label2):\n",
    "    # Prettier plotting with seaborn\n",
    "    sns.set(font_scale=1.5, style=\"whitegrid\")\n",
    "\n",
    "    fig, ax = plt.subplots(figsize=(12, 8))\n",
    "\n",
    "    #ax.bar(x,y2,color='grey',width=1,linewidth=0)\n",
    "    ax.plot(x,y2,color='blue',linestyle='none', marker='.', label=y_label2)\n",
    "\n",
    "    \n",
    "    \n",
    "    ax.set(xlabel=\"Date\", ylabel=y_label2,\n",
    "           title=title)\n",
    "\n",
    "    ax2 = ax.twinx()\n",
    "    \n",
    "    ax2.set(ylabel=y_label1)\n",
    "    \n",
    "    ax2.plot(x, y1,'-', color='purple')\n",
    "    ax2.plot(btcPriceDF.index.to_series().iloc[:-1000], btcPriceDF['price'].iloc[:-1000],'-', color='orange')\n",
    "    \n",
    "    plt.axvline(linewidth=2, color='r', x=\"2014-11-05\", label=\"Operation Onymous\")\n",
    "\n",
    "    # Format the x axis\n",
    "    ax.xaxis.set_major_locator(mdates.WeekdayLocator(interval=2))\n",
    "    ax.xaxis.set_major_formatter(DateFormatter(\"%d-%m-%y\"))\n",
    "\n",
    "    # Ensure ticks fall once every other week (interval=2) \n",
    "    ax.xaxis.set_major_locator(mdates.WeekdayLocator(interval=interval))\n",
    "    plt.legend()\n",
    "    plt.show()"
   ]
  },
  {
   "cell_type": "code",
   "execution_count": 128,
   "metadata": {},
   "outputs": [
    {
     "data": {
      "image/png": "[encoded data removed]",
      "text/plain": [
       "<Figure size 864x576 with 2 Axes>"
      ]
     },
     "metadata": {},
     "output_type": "display_data"
    }
   ],
   "source": [
    "plotNDate2(correctedDF.index,correctedDF['avgPrice(dollars)'],correctedDF['nbOfProducts'], 15 ,'Average products price along time','avgProductsPrice($)','Size of the parsed listing')"
   ]
  },
  {
   "cell_type": "code",
   "execution_count": null,
   "metadata": {},
   "outputs": [],
   "source": []
  },
  {
   "cell_type": "code",
   "execution_count": null,
   "metadata": {},
   "outputs": [],
   "source": []
  }
 ],
 "metadata": {
  "kernelspec": {
   "display_name": "Python 3",
   "language": "python",
   "name": "python3"
  },
  "language_info": {
   "codemirror_mode": {
    "name": "ipython",
    "version": 3
   },
   "file_extension": ".py",
   "mimetype": "text/x-python",
   "name": "python",
   "nbconvert_exporter": "python",
   "pygments_lexer": "ipython3",
   "version": "3.7.4"
  }
 },
 "nbformat": 4,
 "nbformat_minor": 2
}
