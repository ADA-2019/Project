{
 "cells": [
  {
   "cell_type": "markdown",
   "metadata": {},
   "source": [
    "# Product prices analysis"
   ]
  },
  {
   "cell_type": "code",
   "execution_count": 1,
   "metadata": {},
   "outputs": [],
   "source": [
    "from bs4 import BeautifulSoup as bs\n",
    "import os\n",
    "import pandas as pd\n",
    "import numpy as np\n",
    "from collections import Counter\n",
    "import matplotlib.pyplot as plt\n",
    "import glob\n",
    "import seaborn as sns\n",
    "import plotly.express as px\n",
    "import descartes\n",
    "import re\n",
    "from datetime import datetime\n",
    "import calmap\n",
    "\n",
    "\n",
    "from pyspark import *\n",
    "from pyspark.sql import *\n",
    "from pyspark.sql.functions import *\n",
    "import re\n",
    "from pyspark.sql.types import ArrayType\n",
    "from pyspark.sql.types import StringType\n",
    "from pyspark.sql import functions as F\n"
   ]
  },
  {
   "cell_type": "code",
   "execution_count": 2,
   "metadata": {},
   "outputs": [],
   "source": [
    "\n",
    "def init_spark(app_name, master_config):\n",
    "    \"\"\"\n",
    "    :params app_name: Name of the app\n",
    "    :params master_config: eg. local[4]\n",
    "    :returns SparkContext, SQLContext, SparkSession:\n",
    "    \"\"\"\n",
    "    conf = (SparkConf().setAppName(app_name).setMaster(master_config))\n",
    "\n",
    "    sc = SparkContext(conf=conf)\n",
    "    sc.setLogLevel(\"ERROR\")\n",
    "    sql_ctx = SQLContext(sc)\n",
    "    spark = SparkSession(sc)\n",
    "\n",
    "    return (sc, sql_ctx, spark)"
   ]
  },
  {
   "cell_type": "code",
   "execution_count": 3,
   "metadata": {},
   "outputs": [],
   "source": [
    "sc, sql_ctx, spark = init_spark(\"App_name\", \"local[4]\")"
   ]
  },
  {
   "cell_type": "code",
   "execution_count": 4,
   "metadata": {},
   "outputs": [
    {
     "data": {
      "text/plain": [
       "2805212"
      ]
     },
     "execution_count": 4,
     "metadata": {},
     "output_type": "execute_result"
    }
   ],
   "source": [
    "spark = SparkSession.builder.getOrCreate()\n",
    "sc = spark.sparkContext\n",
    "df = spark.read.option(\"header\", \"true\").csv(\"../data/cat_csv/*.csv\")\n",
    "df.count()"
   ]
  },
  {
   "cell_type": "code",
   "execution_count": 5,
   "metadata": {},
   "outputs": [],
   "source": [
    "def processCountries(country):\n",
    "    # Remove html tags\n",
    "    cleanr = re.compile('<.*?>')\n",
    "    cleanText = str(re.sub(cleanr, '', str(country)))\n",
    "    \n",
    "    # Remove spaces\n",
    "    cleanText = cleanText.strip(' ')\n",
    "    \n",
    "    # Remove \"\"\n",
    "    cleanText = cleanText.strip('\"')\n",
    "    \n",
    "    # Split for each country\n",
    "    cleanText = re.split(\"&|,|/\", cleanText)\n",
    "    \n",
    "    # Top Names reformat\n",
    "    cleanText = [re.sub(r'^(eu|europeanunion|euonly|europeuniononly|onlytoeurope|europeancountries|westerneurope|ukandeuonly|franceandeu)$', r'europe', w) for w in cleanText]\n",
    "    cleanText = [re.sub(r'^(everywhere|world|international|anywhere|worlwide|worldwideonrequest|ww|wordwide|global|worldwideinternational|wideworld|all|worldwidepriortracking|wordlwide|worldwideprior|worldwideprior|internationalworldwide|universe|everywhereworldwideanydestination|wolrdwide|wwshipping|freeworldwide|universal|woldwide|worldwideincludingaustralia|worldwidepriorthefastest|internationally)$', r'worldwide', w) for w in cleanText]\n",
    "    cleanText = [re.sub(r'^(usaonly|unitedstates|us|unitedstatesofamerica|usonly|unitedstatesonly)$', r'usa', w) for w in cleanText]\n",
    "    cleanText = [re.sub(r'^(unitedkingdom|ukonly)$', r'uk', w) for w in cleanText]\n",
    "    return cleanText\n",
    "\n",
    "udf_func_C = udf(processCountries, ArrayType(StringType()))\n",
    "\n",
    "def processCatHashs(cat_hash):\n",
    "    # Remove html end of files\n",
    "    cleanr = re.compile('.\\d*.html')\n",
    "    cleanText = str(re.sub(cleanr, '', str(cat_hash)))\n",
    "    return cleanText\n",
    "\n",
    "udf_func_H = udf(processCatHashs, StringType())\n",
    "\n",
    "# Remove rows without a valid date, error during parsing, file not complete\n",
    "df = df.filter(df[\"date\"].rlike(\"\\d\\d\\d\\d-\\d\\d-\\d\\d\"))\n",
    "\n",
    "# Remove rows without a price or not decimal, 642 in total, mainly due to error during parsing.\n",
    "df = df.filter(\"CAST(price AS DECIMAL) is not null\")\n",
    "\n",
    "# Remove the rows where name is null, all the columns are usually null in this case, (6 rows)\n",
    "df = df.filter(\"name is not null\")\n",
    "\n",
    "# Lowercase and process the countries\n",
    "df=df.withColumn(\"to\", lower(col(\"to\")))\n",
    "df=df.withColumn(\"to\", udf_func_C(col(\"to\")))\n",
    "\n",
    "# Lowercase and process the countries\n",
    "df=df.withColumn(\"from\", lower(col(\"from\")))\n",
    "df=df.withColumn(\"from\", udf_func_C(col(\"from\")))\n",
    "\n",
    "# Process the hashs\n",
    "df=df.withColumn(\"cat_hash\", udf_func_H(col(\"cat_hash\")))"
   ]
  },
  {
   "cell_type": "markdown",
   "metadata": {},
   "source": [
    "## DF Imported and cleaned at this point"
   ]
  },
  {
   "cell_type": "code",
   "execution_count": 6,
   "metadata": {},
   "outputs": [
    {
     "data": {
      "text/plain": [
       "pyspark.sql.dataframe.DataFrame"
      ]
     },
     "execution_count": 6,
     "metadata": {},
     "output_type": "execute_result"
    }
   ],
   "source": [
    "type(df)"
   ]
  },
  {
   "cell_type": "code",
   "execution_count": 7,
   "metadata": {},
   "outputs": [
    {
     "data": {
      "text/plain": [
       "DataFrame[_c0: string, name: string, price: string, from: array<string>, to: array<string>, vendor: string, cat_hash: string, cat: string, date: string]"
      ]
     },
     "execution_count": 7,
     "metadata": {},
     "output_type": "execute_result"
    }
   ],
   "source": [
    "df"
   ]
  },
  {
   "cell_type": "code",
   "execution_count": 8,
   "metadata": {},
   "outputs": [],
   "source": [
    "df = df.drop('from').drop('to')"
   ]
  },
  {
   "cell_type": "code",
   "execution_count": 9,
   "metadata": {},
   "outputs": [],
   "source": [
    "df = df.withColumn(\"price\", df[\"price\"].cast(\"double\"))"
   ]
  },
  {
   "cell_type": "code",
   "execution_count": 10,
   "metadata": {},
   "outputs": [
    {
     "data": {
      "text/plain": [
       "DataFrame[_c0: string, name: string, price: double, vendor: string, cat_hash: string, cat: string, date: string]"
      ]
     },
     "execution_count": 10,
     "metadata": {},
     "output_type": "execute_result"
    }
   ],
   "source": [
    "df"
   ]
  },
  {
   "cell_type": "code",
   "execution_count": 11,
   "metadata": {},
   "outputs": [
    {
     "name": "stdout",
     "output_type": "stream",
     "text": [
      "+--------------+\n",
      "|         price|\n",
      "+--------------+\n",
      "|     3520693.0|\n",
      "|     1150000.0|\n",
      "|      825000.0|\n",
      "|      799900.0|\n",
      "|      690000.0|\n",
      "|      480000.0|\n",
      "|      470000.0|\n",
      "|      439500.0|\n",
      "|      430000.0|\n",
      "|      306000.0|\n",
      "|      275000.0|\n",
      "|      260000.0|\n",
      "|      258000.0|\n",
      "|      250000.0|\n",
      "|      240000.0|\n",
      "|      230000.0|\n",
      "|      225000.0|\n",
      "|      210000.0|\n",
      "|      205000.0|\n",
      "|      200000.0|\n",
      "|      185000.0|\n",
      "|      168000.0|\n",
      "|      164000.0|\n",
      "|      159999.0|\n",
      "|      154000.0|\n",
      "|      153090.0|\n",
      "|      150000.0|\n",
      "|      136000.0|\n",
      "|      135000.0|\n",
      "|      130000.0|\n",
      "|      126000.0|\n",
      "|      125000.0|\n",
      "|      122500.0|\n",
      "|      120000.0|\n",
      "|      113400.0|\n",
      "|      113000.0|\n",
      "|      112000.0|\n",
      "|      110000.0|\n",
      "|      105000.0|\n",
      "|      100000.0|\n",
      "|       99999.0|\n",
      "|       94500.0|\n",
      "|       94000.0|\n",
      "|       90000.0|\n",
      "|       89500.0|\n",
      "|       88800.0|\n",
      "|       85000.0|\n",
      "|       84999.0|\n",
      "|       81000.0|\n",
      "|       79999.0|\n",
      "|       77760.0|\n",
      "|       77000.0|\n",
      "|       75000.0|\n",
      "|       71000.0|\n",
      "|       70000.0|\n",
      "|       68900.0|\n",
      "|       68000.0|\n",
      "|       65000.0|\n",
      "|       63000.0|\n",
      "|       62000.0|\n",
      "|       60000.0|\n",
      "|       58000.0|\n",
      "|       57600.0|\n",
      "|       50000.0|\n",
      "|       49999.0|\n",
      "|       48500.0|\n",
      "|       48000.0|\n",
      "|       47500.0|\n",
      "|       46000.0|\n",
      "|45793.83157027|\n",
      "|       45000.0|\n",
      "|44891.35841264|\n",
      "| 44845.0558321|\n",
      "|       44500.0|\n",
      "|44473.33266623|\n",
      "|44296.78405315|\n",
      "|43946.38101516|\n",
      "|43888.51876234|\n",
      "|43290.03896103|\n",
      "|43162.97910911|\n",
      "|43103.44396551|\n",
      "|42183.41348181|\n",
      "|42144.30209035|\n",
      "|       42000.0|\n",
      "|41804.26821621|\n",
      "|41794.64453639|\n",
      "|41739.70698722|\n",
      "|  41510.996264|\n",
      "|41177.67757875|\n",
      "|41091.38313609|\n",
      "|41018.90971737|\n",
      "|40964.49145121|\n",
      "|40921.11684006|\n",
      "|40884.74181282|\n",
      "|       40500.0|\n",
      "|40477.61839708|\n",
      "|       40000.0|\n",
      "|39668.35505176|\n",
      "|       39500.0|\n",
      "|39278.83656074|\n",
      "+--------------+\n",
      "only showing top 100 rows\n",
      "\n"
     ]
    }
   ],
   "source": [
    "df.select(\"price\").distinct().sort(col(\"price\").desc()).show(100)"
   ]
  },
  {
   "cell_type": "code",
   "execution_count": 12,
   "metadata": {},
   "outputs": [],
   "source": [
    "sortedDF = df.orderBy(desc(\"price\"))"
   ]
  },
  {
   "cell_type": "code",
   "execution_count": 13,
   "metadata": {},
   "outputs": [
    {
     "name": "stdout",
     "output_type": "stream",
     "text": [
      "+-----+------------------------------------------------------------------------------------+---------+--------------------+----------+---------------------------+----------+\n",
      "|_c0  |name                                                                                |price    |vendor              |cat_hash  |cat                        |date      |\n",
      "+-----+------------------------------------------------------------------------------------+---------+--------------------+----------+---------------------------+----------+\n",
      "|6833 |2g clean pure speed paste  in snow seal 14€ watch our reviews                       |3520693.0|HAPPYholland        |PDbdpyyhd6|Drugs/Stimulants/Speed     |2014-05-16|\n",
      "|7663 |2g clean pure speed paste  in snow seal 14€ watch our reviews                       |3520693.0|HAPPYholland        |PDbdpyyhd6|Drugs/Stimulants/Speed     |2014-06-01|\n",
      "|7477 |2g clean pure speed paste  in snow seal 14€ watch our reviews                       |3520693.0|HAPPYholland        |PDbdpyyhd6|Drugs/Stimulants/Speed     |2014-05-24|\n",
      "|15324|MA-CHMACA    5000g                                                                  |1150000.0|alchemycd           |MjE6rSFd4b|Drugs/Cannabis/Concentrates|2015-01-06|\n",
      "|14966|px-1  SRF-30  5000g                                                                 |825000.0 |alchemycd           |MjE6rSFd4b|Drugs/Cannabis/Concentrates|2015-01-06|\n",
      "|14987|LB (448g) of dabs                                                                   |799900.0 |EdWestwick          |MjE6rSFd4b|Drugs/Cannabis/Concentrates|2015-01-06|\n",
      "|14955|InfaJ Custom order                                                                  |690000.0 |DakotaFred          |MjE6rSFd4b|Drugs/Cannabis/Concentrates|2015-01-06|\n",
      "|14950|224 x 1 gram (1/2LB) CO2 Oil in Syringes FREE SHIPPING                              |480000.0 |DakotaFred          |MjE6rSFd4b|Drugs/Cannabis/Concentrates|2015-01-06|\n",
      "|15065|1/2LB (8oz)(224g) BHO - NYC Deisel Crumble -- Indoor, Well Purged, HQ, ESCROW       |470000.0 |GreenStreet         |MjE6rSFd4b|Drugs/Cannabis/Concentrates|2015-01-06|\n",
      "|15271|HP (224g) of dabs                                                                   |439500.0 |EdWestwick          |MjE6rSFd4b|Drugs/Cannabis/Concentrates|2015-01-06|\n",
      "|15176|200 x 1 gram  CO2 Oil in Syringes FREE SHIPPING                                     |430000.0 |DakotaFred          |MjE6rSFd4b|Drugs/Cannabis/Concentrates|2015-01-06|\n",
      "|15018|tospaceandback Custom 4.5oz                                                         |306000.0 |purebase            |MjE6rSFd4b|Drugs/Cannabis/Concentrates|2015-01-06|\n",
      "|15232|BHO Bubba Kush Wax made in laboratory, Wholesale Prices. 112Gr (QP)**CHEAP**        |275000.0 |chipzahoy           |MjE6rSFd4b|Drugs/Cannabis/Concentrates|2015-01-06|\n",
      "|15030|RSO 20ml Vial                                                                       |260000.0 |SAGreat             |MjE6rSFd4b|Drugs/Cannabis/Concentrates|2015-01-06|\n",
      "|15118|OpiumPoppy custom                                                                   |258000.0 |purebase            |MjE6rSFd4b|Drugs/Cannabis/Concentrates|2015-01-06|\n",
      "|15311|BHO Vacuum purged Purple Kush Taffy Concentrate-112Gr (QP) **CHEAP**                |250000.0 |chipzahoy           |MjE6rSFd4b|Drugs/Cannabis/Concentrates|2015-01-06|\n",
      "|15059|Purple Kush Shatter BHO Purged 72 Hours Made from buds-112 Gr (QP)                  |250000.0 |chipzahoy           |MjE6rSFd4b|Drugs/Cannabis/Concentrates|2015-01-06|\n",
      "|15249|112 x 1 gram (QP) CO2 Oil in Syringes FREE SHIPPING                                 |250000.0 |DakotaFred          |MjE6rSFd4b|Drugs/Cannabis/Concentrates|2015-01-06|\n",
      "|14975|MA-CHMACA    1000g                                                                  |250000.0 |alchemycd           |MjE6rSFd4b|Drugs/Cannabis/Concentrates|2015-01-06|\n",
      "|15141|LordCynth custom 4oz                                                                |240000.0 |purebase            |MjE6rSFd4b|Drugs/Cannabis/Concentrates|2015-01-06|\n",
      "|15227|QP of FIRE Purp and Sour Diesel Mix Shatter! Great Price! $2400                     |240000.0 |William_Shatner     |MjE6rSFd4b|Drugs/Cannabis/Concentrates|2015-01-06|\n",
      "|14967|112g (QP) of dabs                                                                   |230000.0 |EdWestwick          |MjE6rSFd4b|Drugs/Cannabis/Concentrates|2015-01-06|\n",
      "|15153|\"SALE!!! 200 OFF!...QP...\"\"SHARK SHOCK\"\"...BLONDE CRUMBLE WAX!!\"                    |225000.0 |JustSmuggledN!      |MjE6rSFd4b|Drugs/Cannabis/Concentrates|2015-01-06|\n",
      "|14942|100 x 1 gram  CO2 Oil in Syringes FREE SHIPPING                                     |225000.0 |DakotaFred          |MjE6rSFd4b|Drugs/Cannabis/Concentrates|2015-01-06|\n",
      "|15228|100 CO2/VAPORZIER  REFILL SYRINGES                                                  |210000.0 |CB2013              |MjE6rSFd4b|Drugs/Cannabis/Concentrates|2015-01-06|\n",
      "|15133|3 oz of FIRE Purple Sour Diesel Mix Shatter!                                        |210000.0 |William_Shatner     |MjE6rSFd4b|Drugs/Cannabis/Concentrates|2015-01-06|\n",
      "|15014|56 Grams of the Finest Winterized CO2 Absolute Shatter                              |205000.0 |DakotaFred          |MjE6rSFd4b|Drugs/Cannabis/Concentrates|2015-01-06|\n",
      "|15277|AB-FUBINACA (Marijuana receptors)   1kg   (exemption from postage)                  |200000.0 |alchemycd           |MjE6rSFd4b|Drugs/Cannabis/Concentrates|2015-01-06|\n",
      "|14965|1/4 Lb of Dab for $2000!                                                            |200000.0 |GanjaFarmer         |MjE6rSFd4b|Drugs/Cannabis/Concentrates|2015-01-06|\n",
      "|15278|px-1  SRF-30  1000g                                                                 |185000.0 |alchemycd           |MjE6rSFd4b|Drugs/Cannabis/Concentrates|2015-01-06|\n",
      "|14974|PX-2( FU-PX)   1000g                                                                |185000.0 |alchemycd           |MjE6rSFd4b|Drugs/Cannabis/Concentrates|2015-01-06|\n",
      "|14933|Budder! tasty and potent, made with sugar shack buds. **CHEAP** 112Gr (QP)%20 OFF!! |168000.0 |chipzahoy           |MjE6rSFd4b|Drugs/Cannabis/Concentrates|2015-01-06|\n",
      "|15006|Budder! tasty and potent, made with sugar shack buds. **CHEAP** 112 GR (QP)%20 OFF!!|168000.0 |chipzahoy           |MjE6rSFd4b|Drugs/Cannabis/Concentrates|2015-01-06|\n",
      "|15175|1.5 OZ (42g) of the Finest Winterized CO2 Absolute Shatter                          |164000.0 |DakotaFred          |MjE6rSFd4b|Drugs/Cannabis/Concentrates|2015-01-06|\n",
      "|4927 |HBO GO Account [LIFETIME + FREEBIES]                                                |159999.0 |thesecretsociety    |pSd85riTbr|Data/Accounts              |2014-08-14|\n",
      "|15042|\"\"\"2OZ...\"\"SHARK SHOCK\"\"...BLONDE CRUMBLE WAX\"                                      |154000.0 |JustSmuggledN!      |MjE6rSFd4b|Drugs/Cannabis/Concentrates|2015-01-06|\n",
      "|15305|28g + SHATTER + HIGHEST QUALITY + 90% THC                                           |153090.0 |CaliforniaGreenCross|MjE6rSFd4b|Drugs/Cannabis/Concentrates|2015-01-06|\n",
      "|15044|Custom Wax and Weed                                                                 |150000.0 |5588                |MjE6rSFd4b|Drugs/Cannabis/Concentrates|2015-01-06|\n",
      "|15190|SluperSKunkCustom 2oz                                                               |136000.0 |purebase            |MjE6rSFd4b|Drugs/Cannabis/Concentrates|2015-01-06|\n",
      "|15099|56 x 1 gram CO2 Oil in Syringe FREE SHIPPING                                        |135000.0 |DakotaFred          |MjE6rSFd4b|Drugs/Cannabis/Concentrates|2015-01-06|\n",
      "|15221|MA-CHMACA    500g                                                                   |135000.0 |alchemycd           |MjE6rSFd4b|Drugs/Cannabis/Concentrates|2015-01-06|\n",
      "|15114|Cust order 0033                                                                     |130000.0 |chipzahoy           |MjE6rSFd4b|Drugs/Cannabis/Concentrates|2015-01-06|\n",
      "|15089|Timmytucker wax custom                                                              |130000.0 |purebase            |MjE6rSFd4b|Drugs/Cannabis/Concentrates|2015-01-06|\n",
      "|14957|bubblegumkush custom                                                                |130000.0 |purebase            |MjE6rSFd4b|Drugs/Cannabis/Concentrates|2015-01-06|\n",
      "|15325|Hardcore OG Co2 Oil (28 gram listing) *94% thc*                                     |126000.0 |WestCoastCure       |MjE6rSFd4b|Drugs/Cannabis/Concentrates|2015-01-06|\n",
      "|15222|50xCO2 E-cigarette vape pen refill cartridge 500mg                                  |125000.0 |MedicalMJ           |MjE6rSFd4b|Drugs/Cannabis/Concentrates|2015-01-06|\n",
      "|14981|56 grams of dabs                                                                    |122500.0 |EdWestwick          |MjE6rSFd4b|Drugs/Cannabis/Concentrates|2015-01-06|\n",
      "|14941|custom 56g anonflic                                                                 |120000.0 |purebase            |MjE6rSFd4b|Drugs/Cannabis/Concentrates|2015-01-06|\n",
      "|15130|28g HONEYCOMB WAX + PREMIUM MEDICAL GRADE A + SELECT A STRAIN +                     |113400.0 |CaliforniaGreenCross|MjE6rSFd4b|Drugs/Cannabis/Concentrates|2015-01-06|\n",
      "|14952|28 Grams of the Finest Winterized CO2 Absolute Shatter                              |113000.0 |DakotaFred          |MjE6rSFd4b|Drugs/Cannabis/Concentrates|2015-01-06|\n",
      "|6487 |1000gram HEROINE NR.3, STRAIGHT FROM THE BLOCK 100%!! FREE SHIPPING                 |112000.0 |heroking            |fJnDCMcMSR|Drugs/Opioids/Heroin       |2015-06-28|\n",
      "|8511 |1000gram HEROINE NR.3, STRAIGHT FROM THE BLOCK 100%!! FREE SHIPPING                 |112000.0 |heroking            |fJnDCMcMSR|Drugs/Opioids/Heroin       |2015-06-20|\n",
      "|8507 |1000gram HEROINE NR.3, STRAIGHT FROM THE BLOCK 100%!! FREE SHIPPING                 |112000.0 |heroking            |fJnDCMcMSR|Drugs/Opioids/Heroin       |2015-06-26|\n",
      "|7977 |1000gram HEROINE NR.3, STRAIGHT FROM THE BLOCK 100%!! FREE SHIPPING                 |112000.0 |heroking            |fJnDCMcMSR|Drugs/Opioids/Heroin       |2015-06-22|\n",
      "|8394 |1000gram HEROINE NR.3, STRAIGHT FROM THE BLOCK 100%!! FREE SHIPPING                 |112000.0 |heroking            |fJnDCMcMSR|Drugs/Opioids/Heroin       |2015-07-07|\n",
      "|8336 |1000gram HEROINE NR.3, STRAIGHT FROM THE BLOCK 100%!! FREE SHIPPING                 |112000.0 |heroking            |fJnDCMcMSR|Drugs/Opioids/Heroin       |2015-06-30|\n",
      "|8345 |1000gram HEROINE NR.3, STRAIGHT FROM THE BLOCK 100%!! FREE SHIPPING                 |112000.0 |heroking            |fJnDCMcMSR|Drugs/Opioids/Heroin       |2015-07-04|\n",
      "|15238|28g (1 ounce) CO2 Shatter (Bud Run - OG Kush - 90% THC) FREE SHIPPING               |110000.0 |itewqq              |MjE6rSFd4b|Drugs/Cannabis/Concentrates|2015-01-06|\n",
      "|15003|28g (1 ounce) CO2 Wax (Bud Run - Blue Fire - 90% THC) FREE SHIPPING                 |110000.0 |itewqq              |MjE6rSFd4b|Drugs/Cannabis/Concentrates|2015-01-06|\n",
      "|14972|Girl Scout Cookies Shatter BHO (28 Gram Listing)                                    |110000.0 |WestCoastCure       |MjE6rSFd4b|Drugs/Cannabis/Concentrates|2015-01-06|\n",
      "|15286|Harlequin CBD Shatter (28 grams) *NEW PRICING*                                      |110000.0 |WestCoastCure       |MjE6rSFd4b|Drugs/Cannabis/Concentrates|2015-01-06|\n",
      "|15150|Cust Order 0038                                                                     |105000.0 |chipzahoy           |MjE6rSFd4b|Drugs/Cannabis/Concentrates|2015-01-06|\n",
      "|14964|PX-2( FU-PX)   500g                                                                 |100000.0 |alchemycd           |MjE6rSFd4b|Drugs/Cannabis/Concentrates|2015-01-06|\n",
      "|15264|px-1  SRF-30  500g                                                                  |100000.0 |alchemycd           |MjE6rSFd4b|Drugs/Cannabis/Concentrates|2015-01-06|\n",
      "|14946|42 x 1 gram 1.5oz  CO2 Oil in Syringes FREE SHIPPING                                |100000.0 |DakotaFred          |MjE6rSFd4b|Drugs/Cannabis/Concentrates|2015-01-06|\n",
      "|11877|DONTORDER                                                                           |99999.0  |DutchTruthTeller    |PDbdpyyhd6|Drugs/Stimulants/Speed     |2014-11-16|\n",
      "|11621|DONTORDER                                                                           |99999.0  |DutchTruthTeller    |PDbdpyyhd6|Drugs/Stimulants/Speed     |2014-11-15|\n",
      "|10217|DONTORDER                                                                           |99999.0  |DutchTruthTeller    |PDbdpyyhd6|Drugs/Stimulants/Speed     |2014-11-07|\n",
      "|6674 |DONTORDER                                                                           |99999.0  |DutchTruthTeller    |p8ewKNoNk3|Drugs/Ecstasy/Pills        |2014-11-01|\n",
      "|6989 |DONTORDER                                                                           |99999.0  |DutchTruthTeller    |p8ewKNoNk3|Drugs/Ecstasy/Pills        |2014-11-08|\n",
      "|8040 |DONTORDER                                                                           |99999.0  |DutchTruthTeller    |p8ewKNoNk3|Drugs/Ecstasy/Pills        |2014-11-16|\n",
      "|5990 |DONTORDER                                                                           |99999.0  |DutchTruthTeller    |p8ewKNoNk3|Drugs/Ecstasy/Pills        |2014-11-07|\n",
      "|7419 |DONTORDER                                                                           |99999.0  |DutchTruthTeller    |p8ewKNoNk3|Drugs/Ecstasy/Pills        |2014-11-22|\n",
      "|6931 |DONTORDER                                                                           |99999.0  |DutchTruthTeller    |p8ewKNoNk3|Drugs/Ecstasy/Pills        |2014-11-16|\n",
      "|6363 |DONTORDER                                                                           |99999.0  |DutchTruthTeller    |p8ewKNoNk3|Drugs/Ecstasy/Pills        |2014-10-25|\n",
      "|7005 |DONTORDER                                                                           |99999.0  |DutchTruthTeller    |p8ewKNoNk3|Drugs/Ecstasy/Pills        |2014-11-08|\n",
      "|7413 |DONTORDER                                                                           |99999.0  |DutchTruthTeller    |p8ewKNoNk3|Drugs/Ecstasy/Pills        |2014-12-20|\n",
      "|11034|DONTORDER                                                                           |99999.0  |DutchTruthTeller    |PDbdpyyhd6|Drugs/Stimulants/Speed     |2014-11-24|\n",
      "|5910 |test                                                                                |99999.0  |DutchTruthTeller    |p8ewKNoNk3|Drugs/Ecstasy/Pills        |2014-09-22|\n",
      "|10385|DONTORDER                                                                           |99999.0  |DutchTruthTeller    |PDbdpyyhd6|Drugs/Stimulants/Speed     |2014-11-06|\n",
      "|6519 |50G SPEED AMPHETAMINE PASTE - UNCUT                                                 |99999.0  |DutchTruthTeller    |PDbdpyyhd6|Drugs/Stimulants/Speed     |2014-09-26|\n",
      "|6290 |DONTORDER                                                                           |99999.0  |DutchTruthTeller    |p8ewKNoNk3|Drugs/Ecstasy/Pills        |2014-11-10|\n",
      "|11275|DONTORDER                                                                           |99999.0  |DutchTruthTeller    |PDbdpyyhd6|Drugs/Stimulants/Speed     |2014-10-29|\n",
      "|10317|DONTORDER                                                                           |99999.0  |DutchTruthTeller    |PDbdpyyhd6|Drugs/Stimulants/Speed     |2014-11-03|\n",
      "|11711|DONTORDER                                                                           |99999.0  |DutchTruthTeller    |PDbdpyyhd6|Drugs/Stimulants/Speed     |2014-11-22|\n",
      "|9654 |DONTORDER                                                                           |99999.0  |DutchTruthTeller    |PDbdpyyhd6|Drugs/Stimulants/Speed     |2014-12-21|\n",
      "|6788 |DONTORDER                                                                           |99999.0  |DutchTruthTeller    |p8ewKNoNk3|Drugs/Ecstasy/Pills        |2014-11-23|\n",
      "|5970 |DONTORDER                                                                           |99999.0  |DutchTruthTeller    |p8ewKNoNk3|Drugs/Ecstasy/Pills        |2014-11-14|\n",
      "|7464 |DONTORDER                                                                           |99999.0  |DutchTruthTeller    |p8ewKNoNk3|Drugs/Ecstasy/Pills        |2014-12-01|\n",
      "|10354|DONTORDER                                                                           |99999.0  |DutchTruthTeller    |PDbdpyyhd6|Drugs/Stimulants/Speed     |2014-11-03|\n",
      "|11409|DONTORDER                                                                           |99999.0  |DutchTruthTeller    |PDbdpyyhd6|Drugs/Stimulants/Speed     |2014-12-24|\n",
      "|6687 |DONTORDER                                                                           |99999.0  |DutchTruthTeller    |p8ewKNoNk3|Drugs/Ecstasy/Pills        |2014-11-11|\n",
      "|6850 |DONTORDER                                                                           |99999.0  |DutchTruthTeller    |p8ewKNoNk3|Drugs/Ecstasy/Pills        |2014-11-11|\n",
      "|11490|DONTORDER                                                                           |99999.0  |DutchTruthTeller    |PDbdpyyhd6|Drugs/Stimulants/Speed     |2014-11-25|\n",
      "|5639 |DONTORDER                                                                           |99999.0  |DutchTruthTeller    |p8ewKNoNk3|Drugs/Ecstasy/Pills        |2014-12-21|\n",
      "|6428 |DONTORDER                                                                           |99999.0  |DutchTruthTeller    |p8ewKNoNk3|Drugs/Ecstasy/Pills        |2014-11-15|\n",
      "|10870|DONTORDER                                                                           |99999.0  |DutchTruthTeller    |PDbdpyyhd6|Drugs/Stimulants/Speed     |2014-10-22|\n",
      "|11471|DONTORDER                                                                           |99999.0  |DutchTruthTeller    |PDbdpyyhd6|Drugs/Stimulants/Speed     |2014-12-28|\n",
      "|11547|DONTORDER                                                                           |99999.0  |DutchTruthTeller    |PDbdpyyhd6|Drugs/Stimulants/Speed     |2014-11-22|\n",
      "|7553 |DONTORDER                                                                           |99999.0  |DutchTruthTeller    |p8ewKNoNk3|Drugs/Ecstasy/Pills        |2014-12-24|\n",
      "|4756 |DONTORDER                                                                           |99999.0  |DutchTruthTeller    |p8ewKNoNk3|Drugs/Ecstasy/Pills        |2014-10-19|\n",
      "|11506|DONTORDER                                                                           |99999.0  |DutchTruthTeller    |PDbdpyyhd6|Drugs/Stimulants/Speed     |2014-12-24|\n",
      "|4452 |test                                                                                |99999.0  |DutchTruthTeller    |p8ewKNoNk3|Drugs/Ecstasy/Pills        |2014-09-29|\n",
      "|11314|DONTORDER                                                                           |99999.0  |DutchTruthTeller    |PDbdpyyhd6|Drugs/Stimulants/Speed     |2014-11-10|\n",
      "|8420 |DONTORDER                                                                           |99999.0  |DutchTruthTeller    |PDbdpyyhd6|Drugs/Stimulants/Speed     |2014-12-17|\n",
      "|11967|DONTORDER                                                                           |99999.0  |DutchTruthTeller    |PDbdpyyhd6|Drugs/Stimulants/Speed     |2014-12-06|\n",
      "|7343 |DONTORDER                                                                           |99999.0  |DutchTruthTeller    |p8ewKNoNk3|Drugs/Ecstasy/Pills        |2014-12-01|\n",
      "|6906 |DONTORDER                                                                           |99999.0  |DutchTruthTeller    |p8ewKNoNk3|Drugs/Ecstasy/Pills        |2014-11-24|\n",
      "|9002 |DONTORDER                                                                           |99999.0  |DutchTruthTeller    |PDbdpyyhd6|Drugs/Stimulants/Speed     |2014-10-19|\n",
      "|9517 |DONTORDER                                                                           |99999.0  |DutchTruthTeller    |PDbdpyyhd6|Drugs/Stimulants/Speed     |2014-11-14|\n",
      "|10946|DONTORDER                                                                           |99999.0  |DutchTruthTeller    |PDbdpyyhd6|Drugs/Stimulants/Speed     |2014-11-08|\n",
      "|5512 |DONTORDER                                                                           |99999.0  |DutchTruthTeller    |p8ewKNoNk3|Drugs/Ecstasy/Pills        |2014-11-03|\n",
      "|11060|DONTORDER                                                                           |99999.0  |DutchTruthTeller    |PDbdpyyhd6|Drugs/Stimulants/Speed     |2014-11-08|\n",
      "|9196 |DONTORDER                                                                           |99999.0  |DutchTruthTeller    |PDbdpyyhd6|Drugs/Stimulants/Speed     |2014-10-17|\n",
      "|11352|DONTORDER                                                                           |99999.0  |DutchTruthTeller    |PDbdpyyhd6|Drugs/Stimulants/Speed     |2014-12-10|\n",
      "|11629|DONTORDER                                                                           |99999.0  |DutchTruthTeller    |PDbdpyyhd6|Drugs/Stimulants/Speed     |2014-12-01|\n",
      "|7061 |DONTORDER                                                                           |99999.0  |DutchTruthTeller    |p8ewKNoNk3|Drugs/Ecstasy/Pills        |2014-11-15|\n",
      "|7231 |DONTORDER                                                                           |99999.0  |DutchTruthTeller    |p8ewKNoNk3|Drugs/Ecstasy/Pills        |2014-11-10|\n",
      "|7386 |DONTORDER                                                                           |99999.0  |DutchTruthTeller    |p8ewKNoNk3|Drugs/Ecstasy/Pills        |2014-11-22|\n",
      "|9437 |DONTORDER                                                                           |99999.0  |DutchTruthTeller    |PDbdpyyhd6|Drugs/Stimulants/Speed     |2014-12-21|\n",
      "|11588|DONTORDER                                                                           |99999.0  |DutchTruthTeller    |PDbdpyyhd6|Drugs/Stimulants/Speed     |2014-11-11|\n",
      "|11119|DONTORDER                                                                           |99999.0  |DutchTruthTeller    |PDbdpyyhd6|Drugs/Stimulants/Speed     |2014-11-24|\n",
      "|11728|DONTORDER                                                                           |99999.0  |DutchTruthTeller    |PDbdpyyhd6|Drugs/Stimulants/Speed     |2014-11-11|\n",
      "|7160 |DONTORDER                                                                           |99999.0  |DutchTruthTeller    |p8ewKNoNk3|Drugs/Ecstasy/Pills        |2014-12-26|\n",
      "|5184 |test                                                                                |99999.0  |DutchTruthTeller    |p8ewKNoNk3|Drugs/Ecstasy/Pills        |2014-09-20|\n",
      "|11240|DONTORDER                                                                           |99999.0  |DutchTruthTeller    |PDbdpyyhd6|Drugs/Stimulants/Speed     |2014-12-26|\n",
      "|6375 |DONTORDER                                                                           |99999.0  |DutchTruthTeller    |p8ewKNoNk3|Drugs/Ecstasy/Pills        |2014-10-29|\n",
      "|11687|DONTORDER                                                                           |99999.0  |DutchTruthTeller    |PDbdpyyhd6|Drugs/Stimulants/Speed     |2014-12-03|\n",
      "|6654 |DONTORDER                                                                           |99999.0  |DutchTruthTeller    |p8ewKNoNk3|Drugs/Ecstasy/Pills        |2014-10-29|\n",
      "|6623 |DONTORDER                                                                           |99999.0  |DutchTruthTeller    |p8ewKNoNk3|Drugs/Ecstasy/Pills        |2014-11-06|\n",
      "|4616 |DONTORDER                                                                           |99999.0  |DutchTruthTeller    |p8ewKNoNk3|Drugs/Ecstasy/Pills        |2014-12-17|\n",
      "|9437 |50G SPEED AMPHETAMINE PASTE - UNCUT                                                 |99999.0  |DutchTruthTeller    |PDbdpyyhd6|Drugs/Stimulants/Speed     |2014-10-09|\n",
      "|4444 |DONTORDER                                                                           |99999.0  |DutchTruthTeller    |p8ewKNoNk3|Drugs/Ecstasy/Pills        |2014-10-27|\n",
      "|11520|DONTORDER                                                                           |99999.0  |DutchTruthTeller    |PDbdpyyhd6|Drugs/Stimulants/Speed     |2014-11-13|\n",
      "|4810 |DONTORDER                                                                           |99999.0  |DutchTruthTeller    |p8ewKNoNk3|Drugs/Ecstasy/Pills        |2014-10-19|\n",
      "|4573 |DONTORDER                                                                           |99999.0  |DutchTruthTeller    |p8ewKNoNk3|Drugs/Ecstasy/Pills        |2014-12-17|\n",
      "|8890 |50G SPEED AMPHETAMINE PASTE - UNCUT                                                 |99999.0  |DutchTruthTeller    |PDbdpyyhd6|Drugs/Stimulants/Speed     |2014-09-05|\n",
      "|7304 |DONTORDER                                                                           |99999.0  |DutchTruthTeller    |p8ewKNoNk3|Drugs/Ecstasy/Pills        |2014-10-31|\n",
      "|6419 |DONTORDER                                                                           |99999.0  |DutchTruthTeller    |p8ewKNoNk3|Drugs/Ecstasy/Pills        |2014-10-25|\n",
      "|11863|DONTORDER                                                                           |99999.0  |DutchTruthTeller    |PDbdpyyhd6|Drugs/Stimulants/Speed     |2014-11-01|\n",
      "|11360|DONTORDER                                                                           |99999.0  |DutchTruthTeller    |PDbdpyyhd6|Drugs/Stimulants/Speed     |2014-10-25|\n",
      "|4443 |DONTORDER                                                                           |99999.0  |DutchTruthTeller    |p8ewKNoNk3|Drugs/Ecstasy/Pills        |2014-10-27|\n",
      "|11599|DONTORDER                                                                           |99999.0  |DutchTruthTeller    |PDbdpyyhd6|Drugs/Stimulants/Speed     |2014-10-25|\n",
      "|6770 |DONTORDER                                                                           |99999.0  |DutchTruthTeller    |p8ewKNoNk3|Drugs/Ecstasy/Pills        |2014-12-28|\n",
      "|11096|DONTORDER                                                                           |99999.0  |DutchTruthTeller    |PDbdpyyhd6|Drugs/Stimulants/Speed     |2014-12-26|\n",
      "|8903 |50G SPEED AMPHETAMINE PASTE - UNCUT                                                 |99999.0  |DutchTruthTeller    |PDbdpyyhd6|Drugs/Stimulants/Speed     |2014-09-15|\n",
      "|11431|DONTORDER                                                                           |99999.0  |DutchTruthTeller    |PDbdpyyhd6|Drugs/Stimulants/Speed     |2014-11-23|\n",
      "|6152 |DONTORDER                                                                           |99999.0  |DutchTruthTeller    |p8ewKNoNk3|Drugs/Ecstasy/Pills        |2014-10-22|\n",
      "|11544|DONTORDER                                                                           |99999.0  |DutchTruthTeller    |PDbdpyyhd6|Drugs/Stimulants/Speed     |2014-11-23|\n",
      "|6620 |DONTORDER                                                                           |99999.0  |DutchTruthTeller    |p8ewKNoNk3|Drugs/Ecstasy/Pills        |2014-10-22|\n",
      "|8019 |DONTORDER                                                                           |99999.0  |DutchTruthTeller    |p8ewKNoNk3|Drugs/Ecstasy/Pills        |2014-12-10|\n",
      "|11424|DONTORDER                                                                           |99999.0  |DutchTruthTeller    |PDbdpyyhd6|Drugs/Stimulants/Speed     |2014-12-28|\n",
      "|6681 |DONTORDER                                                                           |99999.0  |DutchTruthTeller    |p8ewKNoNk3|Drugs/Ecstasy/Pills        |2014-11-24|\n",
      "|11344|DONTORDER                                                                           |99999.0  |DutchTruthTeller    |PDbdpyyhd6|Drugs/Stimulants/Speed     |2014-12-10|\n",
      "|11902|DONTORDER                                                                           |99999.0  |DutchTruthTeller    |PDbdpyyhd6|Drugs/Stimulants/Speed     |2014-12-20|\n",
      "|4755 |DONTORDER                                                                           |99999.0  |DutchTruthTeller    |p8ewKNoNk3|Drugs/Ecstasy/Pills        |2014-10-09|\n",
      "|11995|DONTORDER                                                                           |99999.0  |DutchTruthTeller    |PDbdpyyhd6|Drugs/Stimulants/Speed     |2014-11-01|\n",
      "|6564 |DONTORDER                                                                           |99999.0  |DutchTruthTeller    |p8ewKNoNk3|Drugs/Ecstasy/Pills        |2014-11-01|\n",
      "|7260 |DONTORDER                                                                           |99999.0  |DutchTruthTeller    |p8ewKNoNk3|Drugs/Ecstasy/Pills        |2014-12-24|\n",
      "|11642|DONTORDER                                                                           |99999.0  |DutchTruthTeller    |PDbdpyyhd6|Drugs/Stimulants/Speed     |2014-12-01|\n",
      "|6477 |50G SPEED AMPHETAMINE PASTE - UNCUT                                                 |99999.0  |DutchTruthTeller    |PDbdpyyhd6|Drugs/Stimulants/Speed     |2014-10-04|\n",
      "|4967 |DONTORDER                                                                           |99999.0  |DutchTruthTeller    |p8ewKNoNk3|Drugs/Ecstasy/Pills        |2014-12-12|\n",
      "|6665 |DONTORDER                                                                           |99999.0  |DutchTruthTeller    |p8ewKNoNk3|Drugs/Ecstasy/Pills        |2014-12-26|\n",
      "|7133 |DONTORDER                                                                           |99999.0  |DutchTruthTeller    |p8ewKNoNk3|Drugs/Ecstasy/Pills        |2014-11-25|\n",
      "|6729 |DONTORDER                                                                           |99999.0  |DutchTruthTeller    |p8ewKNoNk3|Drugs/Ecstasy/Pills        |2014-12-03|\n",
      "|6301 |DONTORDER                                                                           |99999.0  |DutchTruthTeller    |p8ewKNoNk3|Drugs/Ecstasy/Pills        |2014-11-06|\n",
      "|5718 |TEST                                                                                |99999.0  |DutchTruthTeller    |p8ewKNoNk3|Drugs/Ecstasy/Pills        |2014-10-09|\n",
      "|12024|DONTORDER                                                                           |99999.0  |DutchTruthTeller    |PDbdpyyhd6|Drugs/Stimulants/Speed     |2014-11-16|\n",
      "|5917 |DONTORDER                                                                           |99999.0  |DutchTruthTeller    |p8ewKNoNk3|Drugs/Ecstasy/Pills        |2014-12-21|\n",
      "|12237|DONTORDER                                                                           |99999.0  |DutchTruthTeller    |PDbdpyyhd6|Drugs/Stimulants/Speed     |2014-12-15|\n",
      "|6983 |100G SPEED AMPHETAMINE PASTE - UNCUT                                                |99999.0  |DutchTruthTeller    |PDbdpyyhd6|Drugs/Stimulants/Speed     |2014-09-29|\n",
      "|11796|DONTORDER                                                                           |99999.0  |DutchTruthTeller    |PDbdpyyhd6|Drugs/Stimulants/Speed     |2014-12-03|\n",
      "|9138 |100G SPEED AMPHETAMINE PASTE - UNCUT                                                |99999.0  |DutchTruthTeller    |PDbdpyyhd6|Drugs/Stimulants/Speed     |2014-10-09|\n",
      "|11557|DONTORDER                                                                           |99999.0  |DutchTruthTeller    |PDbdpyyhd6|Drugs/Stimulants/Speed     |2014-10-29|\n",
      "|7879 |DONTORDER                                                                           |99999.0  |DutchTruthTeller    |p8ewKNoNk3|Drugs/Ecstasy/Pills        |2014-12-06|\n",
      "|8397 |100G SPEED AMPHETAMINE PASTE - UNCUT                                                |99999.0  |DutchTruthTeller    |PDbdpyyhd6|Drugs/Stimulants/Speed     |2014-10-06|\n",
      "|8469 |50G SPEED AMPHETAMINE PASTE - UNCUT                                                 |99999.0  |DutchTruthTeller    |PDbdpyyhd6|Drugs/Stimulants/Speed     |2014-10-06|\n",
      "|6902 |DONTORDER                                                                           |99999.0  |DutchTruthTeller    |p8ewKNoNk3|Drugs/Ecstasy/Pills        |2014-10-31|\n",
      "|7196 |DONTORDER                                                                           |99999.0  |DutchTruthTeller    |p8ewKNoNk3|Drugs/Ecstasy/Pills        |2014-12-06|\n",
      "|11671|DONTORDER                                                                           |99999.0  |DutchTruthTeller    |PDbdpyyhd6|Drugs/Stimulants/Speed     |2014-11-13|\n",
      "|7878 |DONTORDER                                                                           |99999.0  |DutchTruthTeller    |p8ewKNoNk3|Drugs/Ecstasy/Pills        |2014-12-15|\n",
      "|7725 |DONTORDER                                                                           |99999.0  |DutchTruthTeller    |p8ewKNoNk3|Drugs/Ecstasy/Pills        |2014-12-15|\n",
      "|7144 |DONTORDER                                                                           |99999.0  |DutchTruthTeller    |p8ewKNoNk3|Drugs/Ecstasy/Pills        |2014-12-23|\n",
      "|6980 |50G SPEED AMPHETAMINE PASTE - UNCUT                                                 |99999.0  |DutchTruthTeller    |PDbdpyyhd6|Drugs/Stimulants/Speed     |2014-09-29|\n",
      "|11837|DONTORDER                                                                           |99999.0  |DutchTruthTeller    |PDbdpyyhd6|Drugs/Stimulants/Speed     |2014-10-31|\n",
      "|8932 |DONTORDER                                                                           |99999.0  |DutchTruthTeller    |PDbdpyyhd6|Drugs/Stimulants/Speed     |2014-10-19|\n",
      "|7123 |DONTORDER                                                                           |99999.0  |DutchTruthTeller    |p8ewKNoNk3|Drugs/Ecstasy/Pills        |2014-12-23|\n",
      "|8497 |DONTORDER                                                                           |99999.0  |DutchTruthTeller    |PDbdpyyhd6|Drugs/Stimulants/Speed     |2014-12-17|\n",
      "|9003 |100G SPEED AMPHETAMINE PASTE - UNCUT                                                |99999.0  |DutchTruthTeller    |PDbdpyyhd6|Drugs/Stimulants/Speed     |2014-09-05|\n",
      "|11891|DONTORDER                                                                           |99999.0  |DutchTruthTeller    |PDbdpyyhd6|Drugs/Stimulants/Speed     |2014-10-31|\n",
      "|7009 |DONTORDER                                                                           |99999.0  |DutchTruthTeller    |p8ewKNoNk3|Drugs/Ecstasy/Pills        |2014-11-23|\n",
      "|5686 |DONTORDER                                                                           |99999.0  |DutchTruthTeller    |p8ewKNoNk3|Drugs/Ecstasy/Pills        |2014-11-14|\n",
      "|12072|DONTORDER                                                                           |99999.0  |DutchTruthTeller    |PDbdpyyhd6|Drugs/Stimulants/Speed     |2014-12-06|\n",
      "|7364 |DONTORDER                                                                           |99999.0  |DutchTruthTeller    |p8ewKNoNk3|Drugs/Ecstasy/Pills        |2014-12-10|\n",
      "|11960|DONTORDER                                                                           |99999.0  |DutchTruthTeller    |PDbdpyyhd6|Drugs/Stimulants/Speed     |2014-12-23|\n",
      "|12225|DONTORDER                                                                           |99999.0  |DutchTruthTeller    |PDbdpyyhd6|Drugs/Stimulants/Speed     |2014-12-15|\n",
      "|9394 |DONTORDER                                                                           |99999.0  |DutchTruthTeller    |PDbdpyyhd6|Drugs/Stimulants/Speed     |2014-11-14|\n",
      "|6516 |100G SPEED AMPHETAMINE PASTE - UNCUT                                                |99999.0  |DutchTruthTeller    |PDbdpyyhd6|Drugs/Stimulants/Speed     |2014-09-26|\n",
      "|4470 |test                                                                                |99999.0  |DutchTruthTeller    |p8ewKNoNk3|Drugs/Ecstasy/Pills        |2014-09-26|\n",
      "|7498 |DONTORDER                                                                           |99999.0  |DutchTruthTeller    |p8ewKNoNk3|Drugs/Ecstasy/Pills        |2014-12-20|\n",
      "+-----+------------------------------------------------------------------------------------+---------+--------------------+----------+---------------------------+----------+\n",
      "only showing top 200 rows\n",
      "\n"
     ]
    }
   ],
   "source": [
    "sortedDF.show(200,False)"
   ]
  },
  {
   "cell_type": "code",
   "execution_count": 14,
   "metadata": {},
   "outputs": [],
   "source": [
    "sortedDF = sortedDF.filter(F.col('price')< 999.0)"
   ]
  },
  {
   "cell_type": "code",
   "execution_count": 15,
   "metadata": {},
   "outputs": [
    {
     "name": "stdout",
     "output_type": "stream",
     "text": [
      "+----------------------------------------------------------------------------------------+\n",
      "|name                                                                                    |\n",
      "+----------------------------------------------------------------------------------------+\n",
      "|Ephedrine 30mg 500,000 tabs                                                             |\n",
      "|5kg Highest Purity Cocaine - Direct From Colombia                                       |\n",
      "|Ephedrine 30mg 500,000 tabs                                                             |\n",
      "|Ephedrine 30mg 500,000 tabs                                                             |\n",
      "|50g 73% Extremely Strong Speed Paste                                                    |\n",
      "|☻☻ 100g of PURE Dutch MDMA - DOMESTIC ☻☻                                                |\n",
      "|NORCO (QTY 30) from U.S. Pharmacies ONLY! (10mg hydrocodone) - Lightening Fast Shipping!|\n",
      "|5kg Highest Purity Cocaine - Direct From Colombia                                       |\n",
      "|NORCO (QTY 30) from U.S. Pharmacies ONLY! (10mg hydrocodone) - Lightening Fast Shipping!|\n",
      "|Ephedrine 30mg 500,000 tabs                                                             |\n",
      "|Ephedrine 30mg 500,000 tabs                                                             |\n",
      "|NORCO (QTY 30) from U.S. Pharmacies ONLY! (10mg hydrocodone) - Lightening Fast Shipping!|\n",
      "|Ephedrine 30mg 500,000 tabs                                                             |\n",
      "|Ephedrine 30mg 500,000 tabs                                                             |\n",
      "|250x Green Heineken XTC Pills (200mg) +++ Very Intense +++FINALIZE EARLY                |\n",
      "|250x Green Heineken XTC Pills (200mg) +++ Very Intense +++FINALIZE EARLY                |\n",
      "|250x Green Heineken XTC Pills (200mg) +++ Very Intense +++FINALIZE EARLY                |\n",
      "|250x Plus Minus XTC Pills (200mg) +++ Very Intense +++FINALIZE EARLY                    |\n",
      "|250x Green Heineken XTC Pills (200mg) +++ Very Intense +++FINALIZE EARLY                |\n",
      "|250x Green Heineken XTC Pills (200mg) +++ Very Intense +++FINALIZE EARLY                |\n",
      "|250x Plus Minus XTC Pills (200mg) +++ Very Intense +++FINALIZE EARLY                    |\n",
      "|250x Plus Minus XTC Pills (200mg) +++ Very Intense +++FINALIZE EARLY                    |\n",
      "|250x Green Heineken XTC Pills (200mg) +++ Very Intense +++FINALIZE EARLY                |\n",
      "|250x Green Heineken XTC Pills (200mg) +++ Very Intense +++FINALIZE EARLY                |\n",
      "|250x Green Heineken XTC Pills (200mg) +++ Very Intense +++FINALIZE EARLY                |\n",
      "|250x Plus Minus XTC Pills (200mg) +++ Very Intense +++FINALIZE EARLY                    |\n",
      "|250x Plus Minus XTC Pills (200mg) +++ Very Intense +++FINALIZE EARLY                    |\n",
      "|250x Green Heineken XTC Pills (200mg) +++ Very Intense +++FINALIZE EARLY                |\n",
      "|250x Green Heineken XTC Pills (200mg) +++ Very Intense +++FINALIZE EARLY                |\n",
      "|250x Green Heineken XTC Pills (200mg) +++ Very Intense +++FINALIZE EARLY                |\n",
      "|250x Green Heineken XTC Pills (200mg) +++ Very Intense +++FINALIZE EARLY                |\n",
      "|250x Green Heineken XTC Pills (200mg) +++ Very Intense +++FINALIZE EARLY                |\n",
      "|NORCO (QTY 30) from U.S. Pharmacies ONLY! (10mg hydrocodone) - Lightening Fast Shipping!|\n",
      "|Ephedrine 30mg 500,000 tabs                                                             |\n",
      "|5kg Highest Purity Cocaine - Direct From Colombia                                       |\n",
      "|Ephedrine 30mg 500,000 tabs                                                             |\n",
      "|Ephedrine 30mg 500,000 tabs                                                             |\n",
      "|☻☻ 100g of PURE Dutch MDMA - DOMESTIC ☻☻                                                |\n",
      "|NORCO (QTY 30) from U.S. Pharmacies ONLY! (10mg hydrocodone) - Lightening Fast Shipping!|\n",
      "|NORCO (QTY 30) from U.S. Pharmacies ONLY! (10mg hydrocodone) - Lightening Fast Shipping!|\n",
      "|NORCO (QTY 30) from U.S. Pharmacies ONLY! (10mg hydrocodone) - Lightening Fast Shipping!|\n",
      "|5kg Highest Purity Cocaine - Direct From Colombia                                       |\n",
      "|Ephedrine 30mg 500,000 tabs                                                             |\n",
      "|NORCO (QTY 30) from U.S. Pharmacies ONLY! (10mg hydrocodone) - Lightening Fast Shipping!|\n",
      "|5kg Highest Purity Cocaine - Direct From Colombia                                       |\n",
      "|Ephedrine 30mg 500,000 tabs                                                             |\n",
      "|5kg Highest Purity Cocaine - Direct From Colombia                                       |\n",
      "|Ephedrine 30mg 500,000 tabs                                                             |\n",
      "|5kg Highest Purity Cocaine - Direct From Colombia                                       |\n",
      "|Ephedrine 30mg 500,000 tabs                                                             |\n",
      "|NORCO (QTY 30) from U.S. Pharmacies ONLY! (10mg hydrocodone) - Lightening Fast Shipping!|\n",
      "|Ephedrine 30mg 500,000 tabs                                                             |\n",
      "|Ephedrine 30mg 500,000 tabs                                                             |\n",
      "|5kg Highest Purity Cocaine - Direct From Colombia                                       |\n",
      "|5kg Highest Purity Cocaine - Direct From Colombia                                       |\n",
      "|5kg Highest Purity Cocaine - Direct From Colombia                                       |\n",
      "|5kg Highest Purity Cocaine - Direct From Colombia                                       |\n",
      "|5kg Highest Purity Cocaine - Direct From Colombia                                       |\n",
      "|Ephedrine 30mg 500,000 tabs                                                             |\n",
      "|5kg Highest Purity Cocaine - Direct From Colombia                                       |\n",
      "|NORCO (QTY 30) from U.S. Pharmacies ONLY! (10mg hydrocodone) - Lightening Fast Shipping!|\n",
      "|5kg Highest Purity Cocaine - Direct From Colombia                                       |\n",
      "|5kg Highest Purity Cocaine - Direct From Colombia                                       |\n",
      "|5kg Highest Purity Cocaine - Direct From Colombia                                       |\n",
      "|5kg Highest Purity Cocaine - Direct From Colombia                                       |\n",
      "|NORCO (QTY 30) YELLOW QUALITEST BRAND ONLY - Lightening Fast Shipping!                  |\n",
      "|5kg Highest Purity Cocaine - Direct From Colombia                                       |\n",
      "|5kg Highest Purity Cocaine - Direct From Colombia                                       |\n",
      "|NORCO (QTY 30) from U.S. Pharmacies ONLY! (10mg hydrocodone) - Lightening Fast Shipping!|\n",
      "|5kg Highest Purity Cocaine - Direct From Colombia                                       |\n",
      "|NORCO (QTY 30) from U.S. Pharmacies ONLY! (10mg hydrocodone) - Lightening Fast Shipping!|\n",
      "|5kg Highest Purity Cocaine - Direct From Colombia                                       |\n",
      "|500gr Durban Poison (Outdoors)                                                          |\n",
      "|5kg Highest Purity Cocaine - Direct From Colombia                                       |\n",
      "|NORCO (QTY 30) from U.S. Pharmacies ONLY! (10mg hydrocodone) - Lightening Fast Shipping!|\n",
      "|5kg Highest Purity Cocaine - Direct From Colombia                                       |\n",
      "|5kg Highest Purity Cocaine - Direct From Colombia                                       |\n",
      "|5kg Highest Purity Cocaine - Direct From Colombia                                       |\n",
      "|5kg Highest Purity Cocaine - Direct From Colombia                                       |\n",
      "|5kg Highest Purity Cocaine - Direct From Colombia                                       |\n",
      "|NORCO (QTY 30) from U.S. Pharmacies ONLY! (10mg hydrocodone) - Lightening Fast Shipping!|\n",
      "|5kg Highest Purity Cocaine - Direct From Colombia                                       |\n",
      "|5kg Highest Purity Cocaine - Direct From Colombia                                       |\n",
      "|NORCO (QTY 30) from U.S. Pharmacies ONLY! (10mg hydrocodone) - Lightening Fast Shipping!|\n",
      "|5kg Highest Purity Cocaine - Direct From Colombia                                       |\n",
      "|5kg Highest Purity Cocaine - Direct From Colombia                                       |\n",
      "|5kg Highest Purity Cocaine - Direct From Colombia                                       |\n",
      "|10kg Highest Purity Cocaine - Direct From Colombia                                      |\n",
      "|5kg Highest Purity Cocaine - Direct From Colombia                                       |\n",
      "|NORCO (QTY 30) from U.S. Pharmacies ONLY! (10mg hydrocodone) - Lightening Fast Shipping!|\n",
      "|5kg Highest Purity Cocaine - Direct From Colombia                                       |\n",
      "|NORCO (QTY 30) from U.S. Pharmacies ONLY! (10mg hydrocodone) - Lightening Fast Shipping!|\n",
      "|5kg Highest Purity Cocaine - Direct From Colombia                                       |\n",
      "|5kg Highest Purity Cocaine - Direct From Colombia                                       |\n",
      "|NORCO (QTY 30) from U.S. Pharmacies ONLY! (10mg hydrocodone) - Lightening Fast Shipping!|\n",
      "|5kg Highest Purity Cocaine - Direct From Colombia                                       |\n",
      "|5kg Highest Purity Cocaine - Direct From Colombia                                       |\n",
      "|10kg Highest Purity Cocaine - Direct From Colombia                                      |\n",
      "|10x Plus Minus XTC Pills (200mg) +++ Very Intense +++                                   |\n",
      "|10x Plus Minus XTC Pills (200mg) +++ Very Intense +++                                   |\n",
      "|10x Plus Minus XTC Pills (200mg) +++ Very Intense +++                                   |\n",
      "|10x Plus Minus XTC Pills (200mg) +++ Very Intense +++                                   |\n",
      "|10x Plus Minus XTC Pills (200mg) +++ Very Intense +++                                   |\n",
      "|5kg Highest Purity Cocaine - Direct From Colombia                                       |\n",
      "|5kg Highest Purity Cocaine - Direct From Colombia                                       |\n",
      "|5kg Highest Purity Cocaine - Direct From Colombia                                       |\n",
      "|NORCO (QTY 30) from U.S. Pharmacies ONLY! (10mg hydrocodone) - Lightening Fast Shipping!|\n",
      "|5kg Highest Purity Cocaine - Direct From Colombia                                       |\n",
      "|NORCO (QTY 30) from U.S. Pharmacies ONLY! (10mg hydrocodone) - Lightening Fast Shipping!|\n",
      "|5kg Highest Purity Cocaine - Direct From Colombia                                       |\n",
      "|Indoor Berry White A+ (1/4 pound)                                                       |\n",
      "|100 GRAM DUTCH MDMA HIGH GRADE 83% FREE SHIPPING                                        |\n",
      "|100 GRAM DUTCH MDMA HIGH GRADE 83% FREE SHIPPING                                        |\n",
      "|100 GRAM DUTCH MDMA HIGH GRADE 83% FREE SHIPPING                                        |\n",
      "|100 GRAM DUTCH MDMA HIGH GRADE 83% FREE SHIPPING                                        |\n",
      "|100 GRAM DUTCH MDMA HIGH GRADE 83% FREE SHIPPING                                        |\n",
      "|100 GRAM DUTCH MDMA HIGH GRADE 83% FREE SHIPPING                                        |\n",
      "|100 GRAM DUTCH MDMA HIGH GRADE 83% FREE SHIPPING                                        |\n",
      "|100 GRAM DUTCH MDMA HIGH GRADE 83% FREE SHIPPING                                        |\n",
      "|100 GRAM DUTCH MDMA HIGH GRADE 83% FREE SHIPPING                                        |\n",
      "|100 GRAM DUTCH MDMA HIGH GRADE 83% FREE SHIPPING                                        |\n",
      "|100 GRAM DUTCH MDMA HIGH GRADE 83% FREE SHIPPING                                        |\n",
      "|100 GRAM DUTCH MDMA HIGH GRADE 83% FREE SHIPPING                                        |\n",
      "|100 GRAM DUTCH MDMA HIGH GRADE 83% FREE SHIPPING                                        |\n",
      "|100 GRAM DUTCH MDMA HIGH GRADE 83% FREE SHIPPING                                        |\n",
      "|100 GRAM DUTCH MDMA HIGH GRADE 83% FREE SHIPPING                                        |\n",
      "|100 GRAM DUTCH MDMA HIGH GRADE 83% FREE SHIPPING                                        |\n",
      "|NORCO (QTY 30) from U.S. Pharmacies ONLY! (10mg hydrocodone) - Lightening Fast Shipping!|\n",
      "|5kg Highest Purity Cocaine - Direct From Colombia                                       |\n",
      "|5kg Highest Purity Cocaine - Direct From Colombia                                       |\n",
      "|10kg Highest Purity Cocaine - Direct From Colombia                                      |\n",
      "|5kg Highest Purity Cocaine - Direct From Colombia                                       |\n",
      "|NORCO (QTY 30) from U.S. Pharmacies ONLY! (10mg hydrocodone) - Lightening Fast Shipping!|\n",
      "|5kg Highest Purity Cocaine - Direct From Colombia                                       |\n",
      "|5kg Highest Purity Cocaine - Direct From Colombia                                       |\n",
      "|5kg Highest Purity Cocaine - Direct From Colombia                                       |\n",
      "|5kg Highest Purity Cocaine - Direct From Colombia                                       |\n",
      "|5kg Highest Purity Cocaine - Direct From Colombia                                       |\n",
      "|10kg Highest Purity Cocaine - Direct From Colombia                                      |\n",
      "|5kg Highest Purity Cocaine - Direct From Colombia                                       |\n",
      "|BTC to Mastercard                                                                       |\n",
      "|BTC to Mastercard                                                                       |\n",
      "|NORCO (QTY 30) from U.S. Pharmacies ONLY! (10mg hydrocodone) - Lightening Fast Shipping!|\n",
      "|BTC to Mastercard                                                                       |\n",
      "|5kg Highest Purity Cocaine - Direct From Colombia                                       |\n",
      "|BTC to Mastercard                                                                       |\n",
      "|5kg Highest Purity Cocaine - Direct From Colombia                                       |\n",
      "|5kg Highest Purity Cocaine - Direct From Colombia                                       |\n",
      "|BTC to Mastercard                                                                       |\n",
      "|5kg Highest Purity Cocaine - Direct From Colombia                                       |\n",
      "|5kg Highest Purity Cocaine - Direct From Colombia                                       |\n",
      "|5kg Highest Purity Cocaine - Direct From Colombia                                       |\n",
      "|BTC to Mastercard                                                                       |\n",
      "|5kg Highest Purity Cocaine - Direct From Colombia                                       |\n",
      "|BTC to Mastercard                                                                       |\n",
      "|5kg Highest Purity Cocaine - Direct From Colombia                                       |\n",
      "|5kg Highest Purity Cocaine - Direct From Colombia                                       |\n",
      "|BTC to Mastercard                                                                       |\n",
      "|BTC to Mastercard                                                                       |\n",
      "|5kg Highest Purity Cocaine - Direct From Colombia                                       |\n",
      "|5kg Highest Purity Cocaine - Direct From Colombia                                       |\n",
      "|NORCO (QTY 30) YELLOW QUALITEST BRAND ONLY - Lightening Fast Shipping!                  |\n",
      "|5kg Highest Purity Cocaine - Direct From Colombia                                       |\n",
      "|5kg Highest Purity Cocaine - Direct From Colombia                                       |\n",
      "|NORCO (QTY 30) YELLOW QUALITEST BRAND ONLY - Lightening Fast Shipping!                  |\n",
      "|BTC to Mastercard                                                                       |\n",
      "|5kg Highest Purity Cocaine - Direct From Colombia                                       |\n",
      "|BTC to Mastercard                                                                       |\n",
      "|NORCO (QTY 30) YELLOW QUALITEST BRAND ONLY - Lightening Fast Shipping!                  |\n",
      "|5kg Highest Purity Cocaine - Direct From Colombia                                       |\n",
      "|BTC to Mastercard                                                                       |\n",
      "|5kg Highest Purity Cocaine - Direct From Colombia                                       |\n",
      "|BTC to Mastercard                                                                       |\n",
      "|5kg Highest Purity Cocaine - Direct From Colombia                                       |\n",
      "|5kg Highest Purity Cocaine - Direct From Colombia                                       |\n",
      "|5kg Highest Purity Cocaine - Direct From Colombia                                       |\n",
      "|BTC to Mastercard                                                                       |\n",
      "|NORCO (QTY 30) YELLOW QUALITEST BRAND ONLY - Lightening Fast Shipping!                  |\n",
      "|Mephedrone (old school) 1g                                                              |\n",
      "|Mephedrone (old school) 1g                                                              |\n",
      "|Mephedrone (old school) 1g                                                              |\n",
      "|Mephedrone (old school) 1g                                                              |\n",
      "|Mephedrone (old school) 1g                                                              |\n",
      "|custom listing 6                                                                        |\n",
      "|Mephedrone (old school) 1g                                                              |\n",
      "|Mephedrone (old school) 1g                                                              |\n",
      "|Mephedrone (old school) 1g                                                              |\n",
      "|Mephedrone (old school) 1g                                                              |\n",
      "|Mephedrone (old school) 1g                                                              |\n",
      "|Mephedrone (old school) 1g                                                              |\n",
      "|Mephedrone (old school) 1g                                                              |\n",
      "|Mephedrone (old school) 1g                                                              |\n",
      "|Mephedrone (old school) 1g                                                              |\n",
      "|Mephedrone (old school) 1g                                                              |\n",
      "|Mephedrone (old school) 1g                                                              |\n",
      "|Wax Sample(SILVER HAZE, OG, & EXODUS)                                                   |\n",
      "|Mephedrone (old school) 1g                                                              |\n",
      "|Mephedrone (old school) 1g                                                              |\n",
      "|Mephedrone (old school) 1g                                                              |\n",
      "|Mephedrone (old school) 1g                                                              |\n",
      "+----------------------------------------------------------------------------------------+\n",
      "only showing top 200 rows\n",
      "\n"
     ]
    }
   ],
   "source": [
    "sortedDF.select('name').show(200,False)"
   ]
  },
  {
   "cell_type": "code",
   "execution_count": 16,
   "metadata": {},
   "outputs": [],
   "source": [
    "\n",
    "dfAvgBTCprice = sortedDF.groupBy(\"date\").agg(F.mean('price'),F.count('name'))"
   ]
  },
  {
   "cell_type": "code",
   "execution_count": 17,
   "metadata": {},
   "outputs": [
    {
     "name": "stdout",
     "output_type": "stream",
     "text": [
      "+----------+------------------+-----------+\n",
      "|      date|        avg(price)|count(name)|\n",
      "+----------+------------------+-----------+\n",
      "|2015-05-01|1.1189390973333326|         60|\n",
      "|2015-02-09|2.3864177333109953|      19849|\n",
      "|2015-02-26| 2.399287752648938|      20831|\n",
      "|2015-02-28| 2.329680090957533|      20887|\n",
      "|2014-11-01|  2.41073572211113|      18663|\n",
      "|2014-10-23|1.9529272582956247|       1326|\n",
      "|2015-01-21|2.6410920705758167|      19329|\n",
      "|2015-01-18|2.2636631639634293|      15532|\n",
      "|2015-03-29|2.0819094708638075|      24311|\n",
      "|2014-09-26|1.6960593423492958|       8709|\n",
      "|2014-12-28|1.7516867724682834|      18130|\n",
      "|2015-02-24| 2.149917257767942|      20107|\n",
      "|2014-07-30|1.0348169139137136|        649|\n",
      "|2015-02-03| 2.256214900434484|      20369|\n",
      "|2015-06-22|2.3443947074507188|      22728|\n",
      "|2014-01-09|1.0220307955183765|       1823|\n",
      "|2014-02-15|0.6631877627848101|        474|\n",
      "|2014-05-24|1.2886387426684052|      11891|\n",
      "|2014-11-27|1.3878886403133481|       3319|\n",
      "|2015-01-10|2.0103403719410444|      12823|\n",
      "+----------+------------------+-----------+\n",
      "only showing top 20 rows\n",
      "\n"
     ]
    }
   ],
   "source": [
    "dfAvgBTCprice.show()"
   ]
  },
  {
   "cell_type": "code",
   "execution_count": 18,
   "metadata": {},
   "outputs": [],
   "source": [
    "pdAvgPriceDF = dfAvgBTCprice.toPandas()"
   ]
  },
  {
   "cell_type": "code",
   "execution_count": 19,
   "metadata": {},
   "outputs": [],
   "source": [
    "pdAvgPriceDF = pdAvgPriceDF.rename(columns={\"date\": \"date\", \"avg(price)\": \"avgPrice(BTC)\", \"count(name)\":\"nbOfProducts\"})"
   ]
  },
  {
   "cell_type": "code",
   "execution_count": 20,
   "metadata": {},
   "outputs": [
    {
     "data": {
      "text/html": [
       "<div>\n",
       "<style scoped>\n",
       "    .dataframe tbody tr th:only-of-type {\n",
       "        vertical-align: middle;\n",
       "    }\n",
       "\n",
       "    .dataframe tbody tr th {\n",
       "        vertical-align: top;\n",
       "    }\n",
       "\n",
       "    .dataframe thead th {\n",
       "        text-align: right;\n",
       "    }\n",
       "</style>\n",
       "<table border=\"1\" class=\"dataframe\">\n",
       "  <thead>\n",
       "    <tr style=\"text-align: right;\">\n",
       "      <th></th>\n",
       "      <th>date</th>\n",
       "      <th>avgPrice(BTC)</th>\n",
       "      <th>nbOfProducts</th>\n",
       "    </tr>\n",
       "  </thead>\n",
       "  <tbody>\n",
       "    <tr>\n",
       "      <td>0</td>\n",
       "      <td>2015-05-01</td>\n",
       "      <td>1.118939</td>\n",
       "      <td>60</td>\n",
       "    </tr>\n",
       "    <tr>\n",
       "      <td>1</td>\n",
       "      <td>2015-02-09</td>\n",
       "      <td>2.386418</td>\n",
       "      <td>19849</td>\n",
       "    </tr>\n",
       "    <tr>\n",
       "      <td>2</td>\n",
       "      <td>2015-02-26</td>\n",
       "      <td>2.399288</td>\n",
       "      <td>20831</td>\n",
       "    </tr>\n",
       "    <tr>\n",
       "      <td>3</td>\n",
       "      <td>2015-02-28</td>\n",
       "      <td>2.329680</td>\n",
       "      <td>20887</td>\n",
       "    </tr>\n",
       "    <tr>\n",
       "      <td>4</td>\n",
       "      <td>2014-11-01</td>\n",
       "      <td>2.410736</td>\n",
       "      <td>18663</td>\n",
       "    </tr>\n",
       "    <tr>\n",
       "      <td>5</td>\n",
       "      <td>2014-10-23</td>\n",
       "      <td>1.952927</td>\n",
       "      <td>1326</td>\n",
       "    </tr>\n",
       "    <tr>\n",
       "      <td>6</td>\n",
       "      <td>2015-01-21</td>\n",
       "      <td>2.641092</td>\n",
       "      <td>19329</td>\n",
       "    </tr>\n",
       "    <tr>\n",
       "      <td>7</td>\n",
       "      <td>2015-01-18</td>\n",
       "      <td>2.263663</td>\n",
       "      <td>15532</td>\n",
       "    </tr>\n",
       "    <tr>\n",
       "      <td>8</td>\n",
       "      <td>2015-03-29</td>\n",
       "      <td>2.081909</td>\n",
       "      <td>24311</td>\n",
       "    </tr>\n",
       "    <tr>\n",
       "      <td>9</td>\n",
       "      <td>2014-09-26</td>\n",
       "      <td>1.696059</td>\n",
       "      <td>8709</td>\n",
       "    </tr>\n",
       "    <tr>\n",
       "      <td>10</td>\n",
       "      <td>2014-12-28</td>\n",
       "      <td>1.751687</td>\n",
       "      <td>18130</td>\n",
       "    </tr>\n",
       "    <tr>\n",
       "      <td>11</td>\n",
       "      <td>2015-02-24</td>\n",
       "      <td>2.149917</td>\n",
       "      <td>20107</td>\n",
       "    </tr>\n",
       "    <tr>\n",
       "      <td>12</td>\n",
       "      <td>2014-07-30</td>\n",
       "      <td>1.034817</td>\n",
       "      <td>649</td>\n",
       "    </tr>\n",
       "    <tr>\n",
       "      <td>13</td>\n",
       "      <td>2015-02-03</td>\n",
       "      <td>2.256215</td>\n",
       "      <td>20369</td>\n",
       "    </tr>\n",
       "    <tr>\n",
       "      <td>14</td>\n",
       "      <td>2015-06-22</td>\n",
       "      <td>2.344395</td>\n",
       "      <td>22728</td>\n",
       "    </tr>\n",
       "    <tr>\n",
       "      <td>15</td>\n",
       "      <td>2014-01-09</td>\n",
       "      <td>1.022031</td>\n",
       "      <td>1823</td>\n",
       "    </tr>\n",
       "    <tr>\n",
       "      <td>16</td>\n",
       "      <td>2014-02-15</td>\n",
       "      <td>0.663188</td>\n",
       "      <td>474</td>\n",
       "    </tr>\n",
       "    <tr>\n",
       "      <td>17</td>\n",
       "      <td>2014-05-24</td>\n",
       "      <td>1.288639</td>\n",
       "      <td>11891</td>\n",
       "    </tr>\n",
       "    <tr>\n",
       "      <td>18</td>\n",
       "      <td>2014-11-27</td>\n",
       "      <td>1.387889</td>\n",
       "      <td>3319</td>\n",
       "    </tr>\n",
       "    <tr>\n",
       "      <td>19</td>\n",
       "      <td>2015-01-10</td>\n",
       "      <td>2.010340</td>\n",
       "      <td>12823</td>\n",
       "    </tr>\n",
       "  </tbody>\n",
       "</table>\n",
       "</div>"
      ],
      "text/plain": [
       "          date  avgPrice(BTC)  nbOfProducts\n",
       "0   2015-05-01       1.118939            60\n",
       "1   2015-02-09       2.386418         19849\n",
       "2   2015-02-26       2.399288         20831\n",
       "3   2015-02-28       2.329680         20887\n",
       "4   2014-11-01       2.410736         18663\n",
       "5   2014-10-23       1.952927          1326\n",
       "6   2015-01-21       2.641092         19329\n",
       "7   2015-01-18       2.263663         15532\n",
       "8   2015-03-29       2.081909         24311\n",
       "9   2014-09-26       1.696059          8709\n",
       "10  2014-12-28       1.751687         18130\n",
       "11  2015-02-24       2.149917         20107\n",
       "12  2014-07-30       1.034817           649\n",
       "13  2015-02-03       2.256215         20369\n",
       "14  2015-06-22       2.344395         22728\n",
       "15  2014-01-09       1.022031          1823\n",
       "16  2014-02-15       0.663188           474\n",
       "17  2014-05-24       1.288639         11891\n",
       "18  2014-11-27       1.387889          3319\n",
       "19  2015-01-10       2.010340         12823"
      ]
     },
     "execution_count": 20,
     "metadata": {},
     "output_type": "execute_result"
    }
   ],
   "source": [
    "pdAvgPriceDF.head(20)"
   ]
  },
  {
   "cell_type": "code",
   "execution_count": 21,
   "metadata": {},
   "outputs": [
    {
     "data": {
      "text/plain": [
       "date              object\n",
       "avgPrice(BTC)    float64\n",
       "nbOfProducts       int64\n",
       "dtype: object"
      ]
     },
     "execution_count": 21,
     "metadata": {},
     "output_type": "execute_result"
    }
   ],
   "source": [
    "pdAvgPriceDF.dtypes"
   ]
  },
  {
   "cell_type": "markdown",
   "metadata": {},
   "source": [
    "### Load BTC prices"
   ]
  },
  {
   "cell_type": "code",
   "execution_count": 22,
   "metadata": {},
   "outputs": [],
   "source": [
    "btcPriceDF= pd.read_csv(\"../data/bitcoin_csv.csv\",usecols=['date', 'price(USD)'])"
   ]
  },
  {
   "cell_type": "code",
   "execution_count": 23,
   "metadata": {},
   "outputs": [],
   "source": [
    "btcPriceDF = btcPriceDF.dropna()\n",
    "btcPriceDF = btcPriceDF.rename(columns ={'price(USD)':'price'})"
   ]
  },
  {
   "cell_type": "code",
   "execution_count": 24,
   "metadata": {},
   "outputs": [
    {
     "data": {
      "text/html": [
       "<div>\n",
       "<style scoped>\n",
       "    .dataframe tbody tr th:only-of-type {\n",
       "        vertical-align: middle;\n",
       "    }\n",
       "\n",
       "    .dataframe tbody tr th {\n",
       "        vertical-align: top;\n",
       "    }\n",
       "\n",
       "    .dataframe thead th {\n",
       "        text-align: right;\n",
       "    }\n",
       "</style>\n",
       "<table border=\"1\" class=\"dataframe\">\n",
       "  <thead>\n",
       "    <tr style=\"text-align: right;\">\n",
       "      <th></th>\n",
       "      <th>date</th>\n",
       "      <th>price</th>\n",
       "    </tr>\n",
       "  </thead>\n",
       "  <tbody>\n",
       "    <tr>\n",
       "      <td>1570</td>\n",
       "      <td>2013-04-28</td>\n",
       "      <td>135.30</td>\n",
       "    </tr>\n",
       "    <tr>\n",
       "      <td>1571</td>\n",
       "      <td>2013-04-29</td>\n",
       "      <td>134.44</td>\n",
       "    </tr>\n",
       "    <tr>\n",
       "      <td>1572</td>\n",
       "      <td>2013-04-30</td>\n",
       "      <td>144.00</td>\n",
       "    </tr>\n",
       "    <tr>\n",
       "      <td>1573</td>\n",
       "      <td>2013-05-01</td>\n",
       "      <td>139.00</td>\n",
       "    </tr>\n",
       "    <tr>\n",
       "      <td>1574</td>\n",
       "      <td>2013-05-02</td>\n",
       "      <td>116.38</td>\n",
       "    </tr>\n",
       "    <tr>\n",
       "      <td>...</td>\n",
       "      <td>...</td>\n",
       "      <td>...</td>\n",
       "    </tr>\n",
       "    <tr>\n",
       "      <td>3600</td>\n",
       "      <td>2018-11-18</td>\n",
       "      <td>5559.74</td>\n",
       "    </tr>\n",
       "    <tr>\n",
       "      <td>3601</td>\n",
       "      <td>2018-11-19</td>\n",
       "      <td>5620.78</td>\n",
       "    </tr>\n",
       "    <tr>\n",
       "      <td>3602</td>\n",
       "      <td>2018-11-20</td>\n",
       "      <td>4863.93</td>\n",
       "    </tr>\n",
       "    <tr>\n",
       "      <td>3603</td>\n",
       "      <td>2018-11-21</td>\n",
       "      <td>4465.54</td>\n",
       "    </tr>\n",
       "    <tr>\n",
       "      <td>3604</td>\n",
       "      <td>2018-11-22</td>\n",
       "      <td>4611.57</td>\n",
       "    </tr>\n",
       "  </tbody>\n",
       "</table>\n",
       "<p>2035 rows × 2 columns</p>\n",
       "</div>"
      ],
      "text/plain": [
       "            date    price\n",
       "1570  2013-04-28   135.30\n",
       "1571  2013-04-29   134.44\n",
       "1572  2013-04-30   144.00\n",
       "1573  2013-05-01   139.00\n",
       "1574  2013-05-02   116.38\n",
       "...          ...      ...\n",
       "3600  2018-11-18  5559.74\n",
       "3601  2018-11-19  5620.78\n",
       "3602  2018-11-20  4863.93\n",
       "3603  2018-11-21  4465.54\n",
       "3604  2018-11-22  4611.57\n",
       "\n",
       "[2035 rows x 2 columns]"
      ]
     },
     "execution_count": 24,
     "metadata": {},
     "output_type": "execute_result"
    }
   ],
   "source": [
    "btcPriceDF"
   ]
  },
  {
   "cell_type": "code",
   "execution_count": 25,
   "metadata": {},
   "outputs": [],
   "source": [
    "import datetime as dt"
   ]
  },
  {
   "cell_type": "code",
   "execution_count": 26,
   "metadata": {},
   "outputs": [],
   "source": [
    "def convertDates(s):\n",
    "    return dt.datetime.strptime(s, '%b %d, %Y')"
   ]
  },
  {
   "cell_type": "code",
   "execution_count": 27,
   "metadata": {},
   "outputs": [],
   "source": [
    "def convertDatesAVGPrice(s):\n",
    "    return dt.datetime.strptime(s, '%Y-%m-%d')"
   ]
  },
  {
   "cell_type": "code",
   "execution_count": 28,
   "metadata": {},
   "outputs": [],
   "source": [
    "btcPriceDF.date = btcPriceDF.date.apply(convertDatesAVGPrice)"
   ]
  },
  {
   "cell_type": "code",
   "execution_count": 29,
   "metadata": {},
   "outputs": [
    {
     "data": {
      "text/plain": [
       "date     datetime64[ns]\n",
       "price           float64\n",
       "dtype: object"
      ]
     },
     "execution_count": 29,
     "metadata": {},
     "output_type": "execute_result"
    }
   ],
   "source": [
    "btcPriceDF.dtypes"
   ]
  },
  {
   "cell_type": "code",
   "execution_count": 30,
   "metadata": {},
   "outputs": [],
   "source": [
    "btcPriceDF = btcPriceDF.set_index('date')"
   ]
  },
  {
   "cell_type": "code",
   "execution_count": 31,
   "metadata": {},
   "outputs": [
    {
     "data": {
      "text/html": [
       "<div>\n",
       "<style scoped>\n",
       "    .dataframe tbody tr th:only-of-type {\n",
       "        vertical-align: middle;\n",
       "    }\n",
       "\n",
       "    .dataframe tbody tr th {\n",
       "        vertical-align: top;\n",
       "    }\n",
       "\n",
       "    .dataframe thead th {\n",
       "        text-align: right;\n",
       "    }\n",
       "</style>\n",
       "<table border=\"1\" class=\"dataframe\">\n",
       "  <thead>\n",
       "    <tr style=\"text-align: right;\">\n",
       "      <th></th>\n",
       "      <th>price</th>\n",
       "    </tr>\n",
       "    <tr>\n",
       "      <th>date</th>\n",
       "      <th></th>\n",
       "    </tr>\n",
       "  </thead>\n",
       "  <tbody>\n",
       "    <tr>\n",
       "      <td>2013-04-28</td>\n",
       "      <td>135.30</td>\n",
       "    </tr>\n",
       "    <tr>\n",
       "      <td>2013-04-29</td>\n",
       "      <td>134.44</td>\n",
       "    </tr>\n",
       "    <tr>\n",
       "      <td>2013-04-30</td>\n",
       "      <td>144.00</td>\n",
       "    </tr>\n",
       "    <tr>\n",
       "      <td>2013-05-01</td>\n",
       "      <td>139.00</td>\n",
       "    </tr>\n",
       "    <tr>\n",
       "      <td>2013-05-02</td>\n",
       "      <td>116.38</td>\n",
       "    </tr>\n",
       "    <tr>\n",
       "      <td>...</td>\n",
       "      <td>...</td>\n",
       "    </tr>\n",
       "    <tr>\n",
       "      <td>2018-11-18</td>\n",
       "      <td>5559.74</td>\n",
       "    </tr>\n",
       "    <tr>\n",
       "      <td>2018-11-19</td>\n",
       "      <td>5620.78</td>\n",
       "    </tr>\n",
       "    <tr>\n",
       "      <td>2018-11-20</td>\n",
       "      <td>4863.93</td>\n",
       "    </tr>\n",
       "    <tr>\n",
       "      <td>2018-11-21</td>\n",
       "      <td>4465.54</td>\n",
       "    </tr>\n",
       "    <tr>\n",
       "      <td>2018-11-22</td>\n",
       "      <td>4611.57</td>\n",
       "    </tr>\n",
       "  </tbody>\n",
       "</table>\n",
       "<p>2035 rows × 1 columns</p>\n",
       "</div>"
      ],
      "text/plain": [
       "              price\n",
       "date               \n",
       "2013-04-28   135.30\n",
       "2013-04-29   134.44\n",
       "2013-04-30   144.00\n",
       "2013-05-01   139.00\n",
       "2013-05-02   116.38\n",
       "...             ...\n",
       "2018-11-18  5559.74\n",
       "2018-11-19  5620.78\n",
       "2018-11-20  4863.93\n",
       "2018-11-21  4465.54\n",
       "2018-11-22  4611.57\n",
       "\n",
       "[2035 rows x 1 columns]"
      ]
     },
     "execution_count": 31,
     "metadata": {},
     "output_type": "execute_result"
    }
   ],
   "source": [
    "btcPriceDF"
   ]
  },
  {
   "cell_type": "code",
   "execution_count": 32,
   "metadata": {},
   "outputs": [],
   "source": [
    "pdAvgPriceDF.date = pdAvgPriceDF.date.apply(convertDatesAVGPrice)"
   ]
  },
  {
   "cell_type": "code",
   "execution_count": 33,
   "metadata": {},
   "outputs": [
    {
     "data": {
      "text/html": [
       "<div>\n",
       "<style scoped>\n",
       "    .dataframe tbody tr th:only-of-type {\n",
       "        vertical-align: middle;\n",
       "    }\n",
       "\n",
       "    .dataframe tbody tr th {\n",
       "        vertical-align: top;\n",
       "    }\n",
       "\n",
       "    .dataframe thead th {\n",
       "        text-align: right;\n",
       "    }\n",
       "</style>\n",
       "<table border=\"1\" class=\"dataframe\">\n",
       "  <thead>\n",
       "    <tr style=\"text-align: right;\">\n",
       "      <th></th>\n",
       "      <th>date</th>\n",
       "      <th>avgPrice(BTC)</th>\n",
       "      <th>nbOfProducts</th>\n",
       "    </tr>\n",
       "  </thead>\n",
       "  <tbody>\n",
       "    <tr>\n",
       "      <td>0</td>\n",
       "      <td>2015-05-01</td>\n",
       "      <td>1.118939</td>\n",
       "      <td>60</td>\n",
       "    </tr>\n",
       "    <tr>\n",
       "      <td>1</td>\n",
       "      <td>2015-02-09</td>\n",
       "      <td>2.386418</td>\n",
       "      <td>19849</td>\n",
       "    </tr>\n",
       "    <tr>\n",
       "      <td>2</td>\n",
       "      <td>2015-02-26</td>\n",
       "      <td>2.399288</td>\n",
       "      <td>20831</td>\n",
       "    </tr>\n",
       "    <tr>\n",
       "      <td>3</td>\n",
       "      <td>2015-02-28</td>\n",
       "      <td>2.329680</td>\n",
       "      <td>20887</td>\n",
       "    </tr>\n",
       "    <tr>\n",
       "      <td>4</td>\n",
       "      <td>2014-11-01</td>\n",
       "      <td>2.410736</td>\n",
       "      <td>18663</td>\n",
       "    </tr>\n",
       "    <tr>\n",
       "      <td>...</td>\n",
       "      <td>...</td>\n",
       "      <td>...</td>\n",
       "      <td>...</td>\n",
       "    </tr>\n",
       "    <tr>\n",
       "      <td>196</td>\n",
       "      <td>2015-02-01</td>\n",
       "      <td>2.280921</td>\n",
       "      <td>19236</td>\n",
       "    </tr>\n",
       "    <tr>\n",
       "      <td>197</td>\n",
       "      <td>2014-11-23</td>\n",
       "      <td>1.670746</td>\n",
       "      <td>18185</td>\n",
       "    </tr>\n",
       "    <tr>\n",
       "      <td>198</td>\n",
       "      <td>2014-06-03</td>\n",
       "      <td>0.592809</td>\n",
       "      <td>3730</td>\n",
       "    </tr>\n",
       "    <tr>\n",
       "      <td>199</td>\n",
       "      <td>2014-11-10</td>\n",
       "      <td>2.271409</td>\n",
       "      <td>17623</td>\n",
       "    </tr>\n",
       "    <tr>\n",
       "      <td>200</td>\n",
       "      <td>2014-11-07</td>\n",
       "      <td>2.471028</td>\n",
       "      <td>16476</td>\n",
       "    </tr>\n",
       "  </tbody>\n",
       "</table>\n",
       "<p>201 rows × 3 columns</p>\n",
       "</div>"
      ],
      "text/plain": [
       "          date  avgPrice(BTC)  nbOfProducts\n",
       "0   2015-05-01       1.118939            60\n",
       "1   2015-02-09       2.386418         19849\n",
       "2   2015-02-26       2.399288         20831\n",
       "3   2015-02-28       2.329680         20887\n",
       "4   2014-11-01       2.410736         18663\n",
       "..         ...            ...           ...\n",
       "196 2015-02-01       2.280921         19236\n",
       "197 2014-11-23       1.670746         18185\n",
       "198 2014-06-03       0.592809          3730\n",
       "199 2014-11-10       2.271409         17623\n",
       "200 2014-11-07       2.471028         16476\n",
       "\n",
       "[201 rows x 3 columns]"
      ]
     },
     "execution_count": 33,
     "metadata": {},
     "output_type": "execute_result"
    }
   ],
   "source": [
    "pdAvgPriceDF"
   ]
  },
  {
   "cell_type": "code",
   "execution_count": 34,
   "metadata": {},
   "outputs": [],
   "source": [
    "def convertBTC(entry):\n",
    "    date = entry.date\n",
    "    btcPrice = btcPriceDF.price[date]\n",
    "    entry['avgPrice(dollars)'] = entry['avgPrice(BTC)'] *btcPrice\n",
    "    return entry"
   ]
  },
  {
   "cell_type": "code",
   "execution_count": null,
   "metadata": {},
   "outputs": [],
   "source": []
  },
  {
   "cell_type": "code",
   "execution_count": null,
   "metadata": {},
   "outputs": [],
   "source": []
  },
  {
   "cell_type": "code",
   "execution_count": 35,
   "metadata": {},
   "outputs": [],
   "source": [
    "pdAvgPriceDF = pdAvgPriceDF.apply(convertBTC, axis=1)"
   ]
  },
  {
   "cell_type": "code",
   "execution_count": 36,
   "metadata": {},
   "outputs": [],
   "source": [
    "from matplotlib.dates import DateFormatter\n",
    "import matplotlib.dates as mdates\n",
    "import seaborn as sns\n",
    "\n",
    "def plotNDate(x, y, interval, title, y_label):\n",
    "    # Prettier plotting with seaborn\n",
    "    sns.set(font_scale=1.5, style=\"whitegrid\")\n",
    "\n",
    "    fig, ax = plt.subplots(figsize=(12, 8))\n",
    "    ax.plot(x,\n",
    "            y,\n",
    "            '-o',\n",
    "            color='purple')\n",
    "    ax.set(xlabel=\"Date\", ylabel=y_label,\n",
    "           title=title)\n",
    "    \n",
    "    plt.axvline(linewidth=4, color='r', x=\"2014-11-05\", label=\"Operation Onymous\")\n",
    "\n",
    "    # Format the x axis\n",
    "    ax.xaxis.set_major_locator(mdates.WeekdayLocator(interval=2))\n",
    "    ax.xaxis.set_major_formatter(DateFormatter(\"%d-%m-%y\"))\n",
    "\n",
    "    # Ensure ticks fall once every other week (interval=2) \n",
    "    ax.xaxis.set_major_locator(mdates.WeekdayLocator(interval=interval))\n",
    "    plt.legend()\n",
    "    plt.show()"
   ]
  },
  {
   "cell_type": "code",
   "execution_count": 37,
   "metadata": {},
   "outputs": [],
   "source": [
    "pdAvgPriceDF = pdAvgPriceDF.set_index('date')\n"
   ]
  },
  {
   "cell_type": "code",
   "execution_count": 38,
   "metadata": {},
   "outputs": [],
   "source": [
    "# clean outliers en mode cochon\n",
    "pdAvgPriceDF = pdAvgPriceDF[pdAvgPriceDF['avgPrice(dollars)'] < 25000]"
   ]
  },
  {
   "cell_type": "code",
   "execution_count": 39,
   "metadata": {},
   "outputs": [],
   "source": [
    "pdAvgPriceDF = pdAvgPriceDF.sort_index()"
   ]
  },
  {
   "cell_type": "code",
   "execution_count": 40,
   "metadata": {},
   "outputs": [
    {
     "data": {
      "text/plain": [
       "DatetimeIndex(['2014-01-01', '2014-01-09', '2014-01-16', '2014-01-26',\n",
       "               '2014-02-02', '2014-02-05', '2014-02-10', '2014-02-15',\n",
       "               '2014-02-18', '2014-02-23',\n",
       "               ...\n",
       "               '2015-06-13', '2015-06-15', '2015-06-20', '2015-06-22',\n",
       "               '2015-06-26', '2015-06-28', '2015-06-30', '2015-07-01',\n",
       "               '2015-07-04', '2015-07-07'],\n",
       "              dtype='datetime64[ns]', name='date', length=201, freq=None)"
      ]
     },
     "execution_count": 40,
     "metadata": {},
     "output_type": "execute_result"
    }
   ],
   "source": [
    "pdAvgPriceDF.index"
   ]
  },
  {
   "cell_type": "code",
   "execution_count": 41,
   "metadata": {},
   "outputs": [
    {
     "name": "stderr",
     "output_type": "stream",
     "text": [
      "/home/quentin/programs/anaconda3/envs/ada/lib/python3.7/site-packages/pandas/plotting/_matplotlib/converter.py:103: FutureWarning:\n",
      "\n",
      "Using an implicitly registered datetime converter for a matplotlib plotting method. The converter was registered by pandas on import. Future versions of pandas will require you to explicitly register matplotlib converters.\n",
      "\n",
      "To register the converters:\n",
      "\t>>> from pandas.plotting import register_matplotlib_converters\n",
      "\t>>> register_matplotlib_converters()\n",
      "\n"
     ]
    },
    {
     "data": {
      "image/png": "[encoded data removed]",
      "text/plain": [
       "<Figure size 864x576 with 1 Axes>"
      ]
     },
     "metadata": {},
     "output_type": "display_data"
    }
   ],
   "source": [
    "plotNDate(pdAvgPriceDF.index,pdAvgPriceDF['avgPrice(dollars)'], 15 ,'Average products price along time','avgProductsPrice($)')"
   ]
  },
  {
   "cell_type": "markdown",
   "metadata": {},
   "source": [
    "## Trying to clean data "
   ]
  },
  {
   "cell_type": "code",
   "execution_count": 42,
   "metadata": {},
   "outputs": [],
   "source": [
    "dateSerie = pdAvgPriceDF.index.to_series()\n",
    "dateSerie = dateSerie.reset_index(drop=True)"
   ]
  },
  {
   "cell_type": "code",
   "execution_count": 43,
   "metadata": {},
   "outputs": [
    {
     "data": {
      "text/plain": [
       "0     2014-01-01\n",
       "1     2014-01-09\n",
       "2     2014-01-16\n",
       "3     2014-01-26\n",
       "4     2014-02-02\n",
       "         ...    \n",
       "196   2015-06-28\n",
       "197   2015-06-30\n",
       "198   2015-07-01\n",
       "199   2015-07-04\n",
       "200   2015-07-07\n",
       "Name: date, Length: 201, dtype: datetime64[ns]"
      ]
     },
     "execution_count": 43,
     "metadata": {},
     "output_type": "execute_result"
    }
   ],
   "source": [
    "dateSerie"
   ]
  },
  {
   "cell_type": "code",
   "execution_count": 107,
   "metadata": {},
   "outputs": [],
   "source": [
    "compressionwidth = 20"
   ]
  },
  {
   "cell_type": "code",
   "execution_count": 108,
   "metadata": {},
   "outputs": [],
   "source": [
    "def correctoutliers(entry):\n",
    "    currentDate = entry.name\n",
    "\n",
    "    ithEntry = dateSerie[dateSerie == currentDate ]\n",
    "\n",
    "    i = ithEntry.index[0]\n",
    "    localSubset = pdAvgPriceDF.loc[pdAvgPriceDF.index[i-compressionwidth]:pdAvgPriceDF.index[i+compressionwidth]]\n",
    "    minQ = localSubset[\"avgPrice(dollars)\"].quantile(0.3)\n",
    "    maxQ = localSubset[\"avgPrice(dollars)\" ].quantile(0.7)\n",
    "    avgP = entry['avgPrice(dollars)']\n",
    "    if(avgP>maxQ or avgP<minQ):\n",
    "        entry['avgPrice(dollars)'] = localSubset[\"avgPrice(dollars)\"].mean()\n",
    "    return entry"
   ]
  },
  {
   "cell_type": "code",
   "execution_count": null,
   "metadata": {},
   "outputs": [],
   "source": []
  },
  {
   "cell_type": "code",
   "execution_count": 109,
   "metadata": {},
   "outputs": [],
   "source": [
    "correctedDF= pdAvgPriceDF.copy()"
   ]
  },
  {
   "cell_type": "code",
   "execution_count": 110,
   "metadata": {},
   "outputs": [],
   "source": [
    "correctedDF.iloc[compressionwidth:-compressionwidth] = correctedDF.iloc[compressionwidth:-compressionwidth].apply(correctoutliers, axis=1)"
   ]
  },
  {
   "cell_type": "code",
   "execution_count": 111,
   "metadata": {},
   "outputs": [],
   "source": [
    "rolledDF = correctedDF.copy()\n",
    "rolledDF = rolledDF.rolling(10).mean()"
   ]
  },
  {
   "cell_type": "markdown",
   "metadata": {},
   "source": [
    "## Plot time "
   ]
  },
  {
   "cell_type": "code",
   "execution_count": 112,
   "metadata": {},
   "outputs": [],
   "source": [
    "plottedDataFrame = rolledDF"
   ]
  },
  {
   "cell_type": "code",
   "execution_count": 133,
   "metadata": {},
   "outputs": [],
   "source": [
    "def plotNDate2(x,y1, y2, interval, title, y_label1, y_label2):\n",
    "    # Prettier plotting with seaborn\n",
    "    sns.set(font_scale=1.5, style=\"whitegrid\")\n",
    "\n",
    "    fig, ax = plt.subplots(figsize=(12, 8))\n",
    "\n",
    "    #ax.bar(x,y2,color='grey',width=1,linewidth=0)\n",
    "    ax.plot(x,y2,color='blue',linestyle='none', marker='.', label=y_label2)\n",
    "\n",
    "    \n",
    "    \n",
    "    ax.set(xlabel=\"Date\", ylabel=y_label2,\n",
    "           title=title)\n",
    "\n",
    "    ax2 = ax.twinx()\n",
    "    \n",
    "    ax2.set(ylabel=y_label1)\n",
    "    \n",
    "    ax2.plot(x, y1,'-', color='purple')\n",
    "    ax2.set_ylim([0,900])\n",
    "    ax.set_ylim([0,30000])\n",
    "    ax2.plot(btcPriceDF.index.to_series().iloc[300:-1200], btcPriceDF['price'].iloc[300:-1200],'-', color='orange')\n",
    "    \n",
    "    plt.axvline(linewidth=2, color='r', x=\"2014-11-05\", label=\"Operation Onymous\")\n",
    "\n",
    "    # Format the x axis\n",
    "    ax.xaxis.set_major_locator(mdates.WeekdayLocator(interval=2))\n",
    "    ax.xaxis.set_major_formatter(DateFormatter(\"%d-%m-%y\"))\n",
    "\n",
    "    # Ensure ticks fall once every other week (interval=2) \n",
    "    ax.xaxis.set_major_locator(mdates.WeekdayLocator(interval=interval))\n",
    "    plt.legend()\n",
    "    plt.show()"
   ]
  },
  {
   "cell_type": "code",
   "execution_count": 134,
   "metadata": {},
   "outputs": [
    {
     "data": {
      "image/png": "[encoded data removed]",
      "text/plain": [
       "<Figure size 864x576 with 2 Axes>"
      ]
     },
     "metadata": {},
     "output_type": "display_data"
    }
   ],
   "source": [
    "plotNDate2(plottedDataFrame.index,plottedDataFrame['avgPrice(dollars)'],pdAvgPriceDF['nbOfProducts'], 15 ,'Average products price along time','avgProductsPrice($)','Size of the parsed listing')"
   ]
  },
  {
   "cell_type": "code",
   "execution_count": null,
   "metadata": {},
   "outputs": [],
   "source": []
  },
  {
   "cell_type": "code",
   "execution_count": null,
   "metadata": {},
   "outputs": [],
   "source": []
  },
  {
   "cell_type": "code",
   "execution_count": null,
   "metadata": {},
   "outputs": [],
   "source": []
  },
  {
   "cell_type": "code",
   "execution_count": null,
   "metadata": {},
   "outputs": [],
   "source": []
  }
 ],
 "metadata": {
  "kernelspec": {
   "display_name": "Python 3",
   "language": "python",
   "name": "python3"
  },
  "language_info": {
   "codemirror_mode": {
    "name": "ipython",
    "version": 3
   },
   "file_extension": ".py",
   "mimetype": "text/x-python",
   "name": "python",
   "nbconvert_exporter": "python",
   "pygments_lexer": "ipython3",
   "version": "3.7.4"
  }
 },
 "nbformat": 4,
 "nbformat_minor": 2
}
