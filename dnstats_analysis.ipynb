{
 "cells": [
  {
   "cell_type": "code",
   "execution_count": 1,
   "metadata": {},
   "outputs": [],
   "source": [
    "from bs4 import BeautifulSoup as bs\n",
    "import os\n",
    "import pandas as pd\n",
    "import numpy as np\n",
    "from collections import Counter\n",
    "import matplotlib.pyplot as plt\n",
    "from ForumParsingTools import *"
   ]
  },
  {
   "cell_type": "code",
   "execution_count": 18,
   "metadata": {},
   "outputs": [],
   "source": [
    "agora_df1 = pd.read_csv('data/agora_stats.out', sep=\"\\t\")\n",
    "agora_df1 = agora_df1.drop(columns=['speed_download','total_time', 'rid','type'])"
   ]
  },
  {
   "cell_type": "code",
   "execution_count": 19,
   "metadata": {},
   "outputs": [],
   "source": [
    "agora_df1['timestamp'] = agora_df1['timestamp'].apply(pd.to_datetime)"
   ]
  },
  {
   "cell_type": "code",
   "execution_count": 48,
   "metadata": {},
   "outputs": [],
   "source": [
    "agora_subdf1 = agora_df1[agora_df1['sitename'] == \"Agora\"]\n",
    "forum_subdf1 = agora_df1[agora_df1['sitename'] == \"Agora Forums\"]"
   ]
  },
  {
   "cell_type": "code",
   "execution_count": 21,
   "metadata": {},
   "outputs": [],
   "source": [
    "def fixIsUp(s):\n",
    "    if(int(s) != 200):\n",
    "        return 0\n",
    "    else:\n",
    "        return 1"
   ]
  },
  {
   "cell_type": "code",
   "execution_count": 22,
   "metadata": {},
   "outputs": [],
   "source": [
    "agora_df1['siteup'] = agora_df1['httpcode'].apply(fixIsUp)"
   ]
  },
  {
   "cell_type": "code",
   "execution_count": 50,
   "metadata": {},
   "outputs": [
    {
     "data": {
      "text/html": [
       "<div>\n",
       "<style scoped>\n",
       "    .dataframe tbody tr th:only-of-type {\n",
       "        vertical-align: middle;\n",
       "    }\n",
       "\n",
       "    .dataframe tbody tr th {\n",
       "        vertical-align: top;\n",
       "    }\n",
       "\n",
       "    .dataframe thead th {\n",
       "        text-align: right;\n",
       "    }\n",
       "</style>\n",
       "<table border=\"1\" class=\"dataframe\">\n",
       "  <thead>\n",
       "    <tr style=\"text-align: right;\">\n",
       "      <th></th>\n",
       "      <th>sitename</th>\n",
       "      <th>siteup</th>\n",
       "      <th>httpcode</th>\n",
       "      <th>timestamp</th>\n",
       "    </tr>\n",
       "  </thead>\n",
       "  <tbody>\n",
       "    <tr>\n",
       "      <th>36180</th>\n",
       "      <td>Agora</td>\n",
       "      <td>1</td>\n",
       "      <td>200</td>\n",
       "      <td>2015-09-07</td>\n",
       "    </tr>\n",
       "    <tr>\n",
       "      <th>36182</th>\n",
       "      <td>Agora</td>\n",
       "      <td>1</td>\n",
       "      <td>200</td>\n",
       "      <td>2015-09-07</td>\n",
       "    </tr>\n",
       "    <tr>\n",
       "      <th>36184</th>\n",
       "      <td>Agora</td>\n",
       "      <td>1</td>\n",
       "      <td>200</td>\n",
       "      <td>2015-09-07</td>\n",
       "    </tr>\n",
       "    <tr>\n",
       "      <th>36186</th>\n",
       "      <td>Agora</td>\n",
       "      <td>1</td>\n",
       "      <td>200</td>\n",
       "      <td>2015-09-07</td>\n",
       "    </tr>\n",
       "    <tr>\n",
       "      <th>36188</th>\n",
       "      <td>Agora</td>\n",
       "      <td>1</td>\n",
       "      <td>200</td>\n",
       "      <td>2015-09-07</td>\n",
       "    </tr>\n",
       "    <tr>\n",
       "      <th>...</th>\n",
       "      <td>...</td>\n",
       "      <td>...</td>\n",
       "      <td>...</td>\n",
       "      <td>...</td>\n",
       "    </tr>\n",
       "    <tr>\n",
       "      <th>324330</th>\n",
       "      <td>Agora Forums</td>\n",
       "      <td>1</td>\n",
       "      <td>200</td>\n",
       "      <td>2014-04-24</td>\n",
       "    </tr>\n",
       "    <tr>\n",
       "      <th>324332</th>\n",
       "      <td>Agora Forums</td>\n",
       "      <td>1</td>\n",
       "      <td>200</td>\n",
       "      <td>2014-04-24</td>\n",
       "    </tr>\n",
       "    <tr>\n",
       "      <th>324333</th>\n",
       "      <td>Agora Forums</td>\n",
       "      <td>1</td>\n",
       "      <td>200</td>\n",
       "      <td>2014-04-24</td>\n",
       "    </tr>\n",
       "    <tr>\n",
       "      <th>324336</th>\n",
       "      <td>Agora Forums</td>\n",
       "      <td>1</td>\n",
       "      <td>200</td>\n",
       "      <td>2014-04-24</td>\n",
       "    </tr>\n",
       "    <tr>\n",
       "      <th>324338</th>\n",
       "      <td>Agora Forums</td>\n",
       "      <td>1</td>\n",
       "      <td>200</td>\n",
       "      <td>2014-04-24</td>\n",
       "    </tr>\n",
       "  </tbody>\n",
       "</table>\n",
       "<p>219971 rows × 4 columns</p>\n",
       "</div>"
      ],
      "text/plain": [
       "            sitename  siteup  httpcode  timestamp\n",
       "36180          Agora       1       200 2015-09-07\n",
       "36182          Agora       1       200 2015-09-07\n",
       "36184          Agora       1       200 2015-09-07\n",
       "36186          Agora       1       200 2015-09-07\n",
       "36188          Agora       1       200 2015-09-07\n",
       "...              ...     ...       ...        ...\n",
       "324330  Agora Forums       1       200 2014-04-24\n",
       "324332  Agora Forums       1       200 2014-04-24\n",
       "324333  Agora Forums       1       200 2014-04-24\n",
       "324336  Agora Forums       1       200 2014-04-24\n",
       "324338  Agora Forums       1       200 2014-04-24\n",
       "\n",
       "[219971 rows x 4 columns]"
      ]
     },
     "execution_count": 50,
     "metadata": {},
     "output_type": "execute_result"
    }
   ],
   "source": [
    "agora_df1[agora_df1['siteup'] == 1]"
   ]
  },
  {
   "cell_type": "code",
   "execution_count": 24,
   "metadata": {},
   "outputs": [],
   "source": [
    "def truncateTime(t):\n",
    "    return t.round(freq='D')"
   ]
  },
  {
   "cell_type": "code",
   "execution_count": 25,
   "metadata": {},
   "outputs": [],
   "source": [
    "agora_df1['timestamp'] = agora_df1['timestamp'].apply(truncateTime)"
   ]
  },
  {
   "cell_type": "code",
   "execution_count": 51,
   "metadata": {},
   "outputs": [],
   "source": [
    "agora_subdf1 = agora_subdf1.groupby(by='timestamp').mean()\n",
    "forum_subdf1 = forum_subdf1.groupby(by='timestamp').mean()"
   ]
  },
  {
   "cell_type": "code",
   "execution_count": 49,
   "metadata": {},
   "outputs": [
    {
     "data": {
      "text/html": [
       "<div>\n",
       "<style scoped>\n",
       "    .dataframe tbody tr th:only-of-type {\n",
       "        vertical-align: middle;\n",
       "    }\n",
       "\n",
       "    .dataframe tbody tr th {\n",
       "        vertical-align: top;\n",
       "    }\n",
       "\n",
       "    .dataframe thead th {\n",
       "        text-align: right;\n",
       "    }\n",
       "</style>\n",
       "<table border=\"1\" class=\"dataframe\">\n",
       "  <thead>\n",
       "    <tr style=\"text-align: right;\">\n",
       "      <th></th>\n",
       "      <th></th>\n",
       "      <th>siteup</th>\n",
       "      <th>httpcode</th>\n",
       "    </tr>\n",
       "    <tr>\n",
       "      <th>sitename</th>\n",
       "      <th>timestamp</th>\n",
       "      <th></th>\n",
       "      <th></th>\n",
       "    </tr>\n",
       "  </thead>\n",
       "  <tbody>\n",
       "    <tr>\n",
       "      <th rowspan=\"5\" valign=\"top\">Agora</th>\n",
       "      <th>2014-04-24</th>\n",
       "      <td>0.934211</td>\n",
       "      <td>213.421053</td>\n",
       "    </tr>\n",
       "    <tr>\n",
       "      <th>2014-04-25</th>\n",
       "      <td>1.000000</td>\n",
       "      <td>200.000000</td>\n",
       "    </tr>\n",
       "    <tr>\n",
       "      <th>2014-04-26</th>\n",
       "      <td>0.991071</td>\n",
       "      <td>202.705357</td>\n",
       "    </tr>\n",
       "    <tr>\n",
       "      <th>2014-04-27</th>\n",
       "      <td>0.990291</td>\n",
       "      <td>202.932039</td>\n",
       "    </tr>\n",
       "    <tr>\n",
       "      <th>2014-04-28</th>\n",
       "      <td>0.989583</td>\n",
       "      <td>203.145833</td>\n",
       "    </tr>\n",
       "    <tr>\n",
       "      <th>...</th>\n",
       "      <th>...</th>\n",
       "      <td>...</td>\n",
       "      <td>...</td>\n",
       "    </tr>\n",
       "    <tr>\n",
       "      <th rowspan=\"5\" valign=\"top\">Agora Forums</th>\n",
       "      <th>2015-11-05</th>\n",
       "      <td>0.000000</td>\n",
       "      <td>503.000000</td>\n",
       "    </tr>\n",
       "    <tr>\n",
       "      <th>2015-11-06</th>\n",
       "      <td>0.000000</td>\n",
       "      <td>503.000000</td>\n",
       "    </tr>\n",
       "    <tr>\n",
       "      <th>2015-11-07</th>\n",
       "      <td>0.000000</td>\n",
       "      <td>503.000000</td>\n",
       "    </tr>\n",
       "    <tr>\n",
       "      <th>2015-11-08</th>\n",
       "      <td>0.000000</td>\n",
       "      <td>503.000000</td>\n",
       "    </tr>\n",
       "    <tr>\n",
       "      <th>2015-11-09</th>\n",
       "      <td>0.000000</td>\n",
       "      <td>503.000000</td>\n",
       "    </tr>\n",
       "  </tbody>\n",
       "</table>\n",
       "<p>1130 rows × 2 columns</p>\n",
       "</div>"
      ],
      "text/plain": [
       "                           siteup    httpcode\n",
       "sitename     timestamp                       \n",
       "Agora        2014-04-24  0.934211  213.421053\n",
       "             2014-04-25  1.000000  200.000000\n",
       "             2014-04-26  0.991071  202.705357\n",
       "             2014-04-27  0.990291  202.932039\n",
       "             2014-04-28  0.989583  203.145833\n",
       "...                           ...         ...\n",
       "Agora Forums 2015-11-05  0.000000  503.000000\n",
       "             2015-11-06  0.000000  503.000000\n",
       "             2015-11-07  0.000000  503.000000\n",
       "             2015-11-08  0.000000  503.000000\n",
       "             2015-11-09  0.000000  503.000000\n",
       "\n",
       "[1130 rows x 2 columns]"
      ]
     },
     "execution_count": 49,
     "metadata": {},
     "output_type": "execute_result"
    }
   ],
   "source": [
    "agora_df1.groupby(by=['sitename','timestamp']).mean()"
   ]
  },
  {
   "cell_type": "raw",
   "metadata": {},
   "source": []
  },
  {
   "cell_type": "code",
   "execution_count": null,
   "metadata": {},
   "outputs": [],
   "source": []
  },
  {
   "cell_type": "code",
   "execution_count": 55,
   "metadata": {},
   "outputs": [
    {
     "data": {
      "image/png": "[encoded data removed]",
      "text/plain": [
       "<Figure size 432x288 with 1 Axes>"
      ]
     },
     "metadata": {
      "needs_background": "light"
     },
     "output_type": "display_data"
    }
   ],
   "source": [
    "fig, ax1 = plt.subplots()\n",
    "\n",
    "ax1.set_xlabel('date (s)')\n",
    "ax1.set_ylabel('New Posts / day since last measure')\n",
    "ax1.plot(agora_subdf1.index, agora_subdf1['siteup'])\n",
    "ax1.tick_params(axis='y')\n",
    "plt.show()"
   ]
  },
  {
   "cell_type": "code",
   "execution_count": 56,
   "metadata": {},
   "outputs": [
    {
     "data": {
      "image/png": "[encoded data removed]",
      "text/plain": [
       "<Figure size 432x288 with 1 Axes>"
      ]
     },
     "metadata": {
      "needs_background": "light"
     },
     "output_type": "display_data"
    }
   ],
   "source": [
    "fig, ax1 = plt.subplots()\n",
    "\n",
    "ax1.set_xlabel('date (s)')\n",
    "ax1.set_ylabel('Up')\n",
    "ax1.plot(forum_subdf1.index, forum_subdf1['siteup'])\n",
    "ax1.tick_params(axis='y')\n",
    "\n",
    "plt.show()"
   ]
  }
 ],
 "metadata": {
  "kernelspec": {
   "display_name": "Python 3",
   "language": "python",
   "name": "python3"
  },
  "language_info": {
   "codemirror_mode": {
    "name": "ipython",
    "version": 3
   },
   "file_extension": ".py",
   "mimetype": "text/x-python",
   "name": "python",
   "nbconvert_exporter": "python",
   "pygments_lexer": "ipython3",
   "version": "3.7.4"
  }
 },
 "nbformat": 4,
 "nbformat_minor": 2
}
