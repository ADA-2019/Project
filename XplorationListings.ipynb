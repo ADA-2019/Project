{
 "cells": [
  {
   "cell_type": "code",
   "execution_count": 1,
   "metadata": {},
   "outputs": [],
   "source": [
    "from collections import Counter\n",
    "import matplotlib.pyplot as plt\n",
    "from ProductListingParsingTools import *"
   ]
  },
  {
   "cell_type": "code",
   "execution_count": null,
   "metadata": {},
   "outputs": [],
   "source": []
  },
  {
   "cell_type": "code",
   "execution_count": null,
   "metadata": {},
   "outputs": [
    {
     "name": "stdout",
     "output_type": "stream",
     "text": [
      "./data/agora_cat/2014-03-03/cat/.DS_Store\n",
      "Error not found: ./data/agora_cat/2014-03-03/cat/.DS_Store\n",
      "./data/agora_cat/2014-01-01/cat/.DS_Store\n",
      "Error not found: ./data/agora_cat/2014-01-01/cat/.DS_Store\n",
      "In process:  39.800995024875625\r"
     ]
    }
   ],
   "source": [
    "# example for synthetic pages\n",
    "directory = \"./data/agora_cat/2014-04-06/cat/\"\n",
    "productsDF = directoryToDF()\n",
    "productsDF.to_csv(\"catProducts.csv\")"
   ]
  },
  {
   "cell_type": "code",
   "execution_count": null,
   "metadata": {},
   "outputs": [],
   "source": [
    "productsDF.count()"
   ]
  },
  {
   "cell_type": "code",
   "execution_count": null,
   "metadata": {},
   "outputs": [],
   "source": [
    "productsDF.head()"
   ]
  }
 ],
 "metadata": {
  "kernelspec": {
   "display_name": "Python 3",
   "language": "python",
   "name": "python3"
  },
  "language_info": {
   "codemirror_mode": {
    "name": "ipython",
    "version": 3
   },
   "file_extension": ".py",
   "mimetype": "text/x-python",
   "name": "python",
   "nbconvert_exporter": "python",
   "pygments_lexer": "ipython3",
   "version": "3.7.5"
  }
 },
 "nbformat": 4,
 "nbformat_minor": 2
}
