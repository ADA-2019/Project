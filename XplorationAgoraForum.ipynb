{
 "cells": [
  {
   "cell_type": "markdown",
   "metadata": {},
   "source": [
    "# Agora Forum"
   ]
  },
  {
   "cell_type": "code",
   "execution_count": 2,
   "metadata": {},
   "outputs": [],
   "source": [
    "from bs4 import BeautifulSoup as bs\n",
    "import os\n",
    "import pandas as pd\n",
    "import numpy as np\n",
    "from collections import Counter\n",
    "import matplotlib.pyplot as plt\n",
    "from ForumParsingTools import *"
   ]
  },
  {
   "cell_type": "code",
   "execution_count": 5,
   "metadata": {},
   "outputs": [],
   "source": [
    "with open('data/agora_forum_days.out') as f:\n",
    "    dates = f.readlines()\n",
    "\n",
    "def cut(s):\n",
    "    return s[:-1]\n",
    "cut_v = np.vectorize(cut)\n",
    "\n",
    "dates = cut_v(dates)"
   ]
  },
  {
   "cell_type": "code",
   "execution_count": 3,
   "metadata": {
    "scrolled": true
   },
   "outputs": [],
   "source": [
    "directory = \"data/agora-forums/2014-01-02/index.php/\"\n",
    "forumDF = pd.read_csv('data/forumDF_full_df')"
   ]
  },
  {
   "cell_type": "code",
   "execution_count": 6,
   "metadata": {
    "scrolled": true
   },
   "outputs": [
    {
     "data": {
      "text/html": [
       "<div>\n",
       "<style scoped>\n",
       "    .dataframe tbody tr th:only-of-type {\n",
       "        vertical-align: middle;\n",
       "    }\n",
       "\n",
       "    .dataframe tbody tr th {\n",
       "        vertical-align: top;\n",
       "    }\n",
       "\n",
       "    .dataframe thead th {\n",
       "        text-align: right;\n",
       "    }\n",
       "</style>\n",
       "<table border=\"1\" class=\"dataframe\">\n",
       "  <thead>\n",
       "    <tr style=\"text-align: right;\">\n",
       "      <th></th>\n",
       "      <th>author</th>\n",
       "      <th>board</th>\n",
       "      <th>date</th>\n",
       "      <th>lastPost</th>\n",
       "      <th>nReplies</th>\n",
       "      <th>nViews</th>\n",
       "      <th>title</th>\n",
       "    </tr>\n",
       "  </thead>\n",
       "  <tbody>\n",
       "    <tr>\n",
       "      <th>0</th>\n",
       "      <td>Scarface</td>\n",
       "      <td>('General Category', 'General Discussion')</td>\n",
       "      <td>2014-01-02</td>\n",
       "      <td>December 23, 2013, 07:08:51 am</td>\n",
       "      <td>8</td>\n",
       "      <td>106</td>\n",
       "      <td>How do i become a vendor?</td>\n",
       "    </tr>\n",
       "    <tr>\n",
       "      <th>1</th>\n",
       "      <td>Manlyness</td>\n",
       "      <td>('General Category', 'General Discussion')</td>\n",
       "      <td>2014-01-02</td>\n",
       "      <td>December 23, 2013, 04:35:33 am</td>\n",
       "      <td>1</td>\n",
       "      <td>31</td>\n",
       "      <td>Buyer account</td>\n",
       "    </tr>\n",
       "    <tr>\n",
       "      <th>2</th>\n",
       "      <td>maligan</td>\n",
       "      <td>('General Category', 'General Discussion')</td>\n",
       "      <td>2014-01-02</td>\n",
       "      <td>December 23, 2013, 04:23:34 am</td>\n",
       "      <td>2</td>\n",
       "      <td>49</td>\n",
       "      <td>How to sign up ???</td>\n",
       "    </tr>\n",
       "    <tr>\n",
       "      <th>3</th>\n",
       "      <td>Mangling2012</td>\n",
       "      <td>('General Category', 'General Discussion')</td>\n",
       "      <td>2014-01-02</td>\n",
       "      <td>December 23, 2013, 04:03:37 am</td>\n",
       "      <td>0</td>\n",
       "      <td>17</td>\n",
       "      <td>Hello Hello, Good day to you all</td>\n",
       "    </tr>\n",
       "    <tr>\n",
       "      <th>4</th>\n",
       "      <td>stannis</td>\n",
       "      <td>('General Category', 'General Discussion')</td>\n",
       "      <td>2014-01-02</td>\n",
       "      <td>December 23, 2013, 02:51:52 am</td>\n",
       "      <td>3</td>\n",
       "      <td>89</td>\n",
       "      <td>marketplace invite?</td>\n",
       "    </tr>\n",
       "    <tr>\n",
       "      <th>...</th>\n",
       "      <td>...</td>\n",
       "      <td>...</td>\n",
       "      <td>...</td>\n",
       "      <td>...</td>\n",
       "      <td>...</td>\n",
       "      <td>...</td>\n",
       "      <td>...</td>\n",
       "    </tr>\n",
       "    <tr>\n",
       "      <th>734</th>\n",
       "      <td>Just_Chipper</td>\n",
       "      <td>(None, None)</td>\n",
       "      <td>2014-01-26</td>\n",
       "      <td>January 03, 2014, 08:14:46 pm</td>\n",
       "      <td>0</td>\n",
       "      <td>55</td>\n",
       "      <td>Working Referral Link (2014)</td>\n",
       "    </tr>\n",
       "    <tr>\n",
       "      <th>735</th>\n",
       "      <td>lollollol</td>\n",
       "      <td>(None, None)</td>\n",
       "      <td>2014-01-26</td>\n",
       "      <td>January 03, 2014, 06:42:39 am</td>\n",
       "      <td>0</td>\n",
       "      <td>30</td>\n",
       "      <td>Referral Link</td>\n",
       "    </tr>\n",
       "    <tr>\n",
       "      <th>736</th>\n",
       "      <td>big</td>\n",
       "      <td>(None, None)</td>\n",
       "      <td>2014-01-26</td>\n",
       "      <td>December 31, 2013, 01:54:13 am</td>\n",
       "      <td>0</td>\n",
       "      <td>62</td>\n",
       "      <td>please</td>\n",
       "    </tr>\n",
       "    <tr>\n",
       "      <th>737</th>\n",
       "      <td>DoSdrugs</td>\n",
       "      <td>(None, None)</td>\n",
       "      <td>2014-01-26</td>\n",
       "      <td>December 25, 2013, 10:14:45 pm</td>\n",
       "      <td>0</td>\n",
       "      <td>153</td>\n",
       "      <td>NEW MARKET For You</td>\n",
       "    </tr>\n",
       "    <tr>\n",
       "      <th>738</th>\n",
       "      <td>BlackPearl</td>\n",
       "      <td>(None, None)</td>\n",
       "      <td>2014-01-26</td>\n",
       "      <td>December 24, 2013, 07:57:45 am</td>\n",
       "      <td>5</td>\n",
       "      <td>314</td>\n",
       "      <td>####NEW MARKET####</td>\n",
       "    </tr>\n",
       "  </tbody>\n",
       "</table>\n",
       "<p>16006 rows × 7 columns</p>\n",
       "</div>"
      ],
      "text/plain": [
       "           author                                       board        date  \\\n",
       "0        Scarface  ('General Category', 'General Discussion')  2014-01-02   \n",
       "1       Manlyness  ('General Category', 'General Discussion')  2014-01-02   \n",
       "2         maligan  ('General Category', 'General Discussion')  2014-01-02   \n",
       "3    Mangling2012  ('General Category', 'General Discussion')  2014-01-02   \n",
       "4         stannis  ('General Category', 'General Discussion')  2014-01-02   \n",
       "..            ...                                         ...         ...   \n",
       "734  Just_Chipper                                (None, None)  2014-01-26   \n",
       "735     lollollol                                (None, None)  2014-01-26   \n",
       "736           big                                (None, None)  2014-01-26   \n",
       "737      DoSdrugs                                (None, None)  2014-01-26   \n",
       "738    BlackPearl                                (None, None)  2014-01-26   \n",
       "\n",
       "                           lastPost nReplies nViews  \\\n",
       "0    December 23, 2013, 07:08:51 am        8    106   \n",
       "1    December 23, 2013, 04:35:33 am        1     31   \n",
       "2    December 23, 2013, 04:23:34 am        2     49   \n",
       "3    December 23, 2013, 04:03:37 am        0     17   \n",
       "4    December 23, 2013, 02:51:52 am        3     89   \n",
       "..                              ...      ...    ...   \n",
       "734   January 03, 2014, 08:14:46 pm        0     55   \n",
       "735   January 03, 2014, 06:42:39 am        0     30   \n",
       "736  December 31, 2013, 01:54:13 am        0     62   \n",
       "737  December 25, 2013, 10:14:45 pm        0    153   \n",
       "738  December 24, 2013, 07:57:45 am        5    314   \n",
       "\n",
       "                                title  \n",
       "0           How do i become a vendor?  \n",
       "1                       Buyer account  \n",
       "2                  How to sign up ???  \n",
       "3    Hello Hello, Good day to you all  \n",
       "4                 marketplace invite?  \n",
       "..                                ...  \n",
       "734      Working Referral Link (2014)  \n",
       "735                     Referral Link  \n",
       "736                            please  \n",
       "737                NEW MARKET For You  \n",
       "738                ####NEW MARKET####  \n",
       "\n",
       "[16006 rows x 7 columns]"
      ]
     },
     "execution_count": 6,
     "metadata": {},
     "output_type": "execute_result"
    }
   ],
   "source": [
    "forumDF"
   ]
  },
  {
   "cell_type": "code",
   "execution_count": 10,
   "metadata": {},
   "outputs": [],
   "source": [
    "forumDF2 = pd.DataFrame(columns=['title', 'author','nReplies', 'nViews','lastPost', 'date', 'board'])\n"
   ]
  },
  {
   "cell_type": "code",
   "execution_count": null,
   "metadata": {
    "scrolled": false
   },
   "outputs": [
    {
     "name": "stdout",
     "output_type": "stream",
     "text": [
      "data/agora-forums/2014-09-02/index.php/board,9.0.html\n",
      "data/agora-forums/2014-09-14/index.php/board,9.0.html\n",
      "data/agora-forums/2014-10-04/index.php/board,9.0.html\n",
      "data/agora-forums/2014-10-20/index.php/board,9.0.html\n",
      "data/agora-forums/2014-10-23/index.php/board,9.0.html\n",
      "data/agora-forums/2014-10-29/index.php/board,9.0.html\n",
      "data/agora-forums/2014-11-07/index.php/board,9.0.html\n",
      "data/agora-forums/2014-11-08/index.php/board,9.0.html\n",
      "data/agora-forums/2014-11-10/index.php/board,9.0.html\n",
      "data/agora-forums/2014-11-13/index.php/board,9.0.html\n",
      "data/agora-forums/2014-11-14/index.php/board,9.0.html\n",
      "data/agora-forums/2014-11-15/index.php/board,9.0.html\n",
      "data/agora-forums/2014-11-16/index.php/board,9.0.html\n",
      "data/agora-forums/2014-11-18/index.php/board,9.0.html\n",
      "data/agora-forums/2014-11-29/index.php/board,9.0.html\n",
      "data/agora-forums/2014-12-01/index.php/board,9.0.html\n",
      "data/agora-forums/2014-12-02/index.php/board,9.0.html\n",
      "data/agora-forums/2014-12-05/index.php/board,9.0.html\n",
      "data/agora-forums/2014-12-06/index.php/board,9.0.html\n",
      "data/agora-forums/2014-12-09/index.php/board,9.0.html\n",
      "data/agora-forums/2014-12-12/index.php/board,9.0.html\n",
      "data/agora-forums/2014-12-15/index.php/board,9.0.html\n",
      "data/agora-forums/2014-12-17/index.php/board,9.0.html\n",
      "data/agora-forums/2014-12-20/index.php/board,9.0.html\n",
      "data/agora-forums/2014-12-21/index.php/board,9.0.html\n",
      "data/agora-forums/2014-12-24/index.php/board,9.0.html\n",
      "data/agora-forums/2014-12-26/index.php/board,9.0.html\n",
      "data/agora-forums/2014-12-28/index.php/board,9.0.html\n",
      "data/agora-forums/2014-12-30/index.php/board,9.0.html\n"
     ]
    }
   ],
   "source": [
    "for date in dates[38:]:\n",
    "    directory=\"data/agora-forums/\"+date+\"/index.php/\"\n",
    "    forumDF2 = forumDF2.append(createDfFromForum(directory,date))\n"
   ]
  },
  {
   "cell_type": "markdown",
   "metadata": {},
   "source": [
    "data/agora-forums/2014-03-19/index.php/board,9.0.html\n",
    "data/agora-forums/2014-04-05/index.php/board,9.0.html\n",
    "data/agora-forums/2014-04-16/index.php/board,9.0.html\n",
    "data/agora-forums/2014-04-24/index.php/board,9.0.html\n",
    "data/agora-forums/2014-04-27/index.php/board,9.0.html\n",
    "data/agora-forums/2014-05-14/index.php/board,9.0.html\n",
    "data/agora-forums/2014-05-24/index.php/board,9.0.html\n",
    "data/agora-forums/2014-06-01/index.php/board,9.0.html\n",
    "data/agora-forums/2014-07-17/index.php/board,9.0.html\n",
    "data/agora-forums/2014-07-25/index.php/board,9.0.html\n",
    "data/agora-forums/2014-07-29/index.php/board,9.0.html\n",
    "data/agora-forums/2014-08-02/index.php/board,9.0.html\n",
    "data/agora-forums/2014-08-11/index.php/board,9.0.html\n",
    "data/agora-forums/2014-08-20/index.php/board,9.0.html\n",
    "data/agora-forums/2014-08-25/index.php/board,9.0.html\n",
    "data/agora-forums/2014-08-28/index.php/board,9.0.html\n",
    "data/agora-forums/2014-09-02/index.php/board,9.0.html\n",
    "data/agora-forums/2014-09-14/index.php/board,9.0.html\n",
    "data/agora-forums/2014-10-04/index.php/board,9.0.html\n",
    "data/agora-forums/2014-10-20/index.php/board,9.0.html\n",
    "data/agora-forums/2014-10-23/index.php/board,9.0.html\n",
    "data/agora-forums/2014-10-29/index.php/board,9.0.html\n",
    "data/agora-forums/2014-11-07/index.php/board,9.0.html\n",
    "data/agora-forums/2014-11-08/index.php/board,9.0.html\n",
    "data/agora-forums/2014-11-10/index.php/board,9.0.html\n",
    "data/agora-forums/2014-11-13/index.php/board,9.0.html\n",
    "data/agora-forums/2014-11-14/index.php/board,9.0.html\n",
    "data/agora-forums/2014-11-15/index.php/board,9.0.html\n",
    "data/agora-forums/2014-11-16/index.php/board,9.0.html\n",
    "data/agora-forums/2014-11-18/index.php/board,9.0.html\n",
    "data/agora-forums/2014-11-29/index.php/board,9.0.html\n",
    "data/agora-forums/2014-12-01/index.php/board,9.0.html\n",
    "data/agora-forums/2014-12-02/index.php/board,9.0.html\n",
    "data/agora-forums/2014-12-05/index.php/board,9.0.html\n",
    "data/agora-forums/2014-12-06/index.php/board,9.0.html\n",
    "data/agora-forums/2014-12-09/index.php/board,9.0.html\n",
    "data/agora-forums/2014-12-12/index.php/board,9.0.html\n",
    "data/agora-forums/2014-12-15/index.php/board,9.0.html\n",
    "data/agora-forums/2014-12-17/index.php/board,9.0.html\n",
    "data/agora-forums/2014-12-20/index.php/board,9.0.html\n",
    "data/agora-forums/2014-12-21/index.php/board,9.0.html\n",
    "data/agora-forums/2014-12-24/index.php/board,9.0.html\n",
    "data/agora-forums/2014-12-26/index.php/board,9.0.html\n",
    "data/agora-forums/2014-12-28/index.php/board,9.0.html\n",
    "data/agora-forums/2014-12-30/index.php/board,9.0.html\n",
    "data/agora-forums/2014-12-21/index.php/board,9.0.html\n",
    "data/agora-forums/2014-12-24/index.php/board,9.0.html\n",
    "data/agora-forums/2014-12-26/index.php/board,9.0.html\n",
    "data/agora-forums/2014-12-28/index.php/board,9.0.html\n",
    "data/agora-forums/2014-12-30/index.php/board,9.0.html\n",
    "data/agora-forums/2015-01-04/index.php/board,8.2040.html\n",
    "data/agora-forums/2015-01-04/index.php/board,9.0.html\n",
    "data/agora-forums/2015-01-06/index.php/board,9.0.html\n",
    "data/agora-forums/2015-01-14/index.php/board,9.0.html\n",
    "data/agora-forums/2015-01-24/index.php/board,9.0.html\n",
    "data/agora-forums/2015-01-29/index.php/board,9.0.html\n",
    "data/agora-forums/2015-02-09/index.php/board,4.300.html\n",
    "data/agora-forums/2015-02-17/index.php/board,9.0.html\n"
   ]
  },
  {
   "cell_type": "code",
   "execution_count": 12,
   "metadata": {},
   "outputs": [],
   "source": [
    "forumDF.to_csv('data/forumDF_full_df', index=None)"
   ]
  },
  {
   "cell_type": "code",
   "execution_count": 20,
   "metadata": {},
   "outputs": [
    {
     "data": {
      "text/plain": [
       "'2014-09-02'"
      ]
     },
     "execution_count": 20,
     "metadata": {},
     "output_type": "execute_result"
    }
   ],
   "source": [
    "dates[38]"
   ]
  },
  {
   "cell_type": "code",
   "execution_count": null,
   "metadata": {},
   "outputs": [],
   "source": [
    "forumDF['nViews'] = forumDF['nViews'].astype(int)"
   ]
  },
  {
   "cell_type": "code",
   "execution_count": null,
   "metadata": {},
   "outputs": [],
   "source": [
    "subdf = forumDF[['nReplies', 'nViews', 'date', 'title']].groupby(by=['date'])"
   ]
  },
  {
   "cell_type": "code",
   "execution_count": null,
   "metadata": {},
   "outputs": [],
   "source": [
    "test = subdf.describe()"
   ]
  },
  {
   "cell_type": "code",
   "execution_count": null,
   "metadata": {},
   "outputs": [],
   "source": [
    "from bs4 import BeautifulSoup as bs\n",
    "import os\n",
    "import pandas as pd\n",
    "import numpy as np\n",
    "from collections import Counter\n",
    "import matplotlib.pyplot as plt"
   ]
  },
  {
   "cell_type": "code",
   "execution_count": null,
   "metadata": {},
   "outputs": [],
   "source": [
    "fig, ax1 = plt.subplots( figsize=(20,10))\n",
    "\n",
    "ax1.set_xlabel('date (d)')\n",
    "ax1.set_ylabel('Median Number of Views Per Topic')\n",
    "ax1.plot(test.index, test.nViews['50%'])\n",
    "ax1.tick_params(axis='y')\n",
    "plt.show()"
   ]
  },
  {
   "cell_type": "code",
   "execution_count": null,
   "metadata": {},
   "outputs": [],
   "source": [
    "fig, ax1 = plt.subplots( figsize=(20,10))\n",
    "\n",
    "ax1.set_xlabel('date (d)')\n",
    "ax1.set_ylabel('Median Number of Replies Per Topic')\n",
    "ax1.plot(test.index, test.nReplies['50%'])\n",
    "ax1.tick_params(axis='y')\n",
    "plt.show()"
   ]
  }
 ],
 "metadata": {
  "kernelspec": {
   "display_name": "Python 3",
   "language": "python",
   "name": "python3"
  },
  "language_info": {
   "codemirror_mode": {
    "name": "ipython",
    "version": 3
   },
   "file_extension": ".py",
   "mimetype": "text/x-python",
   "name": "python",
   "nbconvert_exporter": "python",
   "pygments_lexer": "ipython3",
   "version": "3.7.5"
  }
 },
 "nbformat": 4,
 "nbformat_minor": 2
}
